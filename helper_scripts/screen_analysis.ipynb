{
 "cells": [
  {
   "cell_type": "code",
   "execution_count": 2,
   "id": "2e1c10c3-0fe4-4766-9e11-03de13975fc7",
   "metadata": {},
   "outputs": [],
   "source": [
    "import numpy as np\n",
    "import pandas as pd\n",
    "import matplotlib.pyplot as plt\n",
    "import seaborn as sns\n",
    "import pickle\n",
    "import torch\n"
   ]
  },
  {
   "cell_type": "code",
   "execution_count": 3,
   "id": "f5d2780e-1c51-4c46-be41-4254330efaa6",
   "metadata": {},
   "outputs": [
    {
     "name": "stdout",
     "output_type": "stream",
     "text": [
      "10500 is empty\n"
     ]
    },
    {
     "data": {
      "text/html": [
       "<div>\n",
       "<style scoped>\n",
       "    .dataframe tbody tr th:only-of-type {\n",
       "        vertical-align: middle;\n",
       "    }\n",
       "\n",
       "    .dataframe tbody tr th {\n",
       "        vertical-align: top;\n",
       "    }\n",
       "\n",
       "    .dataframe thead th {\n",
       "        text-align: right;\n",
       "    }\n",
       "</style>\n",
       "<table border=\"1\" class=\"dataframe\">\n",
       "  <thead>\n",
       "    <tr style=\"text-align: right;\">\n",
       "      <th></th>\n",
       "    </tr>\n",
       "  </thead>\n",
       "  <tbody>\n",
       "  </tbody>\n",
       "</table>\n",
       "</div>"
      ],
      "text/plain": [
       "Empty DataFrame\n",
       "Columns: []\n",
       "Index: []"
      ]
     },
     "metadata": {},
     "output_type": "display_data"
    },
    {
     "name": "stdout",
     "output_type": "stream",
     "text": [
      "10600 is empty\n"
     ]
    },
    {
     "data": {
      "text/html": [
       "<div>\n",
       "<style scoped>\n",
       "    .dataframe tbody tr th:only-of-type {\n",
       "        vertical-align: middle;\n",
       "    }\n",
       "\n",
       "    .dataframe tbody tr th {\n",
       "        vertical-align: top;\n",
       "    }\n",
       "\n",
       "    .dataframe thead th {\n",
       "        text-align: right;\n",
       "    }\n",
       "</style>\n",
       "<table border=\"1\" class=\"dataframe\">\n",
       "  <thead>\n",
       "    <tr style=\"text-align: right;\">\n",
       "      <th></th>\n",
       "    </tr>\n",
       "  </thead>\n",
       "  <tbody>\n",
       "  </tbody>\n",
       "</table>\n",
       "</div>"
      ],
      "text/plain": [
       "Empty DataFrame\n",
       "Columns: []\n",
       "Index: []"
      ]
     },
     "metadata": {},
     "output_type": "display_data"
    },
    {
     "name": "stdout",
     "output_type": "stream",
     "text": [
      "10700 is empty\n"
     ]
    },
    {
     "data": {
      "text/html": [
       "<div>\n",
       "<style scoped>\n",
       "    .dataframe tbody tr th:only-of-type {\n",
       "        vertical-align: middle;\n",
       "    }\n",
       "\n",
       "    .dataframe tbody tr th {\n",
       "        vertical-align: top;\n",
       "    }\n",
       "\n",
       "    .dataframe thead th {\n",
       "        text-align: right;\n",
       "    }\n",
       "</style>\n",
       "<table border=\"1\" class=\"dataframe\">\n",
       "  <thead>\n",
       "    <tr style=\"text-align: right;\">\n",
       "      <th></th>\n",
       "    </tr>\n",
       "  </thead>\n",
       "  <tbody>\n",
       "  </tbody>\n",
       "</table>\n",
       "</div>"
      ],
      "text/plain": [
       "Empty DataFrame\n",
       "Columns: []\n",
       "Index: []"
      ]
     },
     "metadata": {},
     "output_type": "display_data"
    },
    {
     "name": "stdout",
     "output_type": "stream",
     "text": [
      "10800 is empty\n"
     ]
    },
    {
     "data": {
      "text/html": [
       "<div>\n",
       "<style scoped>\n",
       "    .dataframe tbody tr th:only-of-type {\n",
       "        vertical-align: middle;\n",
       "    }\n",
       "\n",
       "    .dataframe tbody tr th {\n",
       "        vertical-align: top;\n",
       "    }\n",
       "\n",
       "    .dataframe thead th {\n",
       "        text-align: right;\n",
       "    }\n",
       "</style>\n",
       "<table border=\"1\" class=\"dataframe\">\n",
       "  <thead>\n",
       "    <tr style=\"text-align: right;\">\n",
       "      <th></th>\n",
       "    </tr>\n",
       "  </thead>\n",
       "  <tbody>\n",
       "  </tbody>\n",
       "</table>\n",
       "</div>"
      ],
      "text/plain": [
       "Empty DataFrame\n",
       "Columns: []\n",
       "Index: []"
      ]
     },
     "metadata": {},
     "output_type": "display_data"
    },
    {
     "name": "stdout",
     "output_type": "stream",
     "text": [
      "10900 is empty\n"
     ]
    },
    {
     "data": {
      "text/html": [
       "<div>\n",
       "<style scoped>\n",
       "    .dataframe tbody tr th:only-of-type {\n",
       "        vertical-align: middle;\n",
       "    }\n",
       "\n",
       "    .dataframe tbody tr th {\n",
       "        vertical-align: top;\n",
       "    }\n",
       "\n",
       "    .dataframe thead th {\n",
       "        text-align: right;\n",
       "    }\n",
       "</style>\n",
       "<table border=\"1\" class=\"dataframe\">\n",
       "  <thead>\n",
       "    <tr style=\"text-align: right;\">\n",
       "      <th></th>\n",
       "    </tr>\n",
       "  </thead>\n",
       "  <tbody>\n",
       "  </tbody>\n",
       "</table>\n",
       "</div>"
      ],
      "text/plain": [
       "Empty DataFrame\n",
       "Columns: []\n",
       "Index: []"
      ]
     },
     "metadata": {},
     "output_type": "display_data"
    },
    {
     "name": "stdout",
     "output_type": "stream",
     "text": [
      "11000 is empty\n"
     ]
    },
    {
     "data": {
      "text/html": [
       "<div>\n",
       "<style scoped>\n",
       "    .dataframe tbody tr th:only-of-type {\n",
       "        vertical-align: middle;\n",
       "    }\n",
       "\n",
       "    .dataframe tbody tr th {\n",
       "        vertical-align: top;\n",
       "    }\n",
       "\n",
       "    .dataframe thead th {\n",
       "        text-align: right;\n",
       "    }\n",
       "</style>\n",
       "<table border=\"1\" class=\"dataframe\">\n",
       "  <thead>\n",
       "    <tr style=\"text-align: right;\">\n",
       "      <th></th>\n",
       "    </tr>\n",
       "  </thead>\n",
       "  <tbody>\n",
       "  </tbody>\n",
       "</table>\n",
       "</div>"
      ],
      "text/plain": [
       "Empty DataFrame\n",
       "Columns: []\n",
       "Index: []"
      ]
     },
     "metadata": {},
     "output_type": "display_data"
    },
    {
     "name": "stdout",
     "output_type": "stream",
     "text": [
      "11100 is empty\n"
     ]
    },
    {
     "data": {
      "text/html": [
       "<div>\n",
       "<style scoped>\n",
       "    .dataframe tbody tr th:only-of-type {\n",
       "        vertical-align: middle;\n",
       "    }\n",
       "\n",
       "    .dataframe tbody tr th {\n",
       "        vertical-align: top;\n",
       "    }\n",
       "\n",
       "    .dataframe thead th {\n",
       "        text-align: right;\n",
       "    }\n",
       "</style>\n",
       "<table border=\"1\" class=\"dataframe\">\n",
       "  <thead>\n",
       "    <tr style=\"text-align: right;\">\n",
       "      <th></th>\n",
       "    </tr>\n",
       "  </thead>\n",
       "  <tbody>\n",
       "  </tbody>\n",
       "</table>\n",
       "</div>"
      ],
      "text/plain": [
       "Empty DataFrame\n",
       "Columns: []\n",
       "Index: []"
      ]
     },
     "metadata": {},
     "output_type": "display_data"
    },
    {
     "name": "stdout",
     "output_type": "stream",
     "text": [
      "11200 is empty\n"
     ]
    },
    {
     "data": {
      "text/html": [
       "<div>\n",
       "<style scoped>\n",
       "    .dataframe tbody tr th:only-of-type {\n",
       "        vertical-align: middle;\n",
       "    }\n",
       "\n",
       "    .dataframe tbody tr th {\n",
       "        vertical-align: top;\n",
       "    }\n",
       "\n",
       "    .dataframe thead th {\n",
       "        text-align: right;\n",
       "    }\n",
       "</style>\n",
       "<table border=\"1\" class=\"dataframe\">\n",
       "  <thead>\n",
       "    <tr style=\"text-align: right;\">\n",
       "      <th></th>\n",
       "    </tr>\n",
       "  </thead>\n",
       "  <tbody>\n",
       "  </tbody>\n",
       "</table>\n",
       "</div>"
      ],
      "text/plain": [
       "Empty DataFrame\n",
       "Columns: []\n",
       "Index: []"
      ]
     },
     "metadata": {},
     "output_type": "display_data"
    },
    {
     "name": "stdout",
     "output_type": "stream",
     "text": [
      "11300 is empty\n"
     ]
    },
    {
     "data": {
      "text/html": [
       "<div>\n",
       "<style scoped>\n",
       "    .dataframe tbody tr th:only-of-type {\n",
       "        vertical-align: middle;\n",
       "    }\n",
       "\n",
       "    .dataframe tbody tr th {\n",
       "        vertical-align: top;\n",
       "    }\n",
       "\n",
       "    .dataframe thead th {\n",
       "        text-align: right;\n",
       "    }\n",
       "</style>\n",
       "<table border=\"1\" class=\"dataframe\">\n",
       "  <thead>\n",
       "    <tr style=\"text-align: right;\">\n",
       "      <th></th>\n",
       "    </tr>\n",
       "  </thead>\n",
       "  <tbody>\n",
       "  </tbody>\n",
       "</table>\n",
       "</div>"
      ],
      "text/plain": [
       "Empty DataFrame\n",
       "Columns: []\n",
       "Index: []"
      ]
     },
     "metadata": {},
     "output_type": "display_data"
    },
    {
     "name": "stdout",
     "output_type": "stream",
     "text": [
      "11400 is empty\n"
     ]
    },
    {
     "data": {
      "text/html": [
       "<div>\n",
       "<style scoped>\n",
       "    .dataframe tbody tr th:only-of-type {\n",
       "        vertical-align: middle;\n",
       "    }\n",
       "\n",
       "    .dataframe tbody tr th {\n",
       "        vertical-align: top;\n",
       "    }\n",
       "\n",
       "    .dataframe thead th {\n",
       "        text-align: right;\n",
       "    }\n",
       "</style>\n",
       "<table border=\"1\" class=\"dataframe\">\n",
       "  <thead>\n",
       "    <tr style=\"text-align: right;\">\n",
       "      <th></th>\n",
       "    </tr>\n",
       "  </thead>\n",
       "  <tbody>\n",
       "  </tbody>\n",
       "</table>\n",
       "</div>"
      ],
      "text/plain": [
       "Empty DataFrame\n",
       "Columns: []\n",
       "Index: []"
      ]
     },
     "metadata": {},
     "output_type": "display_data"
    },
    {
     "name": "stdout",
     "output_type": "stream",
     "text": [
      "11500 is empty\n"
     ]
    },
    {
     "data": {
      "text/html": [
       "<div>\n",
       "<style scoped>\n",
       "    .dataframe tbody tr th:only-of-type {\n",
       "        vertical-align: middle;\n",
       "    }\n",
       "\n",
       "    .dataframe tbody tr th {\n",
       "        vertical-align: top;\n",
       "    }\n",
       "\n",
       "    .dataframe thead th {\n",
       "        text-align: right;\n",
       "    }\n",
       "</style>\n",
       "<table border=\"1\" class=\"dataframe\">\n",
       "  <thead>\n",
       "    <tr style=\"text-align: right;\">\n",
       "      <th></th>\n",
       "    </tr>\n",
       "  </thead>\n",
       "  <tbody>\n",
       "  </tbody>\n",
       "</table>\n",
       "</div>"
      ],
      "text/plain": [
       "Empty DataFrame\n",
       "Columns: []\n",
       "Index: []"
      ]
     },
     "metadata": {},
     "output_type": "display_data"
    },
    {
     "name": "stdout",
     "output_type": "stream",
     "text": [
      "11600 is empty\n"
     ]
    },
    {
     "data": {
      "text/html": [
       "<div>\n",
       "<style scoped>\n",
       "    .dataframe tbody tr th:only-of-type {\n",
       "        vertical-align: middle;\n",
       "    }\n",
       "\n",
       "    .dataframe tbody tr th {\n",
       "        vertical-align: top;\n",
       "    }\n",
       "\n",
       "    .dataframe thead th {\n",
       "        text-align: right;\n",
       "    }\n",
       "</style>\n",
       "<table border=\"1\" class=\"dataframe\">\n",
       "  <thead>\n",
       "    <tr style=\"text-align: right;\">\n",
       "      <th></th>\n",
       "    </tr>\n",
       "  </thead>\n",
       "  <tbody>\n",
       "  </tbody>\n",
       "</table>\n",
       "</div>"
      ],
      "text/plain": [
       "Empty DataFrame\n",
       "Columns: []\n",
       "Index: []"
      ]
     },
     "metadata": {},
     "output_type": "display_data"
    },
    {
     "name": "stdout",
     "output_type": "stream",
     "text": [
      "11700 is empty\n"
     ]
    },
    {
     "data": {
      "text/html": [
       "<div>\n",
       "<style scoped>\n",
       "    .dataframe tbody tr th:only-of-type {\n",
       "        vertical-align: middle;\n",
       "    }\n",
       "\n",
       "    .dataframe tbody tr th {\n",
       "        vertical-align: top;\n",
       "    }\n",
       "\n",
       "    .dataframe thead th {\n",
       "        text-align: right;\n",
       "    }\n",
       "</style>\n",
       "<table border=\"1\" class=\"dataframe\">\n",
       "  <thead>\n",
       "    <tr style=\"text-align: right;\">\n",
       "      <th></th>\n",
       "    </tr>\n",
       "  </thead>\n",
       "  <tbody>\n",
       "  </tbody>\n",
       "</table>\n",
       "</div>"
      ],
      "text/plain": [
       "Empty DataFrame\n",
       "Columns: []\n",
       "Index: []"
      ]
     },
     "metadata": {},
     "output_type": "display_data"
    },
    {
     "name": "stdout",
     "output_type": "stream",
     "text": [
      "11800 is empty\n"
     ]
    },
    {
     "data": {
      "text/html": [
       "<div>\n",
       "<style scoped>\n",
       "    .dataframe tbody tr th:only-of-type {\n",
       "        vertical-align: middle;\n",
       "    }\n",
       "\n",
       "    .dataframe tbody tr th {\n",
       "        vertical-align: top;\n",
       "    }\n",
       "\n",
       "    .dataframe thead th {\n",
       "        text-align: right;\n",
       "    }\n",
       "</style>\n",
       "<table border=\"1\" class=\"dataframe\">\n",
       "  <thead>\n",
       "    <tr style=\"text-align: right;\">\n",
       "      <th></th>\n",
       "    </tr>\n",
       "  </thead>\n",
       "  <tbody>\n",
       "  </tbody>\n",
       "</table>\n",
       "</div>"
      ],
      "text/plain": [
       "Empty DataFrame\n",
       "Columns: []\n",
       "Index: []"
      ]
     },
     "metadata": {},
     "output_type": "display_data"
    },
    {
     "name": "stdout",
     "output_type": "stream",
     "text": [
      "11900 is empty\n"
     ]
    },
    {
     "data": {
      "text/html": [
       "<div>\n",
       "<style scoped>\n",
       "    .dataframe tbody tr th:only-of-type {\n",
       "        vertical-align: middle;\n",
       "    }\n",
       "\n",
       "    .dataframe tbody tr th {\n",
       "        vertical-align: top;\n",
       "    }\n",
       "\n",
       "    .dataframe thead th {\n",
       "        text-align: right;\n",
       "    }\n",
       "</style>\n",
       "<table border=\"1\" class=\"dataframe\">\n",
       "  <thead>\n",
       "    <tr style=\"text-align: right;\">\n",
       "      <th></th>\n",
       "    </tr>\n",
       "  </thead>\n",
       "  <tbody>\n",
       "  </tbody>\n",
       "</table>\n",
       "</div>"
      ],
      "text/plain": [
       "Empty DataFrame\n",
       "Columns: []\n",
       "Index: []"
      ]
     },
     "metadata": {},
     "output_type": "display_data"
    },
    {
     "name": "stdout",
     "output_type": "stream",
     "text": [
      "13100 is empty\n"
     ]
    },
    {
     "data": {
      "text/html": [
       "<div>\n",
       "<style scoped>\n",
       "    .dataframe tbody tr th:only-of-type {\n",
       "        vertical-align: middle;\n",
       "    }\n",
       "\n",
       "    .dataframe tbody tr th {\n",
       "        vertical-align: top;\n",
       "    }\n",
       "\n",
       "    .dataframe thead th {\n",
       "        text-align: right;\n",
       "    }\n",
       "</style>\n",
       "<table border=\"1\" class=\"dataframe\">\n",
       "  <thead>\n",
       "    <tr style=\"text-align: right;\">\n",
       "      <th></th>\n",
       "    </tr>\n",
       "  </thead>\n",
       "  <tbody>\n",
       "  </tbody>\n",
       "</table>\n",
       "</div>"
      ],
      "text/plain": [
       "Empty DataFrame\n",
       "Columns: []\n",
       "Index: []"
      ]
     },
     "metadata": {},
     "output_type": "display_data"
    },
    {
     "name": "stdout",
     "output_type": "stream",
     "text": [
      "13200 is empty\n"
     ]
    },
    {
     "data": {
      "text/html": [
       "<div>\n",
       "<style scoped>\n",
       "    .dataframe tbody tr th:only-of-type {\n",
       "        vertical-align: middle;\n",
       "    }\n",
       "\n",
       "    .dataframe tbody tr th {\n",
       "        vertical-align: top;\n",
       "    }\n",
       "\n",
       "    .dataframe thead th {\n",
       "        text-align: right;\n",
       "    }\n",
       "</style>\n",
       "<table border=\"1\" class=\"dataframe\">\n",
       "  <thead>\n",
       "    <tr style=\"text-align: right;\">\n",
       "      <th></th>\n",
       "    </tr>\n",
       "  </thead>\n",
       "  <tbody>\n",
       "  </tbody>\n",
       "</table>\n",
       "</div>"
      ],
      "text/plain": [
       "Empty DataFrame\n",
       "Columns: []\n",
       "Index: []"
      ]
     },
     "metadata": {},
     "output_type": "display_data"
    },
    {
     "name": "stdout",
     "output_type": "stream",
     "text": [
      "13300 is empty\n"
     ]
    },
    {
     "data": {
      "text/html": [
       "<div>\n",
       "<style scoped>\n",
       "    .dataframe tbody tr th:only-of-type {\n",
       "        vertical-align: middle;\n",
       "    }\n",
       "\n",
       "    .dataframe tbody tr th {\n",
       "        vertical-align: top;\n",
       "    }\n",
       "\n",
       "    .dataframe thead th {\n",
       "        text-align: right;\n",
       "    }\n",
       "</style>\n",
       "<table border=\"1\" class=\"dataframe\">\n",
       "  <thead>\n",
       "    <tr style=\"text-align: right;\">\n",
       "      <th></th>\n",
       "    </tr>\n",
       "  </thead>\n",
       "  <tbody>\n",
       "  </tbody>\n",
       "</table>\n",
       "</div>"
      ],
      "text/plain": [
       "Empty DataFrame\n",
       "Columns: []\n",
       "Index: []"
      ]
     },
     "metadata": {},
     "output_type": "display_data"
    },
    {
     "name": "stdout",
     "output_type": "stream",
     "text": [
      "13400 is empty\n"
     ]
    },
    {
     "data": {
      "text/html": [
       "<div>\n",
       "<style scoped>\n",
       "    .dataframe tbody tr th:only-of-type {\n",
       "        vertical-align: middle;\n",
       "    }\n",
       "\n",
       "    .dataframe tbody tr th {\n",
       "        vertical-align: top;\n",
       "    }\n",
       "\n",
       "    .dataframe thead th {\n",
       "        text-align: right;\n",
       "    }\n",
       "</style>\n",
       "<table border=\"1\" class=\"dataframe\">\n",
       "  <thead>\n",
       "    <tr style=\"text-align: right;\">\n",
       "      <th></th>\n",
       "    </tr>\n",
       "  </thead>\n",
       "  <tbody>\n",
       "  </tbody>\n",
       "</table>\n",
       "</div>"
      ],
      "text/plain": [
       "Empty DataFrame\n",
       "Columns: []\n",
       "Index: []"
      ]
     },
     "metadata": {},
     "output_type": "display_data"
    },
    {
     "name": "stdout",
     "output_type": "stream",
     "text": [
      "13500 is empty\n"
     ]
    },
    {
     "data": {
      "text/html": [
       "<div>\n",
       "<style scoped>\n",
       "    .dataframe tbody tr th:only-of-type {\n",
       "        vertical-align: middle;\n",
       "    }\n",
       "\n",
       "    .dataframe tbody tr th {\n",
       "        vertical-align: top;\n",
       "    }\n",
       "\n",
       "    .dataframe thead th {\n",
       "        text-align: right;\n",
       "    }\n",
       "</style>\n",
       "<table border=\"1\" class=\"dataframe\">\n",
       "  <thead>\n",
       "    <tr style=\"text-align: right;\">\n",
       "      <th></th>\n",
       "    </tr>\n",
       "  </thead>\n",
       "  <tbody>\n",
       "  </tbody>\n",
       "</table>\n",
       "</div>"
      ],
      "text/plain": [
       "Empty DataFrame\n",
       "Columns: []\n",
       "Index: []"
      ]
     },
     "metadata": {},
     "output_type": "display_data"
    },
    {
     "name": "stdout",
     "output_type": "stream",
     "text": [
      "13600 is empty\n"
     ]
    },
    {
     "data": {
      "text/html": [
       "<div>\n",
       "<style scoped>\n",
       "    .dataframe tbody tr th:only-of-type {\n",
       "        vertical-align: middle;\n",
       "    }\n",
       "\n",
       "    .dataframe tbody tr th {\n",
       "        vertical-align: top;\n",
       "    }\n",
       "\n",
       "    .dataframe thead th {\n",
       "        text-align: right;\n",
       "    }\n",
       "</style>\n",
       "<table border=\"1\" class=\"dataframe\">\n",
       "  <thead>\n",
       "    <tr style=\"text-align: right;\">\n",
       "      <th></th>\n",
       "    </tr>\n",
       "  </thead>\n",
       "  <tbody>\n",
       "  </tbody>\n",
       "</table>\n",
       "</div>"
      ],
      "text/plain": [
       "Empty DataFrame\n",
       "Columns: []\n",
       "Index: []"
      ]
     },
     "metadata": {},
     "output_type": "display_data"
    },
    {
     "name": "stdout",
     "output_type": "stream",
     "text": [
      "13700 is empty\n"
     ]
    },
    {
     "data": {
      "text/html": [
       "<div>\n",
       "<style scoped>\n",
       "    .dataframe tbody tr th:only-of-type {\n",
       "        vertical-align: middle;\n",
       "    }\n",
       "\n",
       "    .dataframe tbody tr th {\n",
       "        vertical-align: top;\n",
       "    }\n",
       "\n",
       "    .dataframe thead th {\n",
       "        text-align: right;\n",
       "    }\n",
       "</style>\n",
       "<table border=\"1\" class=\"dataframe\">\n",
       "  <thead>\n",
       "    <tr style=\"text-align: right;\">\n",
       "      <th></th>\n",
       "    </tr>\n",
       "  </thead>\n",
       "  <tbody>\n",
       "  </tbody>\n",
       "</table>\n",
       "</div>"
      ],
      "text/plain": [
       "Empty DataFrame\n",
       "Columns: []\n",
       "Index: []"
      ]
     },
     "metadata": {},
     "output_type": "display_data"
    },
    {
     "name": "stdout",
     "output_type": "stream",
     "text": [
      "13800 is empty\n"
     ]
    },
    {
     "data": {
      "text/html": [
       "<div>\n",
       "<style scoped>\n",
       "    .dataframe tbody tr th:only-of-type {\n",
       "        vertical-align: middle;\n",
       "    }\n",
       "\n",
       "    .dataframe tbody tr th {\n",
       "        vertical-align: top;\n",
       "    }\n",
       "\n",
       "    .dataframe thead th {\n",
       "        text-align: right;\n",
       "    }\n",
       "</style>\n",
       "<table border=\"1\" class=\"dataframe\">\n",
       "  <thead>\n",
       "    <tr style=\"text-align: right;\">\n",
       "      <th></th>\n",
       "    </tr>\n",
       "  </thead>\n",
       "  <tbody>\n",
       "  </tbody>\n",
       "</table>\n",
       "</div>"
      ],
      "text/plain": [
       "Empty DataFrame\n",
       "Columns: []\n",
       "Index: []"
      ]
     },
     "metadata": {},
     "output_type": "display_data"
    },
    {
     "name": "stdout",
     "output_type": "stream",
     "text": [
      "13900 is empty\n"
     ]
    },
    {
     "data": {
      "text/html": [
       "<div>\n",
       "<style scoped>\n",
       "    .dataframe tbody tr th:only-of-type {\n",
       "        vertical-align: middle;\n",
       "    }\n",
       "\n",
       "    .dataframe tbody tr th {\n",
       "        vertical-align: top;\n",
       "    }\n",
       "\n",
       "    .dataframe thead th {\n",
       "        text-align: right;\n",
       "    }\n",
       "</style>\n",
       "<table border=\"1\" class=\"dataframe\">\n",
       "  <thead>\n",
       "    <tr style=\"text-align: right;\">\n",
       "      <th></th>\n",
       "    </tr>\n",
       "  </thead>\n",
       "  <tbody>\n",
       "  </tbody>\n",
       "</table>\n",
       "</div>"
      ],
      "text/plain": [
       "Empty DataFrame\n",
       "Columns: []\n",
       "Index: []"
      ]
     },
     "metadata": {},
     "output_type": "display_data"
    },
    {
     "name": "stdout",
     "output_type": "stream",
     "text": [
      "14000 is empty\n"
     ]
    },
    {
     "data": {
      "text/html": [
       "<div>\n",
       "<style scoped>\n",
       "    .dataframe tbody tr th:only-of-type {\n",
       "        vertical-align: middle;\n",
       "    }\n",
       "\n",
       "    .dataframe tbody tr th {\n",
       "        vertical-align: top;\n",
       "    }\n",
       "\n",
       "    .dataframe thead th {\n",
       "        text-align: right;\n",
       "    }\n",
       "</style>\n",
       "<table border=\"1\" class=\"dataframe\">\n",
       "  <thead>\n",
       "    <tr style=\"text-align: right;\">\n",
       "      <th></th>\n",
       "    </tr>\n",
       "  </thead>\n",
       "  <tbody>\n",
       "  </tbody>\n",
       "</table>\n",
       "</div>"
      ],
      "text/plain": [
       "Empty DataFrame\n",
       "Columns: []\n",
       "Index: []"
      ]
     },
     "metadata": {},
     "output_type": "display_data"
    },
    {
     "name": "stdout",
     "output_type": "stream",
     "text": [
      "14100 is empty\n"
     ]
    },
    {
     "data": {
      "text/html": [
       "<div>\n",
       "<style scoped>\n",
       "    .dataframe tbody tr th:only-of-type {\n",
       "        vertical-align: middle;\n",
       "    }\n",
       "\n",
       "    .dataframe tbody tr th {\n",
       "        vertical-align: top;\n",
       "    }\n",
       "\n",
       "    .dataframe thead th {\n",
       "        text-align: right;\n",
       "    }\n",
       "</style>\n",
       "<table border=\"1\" class=\"dataframe\">\n",
       "  <thead>\n",
       "    <tr style=\"text-align: right;\">\n",
       "      <th></th>\n",
       "    </tr>\n",
       "  </thead>\n",
       "  <tbody>\n",
       "  </tbody>\n",
       "</table>\n",
       "</div>"
      ],
      "text/plain": [
       "Empty DataFrame\n",
       "Columns: []\n",
       "Index: []"
      ]
     },
     "metadata": {},
     "output_type": "display_data"
    },
    {
     "name": "stdout",
     "output_type": "stream",
     "text": [
      "14200 is empty\n"
     ]
    },
    {
     "data": {
      "text/html": [
       "<div>\n",
       "<style scoped>\n",
       "    .dataframe tbody tr th:only-of-type {\n",
       "        vertical-align: middle;\n",
       "    }\n",
       "\n",
       "    .dataframe tbody tr th {\n",
       "        vertical-align: top;\n",
       "    }\n",
       "\n",
       "    .dataframe thead th {\n",
       "        text-align: right;\n",
       "    }\n",
       "</style>\n",
       "<table border=\"1\" class=\"dataframe\">\n",
       "  <thead>\n",
       "    <tr style=\"text-align: right;\">\n",
       "      <th></th>\n",
       "    </tr>\n",
       "  </thead>\n",
       "  <tbody>\n",
       "  </tbody>\n",
       "</table>\n",
       "</div>"
      ],
      "text/plain": [
       "Empty DataFrame\n",
       "Columns: []\n",
       "Index: []"
      ]
     },
     "metadata": {},
     "output_type": "display_data"
    },
    {
     "name": "stdout",
     "output_type": "stream",
     "text": [
      "14300 is empty\n"
     ]
    },
    {
     "data": {
      "text/html": [
       "<div>\n",
       "<style scoped>\n",
       "    .dataframe tbody tr th:only-of-type {\n",
       "        vertical-align: middle;\n",
       "    }\n",
       "\n",
       "    .dataframe tbody tr th {\n",
       "        vertical-align: top;\n",
       "    }\n",
       "\n",
       "    .dataframe thead th {\n",
       "        text-align: right;\n",
       "    }\n",
       "</style>\n",
       "<table border=\"1\" class=\"dataframe\">\n",
       "  <thead>\n",
       "    <tr style=\"text-align: right;\">\n",
       "      <th></th>\n",
       "    </tr>\n",
       "  </thead>\n",
       "  <tbody>\n",
       "  </tbody>\n",
       "</table>\n",
       "</div>"
      ],
      "text/plain": [
       "Empty DataFrame\n",
       "Columns: []\n",
       "Index: []"
      ]
     },
     "metadata": {},
     "output_type": "display_data"
    },
    {
     "name": "stdout",
     "output_type": "stream",
     "text": [
      "14400 is empty\n"
     ]
    },
    {
     "data": {
      "text/html": [
       "<div>\n",
       "<style scoped>\n",
       "    .dataframe tbody tr th:only-of-type {\n",
       "        vertical-align: middle;\n",
       "    }\n",
       "\n",
       "    .dataframe tbody tr th {\n",
       "        vertical-align: top;\n",
       "    }\n",
       "\n",
       "    .dataframe thead th {\n",
       "        text-align: right;\n",
       "    }\n",
       "</style>\n",
       "<table border=\"1\" class=\"dataframe\">\n",
       "  <thead>\n",
       "    <tr style=\"text-align: right;\">\n",
       "      <th></th>\n",
       "    </tr>\n",
       "  </thead>\n",
       "  <tbody>\n",
       "  </tbody>\n",
       "</table>\n",
       "</div>"
      ],
      "text/plain": [
       "Empty DataFrame\n",
       "Columns: []\n",
       "Index: []"
      ]
     },
     "metadata": {},
     "output_type": "display_data"
    },
    {
     "name": "stdout",
     "output_type": "stream",
     "text": [
      "14500 is empty\n"
     ]
    },
    {
     "data": {
      "text/html": [
       "<div>\n",
       "<style scoped>\n",
       "    .dataframe tbody tr th:only-of-type {\n",
       "        vertical-align: middle;\n",
       "    }\n",
       "\n",
       "    .dataframe tbody tr th {\n",
       "        vertical-align: top;\n",
       "    }\n",
       "\n",
       "    .dataframe thead th {\n",
       "        text-align: right;\n",
       "    }\n",
       "</style>\n",
       "<table border=\"1\" class=\"dataframe\">\n",
       "  <thead>\n",
       "    <tr style=\"text-align: right;\">\n",
       "      <th></th>\n",
       "    </tr>\n",
       "  </thead>\n",
       "  <tbody>\n",
       "  </tbody>\n",
       "</table>\n",
       "</div>"
      ],
      "text/plain": [
       "Empty DataFrame\n",
       "Columns: []\n",
       "Index: []"
      ]
     },
     "metadata": {},
     "output_type": "display_data"
    },
    {
     "name": "stdout",
     "output_type": "stream",
     "text": [
      "14600 is empty\n"
     ]
    },
    {
     "data": {
      "text/html": [
       "<div>\n",
       "<style scoped>\n",
       "    .dataframe tbody tr th:only-of-type {\n",
       "        vertical-align: middle;\n",
       "    }\n",
       "\n",
       "    .dataframe tbody tr th {\n",
       "        vertical-align: top;\n",
       "    }\n",
       "\n",
       "    .dataframe thead th {\n",
       "        text-align: right;\n",
       "    }\n",
       "</style>\n",
       "<table border=\"1\" class=\"dataframe\">\n",
       "  <thead>\n",
       "    <tr style=\"text-align: right;\">\n",
       "      <th></th>\n",
       "    </tr>\n",
       "  </thead>\n",
       "  <tbody>\n",
       "  </tbody>\n",
       "</table>\n",
       "</div>"
      ],
      "text/plain": [
       "Empty DataFrame\n",
       "Columns: []\n",
       "Index: []"
      ]
     },
     "metadata": {},
     "output_type": "display_data"
    },
    {
     "name": "stdout",
     "output_type": "stream",
     "text": [
      "14700 is empty\n"
     ]
    },
    {
     "data": {
      "text/html": [
       "<div>\n",
       "<style scoped>\n",
       "    .dataframe tbody tr th:only-of-type {\n",
       "        vertical-align: middle;\n",
       "    }\n",
       "\n",
       "    .dataframe tbody tr th {\n",
       "        vertical-align: top;\n",
       "    }\n",
       "\n",
       "    .dataframe thead th {\n",
       "        text-align: right;\n",
       "    }\n",
       "</style>\n",
       "<table border=\"1\" class=\"dataframe\">\n",
       "  <thead>\n",
       "    <tr style=\"text-align: right;\">\n",
       "      <th></th>\n",
       "    </tr>\n",
       "  </thead>\n",
       "  <tbody>\n",
       "  </tbody>\n",
       "</table>\n",
       "</div>"
      ],
      "text/plain": [
       "Empty DataFrame\n",
       "Columns: []\n",
       "Index: []"
      ]
     },
     "metadata": {},
     "output_type": "display_data"
    },
    {
     "name": "stdout",
     "output_type": "stream",
     "text": [
      "14800 is empty\n"
     ]
    },
    {
     "data": {
      "text/html": [
       "<div>\n",
       "<style scoped>\n",
       "    .dataframe tbody tr th:only-of-type {\n",
       "        vertical-align: middle;\n",
       "    }\n",
       "\n",
       "    .dataframe tbody tr th {\n",
       "        vertical-align: top;\n",
       "    }\n",
       "\n",
       "    .dataframe thead th {\n",
       "        text-align: right;\n",
       "    }\n",
       "</style>\n",
       "<table border=\"1\" class=\"dataframe\">\n",
       "  <thead>\n",
       "    <tr style=\"text-align: right;\">\n",
       "      <th></th>\n",
       "    </tr>\n",
       "  </thead>\n",
       "  <tbody>\n",
       "  </tbody>\n",
       "</table>\n",
       "</div>"
      ],
      "text/plain": [
       "Empty DataFrame\n",
       "Columns: []\n",
       "Index: []"
      ]
     },
     "metadata": {},
     "output_type": "display_data"
    },
    {
     "name": "stdout",
     "output_type": "stream",
     "text": [
      "14900 is empty\n"
     ]
    },
    {
     "data": {
      "text/html": [
       "<div>\n",
       "<style scoped>\n",
       "    .dataframe tbody tr th:only-of-type {\n",
       "        vertical-align: middle;\n",
       "    }\n",
       "\n",
       "    .dataframe tbody tr th {\n",
       "        vertical-align: top;\n",
       "    }\n",
       "\n",
       "    .dataframe thead th {\n",
       "        text-align: right;\n",
       "    }\n",
       "</style>\n",
       "<table border=\"1\" class=\"dataframe\">\n",
       "  <thead>\n",
       "    <tr style=\"text-align: right;\">\n",
       "      <th></th>\n",
       "    </tr>\n",
       "  </thead>\n",
       "  <tbody>\n",
       "  </tbody>\n",
       "</table>\n",
       "</div>"
      ],
      "text/plain": [
       "Empty DataFrame\n",
       "Columns: []\n",
       "Index: []"
      ]
     },
     "metadata": {},
     "output_type": "display_data"
    },
    {
     "name": "stdout",
     "output_type": "stream",
     "text": [
      "15000 is empty\n"
     ]
    },
    {
     "data": {
      "text/html": [
       "<div>\n",
       "<style scoped>\n",
       "    .dataframe tbody tr th:only-of-type {\n",
       "        vertical-align: middle;\n",
       "    }\n",
       "\n",
       "    .dataframe tbody tr th {\n",
       "        vertical-align: top;\n",
       "    }\n",
       "\n",
       "    .dataframe thead th {\n",
       "        text-align: right;\n",
       "    }\n",
       "</style>\n",
       "<table border=\"1\" class=\"dataframe\">\n",
       "  <thead>\n",
       "    <tr style=\"text-align: right;\">\n",
       "      <th></th>\n",
       "    </tr>\n",
       "  </thead>\n",
       "  <tbody>\n",
       "  </tbody>\n",
       "</table>\n",
       "</div>"
      ],
      "text/plain": [
       "Empty DataFrame\n",
       "Columns: []\n",
       "Index: []"
      ]
     },
     "metadata": {},
     "output_type": "display_data"
    },
    {
     "name": "stdout",
     "output_type": "stream",
     "text": [
      "15100 is empty\n"
     ]
    },
    {
     "data": {
      "text/html": [
       "<div>\n",
       "<style scoped>\n",
       "    .dataframe tbody tr th:only-of-type {\n",
       "        vertical-align: middle;\n",
       "    }\n",
       "\n",
       "    .dataframe tbody tr th {\n",
       "        vertical-align: top;\n",
       "    }\n",
       "\n",
       "    .dataframe thead th {\n",
       "        text-align: right;\n",
       "    }\n",
       "</style>\n",
       "<table border=\"1\" class=\"dataframe\">\n",
       "  <thead>\n",
       "    <tr style=\"text-align: right;\">\n",
       "      <th></th>\n",
       "    </tr>\n",
       "  </thead>\n",
       "  <tbody>\n",
       "  </tbody>\n",
       "</table>\n",
       "</div>"
      ],
      "text/plain": [
       "Empty DataFrame\n",
       "Columns: []\n",
       "Index: []"
      ]
     },
     "metadata": {},
     "output_type": "display_data"
    },
    {
     "name": "stdout",
     "output_type": "stream",
     "text": [
      "15200 is empty\n"
     ]
    },
    {
     "data": {
      "text/html": [
       "<div>\n",
       "<style scoped>\n",
       "    .dataframe tbody tr th:only-of-type {\n",
       "        vertical-align: middle;\n",
       "    }\n",
       "\n",
       "    .dataframe tbody tr th {\n",
       "        vertical-align: top;\n",
       "    }\n",
       "\n",
       "    .dataframe thead th {\n",
       "        text-align: right;\n",
       "    }\n",
       "</style>\n",
       "<table border=\"1\" class=\"dataframe\">\n",
       "  <thead>\n",
       "    <tr style=\"text-align: right;\">\n",
       "      <th></th>\n",
       "    </tr>\n",
       "  </thead>\n",
       "  <tbody>\n",
       "  </tbody>\n",
       "</table>\n",
       "</div>"
      ],
      "text/plain": [
       "Empty DataFrame\n",
       "Columns: []\n",
       "Index: []"
      ]
     },
     "metadata": {},
     "output_type": "display_data"
    },
    {
     "name": "stdout",
     "output_type": "stream",
     "text": [
      "15300 is empty\n"
     ]
    },
    {
     "data": {
      "text/html": [
       "<div>\n",
       "<style scoped>\n",
       "    .dataframe tbody tr th:only-of-type {\n",
       "        vertical-align: middle;\n",
       "    }\n",
       "\n",
       "    .dataframe tbody tr th {\n",
       "        vertical-align: top;\n",
       "    }\n",
       "\n",
       "    .dataframe thead th {\n",
       "        text-align: right;\n",
       "    }\n",
       "</style>\n",
       "<table border=\"1\" class=\"dataframe\">\n",
       "  <thead>\n",
       "    <tr style=\"text-align: right;\">\n",
       "      <th></th>\n",
       "    </tr>\n",
       "  </thead>\n",
       "  <tbody>\n",
       "  </tbody>\n",
       "</table>\n",
       "</div>"
      ],
      "text/plain": [
       "Empty DataFrame\n",
       "Columns: []\n",
       "Index: []"
      ]
     },
     "metadata": {},
     "output_type": "display_data"
    },
    {
     "name": "stdout",
     "output_type": "stream",
     "text": [
      "15400 is empty\n"
     ]
    },
    {
     "data": {
      "text/html": [
       "<div>\n",
       "<style scoped>\n",
       "    .dataframe tbody tr th:only-of-type {\n",
       "        vertical-align: middle;\n",
       "    }\n",
       "\n",
       "    .dataframe tbody tr th {\n",
       "        vertical-align: top;\n",
       "    }\n",
       "\n",
       "    .dataframe thead th {\n",
       "        text-align: right;\n",
       "    }\n",
       "</style>\n",
       "<table border=\"1\" class=\"dataframe\">\n",
       "  <thead>\n",
       "    <tr style=\"text-align: right;\">\n",
       "      <th></th>\n",
       "    </tr>\n",
       "  </thead>\n",
       "  <tbody>\n",
       "  </tbody>\n",
       "</table>\n",
       "</div>"
      ],
      "text/plain": [
       "Empty DataFrame\n",
       "Columns: []\n",
       "Index: []"
      ]
     },
     "metadata": {},
     "output_type": "display_data"
    },
    {
     "name": "stdout",
     "output_type": "stream",
     "text": [
      "15500 is empty\n"
     ]
    },
    {
     "data": {
      "text/html": [
       "<div>\n",
       "<style scoped>\n",
       "    .dataframe tbody tr th:only-of-type {\n",
       "        vertical-align: middle;\n",
       "    }\n",
       "\n",
       "    .dataframe tbody tr th {\n",
       "        vertical-align: top;\n",
       "    }\n",
       "\n",
       "    .dataframe thead th {\n",
       "        text-align: right;\n",
       "    }\n",
       "</style>\n",
       "<table border=\"1\" class=\"dataframe\">\n",
       "  <thead>\n",
       "    <tr style=\"text-align: right;\">\n",
       "      <th></th>\n",
       "    </tr>\n",
       "  </thead>\n",
       "  <tbody>\n",
       "  </tbody>\n",
       "</table>\n",
       "</div>"
      ],
      "text/plain": [
       "Empty DataFrame\n",
       "Columns: []\n",
       "Index: []"
      ]
     },
     "metadata": {},
     "output_type": "display_data"
    },
    {
     "name": "stdout",
     "output_type": "stream",
     "text": [
      "15600 is empty\n"
     ]
    },
    {
     "data": {
      "text/html": [
       "<div>\n",
       "<style scoped>\n",
       "    .dataframe tbody tr th:only-of-type {\n",
       "        vertical-align: middle;\n",
       "    }\n",
       "\n",
       "    .dataframe tbody tr th {\n",
       "        vertical-align: top;\n",
       "    }\n",
       "\n",
       "    .dataframe thead th {\n",
       "        text-align: right;\n",
       "    }\n",
       "</style>\n",
       "<table border=\"1\" class=\"dataframe\">\n",
       "  <thead>\n",
       "    <tr style=\"text-align: right;\">\n",
       "      <th></th>\n",
       "    </tr>\n",
       "  </thead>\n",
       "  <tbody>\n",
       "  </tbody>\n",
       "</table>\n",
       "</div>"
      ],
      "text/plain": [
       "Empty DataFrame\n",
       "Columns: []\n",
       "Index: []"
      ]
     },
     "metadata": {},
     "output_type": "display_data"
    },
    {
     "name": "stdout",
     "output_type": "stream",
     "text": [
      "15700 is empty\n"
     ]
    },
    {
     "data": {
      "text/html": [
       "<div>\n",
       "<style scoped>\n",
       "    .dataframe tbody tr th:only-of-type {\n",
       "        vertical-align: middle;\n",
       "    }\n",
       "\n",
       "    .dataframe tbody tr th {\n",
       "        vertical-align: top;\n",
       "    }\n",
       "\n",
       "    .dataframe thead th {\n",
       "        text-align: right;\n",
       "    }\n",
       "</style>\n",
       "<table border=\"1\" class=\"dataframe\">\n",
       "  <thead>\n",
       "    <tr style=\"text-align: right;\">\n",
       "      <th></th>\n",
       "    </tr>\n",
       "  </thead>\n",
       "  <tbody>\n",
       "  </tbody>\n",
       "</table>\n",
       "</div>"
      ],
      "text/plain": [
       "Empty DataFrame\n",
       "Columns: []\n",
       "Index: []"
      ]
     },
     "metadata": {},
     "output_type": "display_data"
    },
    {
     "name": "stdout",
     "output_type": "stream",
     "text": [
      "15800 is empty\n"
     ]
    },
    {
     "data": {
      "text/html": [
       "<div>\n",
       "<style scoped>\n",
       "    .dataframe tbody tr th:only-of-type {\n",
       "        vertical-align: middle;\n",
       "    }\n",
       "\n",
       "    .dataframe tbody tr th {\n",
       "        vertical-align: top;\n",
       "    }\n",
       "\n",
       "    .dataframe thead th {\n",
       "        text-align: right;\n",
       "    }\n",
       "</style>\n",
       "<table border=\"1\" class=\"dataframe\">\n",
       "  <thead>\n",
       "    <tr style=\"text-align: right;\">\n",
       "      <th></th>\n",
       "    </tr>\n",
       "  </thead>\n",
       "  <tbody>\n",
       "  </tbody>\n",
       "</table>\n",
       "</div>"
      ],
      "text/plain": [
       "Empty DataFrame\n",
       "Columns: []\n",
       "Index: []"
      ]
     },
     "metadata": {},
     "output_type": "display_data"
    },
    {
     "name": "stdout",
     "output_type": "stream",
     "text": [
      "15900 is empty\n"
     ]
    },
    {
     "data": {
      "text/html": [
       "<div>\n",
       "<style scoped>\n",
       "    .dataframe tbody tr th:only-of-type {\n",
       "        vertical-align: middle;\n",
       "    }\n",
       "\n",
       "    .dataframe tbody tr th {\n",
       "        vertical-align: top;\n",
       "    }\n",
       "\n",
       "    .dataframe thead th {\n",
       "        text-align: right;\n",
       "    }\n",
       "</style>\n",
       "<table border=\"1\" class=\"dataframe\">\n",
       "  <thead>\n",
       "    <tr style=\"text-align: right;\">\n",
       "      <th></th>\n",
       "    </tr>\n",
       "  </thead>\n",
       "  <tbody>\n",
       "  </tbody>\n",
       "</table>\n",
       "</div>"
      ],
      "text/plain": [
       "Empty DataFrame\n",
       "Columns: []\n",
       "Index: []"
      ]
     },
     "metadata": {},
     "output_type": "display_data"
    },
    {
     "name": "stdout",
     "output_type": "stream",
     "text": [
      "16000 is empty\n"
     ]
    },
    {
     "data": {
      "text/html": [
       "<div>\n",
       "<style scoped>\n",
       "    .dataframe tbody tr th:only-of-type {\n",
       "        vertical-align: middle;\n",
       "    }\n",
       "\n",
       "    .dataframe tbody tr th {\n",
       "        vertical-align: top;\n",
       "    }\n",
       "\n",
       "    .dataframe thead th {\n",
       "        text-align: right;\n",
       "    }\n",
       "</style>\n",
       "<table border=\"1\" class=\"dataframe\">\n",
       "  <thead>\n",
       "    <tr style=\"text-align: right;\">\n",
       "      <th></th>\n",
       "    </tr>\n",
       "  </thead>\n",
       "  <tbody>\n",
       "  </tbody>\n",
       "</table>\n",
       "</div>"
      ],
      "text/plain": [
       "Empty DataFrame\n",
       "Columns: []\n",
       "Index: []"
      ]
     },
     "metadata": {},
     "output_type": "display_data"
    },
    {
     "name": "stdout",
     "output_type": "stream",
     "text": [
      "16100 is empty\n"
     ]
    },
    {
     "data": {
      "text/html": [
       "<div>\n",
       "<style scoped>\n",
       "    .dataframe tbody tr th:only-of-type {\n",
       "        vertical-align: middle;\n",
       "    }\n",
       "\n",
       "    .dataframe tbody tr th {\n",
       "        vertical-align: top;\n",
       "    }\n",
       "\n",
       "    .dataframe thead th {\n",
       "        text-align: right;\n",
       "    }\n",
       "</style>\n",
       "<table border=\"1\" class=\"dataframe\">\n",
       "  <thead>\n",
       "    <tr style=\"text-align: right;\">\n",
       "      <th></th>\n",
       "    </tr>\n",
       "  </thead>\n",
       "  <tbody>\n",
       "  </tbody>\n",
       "</table>\n",
       "</div>"
      ],
      "text/plain": [
       "Empty DataFrame\n",
       "Columns: []\n",
       "Index: []"
      ]
     },
     "metadata": {},
     "output_type": "display_data"
    },
    {
     "name": "stdout",
     "output_type": "stream",
     "text": [
      "16200 is empty\n"
     ]
    },
    {
     "data": {
      "text/html": [
       "<div>\n",
       "<style scoped>\n",
       "    .dataframe tbody tr th:only-of-type {\n",
       "        vertical-align: middle;\n",
       "    }\n",
       "\n",
       "    .dataframe tbody tr th {\n",
       "        vertical-align: top;\n",
       "    }\n",
       "\n",
       "    .dataframe thead th {\n",
       "        text-align: right;\n",
       "    }\n",
       "</style>\n",
       "<table border=\"1\" class=\"dataframe\">\n",
       "  <thead>\n",
       "    <tr style=\"text-align: right;\">\n",
       "      <th></th>\n",
       "    </tr>\n",
       "  </thead>\n",
       "  <tbody>\n",
       "  </tbody>\n",
       "</table>\n",
       "</div>"
      ],
      "text/plain": [
       "Empty DataFrame\n",
       "Columns: []\n",
       "Index: []"
      ]
     },
     "metadata": {},
     "output_type": "display_data"
    },
    {
     "name": "stdout",
     "output_type": "stream",
     "text": [
      "16300 is empty\n"
     ]
    },
    {
     "data": {
      "text/html": [
       "<div>\n",
       "<style scoped>\n",
       "    .dataframe tbody tr th:only-of-type {\n",
       "        vertical-align: middle;\n",
       "    }\n",
       "\n",
       "    .dataframe tbody tr th {\n",
       "        vertical-align: top;\n",
       "    }\n",
       "\n",
       "    .dataframe thead th {\n",
       "        text-align: right;\n",
       "    }\n",
       "</style>\n",
       "<table border=\"1\" class=\"dataframe\">\n",
       "  <thead>\n",
       "    <tr style=\"text-align: right;\">\n",
       "      <th></th>\n",
       "    </tr>\n",
       "  </thead>\n",
       "  <tbody>\n",
       "  </tbody>\n",
       "</table>\n",
       "</div>"
      ],
      "text/plain": [
       "Empty DataFrame\n",
       "Columns: []\n",
       "Index: []"
      ]
     },
     "metadata": {},
     "output_type": "display_data"
    },
    {
     "name": "stdout",
     "output_type": "stream",
     "text": [
      "16400 is empty\n"
     ]
    },
    {
     "data": {
      "text/html": [
       "<div>\n",
       "<style scoped>\n",
       "    .dataframe tbody tr th:only-of-type {\n",
       "        vertical-align: middle;\n",
       "    }\n",
       "\n",
       "    .dataframe tbody tr th {\n",
       "        vertical-align: top;\n",
       "    }\n",
       "\n",
       "    .dataframe thead th {\n",
       "        text-align: right;\n",
       "    }\n",
       "</style>\n",
       "<table border=\"1\" class=\"dataframe\">\n",
       "  <thead>\n",
       "    <tr style=\"text-align: right;\">\n",
       "      <th></th>\n",
       "    </tr>\n",
       "  </thead>\n",
       "  <tbody>\n",
       "  </tbody>\n",
       "</table>\n",
       "</div>"
      ],
      "text/plain": [
       "Empty DataFrame\n",
       "Columns: []\n",
       "Index: []"
      ]
     },
     "metadata": {},
     "output_type": "display_data"
    },
    {
     "name": "stdout",
     "output_type": "stream",
     "text": [
      "16500 is empty\n"
     ]
    },
    {
     "data": {
      "text/html": [
       "<div>\n",
       "<style scoped>\n",
       "    .dataframe tbody tr th:only-of-type {\n",
       "        vertical-align: middle;\n",
       "    }\n",
       "\n",
       "    .dataframe tbody tr th {\n",
       "        vertical-align: top;\n",
       "    }\n",
       "\n",
       "    .dataframe thead th {\n",
       "        text-align: right;\n",
       "    }\n",
       "</style>\n",
       "<table border=\"1\" class=\"dataframe\">\n",
       "  <thead>\n",
       "    <tr style=\"text-align: right;\">\n",
       "      <th></th>\n",
       "    </tr>\n",
       "  </thead>\n",
       "  <tbody>\n",
       "  </tbody>\n",
       "</table>\n",
       "</div>"
      ],
      "text/plain": [
       "Empty DataFrame\n",
       "Columns: []\n",
       "Index: []"
      ]
     },
     "metadata": {},
     "output_type": "display_data"
    },
    {
     "name": "stdout",
     "output_type": "stream",
     "text": [
      "16600 is empty\n"
     ]
    },
    {
     "data": {
      "text/html": [
       "<div>\n",
       "<style scoped>\n",
       "    .dataframe tbody tr th:only-of-type {\n",
       "        vertical-align: middle;\n",
       "    }\n",
       "\n",
       "    .dataframe tbody tr th {\n",
       "        vertical-align: top;\n",
       "    }\n",
       "\n",
       "    .dataframe thead th {\n",
       "        text-align: right;\n",
       "    }\n",
       "</style>\n",
       "<table border=\"1\" class=\"dataframe\">\n",
       "  <thead>\n",
       "    <tr style=\"text-align: right;\">\n",
       "      <th></th>\n",
       "    </tr>\n",
       "  </thead>\n",
       "  <tbody>\n",
       "  </tbody>\n",
       "</table>\n",
       "</div>"
      ],
      "text/plain": [
       "Empty DataFrame\n",
       "Columns: []\n",
       "Index: []"
      ]
     },
     "metadata": {},
     "output_type": "display_data"
    },
    {
     "name": "stdout",
     "output_type": "stream",
     "text": [
      "16700 is empty\n"
     ]
    },
    {
     "data": {
      "text/html": [
       "<div>\n",
       "<style scoped>\n",
       "    .dataframe tbody tr th:only-of-type {\n",
       "        vertical-align: middle;\n",
       "    }\n",
       "\n",
       "    .dataframe tbody tr th {\n",
       "        vertical-align: top;\n",
       "    }\n",
       "\n",
       "    .dataframe thead th {\n",
       "        text-align: right;\n",
       "    }\n",
       "</style>\n",
       "<table border=\"1\" class=\"dataframe\">\n",
       "  <thead>\n",
       "    <tr style=\"text-align: right;\">\n",
       "      <th></th>\n",
       "    </tr>\n",
       "  </thead>\n",
       "  <tbody>\n",
       "  </tbody>\n",
       "</table>\n",
       "</div>"
      ],
      "text/plain": [
       "Empty DataFrame\n",
       "Columns: []\n",
       "Index: []"
      ]
     },
     "metadata": {},
     "output_type": "display_data"
    },
    {
     "name": "stdout",
     "output_type": "stream",
     "text": [
      "16800 is empty\n"
     ]
    },
    {
     "data": {
      "text/html": [
       "<div>\n",
       "<style scoped>\n",
       "    .dataframe tbody tr th:only-of-type {\n",
       "        vertical-align: middle;\n",
       "    }\n",
       "\n",
       "    .dataframe tbody tr th {\n",
       "        vertical-align: top;\n",
       "    }\n",
       "\n",
       "    .dataframe thead th {\n",
       "        text-align: right;\n",
       "    }\n",
       "</style>\n",
       "<table border=\"1\" class=\"dataframe\">\n",
       "  <thead>\n",
       "    <tr style=\"text-align: right;\">\n",
       "      <th></th>\n",
       "    </tr>\n",
       "  </thead>\n",
       "  <tbody>\n",
       "  </tbody>\n",
       "</table>\n",
       "</div>"
      ],
      "text/plain": [
       "Empty DataFrame\n",
       "Columns: []\n",
       "Index: []"
      ]
     },
     "metadata": {},
     "output_type": "display_data"
    },
    {
     "name": "stdout",
     "output_type": "stream",
     "text": [
      "16900 is empty\n"
     ]
    },
    {
     "data": {
      "text/html": [
       "<div>\n",
       "<style scoped>\n",
       "    .dataframe tbody tr th:only-of-type {\n",
       "        vertical-align: middle;\n",
       "    }\n",
       "\n",
       "    .dataframe tbody tr th {\n",
       "        vertical-align: top;\n",
       "    }\n",
       "\n",
       "    .dataframe thead th {\n",
       "        text-align: right;\n",
       "    }\n",
       "</style>\n",
       "<table border=\"1\" class=\"dataframe\">\n",
       "  <thead>\n",
       "    <tr style=\"text-align: right;\">\n",
       "      <th></th>\n",
       "    </tr>\n",
       "  </thead>\n",
       "  <tbody>\n",
       "  </tbody>\n",
       "</table>\n",
       "</div>"
      ],
      "text/plain": [
       "Empty DataFrame\n",
       "Columns: []\n",
       "Index: []"
      ]
     },
     "metadata": {},
     "output_type": "display_data"
    },
    {
     "name": "stdout",
     "output_type": "stream",
     "text": [
      "17000 is empty\n"
     ]
    },
    {
     "data": {
      "text/html": [
       "<div>\n",
       "<style scoped>\n",
       "    .dataframe tbody tr th:only-of-type {\n",
       "        vertical-align: middle;\n",
       "    }\n",
       "\n",
       "    .dataframe tbody tr th {\n",
       "        vertical-align: top;\n",
       "    }\n",
       "\n",
       "    .dataframe thead th {\n",
       "        text-align: right;\n",
       "    }\n",
       "</style>\n",
       "<table border=\"1\" class=\"dataframe\">\n",
       "  <thead>\n",
       "    <tr style=\"text-align: right;\">\n",
       "      <th></th>\n",
       "    </tr>\n",
       "  </thead>\n",
       "  <tbody>\n",
       "  </tbody>\n",
       "</table>\n",
       "</div>"
      ],
      "text/plain": [
       "Empty DataFrame\n",
       "Columns: []\n",
       "Index: []"
      ]
     },
     "metadata": {},
     "output_type": "display_data"
    },
    {
     "name": "stdout",
     "output_type": "stream",
     "text": [
      "17100 is empty\n"
     ]
    },
    {
     "data": {
      "text/html": [
       "<div>\n",
       "<style scoped>\n",
       "    .dataframe tbody tr th:only-of-type {\n",
       "        vertical-align: middle;\n",
       "    }\n",
       "\n",
       "    .dataframe tbody tr th {\n",
       "        vertical-align: top;\n",
       "    }\n",
       "\n",
       "    .dataframe thead th {\n",
       "        text-align: right;\n",
       "    }\n",
       "</style>\n",
       "<table border=\"1\" class=\"dataframe\">\n",
       "  <thead>\n",
       "    <tr style=\"text-align: right;\">\n",
       "      <th></th>\n",
       "    </tr>\n",
       "  </thead>\n",
       "  <tbody>\n",
       "  </tbody>\n",
       "</table>\n",
       "</div>"
      ],
      "text/plain": [
       "Empty DataFrame\n",
       "Columns: []\n",
       "Index: []"
      ]
     },
     "metadata": {},
     "output_type": "display_data"
    },
    {
     "name": "stdout",
     "output_type": "stream",
     "text": [
      "17200 is empty\n"
     ]
    },
    {
     "data": {
      "text/html": [
       "<div>\n",
       "<style scoped>\n",
       "    .dataframe tbody tr th:only-of-type {\n",
       "        vertical-align: middle;\n",
       "    }\n",
       "\n",
       "    .dataframe tbody tr th {\n",
       "        vertical-align: top;\n",
       "    }\n",
       "\n",
       "    .dataframe thead th {\n",
       "        text-align: right;\n",
       "    }\n",
       "</style>\n",
       "<table border=\"1\" class=\"dataframe\">\n",
       "  <thead>\n",
       "    <tr style=\"text-align: right;\">\n",
       "      <th></th>\n",
       "    </tr>\n",
       "  </thead>\n",
       "  <tbody>\n",
       "  </tbody>\n",
       "</table>\n",
       "</div>"
      ],
      "text/plain": [
       "Empty DataFrame\n",
       "Columns: []\n",
       "Index: []"
      ]
     },
     "metadata": {},
     "output_type": "display_data"
    },
    {
     "name": "stdout",
     "output_type": "stream",
     "text": [
      "17300 is empty\n"
     ]
    },
    {
     "data": {
      "text/html": [
       "<div>\n",
       "<style scoped>\n",
       "    .dataframe tbody tr th:only-of-type {\n",
       "        vertical-align: middle;\n",
       "    }\n",
       "\n",
       "    .dataframe tbody tr th {\n",
       "        vertical-align: top;\n",
       "    }\n",
       "\n",
       "    .dataframe thead th {\n",
       "        text-align: right;\n",
       "    }\n",
       "</style>\n",
       "<table border=\"1\" class=\"dataframe\">\n",
       "  <thead>\n",
       "    <tr style=\"text-align: right;\">\n",
       "      <th></th>\n",
       "    </tr>\n",
       "  </thead>\n",
       "  <tbody>\n",
       "  </tbody>\n",
       "</table>\n",
       "</div>"
      ],
      "text/plain": [
       "Empty DataFrame\n",
       "Columns: []\n",
       "Index: []"
      ]
     },
     "metadata": {},
     "output_type": "display_data"
    },
    {
     "name": "stdout",
     "output_type": "stream",
     "text": [
      "17400 is empty\n"
     ]
    },
    {
     "data": {
      "text/html": [
       "<div>\n",
       "<style scoped>\n",
       "    .dataframe tbody tr th:only-of-type {\n",
       "        vertical-align: middle;\n",
       "    }\n",
       "\n",
       "    .dataframe tbody tr th {\n",
       "        vertical-align: top;\n",
       "    }\n",
       "\n",
       "    .dataframe thead th {\n",
       "        text-align: right;\n",
       "    }\n",
       "</style>\n",
       "<table border=\"1\" class=\"dataframe\">\n",
       "  <thead>\n",
       "    <tr style=\"text-align: right;\">\n",
       "      <th></th>\n",
       "    </tr>\n",
       "  </thead>\n",
       "  <tbody>\n",
       "  </tbody>\n",
       "</table>\n",
       "</div>"
      ],
      "text/plain": [
       "Empty DataFrame\n",
       "Columns: []\n",
       "Index: []"
      ]
     },
     "metadata": {},
     "output_type": "display_data"
    },
    {
     "name": "stdout",
     "output_type": "stream",
     "text": [
      "17500 is empty\n"
     ]
    },
    {
     "data": {
      "text/html": [
       "<div>\n",
       "<style scoped>\n",
       "    .dataframe tbody tr th:only-of-type {\n",
       "        vertical-align: middle;\n",
       "    }\n",
       "\n",
       "    .dataframe tbody tr th {\n",
       "        vertical-align: top;\n",
       "    }\n",
       "\n",
       "    .dataframe thead th {\n",
       "        text-align: right;\n",
       "    }\n",
       "</style>\n",
       "<table border=\"1\" class=\"dataframe\">\n",
       "  <thead>\n",
       "    <tr style=\"text-align: right;\">\n",
       "      <th></th>\n",
       "    </tr>\n",
       "  </thead>\n",
       "  <tbody>\n",
       "  </tbody>\n",
       "</table>\n",
       "</div>"
      ],
      "text/plain": [
       "Empty DataFrame\n",
       "Columns: []\n",
       "Index: []"
      ]
     },
     "metadata": {},
     "output_type": "display_data"
    },
    {
     "name": "stdout",
     "output_type": "stream",
     "text": [
      "17600 is empty\n"
     ]
    },
    {
     "data": {
      "text/html": [
       "<div>\n",
       "<style scoped>\n",
       "    .dataframe tbody tr th:only-of-type {\n",
       "        vertical-align: middle;\n",
       "    }\n",
       "\n",
       "    .dataframe tbody tr th {\n",
       "        vertical-align: top;\n",
       "    }\n",
       "\n",
       "    .dataframe thead th {\n",
       "        text-align: right;\n",
       "    }\n",
       "</style>\n",
       "<table border=\"1\" class=\"dataframe\">\n",
       "  <thead>\n",
       "    <tr style=\"text-align: right;\">\n",
       "      <th></th>\n",
       "    </tr>\n",
       "  </thead>\n",
       "  <tbody>\n",
       "  </tbody>\n",
       "</table>\n",
       "</div>"
      ],
      "text/plain": [
       "Empty DataFrame\n",
       "Columns: []\n",
       "Index: []"
      ]
     },
     "metadata": {},
     "output_type": "display_data"
    },
    {
     "name": "stdout",
     "output_type": "stream",
     "text": [
      "17700 is empty\n"
     ]
    },
    {
     "data": {
      "text/html": [
       "<div>\n",
       "<style scoped>\n",
       "    .dataframe tbody tr th:only-of-type {\n",
       "        vertical-align: middle;\n",
       "    }\n",
       "\n",
       "    .dataframe tbody tr th {\n",
       "        vertical-align: top;\n",
       "    }\n",
       "\n",
       "    .dataframe thead th {\n",
       "        text-align: right;\n",
       "    }\n",
       "</style>\n",
       "<table border=\"1\" class=\"dataframe\">\n",
       "  <thead>\n",
       "    <tr style=\"text-align: right;\">\n",
       "      <th></th>\n",
       "    </tr>\n",
       "  </thead>\n",
       "  <tbody>\n",
       "  </tbody>\n",
       "</table>\n",
       "</div>"
      ],
      "text/plain": [
       "Empty DataFrame\n",
       "Columns: []\n",
       "Index: []"
      ]
     },
     "metadata": {},
     "output_type": "display_data"
    },
    {
     "name": "stdout",
     "output_type": "stream",
     "text": [
      "17800 is empty\n"
     ]
    },
    {
     "data": {
      "text/html": [
       "<div>\n",
       "<style scoped>\n",
       "    .dataframe tbody tr th:only-of-type {\n",
       "        vertical-align: middle;\n",
       "    }\n",
       "\n",
       "    .dataframe tbody tr th {\n",
       "        vertical-align: top;\n",
       "    }\n",
       "\n",
       "    .dataframe thead th {\n",
       "        text-align: right;\n",
       "    }\n",
       "</style>\n",
       "<table border=\"1\" class=\"dataframe\">\n",
       "  <thead>\n",
       "    <tr style=\"text-align: right;\">\n",
       "      <th></th>\n",
       "    </tr>\n",
       "  </thead>\n",
       "  <tbody>\n",
       "  </tbody>\n",
       "</table>\n",
       "</div>"
      ],
      "text/plain": [
       "Empty DataFrame\n",
       "Columns: []\n",
       "Index: []"
      ]
     },
     "metadata": {},
     "output_type": "display_data"
    },
    {
     "name": "stdout",
     "output_type": "stream",
     "text": [
      "17900 is empty\n"
     ]
    },
    {
     "data": {
      "text/html": [
       "<div>\n",
       "<style scoped>\n",
       "    .dataframe tbody tr th:only-of-type {\n",
       "        vertical-align: middle;\n",
       "    }\n",
       "\n",
       "    .dataframe tbody tr th {\n",
       "        vertical-align: top;\n",
       "    }\n",
       "\n",
       "    .dataframe thead th {\n",
       "        text-align: right;\n",
       "    }\n",
       "</style>\n",
       "<table border=\"1\" class=\"dataframe\">\n",
       "  <thead>\n",
       "    <tr style=\"text-align: right;\">\n",
       "      <th></th>\n",
       "    </tr>\n",
       "  </thead>\n",
       "  <tbody>\n",
       "  </tbody>\n",
       "</table>\n",
       "</div>"
      ],
      "text/plain": [
       "Empty DataFrame\n",
       "Columns: []\n",
       "Index: []"
      ]
     },
     "metadata": {},
     "output_type": "display_data"
    },
    {
     "name": "stdout",
     "output_type": "stream",
     "text": [
      "18000 is empty\n"
     ]
    },
    {
     "data": {
      "text/html": [
       "<div>\n",
       "<style scoped>\n",
       "    .dataframe tbody tr th:only-of-type {\n",
       "        vertical-align: middle;\n",
       "    }\n",
       "\n",
       "    .dataframe tbody tr th {\n",
       "        vertical-align: top;\n",
       "    }\n",
       "\n",
       "    .dataframe thead th {\n",
       "        text-align: right;\n",
       "    }\n",
       "</style>\n",
       "<table border=\"1\" class=\"dataframe\">\n",
       "  <thead>\n",
       "    <tr style=\"text-align: right;\">\n",
       "      <th></th>\n",
       "    </tr>\n",
       "  </thead>\n",
       "  <tbody>\n",
       "  </tbody>\n",
       "</table>\n",
       "</div>"
      ],
      "text/plain": [
       "Empty DataFrame\n",
       "Columns: []\n",
       "Index: []"
      ]
     },
     "metadata": {},
     "output_type": "display_data"
    },
    {
     "name": "stdout",
     "output_type": "stream",
     "text": [
      "18100 is empty\n"
     ]
    },
    {
     "data": {
      "text/html": [
       "<div>\n",
       "<style scoped>\n",
       "    .dataframe tbody tr th:only-of-type {\n",
       "        vertical-align: middle;\n",
       "    }\n",
       "\n",
       "    .dataframe tbody tr th {\n",
       "        vertical-align: top;\n",
       "    }\n",
       "\n",
       "    .dataframe thead th {\n",
       "        text-align: right;\n",
       "    }\n",
       "</style>\n",
       "<table border=\"1\" class=\"dataframe\">\n",
       "  <thead>\n",
       "    <tr style=\"text-align: right;\">\n",
       "      <th></th>\n",
       "    </tr>\n",
       "  </thead>\n",
       "  <tbody>\n",
       "  </tbody>\n",
       "</table>\n",
       "</div>"
      ],
      "text/plain": [
       "Empty DataFrame\n",
       "Columns: []\n",
       "Index: []"
      ]
     },
     "metadata": {},
     "output_type": "display_data"
    },
    {
     "name": "stdout",
     "output_type": "stream",
     "text": [
      "18200 is empty\n"
     ]
    },
    {
     "data": {
      "text/html": [
       "<div>\n",
       "<style scoped>\n",
       "    .dataframe tbody tr th:only-of-type {\n",
       "        vertical-align: middle;\n",
       "    }\n",
       "\n",
       "    .dataframe tbody tr th {\n",
       "        vertical-align: top;\n",
       "    }\n",
       "\n",
       "    .dataframe thead th {\n",
       "        text-align: right;\n",
       "    }\n",
       "</style>\n",
       "<table border=\"1\" class=\"dataframe\">\n",
       "  <thead>\n",
       "    <tr style=\"text-align: right;\">\n",
       "      <th></th>\n",
       "    </tr>\n",
       "  </thead>\n",
       "  <tbody>\n",
       "  </tbody>\n",
       "</table>\n",
       "</div>"
      ],
      "text/plain": [
       "Empty DataFrame\n",
       "Columns: []\n",
       "Index: []"
      ]
     },
     "metadata": {},
     "output_type": "display_data"
    },
    {
     "name": "stdout",
     "output_type": "stream",
     "text": [
      "18300 is empty\n"
     ]
    },
    {
     "data": {
      "text/html": [
       "<div>\n",
       "<style scoped>\n",
       "    .dataframe tbody tr th:only-of-type {\n",
       "        vertical-align: middle;\n",
       "    }\n",
       "\n",
       "    .dataframe tbody tr th {\n",
       "        vertical-align: top;\n",
       "    }\n",
       "\n",
       "    .dataframe thead th {\n",
       "        text-align: right;\n",
       "    }\n",
       "</style>\n",
       "<table border=\"1\" class=\"dataframe\">\n",
       "  <thead>\n",
       "    <tr style=\"text-align: right;\">\n",
       "      <th></th>\n",
       "    </tr>\n",
       "  </thead>\n",
       "  <tbody>\n",
       "  </tbody>\n",
       "</table>\n",
       "</div>"
      ],
      "text/plain": [
       "Empty DataFrame\n",
       "Columns: []\n",
       "Index: []"
      ]
     },
     "metadata": {},
     "output_type": "display_data"
    },
    {
     "name": "stdout",
     "output_type": "stream",
     "text": [
      "18400 is empty\n"
     ]
    },
    {
     "data": {
      "text/html": [
       "<div>\n",
       "<style scoped>\n",
       "    .dataframe tbody tr th:only-of-type {\n",
       "        vertical-align: middle;\n",
       "    }\n",
       "\n",
       "    .dataframe tbody tr th {\n",
       "        vertical-align: top;\n",
       "    }\n",
       "\n",
       "    .dataframe thead th {\n",
       "        text-align: right;\n",
       "    }\n",
       "</style>\n",
       "<table border=\"1\" class=\"dataframe\">\n",
       "  <thead>\n",
       "    <tr style=\"text-align: right;\">\n",
       "      <th></th>\n",
       "    </tr>\n",
       "  </thead>\n",
       "  <tbody>\n",
       "  </tbody>\n",
       "</table>\n",
       "</div>"
      ],
      "text/plain": [
       "Empty DataFrame\n",
       "Columns: []\n",
       "Index: []"
      ]
     },
     "metadata": {},
     "output_type": "display_data"
    },
    {
     "name": "stdout",
     "output_type": "stream",
     "text": [
      "18500 is empty\n"
     ]
    },
    {
     "data": {
      "text/html": [
       "<div>\n",
       "<style scoped>\n",
       "    .dataframe tbody tr th:only-of-type {\n",
       "        vertical-align: middle;\n",
       "    }\n",
       "\n",
       "    .dataframe tbody tr th {\n",
       "        vertical-align: top;\n",
       "    }\n",
       "\n",
       "    .dataframe thead th {\n",
       "        text-align: right;\n",
       "    }\n",
       "</style>\n",
       "<table border=\"1\" class=\"dataframe\">\n",
       "  <thead>\n",
       "    <tr style=\"text-align: right;\">\n",
       "      <th></th>\n",
       "    </tr>\n",
       "  </thead>\n",
       "  <tbody>\n",
       "  </tbody>\n",
       "</table>\n",
       "</div>"
      ],
      "text/plain": [
       "Empty DataFrame\n",
       "Columns: []\n",
       "Index: []"
      ]
     },
     "metadata": {},
     "output_type": "display_data"
    },
    {
     "name": "stdout",
     "output_type": "stream",
     "text": [
      "18600 is empty\n"
     ]
    },
    {
     "data": {
      "text/html": [
       "<div>\n",
       "<style scoped>\n",
       "    .dataframe tbody tr th:only-of-type {\n",
       "        vertical-align: middle;\n",
       "    }\n",
       "\n",
       "    .dataframe tbody tr th {\n",
       "        vertical-align: top;\n",
       "    }\n",
       "\n",
       "    .dataframe thead th {\n",
       "        text-align: right;\n",
       "    }\n",
       "</style>\n",
       "<table border=\"1\" class=\"dataframe\">\n",
       "  <thead>\n",
       "    <tr style=\"text-align: right;\">\n",
       "      <th></th>\n",
       "    </tr>\n",
       "  </thead>\n",
       "  <tbody>\n",
       "  </tbody>\n",
       "</table>\n",
       "</div>"
      ],
      "text/plain": [
       "Empty DataFrame\n",
       "Columns: []\n",
       "Index: []"
      ]
     },
     "metadata": {},
     "output_type": "display_data"
    },
    {
     "name": "stdout",
     "output_type": "stream",
     "text": [
      "18700 is empty\n"
     ]
    },
    {
     "data": {
      "text/html": [
       "<div>\n",
       "<style scoped>\n",
       "    .dataframe tbody tr th:only-of-type {\n",
       "        vertical-align: middle;\n",
       "    }\n",
       "\n",
       "    .dataframe tbody tr th {\n",
       "        vertical-align: top;\n",
       "    }\n",
       "\n",
       "    .dataframe thead th {\n",
       "        text-align: right;\n",
       "    }\n",
       "</style>\n",
       "<table border=\"1\" class=\"dataframe\">\n",
       "  <thead>\n",
       "    <tr style=\"text-align: right;\">\n",
       "      <th></th>\n",
       "    </tr>\n",
       "  </thead>\n",
       "  <tbody>\n",
       "  </tbody>\n",
       "</table>\n",
       "</div>"
      ],
      "text/plain": [
       "Empty DataFrame\n",
       "Columns: []\n",
       "Index: []"
      ]
     },
     "metadata": {},
     "output_type": "display_data"
    },
    {
     "name": "stdout",
     "output_type": "stream",
     "text": [
      "18800 is empty\n"
     ]
    },
    {
     "data": {
      "text/html": [
       "<div>\n",
       "<style scoped>\n",
       "    .dataframe tbody tr th:only-of-type {\n",
       "        vertical-align: middle;\n",
       "    }\n",
       "\n",
       "    .dataframe tbody tr th {\n",
       "        vertical-align: top;\n",
       "    }\n",
       "\n",
       "    .dataframe thead th {\n",
       "        text-align: right;\n",
       "    }\n",
       "</style>\n",
       "<table border=\"1\" class=\"dataframe\">\n",
       "  <thead>\n",
       "    <tr style=\"text-align: right;\">\n",
       "      <th></th>\n",
       "    </tr>\n",
       "  </thead>\n",
       "  <tbody>\n",
       "  </tbody>\n",
       "</table>\n",
       "</div>"
      ],
      "text/plain": [
       "Empty DataFrame\n",
       "Columns: []\n",
       "Index: []"
      ]
     },
     "metadata": {},
     "output_type": "display_data"
    },
    {
     "name": "stdout",
     "output_type": "stream",
     "text": [
      "18900 is empty\n"
     ]
    },
    {
     "data": {
      "text/html": [
       "<div>\n",
       "<style scoped>\n",
       "    .dataframe tbody tr th:only-of-type {\n",
       "        vertical-align: middle;\n",
       "    }\n",
       "\n",
       "    .dataframe tbody tr th {\n",
       "        vertical-align: top;\n",
       "    }\n",
       "\n",
       "    .dataframe thead th {\n",
       "        text-align: right;\n",
       "    }\n",
       "</style>\n",
       "<table border=\"1\" class=\"dataframe\">\n",
       "  <thead>\n",
       "    <tr style=\"text-align: right;\">\n",
       "      <th></th>\n",
       "    </tr>\n",
       "  </thead>\n",
       "  <tbody>\n",
       "  </tbody>\n",
       "</table>\n",
       "</div>"
      ],
      "text/plain": [
       "Empty DataFrame\n",
       "Columns: []\n",
       "Index: []"
      ]
     },
     "metadata": {},
     "output_type": "display_data"
    },
    {
     "name": "stdout",
     "output_type": "stream",
     "text": [
      "19000 is empty\n"
     ]
    },
    {
     "data": {
      "text/html": [
       "<div>\n",
       "<style scoped>\n",
       "    .dataframe tbody tr th:only-of-type {\n",
       "        vertical-align: middle;\n",
       "    }\n",
       "\n",
       "    .dataframe tbody tr th {\n",
       "        vertical-align: top;\n",
       "    }\n",
       "\n",
       "    .dataframe thead th {\n",
       "        text-align: right;\n",
       "    }\n",
       "</style>\n",
       "<table border=\"1\" class=\"dataframe\">\n",
       "  <thead>\n",
       "    <tr style=\"text-align: right;\">\n",
       "      <th></th>\n",
       "    </tr>\n",
       "  </thead>\n",
       "  <tbody>\n",
       "  </tbody>\n",
       "</table>\n",
       "</div>"
      ],
      "text/plain": [
       "Empty DataFrame\n",
       "Columns: []\n",
       "Index: []"
      ]
     },
     "metadata": {},
     "output_type": "display_data"
    },
    {
     "name": "stdout",
     "output_type": "stream",
     "text": [
      "19100 is empty\n"
     ]
    },
    {
     "data": {
      "text/html": [
       "<div>\n",
       "<style scoped>\n",
       "    .dataframe tbody tr th:only-of-type {\n",
       "        vertical-align: middle;\n",
       "    }\n",
       "\n",
       "    .dataframe tbody tr th {\n",
       "        vertical-align: top;\n",
       "    }\n",
       "\n",
       "    .dataframe thead th {\n",
       "        text-align: right;\n",
       "    }\n",
       "</style>\n",
       "<table border=\"1\" class=\"dataframe\">\n",
       "  <thead>\n",
       "    <tr style=\"text-align: right;\">\n",
       "      <th></th>\n",
       "    </tr>\n",
       "  </thead>\n",
       "  <tbody>\n",
       "  </tbody>\n",
       "</table>\n",
       "</div>"
      ],
      "text/plain": [
       "Empty DataFrame\n",
       "Columns: []\n",
       "Index: []"
      ]
     },
     "metadata": {},
     "output_type": "display_data"
    },
    {
     "name": "stdout",
     "output_type": "stream",
     "text": [
      "19200 is empty\n"
     ]
    },
    {
     "data": {
      "text/html": [
       "<div>\n",
       "<style scoped>\n",
       "    .dataframe tbody tr th:only-of-type {\n",
       "        vertical-align: middle;\n",
       "    }\n",
       "\n",
       "    .dataframe tbody tr th {\n",
       "        vertical-align: top;\n",
       "    }\n",
       "\n",
       "    .dataframe thead th {\n",
       "        text-align: right;\n",
       "    }\n",
       "</style>\n",
       "<table border=\"1\" class=\"dataframe\">\n",
       "  <thead>\n",
       "    <tr style=\"text-align: right;\">\n",
       "      <th></th>\n",
       "    </tr>\n",
       "  </thead>\n",
       "  <tbody>\n",
       "  </tbody>\n",
       "</table>\n",
       "</div>"
      ],
      "text/plain": [
       "Empty DataFrame\n",
       "Columns: []\n",
       "Index: []"
      ]
     },
     "metadata": {},
     "output_type": "display_data"
    },
    {
     "name": "stdout",
     "output_type": "stream",
     "text": [
      "19300 is empty\n"
     ]
    },
    {
     "data": {
      "text/html": [
       "<div>\n",
       "<style scoped>\n",
       "    .dataframe tbody tr th:only-of-type {\n",
       "        vertical-align: middle;\n",
       "    }\n",
       "\n",
       "    .dataframe tbody tr th {\n",
       "        vertical-align: top;\n",
       "    }\n",
       "\n",
       "    .dataframe thead th {\n",
       "        text-align: right;\n",
       "    }\n",
       "</style>\n",
       "<table border=\"1\" class=\"dataframe\">\n",
       "  <thead>\n",
       "    <tr style=\"text-align: right;\">\n",
       "      <th></th>\n",
       "    </tr>\n",
       "  </thead>\n",
       "  <tbody>\n",
       "  </tbody>\n",
       "</table>\n",
       "</div>"
      ],
      "text/plain": [
       "Empty DataFrame\n",
       "Columns: []\n",
       "Index: []"
      ]
     },
     "metadata": {},
     "output_type": "display_data"
    },
    {
     "name": "stdout",
     "output_type": "stream",
     "text": [
      "19400 is empty\n"
     ]
    },
    {
     "data": {
      "text/html": [
       "<div>\n",
       "<style scoped>\n",
       "    .dataframe tbody tr th:only-of-type {\n",
       "        vertical-align: middle;\n",
       "    }\n",
       "\n",
       "    .dataframe tbody tr th {\n",
       "        vertical-align: top;\n",
       "    }\n",
       "\n",
       "    .dataframe thead th {\n",
       "        text-align: right;\n",
       "    }\n",
       "</style>\n",
       "<table border=\"1\" class=\"dataframe\">\n",
       "  <thead>\n",
       "    <tr style=\"text-align: right;\">\n",
       "      <th></th>\n",
       "    </tr>\n",
       "  </thead>\n",
       "  <tbody>\n",
       "  </tbody>\n",
       "</table>\n",
       "</div>"
      ],
      "text/plain": [
       "Empty DataFrame\n",
       "Columns: []\n",
       "Index: []"
      ]
     },
     "metadata": {},
     "output_type": "display_data"
    },
    {
     "name": "stdout",
     "output_type": "stream",
     "text": [
      "19500 is empty\n"
     ]
    },
    {
     "data": {
      "text/html": [
       "<div>\n",
       "<style scoped>\n",
       "    .dataframe tbody tr th:only-of-type {\n",
       "        vertical-align: middle;\n",
       "    }\n",
       "\n",
       "    .dataframe tbody tr th {\n",
       "        vertical-align: top;\n",
       "    }\n",
       "\n",
       "    .dataframe thead th {\n",
       "        text-align: right;\n",
       "    }\n",
       "</style>\n",
       "<table border=\"1\" class=\"dataframe\">\n",
       "  <thead>\n",
       "    <tr style=\"text-align: right;\">\n",
       "      <th></th>\n",
       "    </tr>\n",
       "  </thead>\n",
       "  <tbody>\n",
       "  </tbody>\n",
       "</table>\n",
       "</div>"
      ],
      "text/plain": [
       "Empty DataFrame\n",
       "Columns: []\n",
       "Index: []"
      ]
     },
     "metadata": {},
     "output_type": "display_data"
    },
    {
     "name": "stdout",
     "output_type": "stream",
     "text": [
      "19600 is empty\n"
     ]
    },
    {
     "data": {
      "text/html": [
       "<div>\n",
       "<style scoped>\n",
       "    .dataframe tbody tr th:only-of-type {\n",
       "        vertical-align: middle;\n",
       "    }\n",
       "\n",
       "    .dataframe tbody tr th {\n",
       "        vertical-align: top;\n",
       "    }\n",
       "\n",
       "    .dataframe thead th {\n",
       "        text-align: right;\n",
       "    }\n",
       "</style>\n",
       "<table border=\"1\" class=\"dataframe\">\n",
       "  <thead>\n",
       "    <tr style=\"text-align: right;\">\n",
       "      <th></th>\n",
       "    </tr>\n",
       "  </thead>\n",
       "  <tbody>\n",
       "  </tbody>\n",
       "</table>\n",
       "</div>"
      ],
      "text/plain": [
       "Empty DataFrame\n",
       "Columns: []\n",
       "Index: []"
      ]
     },
     "metadata": {},
     "output_type": "display_data"
    },
    {
     "name": "stdout",
     "output_type": "stream",
     "text": [
      "19700 is empty\n"
     ]
    },
    {
     "data": {
      "text/html": [
       "<div>\n",
       "<style scoped>\n",
       "    .dataframe tbody tr th:only-of-type {\n",
       "        vertical-align: middle;\n",
       "    }\n",
       "\n",
       "    .dataframe tbody tr th {\n",
       "        vertical-align: top;\n",
       "    }\n",
       "\n",
       "    .dataframe thead th {\n",
       "        text-align: right;\n",
       "    }\n",
       "</style>\n",
       "<table border=\"1\" class=\"dataframe\">\n",
       "  <thead>\n",
       "    <tr style=\"text-align: right;\">\n",
       "      <th></th>\n",
       "    </tr>\n",
       "  </thead>\n",
       "  <tbody>\n",
       "  </tbody>\n",
       "</table>\n",
       "</div>"
      ],
      "text/plain": [
       "Empty DataFrame\n",
       "Columns: []\n",
       "Index: []"
      ]
     },
     "metadata": {},
     "output_type": "display_data"
    },
    {
     "name": "stdout",
     "output_type": "stream",
     "text": [
      "19800 is empty\n"
     ]
    },
    {
     "data": {
      "text/html": [
       "<div>\n",
       "<style scoped>\n",
       "    .dataframe tbody tr th:only-of-type {\n",
       "        vertical-align: middle;\n",
       "    }\n",
       "\n",
       "    .dataframe tbody tr th {\n",
       "        vertical-align: top;\n",
       "    }\n",
       "\n",
       "    .dataframe thead th {\n",
       "        text-align: right;\n",
       "    }\n",
       "</style>\n",
       "<table border=\"1\" class=\"dataframe\">\n",
       "  <thead>\n",
       "    <tr style=\"text-align: right;\">\n",
       "      <th></th>\n",
       "    </tr>\n",
       "  </thead>\n",
       "  <tbody>\n",
       "  </tbody>\n",
       "</table>\n",
       "</div>"
      ],
      "text/plain": [
       "Empty DataFrame\n",
       "Columns: []\n",
       "Index: []"
      ]
     },
     "metadata": {},
     "output_type": "display_data"
    },
    {
     "name": "stdout",
     "output_type": "stream",
     "text": [
      "19900 is empty\n"
     ]
    },
    {
     "data": {
      "text/html": [
       "<div>\n",
       "<style scoped>\n",
       "    .dataframe tbody tr th:only-of-type {\n",
       "        vertical-align: middle;\n",
       "    }\n",
       "\n",
       "    .dataframe tbody tr th {\n",
       "        vertical-align: top;\n",
       "    }\n",
       "\n",
       "    .dataframe thead th {\n",
       "        text-align: right;\n",
       "    }\n",
       "</style>\n",
       "<table border=\"1\" class=\"dataframe\">\n",
       "  <thead>\n",
       "    <tr style=\"text-align: right;\">\n",
       "      <th></th>\n",
       "    </tr>\n",
       "  </thead>\n",
       "  <tbody>\n",
       "  </tbody>\n",
       "</table>\n",
       "</div>"
      ],
      "text/plain": [
       "Empty DataFrame\n",
       "Columns: []\n",
       "Index: []"
      ]
     },
     "metadata": {},
     "output_type": "display_data"
    },
    {
     "name": "stdout",
     "output_type": "stream",
     "text": [
      "20000 is empty\n"
     ]
    },
    {
     "data": {
      "text/html": [
       "<div>\n",
       "<style scoped>\n",
       "    .dataframe tbody tr th:only-of-type {\n",
       "        vertical-align: middle;\n",
       "    }\n",
       "\n",
       "    .dataframe tbody tr th {\n",
       "        vertical-align: top;\n",
       "    }\n",
       "\n",
       "    .dataframe thead th {\n",
       "        text-align: right;\n",
       "    }\n",
       "</style>\n",
       "<table border=\"1\" class=\"dataframe\">\n",
       "  <thead>\n",
       "    <tr style=\"text-align: right;\">\n",
       "      <th></th>\n",
       "    </tr>\n",
       "  </thead>\n",
       "  <tbody>\n",
       "  </tbody>\n",
       "</table>\n",
       "</div>"
      ],
      "text/plain": [
       "Empty DataFrame\n",
       "Columns: []\n",
       "Index: []"
      ]
     },
     "metadata": {},
     "output_type": "display_data"
    },
    {
     "name": "stdout",
     "output_type": "stream",
     "text": [
      "20100 is empty\n"
     ]
    },
    {
     "data": {
      "text/html": [
       "<div>\n",
       "<style scoped>\n",
       "    .dataframe tbody tr th:only-of-type {\n",
       "        vertical-align: middle;\n",
       "    }\n",
       "\n",
       "    .dataframe tbody tr th {\n",
       "        vertical-align: top;\n",
       "    }\n",
       "\n",
       "    .dataframe thead th {\n",
       "        text-align: right;\n",
       "    }\n",
       "</style>\n",
       "<table border=\"1\" class=\"dataframe\">\n",
       "  <thead>\n",
       "    <tr style=\"text-align: right;\">\n",
       "      <th></th>\n",
       "    </tr>\n",
       "  </thead>\n",
       "  <tbody>\n",
       "  </tbody>\n",
       "</table>\n",
       "</div>"
      ],
      "text/plain": [
       "Empty DataFrame\n",
       "Columns: []\n",
       "Index: []"
      ]
     },
     "metadata": {},
     "output_type": "display_data"
    },
    {
     "name": "stdout",
     "output_type": "stream",
     "text": [
      "20200 is empty\n"
     ]
    },
    {
     "data": {
      "text/html": [
       "<div>\n",
       "<style scoped>\n",
       "    .dataframe tbody tr th:only-of-type {\n",
       "        vertical-align: middle;\n",
       "    }\n",
       "\n",
       "    .dataframe tbody tr th {\n",
       "        vertical-align: top;\n",
       "    }\n",
       "\n",
       "    .dataframe thead th {\n",
       "        text-align: right;\n",
       "    }\n",
       "</style>\n",
       "<table border=\"1\" class=\"dataframe\">\n",
       "  <thead>\n",
       "    <tr style=\"text-align: right;\">\n",
       "      <th></th>\n",
       "    </tr>\n",
       "  </thead>\n",
       "  <tbody>\n",
       "  </tbody>\n",
       "</table>\n",
       "</div>"
      ],
      "text/plain": [
       "Empty DataFrame\n",
       "Columns: []\n",
       "Index: []"
      ]
     },
     "metadata": {},
     "output_type": "display_data"
    },
    {
     "name": "stdout",
     "output_type": "stream",
     "text": [
      "20300 is empty\n"
     ]
    },
    {
     "data": {
      "text/html": [
       "<div>\n",
       "<style scoped>\n",
       "    .dataframe tbody tr th:only-of-type {\n",
       "        vertical-align: middle;\n",
       "    }\n",
       "\n",
       "    .dataframe tbody tr th {\n",
       "        vertical-align: top;\n",
       "    }\n",
       "\n",
       "    .dataframe thead th {\n",
       "        text-align: right;\n",
       "    }\n",
       "</style>\n",
       "<table border=\"1\" class=\"dataframe\">\n",
       "  <thead>\n",
       "    <tr style=\"text-align: right;\">\n",
       "      <th></th>\n",
       "    </tr>\n",
       "  </thead>\n",
       "  <tbody>\n",
       "  </tbody>\n",
       "</table>\n",
       "</div>"
      ],
      "text/plain": [
       "Empty DataFrame\n",
       "Columns: []\n",
       "Index: []"
      ]
     },
     "metadata": {},
     "output_type": "display_data"
    },
    {
     "name": "stdout",
     "output_type": "stream",
     "text": [
      "20400 is empty\n"
     ]
    },
    {
     "data": {
      "text/html": [
       "<div>\n",
       "<style scoped>\n",
       "    .dataframe tbody tr th:only-of-type {\n",
       "        vertical-align: middle;\n",
       "    }\n",
       "\n",
       "    .dataframe tbody tr th {\n",
       "        vertical-align: top;\n",
       "    }\n",
       "\n",
       "    .dataframe thead th {\n",
       "        text-align: right;\n",
       "    }\n",
       "</style>\n",
       "<table border=\"1\" class=\"dataframe\">\n",
       "  <thead>\n",
       "    <tr style=\"text-align: right;\">\n",
       "      <th></th>\n",
       "    </tr>\n",
       "  </thead>\n",
       "  <tbody>\n",
       "  </tbody>\n",
       "</table>\n",
       "</div>"
      ],
      "text/plain": [
       "Empty DataFrame\n",
       "Columns: []\n",
       "Index: []"
      ]
     },
     "metadata": {},
     "output_type": "display_data"
    },
    {
     "name": "stdout",
     "output_type": "stream",
     "text": [
      "20500 is empty\n"
     ]
    },
    {
     "data": {
      "text/html": [
       "<div>\n",
       "<style scoped>\n",
       "    .dataframe tbody tr th:only-of-type {\n",
       "        vertical-align: middle;\n",
       "    }\n",
       "\n",
       "    .dataframe tbody tr th {\n",
       "        vertical-align: top;\n",
       "    }\n",
       "\n",
       "    .dataframe thead th {\n",
       "        text-align: right;\n",
       "    }\n",
       "</style>\n",
       "<table border=\"1\" class=\"dataframe\">\n",
       "  <thead>\n",
       "    <tr style=\"text-align: right;\">\n",
       "      <th></th>\n",
       "    </tr>\n",
       "  </thead>\n",
       "  <tbody>\n",
       "  </tbody>\n",
       "</table>\n",
       "</div>"
      ],
      "text/plain": [
       "Empty DataFrame\n",
       "Columns: []\n",
       "Index: []"
      ]
     },
     "metadata": {},
     "output_type": "display_data"
    },
    {
     "name": "stdout",
     "output_type": "stream",
     "text": [
      "20600 is empty\n"
     ]
    },
    {
     "data": {
      "text/html": [
       "<div>\n",
       "<style scoped>\n",
       "    .dataframe tbody tr th:only-of-type {\n",
       "        vertical-align: middle;\n",
       "    }\n",
       "\n",
       "    .dataframe tbody tr th {\n",
       "        vertical-align: top;\n",
       "    }\n",
       "\n",
       "    .dataframe thead th {\n",
       "        text-align: right;\n",
       "    }\n",
       "</style>\n",
       "<table border=\"1\" class=\"dataframe\">\n",
       "  <thead>\n",
       "    <tr style=\"text-align: right;\">\n",
       "      <th></th>\n",
       "    </tr>\n",
       "  </thead>\n",
       "  <tbody>\n",
       "  </tbody>\n",
       "</table>\n",
       "</div>"
      ],
      "text/plain": [
       "Empty DataFrame\n",
       "Columns: []\n",
       "Index: []"
      ]
     },
     "metadata": {},
     "output_type": "display_data"
    },
    {
     "name": "stdout",
     "output_type": "stream",
     "text": [
      "20700 is empty\n"
     ]
    },
    {
     "data": {
      "text/html": [
       "<div>\n",
       "<style scoped>\n",
       "    .dataframe tbody tr th:only-of-type {\n",
       "        vertical-align: middle;\n",
       "    }\n",
       "\n",
       "    .dataframe tbody tr th {\n",
       "        vertical-align: top;\n",
       "    }\n",
       "\n",
       "    .dataframe thead th {\n",
       "        text-align: right;\n",
       "    }\n",
       "</style>\n",
       "<table border=\"1\" class=\"dataframe\">\n",
       "  <thead>\n",
       "    <tr style=\"text-align: right;\">\n",
       "      <th></th>\n",
       "    </tr>\n",
       "  </thead>\n",
       "  <tbody>\n",
       "  </tbody>\n",
       "</table>\n",
       "</div>"
      ],
      "text/plain": [
       "Empty DataFrame\n",
       "Columns: []\n",
       "Index: []"
      ]
     },
     "metadata": {},
     "output_type": "display_data"
    },
    {
     "name": "stdout",
     "output_type": "stream",
     "text": [
      "20800 is empty\n"
     ]
    },
    {
     "data": {
      "text/html": [
       "<div>\n",
       "<style scoped>\n",
       "    .dataframe tbody tr th:only-of-type {\n",
       "        vertical-align: middle;\n",
       "    }\n",
       "\n",
       "    .dataframe tbody tr th {\n",
       "        vertical-align: top;\n",
       "    }\n",
       "\n",
       "    .dataframe thead th {\n",
       "        text-align: right;\n",
       "    }\n",
       "</style>\n",
       "<table border=\"1\" class=\"dataframe\">\n",
       "  <thead>\n",
       "    <tr style=\"text-align: right;\">\n",
       "      <th></th>\n",
       "    </tr>\n",
       "  </thead>\n",
       "  <tbody>\n",
       "  </tbody>\n",
       "</table>\n",
       "</div>"
      ],
      "text/plain": [
       "Empty DataFrame\n",
       "Columns: []\n",
       "Index: []"
      ]
     },
     "metadata": {},
     "output_type": "display_data"
    },
    {
     "name": "stdout",
     "output_type": "stream",
     "text": [
      "20900 is empty\n"
     ]
    },
    {
     "data": {
      "text/html": [
       "<div>\n",
       "<style scoped>\n",
       "    .dataframe tbody tr th:only-of-type {\n",
       "        vertical-align: middle;\n",
       "    }\n",
       "\n",
       "    .dataframe tbody tr th {\n",
       "        vertical-align: top;\n",
       "    }\n",
       "\n",
       "    .dataframe thead th {\n",
       "        text-align: right;\n",
       "    }\n",
       "</style>\n",
       "<table border=\"1\" class=\"dataframe\">\n",
       "  <thead>\n",
       "    <tr style=\"text-align: right;\">\n",
       "      <th></th>\n",
       "    </tr>\n",
       "  </thead>\n",
       "  <tbody>\n",
       "  </tbody>\n",
       "</table>\n",
       "</div>"
      ],
      "text/plain": [
       "Empty DataFrame\n",
       "Columns: []\n",
       "Index: []"
      ]
     },
     "metadata": {},
     "output_type": "display_data"
    },
    {
     "name": "stdout",
     "output_type": "stream",
     "text": [
      "21000 is empty\n"
     ]
    },
    {
     "data": {
      "text/html": [
       "<div>\n",
       "<style scoped>\n",
       "    .dataframe tbody tr th:only-of-type {\n",
       "        vertical-align: middle;\n",
       "    }\n",
       "\n",
       "    .dataframe tbody tr th {\n",
       "        vertical-align: top;\n",
       "    }\n",
       "\n",
       "    .dataframe thead th {\n",
       "        text-align: right;\n",
       "    }\n",
       "</style>\n",
       "<table border=\"1\" class=\"dataframe\">\n",
       "  <thead>\n",
       "    <tr style=\"text-align: right;\">\n",
       "      <th></th>\n",
       "    </tr>\n",
       "  </thead>\n",
       "  <tbody>\n",
       "  </tbody>\n",
       "</table>\n",
       "</div>"
      ],
      "text/plain": [
       "Empty DataFrame\n",
       "Columns: []\n",
       "Index: []"
      ]
     },
     "metadata": {},
     "output_type": "display_data"
    },
    {
     "name": "stdout",
     "output_type": "stream",
     "text": [
      "21100 is empty\n"
     ]
    },
    {
     "data": {
      "text/html": [
       "<div>\n",
       "<style scoped>\n",
       "    .dataframe tbody tr th:only-of-type {\n",
       "        vertical-align: middle;\n",
       "    }\n",
       "\n",
       "    .dataframe tbody tr th {\n",
       "        vertical-align: top;\n",
       "    }\n",
       "\n",
       "    .dataframe thead th {\n",
       "        text-align: right;\n",
       "    }\n",
       "</style>\n",
       "<table border=\"1\" class=\"dataframe\">\n",
       "  <thead>\n",
       "    <tr style=\"text-align: right;\">\n",
       "      <th></th>\n",
       "    </tr>\n",
       "  </thead>\n",
       "  <tbody>\n",
       "  </tbody>\n",
       "</table>\n",
       "</div>"
      ],
      "text/plain": [
       "Empty DataFrame\n",
       "Columns: []\n",
       "Index: []"
      ]
     },
     "metadata": {},
     "output_type": "display_data"
    },
    {
     "name": "stdout",
     "output_type": "stream",
     "text": [
      "21200 is empty\n"
     ]
    },
    {
     "data": {
      "text/html": [
       "<div>\n",
       "<style scoped>\n",
       "    .dataframe tbody tr th:only-of-type {\n",
       "        vertical-align: middle;\n",
       "    }\n",
       "\n",
       "    .dataframe tbody tr th {\n",
       "        vertical-align: top;\n",
       "    }\n",
       "\n",
       "    .dataframe thead th {\n",
       "        text-align: right;\n",
       "    }\n",
       "</style>\n",
       "<table border=\"1\" class=\"dataframe\">\n",
       "  <thead>\n",
       "    <tr style=\"text-align: right;\">\n",
       "      <th></th>\n",
       "    </tr>\n",
       "  </thead>\n",
       "  <tbody>\n",
       "  </tbody>\n",
       "</table>\n",
       "</div>"
      ],
      "text/plain": [
       "Empty DataFrame\n",
       "Columns: []\n",
       "Index: []"
      ]
     },
     "metadata": {},
     "output_type": "display_data"
    },
    {
     "name": "stdout",
     "output_type": "stream",
     "text": [
      "21300 is empty\n"
     ]
    },
    {
     "data": {
      "text/html": [
       "<div>\n",
       "<style scoped>\n",
       "    .dataframe tbody tr th:only-of-type {\n",
       "        vertical-align: middle;\n",
       "    }\n",
       "\n",
       "    .dataframe tbody tr th {\n",
       "        vertical-align: top;\n",
       "    }\n",
       "\n",
       "    .dataframe thead th {\n",
       "        text-align: right;\n",
       "    }\n",
       "</style>\n",
       "<table border=\"1\" class=\"dataframe\">\n",
       "  <thead>\n",
       "    <tr style=\"text-align: right;\">\n",
       "      <th></th>\n",
       "    </tr>\n",
       "  </thead>\n",
       "  <tbody>\n",
       "  </tbody>\n",
       "</table>\n",
       "</div>"
      ],
      "text/plain": [
       "Empty DataFrame\n",
       "Columns: []\n",
       "Index: []"
      ]
     },
     "metadata": {},
     "output_type": "display_data"
    },
    {
     "name": "stdout",
     "output_type": "stream",
     "text": [
      "21400 is empty\n"
     ]
    },
    {
     "data": {
      "text/html": [
       "<div>\n",
       "<style scoped>\n",
       "    .dataframe tbody tr th:only-of-type {\n",
       "        vertical-align: middle;\n",
       "    }\n",
       "\n",
       "    .dataframe tbody tr th {\n",
       "        vertical-align: top;\n",
       "    }\n",
       "\n",
       "    .dataframe thead th {\n",
       "        text-align: right;\n",
       "    }\n",
       "</style>\n",
       "<table border=\"1\" class=\"dataframe\">\n",
       "  <thead>\n",
       "    <tr style=\"text-align: right;\">\n",
       "      <th></th>\n",
       "    </tr>\n",
       "  </thead>\n",
       "  <tbody>\n",
       "  </tbody>\n",
       "</table>\n",
       "</div>"
      ],
      "text/plain": [
       "Empty DataFrame\n",
       "Columns: []\n",
       "Index: []"
      ]
     },
     "metadata": {},
     "output_type": "display_data"
    },
    {
     "name": "stdout",
     "output_type": "stream",
     "text": [
      "21500 is empty\n"
     ]
    },
    {
     "data": {
      "text/html": [
       "<div>\n",
       "<style scoped>\n",
       "    .dataframe tbody tr th:only-of-type {\n",
       "        vertical-align: middle;\n",
       "    }\n",
       "\n",
       "    .dataframe tbody tr th {\n",
       "        vertical-align: top;\n",
       "    }\n",
       "\n",
       "    .dataframe thead th {\n",
       "        text-align: right;\n",
       "    }\n",
       "</style>\n",
       "<table border=\"1\" class=\"dataframe\">\n",
       "  <thead>\n",
       "    <tr style=\"text-align: right;\">\n",
       "      <th></th>\n",
       "    </tr>\n",
       "  </thead>\n",
       "  <tbody>\n",
       "  </tbody>\n",
       "</table>\n",
       "</div>"
      ],
      "text/plain": [
       "Empty DataFrame\n",
       "Columns: []\n",
       "Index: []"
      ]
     },
     "metadata": {},
     "output_type": "display_data"
    },
    {
     "name": "stdout",
     "output_type": "stream",
     "text": [
      "21600 is empty\n"
     ]
    },
    {
     "data": {
      "text/html": [
       "<div>\n",
       "<style scoped>\n",
       "    .dataframe tbody tr th:only-of-type {\n",
       "        vertical-align: middle;\n",
       "    }\n",
       "\n",
       "    .dataframe tbody tr th {\n",
       "        vertical-align: top;\n",
       "    }\n",
       "\n",
       "    .dataframe thead th {\n",
       "        text-align: right;\n",
       "    }\n",
       "</style>\n",
       "<table border=\"1\" class=\"dataframe\">\n",
       "  <thead>\n",
       "    <tr style=\"text-align: right;\">\n",
       "      <th></th>\n",
       "    </tr>\n",
       "  </thead>\n",
       "  <tbody>\n",
       "  </tbody>\n",
       "</table>\n",
       "</div>"
      ],
      "text/plain": [
       "Empty DataFrame\n",
       "Columns: []\n",
       "Index: []"
      ]
     },
     "metadata": {},
     "output_type": "display_data"
    },
    {
     "name": "stdout",
     "output_type": "stream",
     "text": [
      "21700 is empty\n"
     ]
    },
    {
     "data": {
      "text/html": [
       "<div>\n",
       "<style scoped>\n",
       "    .dataframe tbody tr th:only-of-type {\n",
       "        vertical-align: middle;\n",
       "    }\n",
       "\n",
       "    .dataframe tbody tr th {\n",
       "        vertical-align: top;\n",
       "    }\n",
       "\n",
       "    .dataframe thead th {\n",
       "        text-align: right;\n",
       "    }\n",
       "</style>\n",
       "<table border=\"1\" class=\"dataframe\">\n",
       "  <thead>\n",
       "    <tr style=\"text-align: right;\">\n",
       "      <th></th>\n",
       "    </tr>\n",
       "  </thead>\n",
       "  <tbody>\n",
       "  </tbody>\n",
       "</table>\n",
       "</div>"
      ],
      "text/plain": [
       "Empty DataFrame\n",
       "Columns: []\n",
       "Index: []"
      ]
     },
     "metadata": {},
     "output_type": "display_data"
    },
    {
     "name": "stdout",
     "output_type": "stream",
     "text": [
      "21800 is empty\n"
     ]
    },
    {
     "data": {
      "text/html": [
       "<div>\n",
       "<style scoped>\n",
       "    .dataframe tbody tr th:only-of-type {\n",
       "        vertical-align: middle;\n",
       "    }\n",
       "\n",
       "    .dataframe tbody tr th {\n",
       "        vertical-align: top;\n",
       "    }\n",
       "\n",
       "    .dataframe thead th {\n",
       "        text-align: right;\n",
       "    }\n",
       "</style>\n",
       "<table border=\"1\" class=\"dataframe\">\n",
       "  <thead>\n",
       "    <tr style=\"text-align: right;\">\n",
       "      <th></th>\n",
       "    </tr>\n",
       "  </thead>\n",
       "  <tbody>\n",
       "  </tbody>\n",
       "</table>\n",
       "</div>"
      ],
      "text/plain": [
       "Empty DataFrame\n",
       "Columns: []\n",
       "Index: []"
      ]
     },
     "metadata": {},
     "output_type": "display_data"
    },
    {
     "name": "stdout",
     "output_type": "stream",
     "text": [
      "21900 is empty\n"
     ]
    },
    {
     "data": {
      "text/html": [
       "<div>\n",
       "<style scoped>\n",
       "    .dataframe tbody tr th:only-of-type {\n",
       "        vertical-align: middle;\n",
       "    }\n",
       "\n",
       "    .dataframe tbody tr th {\n",
       "        vertical-align: top;\n",
       "    }\n",
       "\n",
       "    .dataframe thead th {\n",
       "        text-align: right;\n",
       "    }\n",
       "</style>\n",
       "<table border=\"1\" class=\"dataframe\">\n",
       "  <thead>\n",
       "    <tr style=\"text-align: right;\">\n",
       "      <th></th>\n",
       "    </tr>\n",
       "  </thead>\n",
       "  <tbody>\n",
       "  </tbody>\n",
       "</table>\n",
       "</div>"
      ],
      "text/plain": [
       "Empty DataFrame\n",
       "Columns: []\n",
       "Index: []"
      ]
     },
     "metadata": {},
     "output_type": "display_data"
    },
    {
     "name": "stdout",
     "output_type": "stream",
     "text": [
      "22000 is empty\n"
     ]
    },
    {
     "data": {
      "text/html": [
       "<div>\n",
       "<style scoped>\n",
       "    .dataframe tbody tr th:only-of-type {\n",
       "        vertical-align: middle;\n",
       "    }\n",
       "\n",
       "    .dataframe tbody tr th {\n",
       "        vertical-align: top;\n",
       "    }\n",
       "\n",
       "    .dataframe thead th {\n",
       "        text-align: right;\n",
       "    }\n",
       "</style>\n",
       "<table border=\"1\" class=\"dataframe\">\n",
       "  <thead>\n",
       "    <tr style=\"text-align: right;\">\n",
       "      <th></th>\n",
       "    </tr>\n",
       "  </thead>\n",
       "  <tbody>\n",
       "  </tbody>\n",
       "</table>\n",
       "</div>"
      ],
      "text/plain": [
       "Empty DataFrame\n",
       "Columns: []\n",
       "Index: []"
      ]
     },
     "metadata": {},
     "output_type": "display_data"
    },
    {
     "name": "stdout",
     "output_type": "stream",
     "text": [
      "22100 is empty\n"
     ]
    },
    {
     "data": {
      "text/html": [
       "<div>\n",
       "<style scoped>\n",
       "    .dataframe tbody tr th:only-of-type {\n",
       "        vertical-align: middle;\n",
       "    }\n",
       "\n",
       "    .dataframe tbody tr th {\n",
       "        vertical-align: top;\n",
       "    }\n",
       "\n",
       "    .dataframe thead th {\n",
       "        text-align: right;\n",
       "    }\n",
       "</style>\n",
       "<table border=\"1\" class=\"dataframe\">\n",
       "  <thead>\n",
       "    <tr style=\"text-align: right;\">\n",
       "      <th></th>\n",
       "    </tr>\n",
       "  </thead>\n",
       "  <tbody>\n",
       "  </tbody>\n",
       "</table>\n",
       "</div>"
      ],
      "text/plain": [
       "Empty DataFrame\n",
       "Columns: []\n",
       "Index: []"
      ]
     },
     "metadata": {},
     "output_type": "display_data"
    },
    {
     "name": "stdout",
     "output_type": "stream",
     "text": [
      "22200 is empty\n"
     ]
    },
    {
     "data": {
      "text/html": [
       "<div>\n",
       "<style scoped>\n",
       "    .dataframe tbody tr th:only-of-type {\n",
       "        vertical-align: middle;\n",
       "    }\n",
       "\n",
       "    .dataframe tbody tr th {\n",
       "        vertical-align: top;\n",
       "    }\n",
       "\n",
       "    .dataframe thead th {\n",
       "        text-align: right;\n",
       "    }\n",
       "</style>\n",
       "<table border=\"1\" class=\"dataframe\">\n",
       "  <thead>\n",
       "    <tr style=\"text-align: right;\">\n",
       "      <th></th>\n",
       "    </tr>\n",
       "  </thead>\n",
       "  <tbody>\n",
       "  </tbody>\n",
       "</table>\n",
       "</div>"
      ],
      "text/plain": [
       "Empty DataFrame\n",
       "Columns: []\n",
       "Index: []"
      ]
     },
     "metadata": {},
     "output_type": "display_data"
    },
    {
     "name": "stdout",
     "output_type": "stream",
     "text": [
      "22300 is empty\n"
     ]
    },
    {
     "data": {
      "text/html": [
       "<div>\n",
       "<style scoped>\n",
       "    .dataframe tbody tr th:only-of-type {\n",
       "        vertical-align: middle;\n",
       "    }\n",
       "\n",
       "    .dataframe tbody tr th {\n",
       "        vertical-align: top;\n",
       "    }\n",
       "\n",
       "    .dataframe thead th {\n",
       "        text-align: right;\n",
       "    }\n",
       "</style>\n",
       "<table border=\"1\" class=\"dataframe\">\n",
       "  <thead>\n",
       "    <tr style=\"text-align: right;\">\n",
       "      <th></th>\n",
       "    </tr>\n",
       "  </thead>\n",
       "  <tbody>\n",
       "  </tbody>\n",
       "</table>\n",
       "</div>"
      ],
      "text/plain": [
       "Empty DataFrame\n",
       "Columns: []\n",
       "Index: []"
      ]
     },
     "metadata": {},
     "output_type": "display_data"
    },
    {
     "name": "stdout",
     "output_type": "stream",
     "text": [
      "22400 is empty\n"
     ]
    },
    {
     "data": {
      "text/html": [
       "<div>\n",
       "<style scoped>\n",
       "    .dataframe tbody tr th:only-of-type {\n",
       "        vertical-align: middle;\n",
       "    }\n",
       "\n",
       "    .dataframe tbody tr th {\n",
       "        vertical-align: top;\n",
       "    }\n",
       "\n",
       "    .dataframe thead th {\n",
       "        text-align: right;\n",
       "    }\n",
       "</style>\n",
       "<table border=\"1\" class=\"dataframe\">\n",
       "  <thead>\n",
       "    <tr style=\"text-align: right;\">\n",
       "      <th></th>\n",
       "    </tr>\n",
       "  </thead>\n",
       "  <tbody>\n",
       "  </tbody>\n",
       "</table>\n",
       "</div>"
      ],
      "text/plain": [
       "Empty DataFrame\n",
       "Columns: []\n",
       "Index: []"
      ]
     },
     "metadata": {},
     "output_type": "display_data"
    },
    {
     "name": "stdout",
     "output_type": "stream",
     "text": [
      "22500 is empty\n"
     ]
    },
    {
     "data": {
      "text/html": [
       "<div>\n",
       "<style scoped>\n",
       "    .dataframe tbody tr th:only-of-type {\n",
       "        vertical-align: middle;\n",
       "    }\n",
       "\n",
       "    .dataframe tbody tr th {\n",
       "        vertical-align: top;\n",
       "    }\n",
       "\n",
       "    .dataframe thead th {\n",
       "        text-align: right;\n",
       "    }\n",
       "</style>\n",
       "<table border=\"1\" class=\"dataframe\">\n",
       "  <thead>\n",
       "    <tr style=\"text-align: right;\">\n",
       "      <th></th>\n",
       "    </tr>\n",
       "  </thead>\n",
       "  <tbody>\n",
       "  </tbody>\n",
       "</table>\n",
       "</div>"
      ],
      "text/plain": [
       "Empty DataFrame\n",
       "Columns: []\n",
       "Index: []"
      ]
     },
     "metadata": {},
     "output_type": "display_data"
    },
    {
     "name": "stdout",
     "output_type": "stream",
     "text": [
      "22600 is empty\n"
     ]
    },
    {
     "data": {
      "text/html": [
       "<div>\n",
       "<style scoped>\n",
       "    .dataframe tbody tr th:only-of-type {\n",
       "        vertical-align: middle;\n",
       "    }\n",
       "\n",
       "    .dataframe tbody tr th {\n",
       "        vertical-align: top;\n",
       "    }\n",
       "\n",
       "    .dataframe thead th {\n",
       "        text-align: right;\n",
       "    }\n",
       "</style>\n",
       "<table border=\"1\" class=\"dataframe\">\n",
       "  <thead>\n",
       "    <tr style=\"text-align: right;\">\n",
       "      <th></th>\n",
       "    </tr>\n",
       "  </thead>\n",
       "  <tbody>\n",
       "  </tbody>\n",
       "</table>\n",
       "</div>"
      ],
      "text/plain": [
       "Empty DataFrame\n",
       "Columns: []\n",
       "Index: []"
      ]
     },
     "metadata": {},
     "output_type": "display_data"
    },
    {
     "name": "stdout",
     "output_type": "stream",
     "text": [
      "22700 is empty\n"
     ]
    },
    {
     "data": {
      "text/html": [
       "<div>\n",
       "<style scoped>\n",
       "    .dataframe tbody tr th:only-of-type {\n",
       "        vertical-align: middle;\n",
       "    }\n",
       "\n",
       "    .dataframe tbody tr th {\n",
       "        vertical-align: top;\n",
       "    }\n",
       "\n",
       "    .dataframe thead th {\n",
       "        text-align: right;\n",
       "    }\n",
       "</style>\n",
       "<table border=\"1\" class=\"dataframe\">\n",
       "  <thead>\n",
       "    <tr style=\"text-align: right;\">\n",
       "      <th></th>\n",
       "    </tr>\n",
       "  </thead>\n",
       "  <tbody>\n",
       "  </tbody>\n",
       "</table>\n",
       "</div>"
      ],
      "text/plain": [
       "Empty DataFrame\n",
       "Columns: []\n",
       "Index: []"
      ]
     },
     "metadata": {},
     "output_type": "display_data"
    },
    {
     "name": "stdout",
     "output_type": "stream",
     "text": [
      "22800 is empty\n"
     ]
    },
    {
     "data": {
      "text/html": [
       "<div>\n",
       "<style scoped>\n",
       "    .dataframe tbody tr th:only-of-type {\n",
       "        vertical-align: middle;\n",
       "    }\n",
       "\n",
       "    .dataframe tbody tr th {\n",
       "        vertical-align: top;\n",
       "    }\n",
       "\n",
       "    .dataframe thead th {\n",
       "        text-align: right;\n",
       "    }\n",
       "</style>\n",
       "<table border=\"1\" class=\"dataframe\">\n",
       "  <thead>\n",
       "    <tr style=\"text-align: right;\">\n",
       "      <th></th>\n",
       "    </tr>\n",
       "  </thead>\n",
       "  <tbody>\n",
       "  </tbody>\n",
       "</table>\n",
       "</div>"
      ],
      "text/plain": [
       "Empty DataFrame\n",
       "Columns: []\n",
       "Index: []"
      ]
     },
     "metadata": {},
     "output_type": "display_data"
    },
    {
     "name": "stdout",
     "output_type": "stream",
     "text": [
      "22900 is empty\n"
     ]
    },
    {
     "data": {
      "text/html": [
       "<div>\n",
       "<style scoped>\n",
       "    .dataframe tbody tr th:only-of-type {\n",
       "        vertical-align: middle;\n",
       "    }\n",
       "\n",
       "    .dataframe tbody tr th {\n",
       "        vertical-align: top;\n",
       "    }\n",
       "\n",
       "    .dataframe thead th {\n",
       "        text-align: right;\n",
       "    }\n",
       "</style>\n",
       "<table border=\"1\" class=\"dataframe\">\n",
       "  <thead>\n",
       "    <tr style=\"text-align: right;\">\n",
       "      <th></th>\n",
       "    </tr>\n",
       "  </thead>\n",
       "  <tbody>\n",
       "  </tbody>\n",
       "</table>\n",
       "</div>"
      ],
      "text/plain": [
       "Empty DataFrame\n",
       "Columns: []\n",
       "Index: []"
      ]
     },
     "metadata": {},
     "output_type": "display_data"
    },
    {
     "name": "stdout",
     "output_type": "stream",
     "text": [
      "23000 is empty\n"
     ]
    },
    {
     "data": {
      "text/html": [
       "<div>\n",
       "<style scoped>\n",
       "    .dataframe tbody tr th:only-of-type {\n",
       "        vertical-align: middle;\n",
       "    }\n",
       "\n",
       "    .dataframe tbody tr th {\n",
       "        vertical-align: top;\n",
       "    }\n",
       "\n",
       "    .dataframe thead th {\n",
       "        text-align: right;\n",
       "    }\n",
       "</style>\n",
       "<table border=\"1\" class=\"dataframe\">\n",
       "  <thead>\n",
       "    <tr style=\"text-align: right;\">\n",
       "      <th></th>\n",
       "    </tr>\n",
       "  </thead>\n",
       "  <tbody>\n",
       "  </tbody>\n",
       "</table>\n",
       "</div>"
      ],
      "text/plain": [
       "Empty DataFrame\n",
       "Columns: []\n",
       "Index: []"
      ]
     },
     "metadata": {},
     "output_type": "display_data"
    },
    {
     "name": "stdout",
     "output_type": "stream",
     "text": [
      "23100 is empty\n"
     ]
    },
    {
     "data": {
      "text/html": [
       "<div>\n",
       "<style scoped>\n",
       "    .dataframe tbody tr th:only-of-type {\n",
       "        vertical-align: middle;\n",
       "    }\n",
       "\n",
       "    .dataframe tbody tr th {\n",
       "        vertical-align: top;\n",
       "    }\n",
       "\n",
       "    .dataframe thead th {\n",
       "        text-align: right;\n",
       "    }\n",
       "</style>\n",
       "<table border=\"1\" class=\"dataframe\">\n",
       "  <thead>\n",
       "    <tr style=\"text-align: right;\">\n",
       "      <th></th>\n",
       "    </tr>\n",
       "  </thead>\n",
       "  <tbody>\n",
       "  </tbody>\n",
       "</table>\n",
       "</div>"
      ],
      "text/plain": [
       "Empty DataFrame\n",
       "Columns: []\n",
       "Index: []"
      ]
     },
     "metadata": {},
     "output_type": "display_data"
    },
    {
     "name": "stdout",
     "output_type": "stream",
     "text": [
      "23200 is empty\n"
     ]
    },
    {
     "data": {
      "text/html": [
       "<div>\n",
       "<style scoped>\n",
       "    .dataframe tbody tr th:only-of-type {\n",
       "        vertical-align: middle;\n",
       "    }\n",
       "\n",
       "    .dataframe tbody tr th {\n",
       "        vertical-align: top;\n",
       "    }\n",
       "\n",
       "    .dataframe thead th {\n",
       "        text-align: right;\n",
       "    }\n",
       "</style>\n",
       "<table border=\"1\" class=\"dataframe\">\n",
       "  <thead>\n",
       "    <tr style=\"text-align: right;\">\n",
       "      <th></th>\n",
       "    </tr>\n",
       "  </thead>\n",
       "  <tbody>\n",
       "  </tbody>\n",
       "</table>\n",
       "</div>"
      ],
      "text/plain": [
       "Empty DataFrame\n",
       "Columns: []\n",
       "Index: []"
      ]
     },
     "metadata": {},
     "output_type": "display_data"
    },
    {
     "name": "stdout",
     "output_type": "stream",
     "text": [
      "23300 is empty\n"
     ]
    },
    {
     "data": {
      "text/html": [
       "<div>\n",
       "<style scoped>\n",
       "    .dataframe tbody tr th:only-of-type {\n",
       "        vertical-align: middle;\n",
       "    }\n",
       "\n",
       "    .dataframe tbody tr th {\n",
       "        vertical-align: top;\n",
       "    }\n",
       "\n",
       "    .dataframe thead th {\n",
       "        text-align: right;\n",
       "    }\n",
       "</style>\n",
       "<table border=\"1\" class=\"dataframe\">\n",
       "  <thead>\n",
       "    <tr style=\"text-align: right;\">\n",
       "      <th></th>\n",
       "    </tr>\n",
       "  </thead>\n",
       "  <tbody>\n",
       "  </tbody>\n",
       "</table>\n",
       "</div>"
      ],
      "text/plain": [
       "Empty DataFrame\n",
       "Columns: []\n",
       "Index: []"
      ]
     },
     "metadata": {},
     "output_type": "display_data"
    },
    {
     "name": "stdout",
     "output_type": "stream",
     "text": [
      "23400 is empty\n"
     ]
    },
    {
     "data": {
      "text/html": [
       "<div>\n",
       "<style scoped>\n",
       "    .dataframe tbody tr th:only-of-type {\n",
       "        vertical-align: middle;\n",
       "    }\n",
       "\n",
       "    .dataframe tbody tr th {\n",
       "        vertical-align: top;\n",
       "    }\n",
       "\n",
       "    .dataframe thead th {\n",
       "        text-align: right;\n",
       "    }\n",
       "</style>\n",
       "<table border=\"1\" class=\"dataframe\">\n",
       "  <thead>\n",
       "    <tr style=\"text-align: right;\">\n",
       "      <th></th>\n",
       "    </tr>\n",
       "  </thead>\n",
       "  <tbody>\n",
       "  </tbody>\n",
       "</table>\n",
       "</div>"
      ],
      "text/plain": [
       "Empty DataFrame\n",
       "Columns: []\n",
       "Index: []"
      ]
     },
     "metadata": {},
     "output_type": "display_data"
    },
    {
     "name": "stdout",
     "output_type": "stream",
     "text": [
      "23500 is empty\n"
     ]
    },
    {
     "data": {
      "text/html": [
       "<div>\n",
       "<style scoped>\n",
       "    .dataframe tbody tr th:only-of-type {\n",
       "        vertical-align: middle;\n",
       "    }\n",
       "\n",
       "    .dataframe tbody tr th {\n",
       "        vertical-align: top;\n",
       "    }\n",
       "\n",
       "    .dataframe thead th {\n",
       "        text-align: right;\n",
       "    }\n",
       "</style>\n",
       "<table border=\"1\" class=\"dataframe\">\n",
       "  <thead>\n",
       "    <tr style=\"text-align: right;\">\n",
       "      <th></th>\n",
       "    </tr>\n",
       "  </thead>\n",
       "  <tbody>\n",
       "  </tbody>\n",
       "</table>\n",
       "</div>"
      ],
      "text/plain": [
       "Empty DataFrame\n",
       "Columns: []\n",
       "Index: []"
      ]
     },
     "metadata": {},
     "output_type": "display_data"
    },
    {
     "name": "stdout",
     "output_type": "stream",
     "text": [
      "23600 is empty\n"
     ]
    },
    {
     "data": {
      "text/html": [
       "<div>\n",
       "<style scoped>\n",
       "    .dataframe tbody tr th:only-of-type {\n",
       "        vertical-align: middle;\n",
       "    }\n",
       "\n",
       "    .dataframe tbody tr th {\n",
       "        vertical-align: top;\n",
       "    }\n",
       "\n",
       "    .dataframe thead th {\n",
       "        text-align: right;\n",
       "    }\n",
       "</style>\n",
       "<table border=\"1\" class=\"dataframe\">\n",
       "  <thead>\n",
       "    <tr style=\"text-align: right;\">\n",
       "      <th></th>\n",
       "    </tr>\n",
       "  </thead>\n",
       "  <tbody>\n",
       "  </tbody>\n",
       "</table>\n",
       "</div>"
      ],
      "text/plain": [
       "Empty DataFrame\n",
       "Columns: []\n",
       "Index: []"
      ]
     },
     "metadata": {},
     "output_type": "display_data"
    },
    {
     "name": "stdout",
     "output_type": "stream",
     "text": [
      "23700 is empty\n"
     ]
    },
    {
     "data": {
      "text/html": [
       "<div>\n",
       "<style scoped>\n",
       "    .dataframe tbody tr th:only-of-type {\n",
       "        vertical-align: middle;\n",
       "    }\n",
       "\n",
       "    .dataframe tbody tr th {\n",
       "        vertical-align: top;\n",
       "    }\n",
       "\n",
       "    .dataframe thead th {\n",
       "        text-align: right;\n",
       "    }\n",
       "</style>\n",
       "<table border=\"1\" class=\"dataframe\">\n",
       "  <thead>\n",
       "    <tr style=\"text-align: right;\">\n",
       "      <th></th>\n",
       "    </tr>\n",
       "  </thead>\n",
       "  <tbody>\n",
       "  </tbody>\n",
       "</table>\n",
       "</div>"
      ],
      "text/plain": [
       "Empty DataFrame\n",
       "Columns: []\n",
       "Index: []"
      ]
     },
     "metadata": {},
     "output_type": "display_data"
    },
    {
     "name": "stdout",
     "output_type": "stream",
     "text": [
      "23800 is empty\n"
     ]
    },
    {
     "data": {
      "text/html": [
       "<div>\n",
       "<style scoped>\n",
       "    .dataframe tbody tr th:only-of-type {\n",
       "        vertical-align: middle;\n",
       "    }\n",
       "\n",
       "    .dataframe tbody tr th {\n",
       "        vertical-align: top;\n",
       "    }\n",
       "\n",
       "    .dataframe thead th {\n",
       "        text-align: right;\n",
       "    }\n",
       "</style>\n",
       "<table border=\"1\" class=\"dataframe\">\n",
       "  <thead>\n",
       "    <tr style=\"text-align: right;\">\n",
       "      <th></th>\n",
       "    </tr>\n",
       "  </thead>\n",
       "  <tbody>\n",
       "  </tbody>\n",
       "</table>\n",
       "</div>"
      ],
      "text/plain": [
       "Empty DataFrame\n",
       "Columns: []\n",
       "Index: []"
      ]
     },
     "metadata": {},
     "output_type": "display_data"
    },
    {
     "name": "stdout",
     "output_type": "stream",
     "text": [
      "23900 is empty\n"
     ]
    },
    {
     "data": {
      "text/html": [
       "<div>\n",
       "<style scoped>\n",
       "    .dataframe tbody tr th:only-of-type {\n",
       "        vertical-align: middle;\n",
       "    }\n",
       "\n",
       "    .dataframe tbody tr th {\n",
       "        vertical-align: top;\n",
       "    }\n",
       "\n",
       "    .dataframe thead th {\n",
       "        text-align: right;\n",
       "    }\n",
       "</style>\n",
       "<table border=\"1\" class=\"dataframe\">\n",
       "  <thead>\n",
       "    <tr style=\"text-align: right;\">\n",
       "      <th></th>\n",
       "    </tr>\n",
       "  </thead>\n",
       "  <tbody>\n",
       "  </tbody>\n",
       "</table>\n",
       "</div>"
      ],
      "text/plain": [
       "Empty DataFrame\n",
       "Columns: []\n",
       "Index: []"
      ]
     },
     "metadata": {},
     "output_type": "display_data"
    }
   ],
   "source": [
    "def concat_and_filter(df1, df2):\n",
    "    no_embs_subset = df2#.iloc[:, 256:]\n",
    "    try:\n",
    "        no_embs_subset = no_embs_subset[no_embs_subset['n'] >= 250]\n",
    "    except KeyError:\n",
    "        print(f'{i} is empty')\n",
    "        display(no_embs_subset)\n",
    "    # Concatenate only the non-duplicate rows\n",
    "    result = pd.concat([df1, no_embs_subset], axis=0, ignore_index=True)\n",
    "    \n",
    "    return result\n",
    "\n",
    "df = pd.read_csv(f'/mnt/scratchc/ghlab/toby/in_silico_perturb_data/avg_embs_vs_cnot1/dev_model/unbiased_screen_0_100.csv',index_col=0)\n",
    "full_df = pd.DataFrame()\n",
    "for i in range(0,24000,100):\n",
    "    try:\n",
    "        df = pd.read_csv(f'/mnt/scratchc/ghlab/toby/in_silico_perturb_data/avg_embs_vs_cnot1/dev_model/unbiased_screen_{i}_{i+100}.csv',index_col=0)\n",
    "    except:\n",
    "        print(i)\n",
    "        pass\n",
    "    full_df = concat_and_filter(full_df, df)\n",
    "\n",
    "dev_df_embs = full_df"
   ]
  },
  {
   "cell_type": "code",
   "execution_count": 52,
   "id": "41e94a4e-637f-4f42-9514-7dcc194694cb",
   "metadata": {},
   "outputs": [
    {
     "data": {
      "text/html": [
       "<div>\n",
       "<style scoped>\n",
       "    .dataframe tbody tr th:only-of-type {\n",
       "        vertical-align: middle;\n",
       "    }\n",
       "\n",
       "    .dataframe tbody tr th {\n",
       "        vertical-align: top;\n",
       "    }\n",
       "\n",
       "    .dataframe thead th {\n",
       "        text-align: right;\n",
       "    }\n",
       "</style>\n",
       "<table border=\"1\" class=\"dataframe\">\n",
       "  <thead>\n",
       "    <tr style=\"text-align: right;\">\n",
       "      <th></th>\n",
       "      <th>0</th>\n",
       "      <th>1</th>\n",
       "      <th>2</th>\n",
       "      <th>3</th>\n",
       "      <th>4</th>\n",
       "      <th>5</th>\n",
       "      <th>6</th>\n",
       "      <th>7</th>\n",
       "      <th>8</th>\n",
       "      <th>9</th>\n",
       "      <th>...</th>\n",
       "      <th>253</th>\n",
       "      <th>254</th>\n",
       "      <th>255</th>\n",
       "      <th>gene</th>\n",
       "      <th>euclidean_distance</th>\n",
       "      <th>n</th>\n",
       "      <th>ccr4-not_dist</th>\n",
       "      <th>mean_dev_dist</th>\n",
       "      <th>cos_sim_cnot1</th>\n",
       "      <th>cos_sim_dev_avg</th>\n",
       "    </tr>\n",
       "  </thead>\n",
       "  <tbody>\n",
       "    <tr>\n",
       "      <th>5205</th>\n",
       "      <td>-0.454256</td>\n",
       "      <td>0.487519</td>\n",
       "      <td>0.941945</td>\n",
       "      <td>-0.408189</td>\n",
       "      <td>-0.354280</td>\n",
       "      <td>-0.134089</td>\n",
       "      <td>-0.745619</td>\n",
       "      <td>-0.172568</td>\n",
       "      <td>-0.627996</td>\n",
       "      <td>-0.155029</td>\n",
       "      <td>...</td>\n",
       "      <td>0.194620</td>\n",
       "      <td>-1.070842</td>\n",
       "      <td>1.229497</td>\n",
       "      <td>ENSG00000125107</td>\n",
       "      <td>0.000005</td>\n",
       "      <td>1000</td>\n",
       "      <td>11.356866</td>\n",
       "      <td>0.061390</td>\n",
       "      <td>1.000000</td>\n",
       "      <td>0.999986</td>\n",
       "    </tr>\n",
       "    <tr>\n",
       "      <th>555</th>\n",
       "      <td>-0.454741</td>\n",
       "      <td>0.489649</td>\n",
       "      <td>0.939949</td>\n",
       "      <td>-0.407636</td>\n",
       "      <td>-0.352847</td>\n",
       "      <td>-0.132866</td>\n",
       "      <td>-0.744559</td>\n",
       "      <td>-0.173877</td>\n",
       "      <td>-0.627341</td>\n",
       "      <td>-0.156645</td>\n",
       "      <td>...</td>\n",
       "      <td>0.190368</td>\n",
       "      <td>-1.067195</td>\n",
       "      <td>1.228519</td>\n",
       "      <td>ENSG00000039123</td>\n",
       "      <td>0.032219</td>\n",
       "      <td>1000</td>\n",
       "      <td>11.349645</td>\n",
       "      <td>0.061599</td>\n",
       "      <td>0.999996</td>\n",
       "      <td>0.999988</td>\n",
       "    </tr>\n",
       "    <tr>\n",
       "      <th>617</th>\n",
       "      <td>-0.455247</td>\n",
       "      <td>0.490527</td>\n",
       "      <td>0.942618</td>\n",
       "      <td>-0.409414</td>\n",
       "      <td>-0.356032</td>\n",
       "      <td>-0.132638</td>\n",
       "      <td>-0.739603</td>\n",
       "      <td>-0.172736</td>\n",
       "      <td>-0.625116</td>\n",
       "      <td>-0.153795</td>\n",
       "      <td>...</td>\n",
       "      <td>0.187728</td>\n",
       "      <td>-1.067443</td>\n",
       "      <td>1.226760</td>\n",
       "      <td>ENSG00000047315</td>\n",
       "      <td>0.033178</td>\n",
       "      <td>1000</td>\n",
       "      <td>11.351249</td>\n",
       "      <td>0.062087</td>\n",
       "      <td>0.999996</td>\n",
       "      <td>0.999987</td>\n",
       "    </tr>\n",
       "    <tr>\n",
       "      <th>4668</th>\n",
       "      <td>-0.456317</td>\n",
       "      <td>0.491406</td>\n",
       "      <td>0.941919</td>\n",
       "      <td>-0.408896</td>\n",
       "      <td>-0.352771</td>\n",
       "      <td>-0.131887</td>\n",
       "      <td>-0.746754</td>\n",
       "      <td>-0.174107</td>\n",
       "      <td>-0.627876</td>\n",
       "      <td>-0.156798</td>\n",
       "      <td>...</td>\n",
       "      <td>0.188174</td>\n",
       "      <td>-1.069668</td>\n",
       "      <td>1.230197</td>\n",
       "      <td>ENSG00000119906</td>\n",
       "      <td>0.033549</td>\n",
       "      <td>1000</td>\n",
       "      <td>11.357689</td>\n",
       "      <td>0.050522</td>\n",
       "      <td>0.999996</td>\n",
       "      <td>0.999991</td>\n",
       "    </tr>\n",
       "    <tr>\n",
       "      <th>2900</th>\n",
       "      <td>-0.455584</td>\n",
       "      <td>0.488921</td>\n",
       "      <td>0.940500</td>\n",
       "      <td>-0.407224</td>\n",
       "      <td>-0.352927</td>\n",
       "      <td>-0.131793</td>\n",
       "      <td>-0.743155</td>\n",
       "      <td>-0.174202</td>\n",
       "      <td>-0.627937</td>\n",
       "      <td>-0.154324</td>\n",
       "      <td>...</td>\n",
       "      <td>0.188226</td>\n",
       "      <td>-1.069126</td>\n",
       "      <td>1.228351</td>\n",
       "      <td>ENSG00000104365</td>\n",
       "      <td>0.033682</td>\n",
       "      <td>1000</td>\n",
       "      <td>11.362050</td>\n",
       "      <td>0.046190</td>\n",
       "      <td>0.999995</td>\n",
       "      <td>0.999993</td>\n",
       "    </tr>\n",
       "    <tr>\n",
       "      <th>4753</th>\n",
       "      <td>-0.455769</td>\n",
       "      <td>0.490967</td>\n",
       "      <td>0.940361</td>\n",
       "      <td>-0.409907</td>\n",
       "      <td>-0.353092</td>\n",
       "      <td>-0.130595</td>\n",
       "      <td>-0.744685</td>\n",
       "      <td>-0.173199</td>\n",
       "      <td>-0.627839</td>\n",
       "      <td>-0.155202</td>\n",
       "      <td>...</td>\n",
       "      <td>0.190325</td>\n",
       "      <td>-1.070293</td>\n",
       "      <td>1.229590</td>\n",
       "      <td>ENSG00000120662</td>\n",
       "      <td>0.034247</td>\n",
       "      <td>1000</td>\n",
       "      <td>11.362265</td>\n",
       "      <td>0.047107</td>\n",
       "      <td>0.999995</td>\n",
       "      <td>0.999992</td>\n",
       "    </tr>\n",
       "    <tr>\n",
       "      <th>8272</th>\n",
       "      <td>-0.455396</td>\n",
       "      <td>0.487483</td>\n",
       "      <td>0.941970</td>\n",
       "      <td>-0.407552</td>\n",
       "      <td>-0.355768</td>\n",
       "      <td>-0.135180</td>\n",
       "      <td>-0.744507</td>\n",
       "      <td>-0.175169</td>\n",
       "      <td>-0.628591</td>\n",
       "      <td>-0.153596</td>\n",
       "      <td>...</td>\n",
       "      <td>0.191611</td>\n",
       "      <td>-1.066929</td>\n",
       "      <td>1.229766</td>\n",
       "      <td>ENSG00000149532</td>\n",
       "      <td>0.034288</td>\n",
       "      <td>1000</td>\n",
       "      <td>11.358490</td>\n",
       "      <td>0.060036</td>\n",
       "      <td>0.999995</td>\n",
       "      <td>0.999987</td>\n",
       "    </tr>\n",
       "    <tr>\n",
       "      <th>5991</th>\n",
       "      <td>-0.454955</td>\n",
       "      <td>0.491030</td>\n",
       "      <td>0.939992</td>\n",
       "      <td>-0.406019</td>\n",
       "      <td>-0.356204</td>\n",
       "      <td>-0.131685</td>\n",
       "      <td>-0.745368</td>\n",
       "      <td>-0.174753</td>\n",
       "      <td>-0.628138</td>\n",
       "      <td>-0.152876</td>\n",
       "      <td>...</td>\n",
       "      <td>0.191812</td>\n",
       "      <td>-1.068460</td>\n",
       "      <td>1.229612</td>\n",
       "      <td>ENSG00000132275</td>\n",
       "      <td>0.034451</td>\n",
       "      <td>1000</td>\n",
       "      <td>11.357520</td>\n",
       "      <td>0.059804</td>\n",
       "      <td>0.999995</td>\n",
       "      <td>0.999987</td>\n",
       "    </tr>\n",
       "    <tr>\n",
       "      <th>7554</th>\n",
       "      <td>-0.453306</td>\n",
       "      <td>0.488986</td>\n",
       "      <td>0.941684</td>\n",
       "      <td>-0.408948</td>\n",
       "      <td>-0.356124</td>\n",
       "      <td>-0.135677</td>\n",
       "      <td>-0.741773</td>\n",
       "      <td>-0.174177</td>\n",
       "      <td>-0.627464</td>\n",
       "      <td>-0.154703</td>\n",
       "      <td>...</td>\n",
       "      <td>0.192882</td>\n",
       "      <td>-1.068404</td>\n",
       "      <td>1.231789</td>\n",
       "      <td>ENSG00000143393</td>\n",
       "      <td>0.034551</td>\n",
       "      <td>1000</td>\n",
       "      <td>11.361142</td>\n",
       "      <td>0.058415</td>\n",
       "      <td>0.999995</td>\n",
       "      <td>0.999987</td>\n",
       "    </tr>\n",
       "    <tr>\n",
       "      <th>2001</th>\n",
       "      <td>-0.453953</td>\n",
       "      <td>0.489727</td>\n",
       "      <td>0.941829</td>\n",
       "      <td>-0.406590</td>\n",
       "      <td>-0.353282</td>\n",
       "      <td>-0.134272</td>\n",
       "      <td>-0.742806</td>\n",
       "      <td>-0.172506</td>\n",
       "      <td>-0.628864</td>\n",
       "      <td>-0.156573</td>\n",
       "      <td>...</td>\n",
       "      <td>0.189252</td>\n",
       "      <td>-1.066566</td>\n",
       "      <td>1.228163</td>\n",
       "      <td>ENSG00000094631</td>\n",
       "      <td>0.034789</td>\n",
       "      <td>1000</td>\n",
       "      <td>11.354780</td>\n",
       "      <td>0.061606</td>\n",
       "      <td>0.999995</td>\n",
       "      <td>0.999987</td>\n",
       "    </tr>\n",
       "    <tr>\n",
       "      <th>3244</th>\n",
       "      <td>-0.455530</td>\n",
       "      <td>0.490691</td>\n",
       "      <td>0.939056</td>\n",
       "      <td>-0.409074</td>\n",
       "      <td>-0.354656</td>\n",
       "      <td>-0.131777</td>\n",
       "      <td>-0.746500</td>\n",
       "      <td>-0.174716</td>\n",
       "      <td>-0.627248</td>\n",
       "      <td>-0.156444</td>\n",
       "      <td>...</td>\n",
       "      <td>0.189730</td>\n",
       "      <td>-1.065721</td>\n",
       "      <td>1.232258</td>\n",
       "      <td>ENSG00000106477</td>\n",
       "      <td>0.034847</td>\n",
       "      <td>1000</td>\n",
       "      <td>11.359983</td>\n",
       "      <td>0.052983</td>\n",
       "      <td>0.999995</td>\n",
       "      <td>0.999990</td>\n",
       "    </tr>\n",
       "  </tbody>\n",
       "</table>\n",
       "<p>11 rows × 263 columns</p>\n",
       "</div>"
      ],
      "text/plain": [
       "             0         1         2         3         4         5         6  \\\n",
       "5205 -0.454256  0.487519  0.941945 -0.408189 -0.354280 -0.134089 -0.745619   \n",
       "555  -0.454741  0.489649  0.939949 -0.407636 -0.352847 -0.132866 -0.744559   \n",
       "617  -0.455247  0.490527  0.942618 -0.409414 -0.356032 -0.132638 -0.739603   \n",
       "4668 -0.456317  0.491406  0.941919 -0.408896 -0.352771 -0.131887 -0.746754   \n",
       "2900 -0.455584  0.488921  0.940500 -0.407224 -0.352927 -0.131793 -0.743155   \n",
       "4753 -0.455769  0.490967  0.940361 -0.409907 -0.353092 -0.130595 -0.744685   \n",
       "8272 -0.455396  0.487483  0.941970 -0.407552 -0.355768 -0.135180 -0.744507   \n",
       "5991 -0.454955  0.491030  0.939992 -0.406019 -0.356204 -0.131685 -0.745368   \n",
       "7554 -0.453306  0.488986  0.941684 -0.408948 -0.356124 -0.135677 -0.741773   \n",
       "2001 -0.453953  0.489727  0.941829 -0.406590 -0.353282 -0.134272 -0.742806   \n",
       "3244 -0.455530  0.490691  0.939056 -0.409074 -0.354656 -0.131777 -0.746500   \n",
       "\n",
       "             7         8         9  ...       253       254       255  \\\n",
       "5205 -0.172568 -0.627996 -0.155029  ...  0.194620 -1.070842  1.229497   \n",
       "555  -0.173877 -0.627341 -0.156645  ...  0.190368 -1.067195  1.228519   \n",
       "617  -0.172736 -0.625116 -0.153795  ...  0.187728 -1.067443  1.226760   \n",
       "4668 -0.174107 -0.627876 -0.156798  ...  0.188174 -1.069668  1.230197   \n",
       "2900 -0.174202 -0.627937 -0.154324  ...  0.188226 -1.069126  1.228351   \n",
       "4753 -0.173199 -0.627839 -0.155202  ...  0.190325 -1.070293  1.229590   \n",
       "8272 -0.175169 -0.628591 -0.153596  ...  0.191611 -1.066929  1.229766   \n",
       "5991 -0.174753 -0.628138 -0.152876  ...  0.191812 -1.068460  1.229612   \n",
       "7554 -0.174177 -0.627464 -0.154703  ...  0.192882 -1.068404  1.231789   \n",
       "2001 -0.172506 -0.628864 -0.156573  ...  0.189252 -1.066566  1.228163   \n",
       "3244 -0.174716 -0.627248 -0.156444  ...  0.189730 -1.065721  1.232258   \n",
       "\n",
       "                 gene  euclidean_distance     n  ccr4-not_dist  mean_dev_dist  \\\n",
       "5205  ENSG00000125107            0.000005  1000      11.356866       0.061390   \n",
       "555   ENSG00000039123            0.032219  1000      11.349645       0.061599   \n",
       "617   ENSG00000047315            0.033178  1000      11.351249       0.062087   \n",
       "4668  ENSG00000119906            0.033549  1000      11.357689       0.050522   \n",
       "2900  ENSG00000104365            0.033682  1000      11.362050       0.046190   \n",
       "4753  ENSG00000120662            0.034247  1000      11.362265       0.047107   \n",
       "8272  ENSG00000149532            0.034288  1000      11.358490       0.060036   \n",
       "5991  ENSG00000132275            0.034451  1000      11.357520       0.059804   \n",
       "7554  ENSG00000143393            0.034551  1000      11.361142       0.058415   \n",
       "2001  ENSG00000094631            0.034789  1000      11.354780       0.061606   \n",
       "3244  ENSG00000106477            0.034847  1000      11.359983       0.052983   \n",
       "\n",
       "      cos_sim_cnot1  cos_sim_dev_avg  \n",
       "5205       1.000000         0.999986  \n",
       "555        0.999996         0.999988  \n",
       "617        0.999996         0.999987  \n",
       "4668       0.999996         0.999991  \n",
       "2900       0.999995         0.999993  \n",
       "4753       0.999995         0.999992  \n",
       "8272       0.999995         0.999987  \n",
       "5991       0.999995         0.999987  \n",
       "7554       0.999995         0.999987  \n",
       "2001       0.999995         0.999987  \n",
       "3244       0.999995         0.999990  \n",
       "\n",
       "[11 rows x 263 columns]"
      ]
     },
     "execution_count": 52,
     "metadata": {},
     "output_type": "execute_result"
    }
   ],
   "source": [
    "dev_df_embs.sort_values(by='euclidean_distance').head(n=11)"
   ]
  },
  {
   "cell_type": "code",
   "execution_count": 15,
   "id": "dc7deaf9-616d-42a0-a9a4-51ba902fdcc4",
   "metadata": {},
   "outputs": [],
   "source": [
    "dev_df_sorted = dev_df.sort_values(by='euclidean_distance')\n",
    "dev_df_sorted.to_csv('/mnt/scratchc/ghlab/toby/in_silico_perturb_data/avg_embs_vs_cnot1/dev_model/combined_sorted_dists.csv')"
   ]
  },
  {
   "cell_type": "code",
   "execution_count": 32,
   "id": "cad6190c-c24c-45c5-ac81-90b8cf5290c4",
   "metadata": {},
   "outputs": [],
   "source": [
    "top_100_dev = dev_df_embs.sort_values(by='euclidean_distance').head(n=500)\n",
    "#top_100_heart = heart_df.sort_values(by='euclidean_distance').head(n=500)\n",
    "#top_both = top_100_dev[top_100_dev['gene'].isin(top_100_heart['gene'])]\n",
    "#display(top_both)"
   ]
  },
  {
   "cell_type": "code",
   "execution_count": 8,
   "id": "4655ec13-ef15-4fd7-bc56-817d2fcbb520",
   "metadata": {},
   "outputs": [
    {
     "name": "stderr",
     "output_type": "stream",
     "text": [
      "/Users/clark04/anaconda3/envs/pkgtorch/lib/python3.11/site-packages/seaborn/_oldcore.py:1498: FutureWarning: is_categorical_dtype is deprecated and will be removed in a future version. Use isinstance(dtype, CategoricalDtype) instead\n",
      "  if pd.api.types.is_categorical_dtype(vector):\n",
      "/Users/clark04/anaconda3/envs/pkgtorch/lib/python3.11/site-packages/seaborn/_oldcore.py:1119: FutureWarning: use_inf_as_na option is deprecated and will be removed in a future version. Convert inf values to NaN before operating instead.\n",
      "  with pd.option_context('mode.use_inf_as_na', True):\n"
     ]
    },
    {
     "data": {
      "image/png": "[encoded data removed]",
      "text/plain": [
       "<Figure size 640x480 with 1 Axes>"
      ]
     },
     "metadata": {},
     "output_type": "display_data"
    }
   ],
   "source": [
    "ax = sns.histplot(dev_df_embs['euclidean_distance'])\n",
    "ax.set_xlim(0,0.7)\n",
    "ax.set_xlabel('Euclidean Distance to CNOT1 Average Embedding')\n",
    "ax.set_title('Distribution of Euclidean Distances from CNOT1')\n",
    "plt.show()"
   ]
  },
  {
   "cell_type": "code",
   "execution_count": 61,
   "id": "4bbe40d1-bc3e-4755-8802-552cd99749a8",
   "metadata": {},
   "outputs": [
    {
     "name": "stderr",
     "output_type": "stream",
     "text": [
      "/Users/clark04/anaconda3/envs/pkgtorch/lib/python3.11/site-packages/seaborn/_oldcore.py:1498: FutureWarning: is_categorical_dtype is deprecated and will be removed in a future version. Use isinstance(dtype, CategoricalDtype) instead\n",
      "  if pd.api.types.is_categorical_dtype(vector):\n",
      "/Users/clark04/anaconda3/envs/pkgtorch/lib/python3.11/site-packages/seaborn/_oldcore.py:1119: FutureWarning: use_inf_as_na option is deprecated and will be removed in a future version. Convert inf values to NaN before operating instead.\n",
      "  with pd.option_context('mode.use_inf_as_na', True):\n"
     ]
    },
    {
     "data": {
      "image/png": "[encoded data removed]",
      "text/plain": [
       "<Figure size 640x480 with 1 Axes>"
      ]
     },
     "metadata": {},
     "output_type": "display_data"
    }
   ],
   "source": [
    "ax = sns.histplot(cnot1_oex['dist_to_avg'])\n",
    "ax.set_xlabel('Euclidean Distance to CNOT1 Average Embedding')\n",
    "ax.set_title('Distribution of CNOT1 Embeddings Relative to the Average')\n",
    "plt.show()"
   ]
  },
  {
   "cell_type": "code",
   "execution_count": 19,
   "id": "797379bd-b229-4fcd-b0b6-3b2ea61f83d3",
   "metadata": {},
   "outputs": [],
   "source": [
    "ccr4not_emb = pd.read_csv('/mnt/scratchc/ghlab/toby/in_silico_perturb_data/in_silico_pt_embs/opt_model/heart-ft/ccr4-not_oex_avg_emb.csv', index_col=0)\n",
    "cnot1_emb = pd.read_csv('/mnt/scratchc/ghlab/toby/in_silico_perturb_data/in_silico_pt_embs/dev_model/cnot1_oex_avg_emb.csv', index_col=0)\n",
    "cnot1_orig = pd.read_csv('/mnt/scratchc/ghlab/toby/in_silico_perturb_data/in_silico_pt_embs/opt_model/heart-ft/cnot1_avg_emb_original.csv', index_col=0)"
   ]
  },
  {
   "cell_type": "code",
   "execution_count": 21,
   "id": "5006d9bc-131d-41f0-b78a-211cd84357d1",
   "metadata": {},
   "outputs": [],
   "source": [
    "cnot1_orig = pd.read_csv('/mnt/scratchc/ghlab/toby/in_silico_perturb_data/in_silico_pt_embs/dev_model/in_silico_overexpress_cnot1_mesenchyme_dict_1Kbatch_original.csv', index_col=0)\n",
    "cnot1_orig = cnot1_orig.iloc[:,:256].mean()"
   ]
  },
  {
   "cell_type": "code",
   "execution_count": 65,
   "id": "99dd314e-e119-4e22-9acb-ebeaef388ea8",
   "metadata": {},
   "outputs": [
    {
     "name": "stdout",
     "output_type": "stream",
     "text": [
      "11.271627551525501\n",
      "0.13611627619206698\n",
      "11.254268491292537\n"
     ]
    }
   ],
   "source": [
    "dev_embs_only = dev_df_embs.iloc[:,:256]\n",
    "mean_dev_emb = dev_embs_only.mean()\n",
    "mean_dev_emb\n",
    "print(np.linalg.norm(np.array(mean_dev_emb)-np.array(cnot1_emb['0'].T)))\n",
    "print(np.linalg.norm(np.array(mean_dev_emb)-np.array(cnot1_orig)))\n",
    "print(np.linalg.norm(np.array(cnot1_emb['0']-np.array(cnot1_orig))))"
   ]
  },
  {
   "cell_type": "code",
   "execution_count": 63,
   "id": "54de9a6b-c500-40bf-919d-9e032ea6d299",
   "metadata": {},
   "outputs": [],
   "source": [
    "def get_euc_dist(row):\n",
    "    return np.linalg.norm(np.array(row.values)-np.array(cnot1_emb.values))\n",
    "cnot1_oex = pd.read_csv('/mnt/scratchc/ghlab/toby/in_silico_perturb_data/in_silico_pt_embs/dev_model/in_silico_overexpress_cnot1_dict_1Kbatch_perturb.csv')\n",
    "cnot1_oex_embs_only = cnot1_oex.iloc[:,:256]\n",
    "cnot1_emb = cnot1_oex_embs_only.mean()\n",
    "cnot1_oex['dist_to_avg'] = cnot1_oex_embs_only.apply(get_euc_dist,axis=1)\n"
   ]
  },
  {
   "cell_type": "code",
   "execution_count": 28,
   "id": "61873415-8cbb-45f3-a120-78b28867d4e5",
   "metadata": {},
   "outputs": [],
   "source": [
    "dev_df_embs['mean_dev_dist'] = dev_embs_only.apply(get_euc_dist,axis=1)"
   ]
  },
  {
   "cell_type": "code",
   "execution_count": 42,
   "id": "b4dbfa3c-28bf-4b25-b7b3-03c557311b63",
   "metadata": {},
   "outputs": [
    {
     "data": {
      "text/html": [
       "<div>\n",
       "<style scoped>\n",
       "    .dataframe tbody tr th:only-of-type {\n",
       "        vertical-align: middle;\n",
       "    }\n",
       "\n",
       "    .dataframe tbody tr th {\n",
       "        vertical-align: top;\n",
       "    }\n",
       "\n",
       "    .dataframe thead th {\n",
       "        text-align: right;\n",
       "    }\n",
       "</style>\n",
       "<table border=\"1\" class=\"dataframe\">\n",
       "  <thead>\n",
       "    <tr style=\"text-align: right;\">\n",
       "      <th></th>\n",
       "      <th>0</th>\n",
       "      <th>1</th>\n",
       "      <th>2</th>\n",
       "      <th>3</th>\n",
       "      <th>4</th>\n",
       "      <th>5</th>\n",
       "      <th>6</th>\n",
       "      <th>7</th>\n",
       "      <th>8</th>\n",
       "      <th>9</th>\n",
       "      <th>...</th>\n",
       "      <th>251</th>\n",
       "      <th>252</th>\n",
       "      <th>253</th>\n",
       "      <th>254</th>\n",
       "      <th>255</th>\n",
       "      <th>gene</th>\n",
       "      <th>euclidean_distance</th>\n",
       "      <th>n</th>\n",
       "      <th>ccr4-not_dist</th>\n",
       "      <th>mean_dev_dist</th>\n",
       "    </tr>\n",
       "  </thead>\n",
       "  <tbody>\n",
       "    <tr>\n",
       "      <th>394</th>\n",
       "      <td>-0.462287</td>\n",
       "      <td>0.669818</td>\n",
       "      <td>0.908545</td>\n",
       "      <td>-0.429271</td>\n",
       "      <td>-0.479315</td>\n",
       "      <td>-0.057567</td>\n",
       "      <td>-0.959490</td>\n",
       "      <td>-0.148853</td>\n",
       "      <td>-0.562612</td>\n",
       "      <td>-0.207763</td>\n",
       "      <td>...</td>\n",
       "      <td>0.117973</td>\n",
       "      <td>-0.671588</td>\n",
       "      <td>0.238732</td>\n",
       "      <td>-1.086890</td>\n",
       "      <td>1.170528</td>\n",
       "      <td>ENSG00000019582</td>\n",
       "      <td>1.219688</td>\n",
       "      <td>1000</td>\n",
       "      <td>11.300653</td>\n",
       "      <td>1.215919</td>\n",
       "    </tr>\n",
       "    <tr>\n",
       "      <th>7191</th>\n",
       "      <td>-0.428577</td>\n",
       "      <td>0.495175</td>\n",
       "      <td>0.983543</td>\n",
       "      <td>-0.321341</td>\n",
       "      <td>-0.331366</td>\n",
       "      <td>-0.158622</td>\n",
       "      <td>-0.723138</td>\n",
       "      <td>-0.239046</td>\n",
       "      <td>-0.589242</td>\n",
       "      <td>-0.072008</td>\n",
       "      <td>...</td>\n",
       "      <td>0.157780</td>\n",
       "      <td>-0.585378</td>\n",
       "      <td>0.169989</td>\n",
       "      <td>-1.051270</td>\n",
       "      <td>1.129980</td>\n",
       "      <td>ENSG00000140416</td>\n",
       "      <td>0.694222</td>\n",
       "      <td>1000</td>\n",
       "      <td>11.306838</td>\n",
       "      <td>0.704020</td>\n",
       "    </tr>\n",
       "    <tr>\n",
       "      <th>1511</th>\n",
       "      <td>-0.493283</td>\n",
       "      <td>0.451526</td>\n",
       "      <td>0.901745</td>\n",
       "      <td>-0.447761</td>\n",
       "      <td>-0.325023</td>\n",
       "      <td>-0.099491</td>\n",
       "      <td>-0.762316</td>\n",
       "      <td>-0.183463</td>\n",
       "      <td>-0.580430</td>\n",
       "      <td>-0.069019</td>\n",
       "      <td>...</td>\n",
       "      <td>0.235395</td>\n",
       "      <td>-0.589822</td>\n",
       "      <td>0.205120</td>\n",
       "      <td>-1.121900</td>\n",
       "      <td>1.200653</td>\n",
       "      <td>ENSG00000080824</td>\n",
       "      <td>0.689169</td>\n",
       "      <td>1000</td>\n",
       "      <td>11.242573</td>\n",
       "      <td>0.682273</td>\n",
       "    </tr>\n",
       "    <tr>\n",
       "      <th>10214</th>\n",
       "      <td>-0.438447</td>\n",
       "      <td>0.453584</td>\n",
       "      <td>0.975316</td>\n",
       "      <td>-0.404502</td>\n",
       "      <td>-0.375334</td>\n",
       "      <td>-0.136123</td>\n",
       "      <td>-0.719390</td>\n",
       "      <td>-0.188697</td>\n",
       "      <td>-0.605284</td>\n",
       "      <td>-0.111885</td>\n",
       "      <td>...</td>\n",
       "      <td>0.183187</td>\n",
       "      <td>-0.563909</td>\n",
       "      <td>0.247224</td>\n",
       "      <td>-0.994395</td>\n",
       "      <td>1.173915</td>\n",
       "      <td>ENSG00000171320</td>\n",
       "      <td>0.609330</td>\n",
       "      <td>1000</td>\n",
       "      <td>11.045697</td>\n",
       "      <td>0.645247</td>\n",
       "    </tr>\n",
       "    <tr>\n",
       "      <th>301</th>\n",
       "      <td>-0.476944</td>\n",
       "      <td>0.510260</td>\n",
       "      <td>0.965192</td>\n",
       "      <td>-0.436073</td>\n",
       "      <td>-0.309278</td>\n",
       "      <td>-0.083942</td>\n",
       "      <td>-0.873911</td>\n",
       "      <td>-0.178435</td>\n",
       "      <td>-0.581486</td>\n",
       "      <td>-0.190660</td>\n",
       "      <td>...</td>\n",
       "      <td>0.154190</td>\n",
       "      <td>-0.530140</td>\n",
       "      <td>0.155509</td>\n",
       "      <td>-1.073597</td>\n",
       "      <td>1.206345</td>\n",
       "      <td>ENSG00000011465</td>\n",
       "      <td>0.623280</td>\n",
       "      <td>1000</td>\n",
       "      <td>11.416704</td>\n",
       "      <td>0.607734</td>\n",
       "    </tr>\n",
       "    <tr>\n",
       "      <th>...</th>\n",
       "      <td>...</td>\n",
       "      <td>...</td>\n",
       "      <td>...</td>\n",
       "      <td>...</td>\n",
       "      <td>...</td>\n",
       "      <td>...</td>\n",
       "      <td>...</td>\n",
       "      <td>...</td>\n",
       "      <td>...</td>\n",
       "      <td>...</td>\n",
       "      <td>...</td>\n",
       "      <td>...</td>\n",
       "      <td>...</td>\n",
       "      <td>...</td>\n",
       "      <td>...</td>\n",
       "      <td>...</td>\n",
       "      <td>...</td>\n",
       "      <td>...</td>\n",
       "      <td>...</td>\n",
       "      <td>...</td>\n",
       "      <td>...</td>\n",
       "    </tr>\n",
       "    <tr>\n",
       "      <th>9260</th>\n",
       "      <td>-0.455778</td>\n",
       "      <td>0.489903</td>\n",
       "      <td>0.935303</td>\n",
       "      <td>-0.405741</td>\n",
       "      <td>-0.358075</td>\n",
       "      <td>-0.132375</td>\n",
       "      <td>-0.741783</td>\n",
       "      <td>-0.172466</td>\n",
       "      <td>-0.634382</td>\n",
       "      <td>-0.154295</td>\n",
       "      <td>...</td>\n",
       "      <td>0.217315</td>\n",
       "      <td>-0.592903</td>\n",
       "      <td>0.192861</td>\n",
       "      <td>-1.073510</td>\n",
       "      <td>1.234651</td>\n",
       "      <td>ENSG00000159685</td>\n",
       "      <td>0.071903</td>\n",
       "      <td>1000</td>\n",
       "      <td>11.382352</td>\n",
       "      <td>0.080514</td>\n",
       "    </tr>\n",
       "    <tr>\n",
       "      <th>10285</th>\n",
       "      <td>-0.457043</td>\n",
       "      <td>0.485995</td>\n",
       "      <td>0.943546</td>\n",
       "      <td>-0.413921</td>\n",
       "      <td>-0.347847</td>\n",
       "      <td>-0.127913</td>\n",
       "      <td>-0.750645</td>\n",
       "      <td>-0.176248</td>\n",
       "      <td>-0.625533</td>\n",
       "      <td>-0.153965</td>\n",
       "      <td>...</td>\n",
       "      <td>0.225160</td>\n",
       "      <td>-0.592416</td>\n",
       "      <td>0.181685</td>\n",
       "      <td>-1.066857</td>\n",
       "      <td>1.225000</td>\n",
       "      <td>ENSG00000171695</td>\n",
       "      <td>0.087965</td>\n",
       "      <td>1000</td>\n",
       "      <td>11.335800</td>\n",
       "      <td>0.080509</td>\n",
       "    </tr>\n",
       "    <tr>\n",
       "      <th>5476</th>\n",
       "      <td>-0.459424</td>\n",
       "      <td>0.489850</td>\n",
       "      <td>0.942682</td>\n",
       "      <td>-0.415481</td>\n",
       "      <td>-0.348058</td>\n",
       "      <td>-0.124805</td>\n",
       "      <td>-0.745590</td>\n",
       "      <td>-0.173681</td>\n",
       "      <td>-0.622818</td>\n",
       "      <td>-0.148005</td>\n",
       "      <td>...</td>\n",
       "      <td>0.221883</td>\n",
       "      <td>-0.594403</td>\n",
       "      <td>0.189335</td>\n",
       "      <td>-1.072122</td>\n",
       "      <td>1.227181</td>\n",
       "      <td>ENSG00000127540</td>\n",
       "      <td>0.094844</td>\n",
       "      <td>1000</td>\n",
       "      <td>11.352920</td>\n",
       "      <td>0.080501</td>\n",
       "    </tr>\n",
       "    <tr>\n",
       "      <th>1283</th>\n",
       "      <td>-0.453834</td>\n",
       "      <td>0.488866</td>\n",
       "      <td>0.938698</td>\n",
       "      <td>-0.406314</td>\n",
       "      <td>-0.346445</td>\n",
       "      <td>-0.134798</td>\n",
       "      <td>-0.753782</td>\n",
       "      <td>-0.174181</td>\n",
       "      <td>-0.632653</td>\n",
       "      <td>-0.168167</td>\n",
       "      <td>...</td>\n",
       "      <td>0.223224</td>\n",
       "      <td>-0.591291</td>\n",
       "      <td>0.182516</td>\n",
       "      <td>-1.066794</td>\n",
       "      <td>1.226636</td>\n",
       "      <td>ENSG00000074966</td>\n",
       "      <td>0.087356</td>\n",
       "      <td>1000</td>\n",
       "      <td>11.350796</td>\n",
       "      <td>0.080499</td>\n",
       "    </tr>\n",
       "    <tr>\n",
       "      <th>9474</th>\n",
       "      <td>-0.456232</td>\n",
       "      <td>0.490002</td>\n",
       "      <td>0.944725</td>\n",
       "      <td>-0.402742</td>\n",
       "      <td>-0.355030</td>\n",
       "      <td>-0.134317</td>\n",
       "      <td>-0.742441</td>\n",
       "      <td>-0.173075</td>\n",
       "      <td>-0.626710</td>\n",
       "      <td>-0.151957</td>\n",
       "      <td>...</td>\n",
       "      <td>0.214976</td>\n",
       "      <td>-0.589541</td>\n",
       "      <td>0.186524</td>\n",
       "      <td>-1.064917</td>\n",
       "      <td>1.226335</td>\n",
       "      <td>ENSG00000167674</td>\n",
       "      <td>0.056349</td>\n",
       "      <td>1000</td>\n",
       "      <td>11.342351</td>\n",
       "      <td>0.080483</td>\n",
       "    </tr>\n",
       "  </tbody>\n",
       "</table>\n",
       "<p>4000 rows × 261 columns</p>\n",
       "</div>"
      ],
      "text/plain": [
       "              0         1         2         3         4         5         6  \\\n",
       "394   -0.462287  0.669818  0.908545 -0.429271 -0.479315 -0.057567 -0.959490   \n",
       "7191  -0.428577  0.495175  0.983543 -0.321341 -0.331366 -0.158622 -0.723138   \n",
       "1511  -0.493283  0.451526  0.901745 -0.447761 -0.325023 -0.099491 -0.762316   \n",
       "10214 -0.438447  0.453584  0.975316 -0.404502 -0.375334 -0.136123 -0.719390   \n",
       "301   -0.476944  0.510260  0.965192 -0.436073 -0.309278 -0.083942 -0.873911   \n",
       "...         ...       ...       ...       ...       ...       ...       ...   \n",
       "9260  -0.455778  0.489903  0.935303 -0.405741 -0.358075 -0.132375 -0.741783   \n",
       "10285 -0.457043  0.485995  0.943546 -0.413921 -0.347847 -0.127913 -0.750645   \n",
       "5476  -0.459424  0.489850  0.942682 -0.415481 -0.348058 -0.124805 -0.745590   \n",
       "1283  -0.453834  0.488866  0.938698 -0.406314 -0.346445 -0.134798 -0.753782   \n",
       "9474  -0.456232  0.490002  0.944725 -0.402742 -0.355030 -0.134317 -0.742441   \n",
       "\n",
       "              7         8         9  ...       251       252       253  \\\n",
       "394   -0.148853 -0.562612 -0.207763  ...  0.117973 -0.671588  0.238732   \n",
       "7191  -0.239046 -0.589242 -0.072008  ...  0.157780 -0.585378  0.169989   \n",
       "1511  -0.183463 -0.580430 -0.069019  ...  0.235395 -0.589822  0.205120   \n",
       "10214 -0.188697 -0.605284 -0.111885  ...  0.183187 -0.563909  0.247224   \n",
       "301   -0.178435 -0.581486 -0.190660  ...  0.154190 -0.530140  0.155509   \n",
       "...         ...       ...       ...  ...       ...       ...       ...   \n",
       "9260  -0.172466 -0.634382 -0.154295  ...  0.217315 -0.592903  0.192861   \n",
       "10285 -0.176248 -0.625533 -0.153965  ...  0.225160 -0.592416  0.181685   \n",
       "5476  -0.173681 -0.622818 -0.148005  ...  0.221883 -0.594403  0.189335   \n",
       "1283  -0.174181 -0.632653 -0.168167  ...  0.223224 -0.591291  0.182516   \n",
       "9474  -0.173075 -0.626710 -0.151957  ...  0.214976 -0.589541  0.186524   \n",
       "\n",
       "            254       255             gene  euclidean_distance     n  \\\n",
       "394   -1.086890  1.170528  ENSG00000019582            1.219688  1000   \n",
       "7191  -1.051270  1.129980  ENSG00000140416            0.694222  1000   \n",
       "1511  -1.121900  1.200653  ENSG00000080824            0.689169  1000   \n",
       "10214 -0.994395  1.173915  ENSG00000171320            0.609330  1000   \n",
       "301   -1.073597  1.206345  ENSG00000011465            0.623280  1000   \n",
       "...         ...       ...              ...                 ...   ...   \n",
       "9260  -1.073510  1.234651  ENSG00000159685            0.071903  1000   \n",
       "10285 -1.066857  1.225000  ENSG00000171695            0.087965  1000   \n",
       "5476  -1.072122  1.227181  ENSG00000127540            0.094844  1000   \n",
       "1283  -1.066794  1.226636  ENSG00000074966            0.087356  1000   \n",
       "9474  -1.064917  1.226335  ENSG00000167674            0.056349  1000   \n",
       "\n",
       "       ccr4-not_dist  mean_dev_dist  \n",
       "394        11.300653       1.215919  \n",
       "7191       11.306838       0.704020  \n",
       "1511       11.242573       0.682273  \n",
       "10214      11.045697       0.645247  \n",
       "301        11.416704       0.607734  \n",
       "...              ...            ...  \n",
       "9260       11.382352       0.080514  \n",
       "10285      11.335800       0.080509  \n",
       "5476       11.352920       0.080501  \n",
       "1283       11.350796       0.080499  \n",
       "9474       11.342351       0.080483  \n",
       "\n",
       "[4000 rows x 261 columns]"
      ]
     },
     "metadata": {},
     "output_type": "display_data"
    },
    {
     "data": {
      "text/html": [
       "<div>\n",
       "<style scoped>\n",
       "    .dataframe tbody tr th:only-of-type {\n",
       "        vertical-align: middle;\n",
       "    }\n",
       "\n",
       "    .dataframe tbody tr th {\n",
       "        vertical-align: top;\n",
       "    }\n",
       "\n",
       "    .dataframe thead th {\n",
       "        text-align: right;\n",
       "    }\n",
       "</style>\n",
       "<table border=\"1\" class=\"dataframe\">\n",
       "  <thead>\n",
       "    <tr style=\"text-align: right;\">\n",
       "      <th></th>\n",
       "      <th>0</th>\n",
       "      <th>1</th>\n",
       "      <th>2</th>\n",
       "      <th>3</th>\n",
       "      <th>4</th>\n",
       "      <th>5</th>\n",
       "      <th>6</th>\n",
       "      <th>7</th>\n",
       "      <th>8</th>\n",
       "      <th>9</th>\n",
       "      <th>...</th>\n",
       "      <th>251</th>\n",
       "      <th>252</th>\n",
       "      <th>253</th>\n",
       "      <th>254</th>\n",
       "      <th>255</th>\n",
       "      <th>gene</th>\n",
       "      <th>euclidean_distance</th>\n",
       "      <th>n</th>\n",
       "      <th>ccr4-not_dist</th>\n",
       "      <th>mean_dev_dist</th>\n",
       "    </tr>\n",
       "  </thead>\n",
       "  <tbody>\n",
       "    <tr>\n",
       "      <th>3390</th>\n",
       "      <td>-0.454535</td>\n",
       "      <td>0.490402</td>\n",
       "      <td>0.943743</td>\n",
       "      <td>-0.404977</td>\n",
       "      <td>-0.356142</td>\n",
       "      <td>-0.134664</td>\n",
       "      <td>-0.738946</td>\n",
       "      <td>-0.172393</td>\n",
       "      <td>-0.628538</td>\n",
       "      <td>-0.153027</td>\n",
       "      <td>...</td>\n",
       "      <td>0.216221</td>\n",
       "      <td>-0.591923</td>\n",
       "      <td>0.193175</td>\n",
       "      <td>-1.068279</td>\n",
       "      <td>1.227560</td>\n",
       "      <td>ENSG00000108021</td>\n",
       "      <td>0.042363</td>\n",
       "      <td>1000</td>\n",
       "      <td>11.343555</td>\n",
       "      <td>0.081748</td>\n",
       "    </tr>\n",
       "    <tr>\n",
       "      <th>5384</th>\n",
       "      <td>-0.452758</td>\n",
       "      <td>0.490462</td>\n",
       "      <td>0.941820</td>\n",
       "      <td>-0.406789</td>\n",
       "      <td>-0.355576</td>\n",
       "      <td>-0.137631</td>\n",
       "      <td>-0.741926</td>\n",
       "      <td>-0.175222</td>\n",
       "      <td>-0.629784</td>\n",
       "      <td>-0.153868</td>\n",
       "      <td>...</td>\n",
       "      <td>0.214620</td>\n",
       "      <td>-0.591525</td>\n",
       "      <td>0.193537</td>\n",
       "      <td>-1.063468</td>\n",
       "      <td>1.227427</td>\n",
       "      <td>ENSG00000126453</td>\n",
       "      <td>0.042443</td>\n",
       "      <td>1000</td>\n",
       "      <td>11.342207</td>\n",
       "      <td>0.082584</td>\n",
       "    </tr>\n",
       "    <tr>\n",
       "      <th>1900</th>\n",
       "      <td>-0.452588</td>\n",
       "      <td>0.492076</td>\n",
       "      <td>0.942614</td>\n",
       "      <td>-0.408708</td>\n",
       "      <td>-0.356704</td>\n",
       "      <td>-0.136738</td>\n",
       "      <td>-0.738379</td>\n",
       "      <td>-0.173187</td>\n",
       "      <td>-0.628016</td>\n",
       "      <td>-0.156606</td>\n",
       "      <td>...</td>\n",
       "      <td>0.216523</td>\n",
       "      <td>-0.591612</td>\n",
       "      <td>0.191861</td>\n",
       "      <td>-1.064243</td>\n",
       "      <td>1.228453</td>\n",
       "      <td>ENSG00000090905</td>\n",
       "      <td>0.042942</td>\n",
       "      <td>1000</td>\n",
       "      <td>11.343079</td>\n",
       "      <td>0.084248</td>\n",
       "    </tr>\n",
       "    <tr>\n",
       "      <th>1266</th>\n",
       "      <td>-0.455442</td>\n",
       "      <td>0.489208</td>\n",
       "      <td>0.943330</td>\n",
       "      <td>-0.405731</td>\n",
       "      <td>-0.357116</td>\n",
       "      <td>-0.130449</td>\n",
       "      <td>-0.743006</td>\n",
       "      <td>-0.173251</td>\n",
       "      <td>-0.626351</td>\n",
       "      <td>-0.149552</td>\n",
       "      <td>...</td>\n",
       "      <td>0.213375</td>\n",
       "      <td>-0.590363</td>\n",
       "      <td>0.193892</td>\n",
       "      <td>-1.065742</td>\n",
       "      <td>1.226430</td>\n",
       "      <td>ENSG00000074582</td>\n",
       "      <td>0.044456</td>\n",
       "      <td>1000</td>\n",
       "      <td>11.341026</td>\n",
       "      <td>0.082406</td>\n",
       "    </tr>\n",
       "    <tr>\n",
       "      <th>1600</th>\n",
       "      <td>-0.452714</td>\n",
       "      <td>0.492706</td>\n",
       "      <td>0.943901</td>\n",
       "      <td>-0.408164</td>\n",
       "      <td>-0.356699</td>\n",
       "      <td>-0.135280</td>\n",
       "      <td>-0.740934</td>\n",
       "      <td>-0.170531</td>\n",
       "      <td>-0.626036</td>\n",
       "      <td>-0.153612</td>\n",
       "      <td>...</td>\n",
       "      <td>0.214669</td>\n",
       "      <td>-0.589162</td>\n",
       "      <td>0.191131</td>\n",
       "      <td>-1.065739</td>\n",
       "      <td>1.228491</td>\n",
       "      <td>ENSG00000083642</td>\n",
       "      <td>0.045110</td>\n",
       "      <td>1000</td>\n",
       "      <td>11.345407</td>\n",
       "      <td>0.083485</td>\n",
       "    </tr>\n",
       "    <tr>\n",
       "      <th>1163</th>\n",
       "      <td>-0.453052</td>\n",
       "      <td>0.487998</td>\n",
       "      <td>0.941053</td>\n",
       "      <td>-0.408101</td>\n",
       "      <td>-0.357827</td>\n",
       "      <td>-0.133250</td>\n",
       "      <td>-0.739532</td>\n",
       "      <td>-0.172756</td>\n",
       "      <td>-0.629484</td>\n",
       "      <td>-0.154712</td>\n",
       "      <td>...</td>\n",
       "      <td>0.216179</td>\n",
       "      <td>-0.589109</td>\n",
       "      <td>0.192311</td>\n",
       "      <td>-1.065786</td>\n",
       "      <td>1.225627</td>\n",
       "      <td>ENSG00000071794</td>\n",
       "      <td>0.045490</td>\n",
       "      <td>1000</td>\n",
       "      <td>11.337713</td>\n",
       "      <td>0.086094</td>\n",
       "    </tr>\n",
       "    <tr>\n",
       "      <th>2898</th>\n",
       "      <td>-0.454602</td>\n",
       "      <td>0.491420</td>\n",
       "      <td>0.943007</td>\n",
       "      <td>-0.408760</td>\n",
       "      <td>-0.355763</td>\n",
       "      <td>-0.130244</td>\n",
       "      <td>-0.741091</td>\n",
       "      <td>-0.173174</td>\n",
       "      <td>-0.626502</td>\n",
       "      <td>-0.152952</td>\n",
       "      <td>...</td>\n",
       "      <td>0.215603</td>\n",
       "      <td>-0.591210</td>\n",
       "      <td>0.191229</td>\n",
       "      <td>-1.067261</td>\n",
       "      <td>1.228036</td>\n",
       "      <td>ENSG00000104356</td>\n",
       "      <td>0.045557</td>\n",
       "      <td>1000</td>\n",
       "      <td>11.344120</td>\n",
       "      <td>0.080517</td>\n",
       "    </tr>\n",
       "    <tr>\n",
       "      <th>4907</th>\n",
       "      <td>-0.454794</td>\n",
       "      <td>0.489982</td>\n",
       "      <td>0.940832</td>\n",
       "      <td>-0.409632</td>\n",
       "      <td>-0.356622</td>\n",
       "      <td>-0.130627</td>\n",
       "      <td>-0.743957</td>\n",
       "      <td>-0.171895</td>\n",
       "      <td>-0.627408</td>\n",
       "      <td>-0.152237</td>\n",
       "      <td>...</td>\n",
       "      <td>0.216308</td>\n",
       "      <td>-0.589408</td>\n",
       "      <td>0.193676</td>\n",
       "      <td>-1.066790</td>\n",
       "      <td>1.227852</td>\n",
       "      <td>ENSG00000122435</td>\n",
       "      <td>0.046033</td>\n",
       "      <td>1000</td>\n",
       "      <td>11.341676</td>\n",
       "      <td>0.085171</td>\n",
       "    </tr>\n",
       "    <tr>\n",
       "      <th>3724</th>\n",
       "      <td>-0.455599</td>\n",
       "      <td>0.490789</td>\n",
       "      <td>0.944013</td>\n",
       "      <td>-0.409382</td>\n",
       "      <td>-0.356461</td>\n",
       "      <td>-0.129203</td>\n",
       "      <td>-0.742446</td>\n",
       "      <td>-0.173078</td>\n",
       "      <td>-0.624719</td>\n",
       "      <td>-0.153679</td>\n",
       "      <td>...</td>\n",
       "      <td>0.212872</td>\n",
       "      <td>-0.592005</td>\n",
       "      <td>0.192361</td>\n",
       "      <td>-1.064759</td>\n",
       "      <td>1.227397</td>\n",
       "      <td>ENSG00000111271</td>\n",
       "      <td>0.046170</td>\n",
       "      <td>1000</td>\n",
       "      <td>11.338202</td>\n",
       "      <td>0.081423</td>\n",
       "    </tr>\n",
       "    <tr>\n",
       "      <th>9979</th>\n",
       "      <td>-0.456469</td>\n",
       "      <td>0.487494</td>\n",
       "      <td>0.943517</td>\n",
       "      <td>-0.412016</td>\n",
       "      <td>-0.356313</td>\n",
       "      <td>-0.133140</td>\n",
       "      <td>-0.742872</td>\n",
       "      <td>-0.171722</td>\n",
       "      <td>-0.624745</td>\n",
       "      <td>-0.150159</td>\n",
       "      <td>...</td>\n",
       "      <td>0.218258</td>\n",
       "      <td>-0.591199</td>\n",
       "      <td>0.191960</td>\n",
       "      <td>-1.069515</td>\n",
       "      <td>1.227545</td>\n",
       "      <td>ENSG00000170209</td>\n",
       "      <td>0.046192</td>\n",
       "      <td>1000</td>\n",
       "      <td>11.348058</td>\n",
       "      <td>0.080673</td>\n",
       "    </tr>\n",
       "    <tr>\n",
       "      <th>4461</th>\n",
       "      <td>-0.452593</td>\n",
       "      <td>0.492559</td>\n",
       "      <td>0.942576</td>\n",
       "      <td>-0.408283</td>\n",
       "      <td>-0.357624</td>\n",
       "      <td>-0.131377</td>\n",
       "      <td>-0.740514</td>\n",
       "      <td>-0.170492</td>\n",
       "      <td>-0.627275</td>\n",
       "      <td>-0.153980</td>\n",
       "      <td>...</td>\n",
       "      <td>0.216362</td>\n",
       "      <td>-0.590766</td>\n",
       "      <td>0.194011</td>\n",
       "      <td>-1.065284</td>\n",
       "      <td>1.227853</td>\n",
       "      <td>ENSG00000117597</td>\n",
       "      <td>0.046611</td>\n",
       "      <td>1000</td>\n",
       "      <td>11.340839</td>\n",
       "      <td>0.086114</td>\n",
       "    </tr>\n",
       "    <tr>\n",
       "      <th>9876</th>\n",
       "      <td>-0.454241</td>\n",
       "      <td>0.495857</td>\n",
       "      <td>0.943264</td>\n",
       "      <td>-0.406921</td>\n",
       "      <td>-0.356519</td>\n",
       "      <td>-0.133403</td>\n",
       "      <td>-0.739926</td>\n",
       "      <td>-0.171897</td>\n",
       "      <td>-0.626174</td>\n",
       "      <td>-0.150681</td>\n",
       "      <td>...</td>\n",
       "      <td>0.216913</td>\n",
       "      <td>-0.592171</td>\n",
       "      <td>0.190174</td>\n",
       "      <td>-1.065762</td>\n",
       "      <td>1.226840</td>\n",
       "      <td>ENSG00000169679</td>\n",
       "      <td>0.046971</td>\n",
       "      <td>1000</td>\n",
       "      <td>11.346315</td>\n",
       "      <td>0.083372</td>\n",
       "    </tr>\n",
       "  </tbody>\n",
       "</table>\n",
       "<p>12 rows × 261 columns</p>\n",
       "</div>"
      ],
      "text/plain": [
       "             0         1         2         3         4         5         6  \\\n",
       "3390 -0.454535  0.490402  0.943743 -0.404977 -0.356142 -0.134664 -0.738946   \n",
       "5384 -0.452758  0.490462  0.941820 -0.406789 -0.355576 -0.137631 -0.741926   \n",
       "1900 -0.452588  0.492076  0.942614 -0.408708 -0.356704 -0.136738 -0.738379   \n",
       "1266 -0.455442  0.489208  0.943330 -0.405731 -0.357116 -0.130449 -0.743006   \n",
       "1600 -0.452714  0.492706  0.943901 -0.408164 -0.356699 -0.135280 -0.740934   \n",
       "1163 -0.453052  0.487998  0.941053 -0.408101 -0.357827 -0.133250 -0.739532   \n",
       "2898 -0.454602  0.491420  0.943007 -0.408760 -0.355763 -0.130244 -0.741091   \n",
       "4907 -0.454794  0.489982  0.940832 -0.409632 -0.356622 -0.130627 -0.743957   \n",
       "3724 -0.455599  0.490789  0.944013 -0.409382 -0.356461 -0.129203 -0.742446   \n",
       "9979 -0.456469  0.487494  0.943517 -0.412016 -0.356313 -0.133140 -0.742872   \n",
       "4461 -0.452593  0.492559  0.942576 -0.408283 -0.357624 -0.131377 -0.740514   \n",
       "9876 -0.454241  0.495857  0.943264 -0.406921 -0.356519 -0.133403 -0.739926   \n",
       "\n",
       "             7         8         9  ...       251       252       253  \\\n",
       "3390 -0.172393 -0.628538 -0.153027  ...  0.216221 -0.591923  0.193175   \n",
       "5384 -0.175222 -0.629784 -0.153868  ...  0.214620 -0.591525  0.193537   \n",
       "1900 -0.173187 -0.628016 -0.156606  ...  0.216523 -0.591612  0.191861   \n",
       "1266 -0.173251 -0.626351 -0.149552  ...  0.213375 -0.590363  0.193892   \n",
       "1600 -0.170531 -0.626036 -0.153612  ...  0.214669 -0.589162  0.191131   \n",
       "1163 -0.172756 -0.629484 -0.154712  ...  0.216179 -0.589109  0.192311   \n",
       "2898 -0.173174 -0.626502 -0.152952  ...  0.215603 -0.591210  0.191229   \n",
       "4907 -0.171895 -0.627408 -0.152237  ...  0.216308 -0.589408  0.193676   \n",
       "3724 -0.173078 -0.624719 -0.153679  ...  0.212872 -0.592005  0.192361   \n",
       "9979 -0.171722 -0.624745 -0.150159  ...  0.218258 -0.591199  0.191960   \n",
       "4461 -0.170492 -0.627275 -0.153980  ...  0.216362 -0.590766  0.194011   \n",
       "9876 -0.171897 -0.626174 -0.150681  ...  0.216913 -0.592171  0.190174   \n",
       "\n",
       "           254       255             gene  euclidean_distance     n  \\\n",
       "3390 -1.068279  1.227560  ENSG00000108021            0.042363  1000   \n",
       "5384 -1.063468  1.227427  ENSG00000126453            0.042443  1000   \n",
       "1900 -1.064243  1.228453  ENSG00000090905            0.042942  1000   \n",
       "1266 -1.065742  1.226430  ENSG00000074582            0.044456  1000   \n",
       "1600 -1.065739  1.228491  ENSG00000083642            0.045110  1000   \n",
       "1163 -1.065786  1.225627  ENSG00000071794            0.045490  1000   \n",
       "2898 -1.067261  1.228036  ENSG00000104356            0.045557  1000   \n",
       "4907 -1.066790  1.227852  ENSG00000122435            0.046033  1000   \n",
       "3724 -1.064759  1.227397  ENSG00000111271            0.046170  1000   \n",
       "9979 -1.069515  1.227545  ENSG00000170209            0.046192  1000   \n",
       "4461 -1.065284  1.227853  ENSG00000117597            0.046611  1000   \n",
       "9876 -1.065762  1.226840  ENSG00000169679            0.046971  1000   \n",
       "\n",
       "      ccr4-not_dist  mean_dev_dist  \n",
       "3390      11.343555       0.081748  \n",
       "5384      11.342207       0.082584  \n",
       "1900      11.343079       0.084248  \n",
       "1266      11.341026       0.082406  \n",
       "1600      11.345407       0.083485  \n",
       "1163      11.337713       0.086094  \n",
       "2898      11.344120       0.080517  \n",
       "4907      11.341676       0.085171  \n",
       "3724      11.338202       0.081423  \n",
       "9979      11.348058       0.080673  \n",
       "4461      11.340839       0.086114  \n",
       "9876      11.346315       0.083372  \n",
       "\n",
       "[12 rows x 261 columns]"
      ]
     },
     "metadata": {},
     "output_type": "display_data"
    }
   ],
   "source": [
    "top_100_dev_cnot1 = top_100_dev\n",
    "top_100_dev_avg = dev_df_embs.sort_values(by='mean_dev_dist',ascending=False).head(n=4000)\n",
    "display(top_100_dev_avg)\n",
    "top_both = top_100_dev_cnot1[top_100_dev_cnot1['gene'].isin(top_100_dev_avg['gene'])]\n",
    "display(top_both)"
   ]
  },
  {
   "cell_type": "code",
   "execution_count": 45,
   "id": "d996e38d-9d60-480f-9ffd-24f13284b6da",
   "metadata": {},
   "outputs": [
    {
     "name": "stderr",
     "output_type": "stream",
     "text": [
      "/tmp/ipykernel_304837/3225753157.py:3: FutureWarning: Series.__getitem__ treating keys as positions is deprecated. In a future version, integer keys will always be treated as labels (consistent with DataFrame behavior). To access a value by position, use `ser.iloc[pos]`\n",
      "  perturb_v_end = torch.squeeze(cos(torch.Tensor(row),torch.Tensor(cnot1_emb['0'])))\n",
      "/tmp/ipykernel_304837/3225753157.py:8: FutureWarning: Series.__getitem__ treating keys as positions is deprecated. In a future version, integer keys will always be treated as labels (consistent with DataFrame behavior). To access a value by position, use `ser.iloc[pos]`\n",
      "  perturb_v_end = torch.squeeze(cos(torch.Tensor(row),torch.Tensor(mean_dev_emb)))\n"
     ]
    }
   ],
   "source": [
    "cos = torch.nn.CosineSimilarity(dim=0)\n",
    "def cos_shift_to_cnot1(row):\n",
    "    perturb_v_end = torch.squeeze(cos(torch.Tensor(row),torch.Tensor(cnot1_emb['0'])))\n",
    "    #original_v_end = torch.squeeze(cos(torch.Tensor(row), torch.Tensor(cnot1_orig.values.T)))\n",
    "    #return (perturb_v_end - original_v_end).item()\n",
    "    return perturb_v_end.item()\n",
    "def cos_shift_to_avg(row):\n",
    "    perturb_v_end = torch.squeeze(cos(torch.Tensor(row),torch.Tensor(mean_dev_emb)))\n",
    "    #original_v_end = torch.squeeze(cos(torch.Tensor(row), torch.Tensor(cnot1_orig.values.T)))\n",
    "    #return (perturb_v_end - original_v_end).item()\n",
    "    return perturb_v_end.item()\n",
    "dev_df_embs['cos_sim_cnot1'] = dev_embs_only.apply(cos_shift_to_cnot1,axis=1)\n",
    "dev_df_embs['cos_sim_dev_avg'] = dev_embs_only.apply(cos_shift_to_avg,axis=1)"
   ]
  },
  {
   "cell_type": "code",
   "execution_count": 50,
   "id": "52f6dbb5-1e62-4c2e-a3c8-6a7e00cb7fa8",
   "metadata": {},
   "outputs": [
    {
     "data": {
      "text/html": [
       "<div>\n",
       "<style scoped>\n",
       "    .dataframe tbody tr th:only-of-type {\n",
       "        vertical-align: middle;\n",
       "    }\n",
       "\n",
       "    .dataframe tbody tr th {\n",
       "        vertical-align: top;\n",
       "    }\n",
       "\n",
       "    .dataframe thead th {\n",
       "        text-align: right;\n",
       "    }\n",
       "</style>\n",
       "<table border=\"1\" class=\"dataframe\">\n",
       "  <thead>\n",
       "    <tr style=\"text-align: right;\">\n",
       "      <th></th>\n",
       "      <th>0</th>\n",
       "      <th>1</th>\n",
       "      <th>2</th>\n",
       "      <th>3</th>\n",
       "      <th>4</th>\n",
       "      <th>5</th>\n",
       "      <th>6</th>\n",
       "      <th>7</th>\n",
       "      <th>8</th>\n",
       "      <th>9</th>\n",
       "      <th>...</th>\n",
       "      <th>253</th>\n",
       "      <th>254</th>\n",
       "      <th>255</th>\n",
       "      <th>gene</th>\n",
       "      <th>euclidean_distance</th>\n",
       "      <th>n</th>\n",
       "      <th>ccr4-not_dist</th>\n",
       "      <th>mean_dev_dist</th>\n",
       "      <th>cos_sim_cnot1</th>\n",
       "      <th>cos_sim_dev_avg</th>\n",
       "    </tr>\n",
       "  </thead>\n",
       "  <tbody>\n",
       "    <tr>\n",
       "      <th>949</th>\n",
       "      <td>-0.453714</td>\n",
       "      <td>0.486818</td>\n",
       "      <td>0.944233</td>\n",
       "      <td>-0.410351</td>\n",
       "      <td>-0.351699</td>\n",
       "      <td>-0.136820</td>\n",
       "      <td>-0.745033</td>\n",
       "      <td>-0.173005</td>\n",
       "      <td>-0.626493</td>\n",
       "      <td>-0.156051</td>\n",
       "      <td>...</td>\n",
       "      <td>0.190631</td>\n",
       "      <td>-1.067832</td>\n",
       "      <td>1.226177</td>\n",
       "      <td>ENSG00000065883</td>\n",
       "      <td>0.037143</td>\n",
       "      <td>1000</td>\n",
       "      <td>11.342435</td>\n",
       "      <td>0.073322</td>\n",
       "      <td>0.999995</td>\n",
       "      <td>0.999983</td>\n",
       "    </tr>\n",
       "    <tr>\n",
       "      <th>3527</th>\n",
       "      <td>-0.453030</td>\n",
       "      <td>0.491896</td>\n",
       "      <td>0.940035</td>\n",
       "      <td>-0.408237</td>\n",
       "      <td>-0.354910</td>\n",
       "      <td>-0.136614</td>\n",
       "      <td>-0.740181</td>\n",
       "      <td>-0.171606</td>\n",
       "      <td>-0.627691</td>\n",
       "      <td>-0.157680</td>\n",
       "      <td>...</td>\n",
       "      <td>0.191521</td>\n",
       "      <td>-1.066246</td>\n",
       "      <td>1.226668</td>\n",
       "      <td>ENSG00000109184</td>\n",
       "      <td>0.037158</td>\n",
       "      <td>1000</td>\n",
       "      <td>11.346122</td>\n",
       "      <td>0.076402</td>\n",
       "      <td>0.999995</td>\n",
       "      <td>0.999980</td>\n",
       "    </tr>\n",
       "    <tr>\n",
       "      <th>6213</th>\n",
       "      <td>-0.455307</td>\n",
       "      <td>0.488612</td>\n",
       "      <td>0.943500</td>\n",
       "      <td>-0.409579</td>\n",
       "      <td>-0.357018</td>\n",
       "      <td>-0.131747</td>\n",
       "      <td>-0.742029</td>\n",
       "      <td>-0.171495</td>\n",
       "      <td>-0.623789</td>\n",
       "      <td>-0.154105</td>\n",
       "      <td>...</td>\n",
       "      <td>0.194133</td>\n",
       "      <td>-1.066299</td>\n",
       "      <td>1.228516</td>\n",
       "      <td>ENSG00000133997</td>\n",
       "      <td>0.036554</td>\n",
       "      <td>1000</td>\n",
       "      <td>11.350278</td>\n",
       "      <td>0.071992</td>\n",
       "      <td>0.999995</td>\n",
       "      <td>0.999982</td>\n",
       "    </tr>\n",
       "    <tr>\n",
       "      <th>585</th>\n",
       "      <td>-0.454149</td>\n",
       "      <td>0.486271</td>\n",
       "      <td>0.942350</td>\n",
       "      <td>-0.408077</td>\n",
       "      <td>-0.357308</td>\n",
       "      <td>-0.134176</td>\n",
       "      <td>-0.742051</td>\n",
       "      <td>-0.173566</td>\n",
       "      <td>-0.625412</td>\n",
       "      <td>-0.155820</td>\n",
       "      <td>...</td>\n",
       "      <td>0.191773</td>\n",
       "      <td>-1.065979</td>\n",
       "      <td>1.230148</td>\n",
       "      <td>ENSG00000042429</td>\n",
       "      <td>0.036503</td>\n",
       "      <td>1000</td>\n",
       "      <td>11.353497</td>\n",
       "      <td>0.071523</td>\n",
       "      <td>0.999995</td>\n",
       "      <td>0.999981</td>\n",
       "    </tr>\n",
       "    <tr>\n",
       "      <th>853</th>\n",
       "      <td>-0.454539</td>\n",
       "      <td>0.488832</td>\n",
       "      <td>0.941477</td>\n",
       "      <td>-0.408600</td>\n",
       "      <td>-0.353553</td>\n",
       "      <td>-0.132148</td>\n",
       "      <td>-0.741151</td>\n",
       "      <td>-0.173510</td>\n",
       "      <td>-0.626305</td>\n",
       "      <td>-0.155017</td>\n",
       "      <td>...</td>\n",
       "      <td>0.192705</td>\n",
       "      <td>-1.064540</td>\n",
       "      <td>1.227277</td>\n",
       "      <td>ENSG00000063176</td>\n",
       "      <td>0.038187</td>\n",
       "      <td>1000</td>\n",
       "      <td>11.346852</td>\n",
       "      <td>0.073311</td>\n",
       "      <td>0.999995</td>\n",
       "      <td>0.999982</td>\n",
       "    </tr>\n",
       "    <tr>\n",
       "      <th>3451</th>\n",
       "      <td>-0.456147</td>\n",
       "      <td>0.487994</td>\n",
       "      <td>0.941535</td>\n",
       "      <td>-0.407832</td>\n",
       "      <td>-0.354656</td>\n",
       "      <td>-0.136660</td>\n",
       "      <td>-0.740177</td>\n",
       "      <td>-0.172526</td>\n",
       "      <td>-0.628558</td>\n",
       "      <td>-0.154809</td>\n",
       "      <td>...</td>\n",
       "      <td>0.192481</td>\n",
       "      <td>-1.068542</td>\n",
       "      <td>1.230854</td>\n",
       "      <td>ENSG00000108604</td>\n",
       "      <td>0.037689</td>\n",
       "      <td>1000</td>\n",
       "      <td>11.356813</td>\n",
       "      <td>0.071430</td>\n",
       "      <td>0.999994</td>\n",
       "      <td>0.999981</td>\n",
       "    </tr>\n",
       "    <tr>\n",
       "      <th>2410</th>\n",
       "      <td>-0.453480</td>\n",
       "      <td>0.488829</td>\n",
       "      <td>0.942983</td>\n",
       "      <td>-0.408064</td>\n",
       "      <td>-0.355557</td>\n",
       "      <td>-0.137781</td>\n",
       "      <td>-0.742355</td>\n",
       "      <td>-0.174249</td>\n",
       "      <td>-0.630173</td>\n",
       "      <td>-0.156715</td>\n",
       "      <td>...</td>\n",
       "      <td>0.193670</td>\n",
       "      <td>-1.067100</td>\n",
       "      <td>1.226537</td>\n",
       "      <td>ENSG00000100982</td>\n",
       "      <td>0.038582</td>\n",
       "      <td>1000</td>\n",
       "      <td>11.351014</td>\n",
       "      <td>0.071382</td>\n",
       "      <td>0.999994</td>\n",
       "      <td>0.999981</td>\n",
       "    </tr>\n",
       "    <tr>\n",
       "      <th>5844</th>\n",
       "      <td>-0.453041</td>\n",
       "      <td>0.489204</td>\n",
       "      <td>0.943221</td>\n",
       "      <td>-0.408073</td>\n",
       "      <td>-0.355597</td>\n",
       "      <td>-0.133938</td>\n",
       "      <td>-0.744402</td>\n",
       "      <td>-0.174748</td>\n",
       "      <td>-0.628995</td>\n",
       "      <td>-0.159151</td>\n",
       "      <td>...</td>\n",
       "      <td>0.192794</td>\n",
       "      <td>-1.063267</td>\n",
       "      <td>1.227526</td>\n",
       "      <td>ENSG00000130985</td>\n",
       "      <td>0.042441</td>\n",
       "      <td>1000</td>\n",
       "      <td>11.340057</td>\n",
       "      <td>0.080453</td>\n",
       "      <td>0.999994</td>\n",
       "      <td>0.999979</td>\n",
       "    </tr>\n",
       "    <tr>\n",
       "      <th>1040</th>\n",
       "      <td>-0.456947</td>\n",
       "      <td>0.488196</td>\n",
       "      <td>0.941375</td>\n",
       "      <td>-0.408605</td>\n",
       "      <td>-0.354632</td>\n",
       "      <td>-0.132004</td>\n",
       "      <td>-0.742193</td>\n",
       "      <td>-0.171043</td>\n",
       "      <td>-0.625772</td>\n",
       "      <td>-0.149968</td>\n",
       "      <td>...</td>\n",
       "      <td>0.189531</td>\n",
       "      <td>-1.067998</td>\n",
       "      <td>1.227150</td>\n",
       "      <td>ENSG00000068394</td>\n",
       "      <td>0.039727</td>\n",
       "      <td>1000</td>\n",
       "      <td>11.362294</td>\n",
       "      <td>0.067622</td>\n",
       "      <td>0.999994</td>\n",
       "      <td>0.999982</td>\n",
       "    </tr>\n",
       "    <tr>\n",
       "      <th>10275</th>\n",
       "      <td>-0.453486</td>\n",
       "      <td>0.488296</td>\n",
       "      <td>0.941345</td>\n",
       "      <td>-0.406880</td>\n",
       "      <td>-0.354633</td>\n",
       "      <td>-0.134602</td>\n",
       "      <td>-0.740801</td>\n",
       "      <td>-0.173479</td>\n",
       "      <td>-0.626219</td>\n",
       "      <td>-0.154706</td>\n",
       "      <td>...</td>\n",
       "      <td>0.190223</td>\n",
       "      <td>-1.066651</td>\n",
       "      <td>1.224355</td>\n",
       "      <td>ENSG00000171606</td>\n",
       "      <td>0.039797</td>\n",
       "      <td>1000</td>\n",
       "      <td>11.349566</td>\n",
       "      <td>0.070670</td>\n",
       "      <td>0.999994</td>\n",
       "      <td>0.999983</td>\n",
       "    </tr>\n",
       "  </tbody>\n",
       "</table>\n",
       "<p>10 rows × 263 columns</p>\n",
       "</div>"
      ],
      "text/plain": [
       "              0         1         2         3         4         5         6  \\\n",
       "949   -0.453714  0.486818  0.944233 -0.410351 -0.351699 -0.136820 -0.745033   \n",
       "3527  -0.453030  0.491896  0.940035 -0.408237 -0.354910 -0.136614 -0.740181   \n",
       "6213  -0.455307  0.488612  0.943500 -0.409579 -0.357018 -0.131747 -0.742029   \n",
       "585   -0.454149  0.486271  0.942350 -0.408077 -0.357308 -0.134176 -0.742051   \n",
       "853   -0.454539  0.488832  0.941477 -0.408600 -0.353553 -0.132148 -0.741151   \n",
       "3451  -0.456147  0.487994  0.941535 -0.407832 -0.354656 -0.136660 -0.740177   \n",
       "2410  -0.453480  0.488829  0.942983 -0.408064 -0.355557 -0.137781 -0.742355   \n",
       "5844  -0.453041  0.489204  0.943221 -0.408073 -0.355597 -0.133938 -0.744402   \n",
       "1040  -0.456947  0.488196  0.941375 -0.408605 -0.354632 -0.132004 -0.742193   \n",
       "10275 -0.453486  0.488296  0.941345 -0.406880 -0.354633 -0.134602 -0.740801   \n",
       "\n",
       "              7         8         9  ...       253       254       255  \\\n",
       "949   -0.173005 -0.626493 -0.156051  ...  0.190631 -1.067832  1.226177   \n",
       "3527  -0.171606 -0.627691 -0.157680  ...  0.191521 -1.066246  1.226668   \n",
       "6213  -0.171495 -0.623789 -0.154105  ...  0.194133 -1.066299  1.228516   \n",
       "585   -0.173566 -0.625412 -0.155820  ...  0.191773 -1.065979  1.230148   \n",
       "853   -0.173510 -0.626305 -0.155017  ...  0.192705 -1.064540  1.227277   \n",
       "3451  -0.172526 -0.628558 -0.154809  ...  0.192481 -1.068542  1.230854   \n",
       "2410  -0.174249 -0.630173 -0.156715  ...  0.193670 -1.067100  1.226537   \n",
       "5844  -0.174748 -0.628995 -0.159151  ...  0.192794 -1.063267  1.227526   \n",
       "1040  -0.171043 -0.625772 -0.149968  ...  0.189531 -1.067998  1.227150   \n",
       "10275 -0.173479 -0.626219 -0.154706  ...  0.190223 -1.066651  1.224355   \n",
       "\n",
       "                  gene  euclidean_distance     n  ccr4-not_dist  \\\n",
       "949    ENSG00000065883            0.037143  1000      11.342435   \n",
       "3527   ENSG00000109184            0.037158  1000      11.346122   \n",
       "6213   ENSG00000133997            0.036554  1000      11.350278   \n",
       "585    ENSG00000042429            0.036503  1000      11.353497   \n",
       "853    ENSG00000063176            0.038187  1000      11.346852   \n",
       "3451   ENSG00000108604            0.037689  1000      11.356813   \n",
       "2410   ENSG00000100982            0.038582  1000      11.351014   \n",
       "5844   ENSG00000130985            0.042441  1000      11.340057   \n",
       "1040   ENSG00000068394            0.039727  1000      11.362294   \n",
       "10275  ENSG00000171606            0.039797  1000      11.349566   \n",
       "\n",
       "       mean_dev_dist  cos_sim_cnot1  cos_sim_dev_avg  \n",
       "949         0.073322       0.999995         0.999983  \n",
       "3527        0.076402       0.999995         0.999980  \n",
       "6213        0.071992       0.999995         0.999982  \n",
       "585         0.071523       0.999995         0.999981  \n",
       "853         0.073311       0.999995         0.999982  \n",
       "3451        0.071430       0.999994         0.999981  \n",
       "2410        0.071382       0.999994         0.999981  \n",
       "5844        0.080453       0.999994         0.999979  \n",
       "1040        0.067622       0.999994         0.999982  \n",
       "10275       0.070670       0.999994         0.999983  \n",
       "\n",
       "[10 rows x 263 columns]"
      ]
     },
     "metadata": {},
     "output_type": "display_data"
    }
   ],
   "source": [
    "top_100_dev_cnot1 = dev_df_embs.sort_values(by='cos_sim_cnot1',ascending=False).head(n=100)\n",
    "top_100_dev_avg = dev_df_embs.sort_values(by='cos_sim_dev_avg').head(n=5000)\n",
    "top_both = top_100_dev_cnot1[top_100_dev_cnot1['gene'].isin(top_100_dev_avg['gene'])]\n",
    "display(top_both)"
   ]
  },
  {
   "cell_type": "code",
   "execution_count": 54,
   "id": "b2f49a54-c6a8-49a4-957d-1909a72d95f1",
   "metadata": {},
   "outputs": [
    {
     "data": {
      "text/html": [
       "<div>\n",
       "<style scoped>\n",
       "    .dataframe tbody tr th:only-of-type {\n",
       "        vertical-align: middle;\n",
       "    }\n",
       "\n",
       "    .dataframe tbody tr th {\n",
       "        vertical-align: top;\n",
       "    }\n",
       "\n",
       "    .dataframe thead th {\n",
       "        text-align: right;\n",
       "    }\n",
       "</style>\n",
       "<table border=\"1\" class=\"dataframe\">\n",
       "  <thead>\n",
       "    <tr style=\"text-align: right;\">\n",
       "      <th></th>\n",
       "      <th>0</th>\n",
       "      <th>1</th>\n",
       "      <th>2</th>\n",
       "      <th>3</th>\n",
       "      <th>4</th>\n",
       "      <th>5</th>\n",
       "      <th>6</th>\n",
       "      <th>7</th>\n",
       "      <th>8</th>\n",
       "      <th>9</th>\n",
       "      <th>...</th>\n",
       "      <th>251</th>\n",
       "      <th>252</th>\n",
       "      <th>253</th>\n",
       "      <th>254</th>\n",
       "      <th>255</th>\n",
       "      <th>gene</th>\n",
       "      <th>euclidean_distance</th>\n",
       "      <th>n</th>\n",
       "      <th>ccr4-not_dist</th>\n",
       "      <th>cnot1_cos_sim</th>\n",
       "    </tr>\n",
       "  </thead>\n",
       "  <tbody>\n",
       "    <tr>\n",
       "      <th>1497</th>\n",
       "      <td>0.200524</td>\n",
       "      <td>0.236730</td>\n",
       "      <td>1.594782</td>\n",
       "      <td>-0.190982</td>\n",
       "      <td>-0.052489</td>\n",
       "      <td>0.200593</td>\n",
       "      <td>-0.568472</td>\n",
       "      <td>0.306424</td>\n",
       "      <td>-0.476052</td>\n",
       "      <td>0.325988</td>\n",
       "      <td>...</td>\n",
       "      <td>-0.027739</td>\n",
       "      <td>0.320051</td>\n",
       "      <td>-0.011586</td>\n",
       "      <td>-0.217037</td>\n",
       "      <td>0.672722</td>\n",
       "      <td>ENSG00000080546</td>\n",
       "      <td>0.053561</td>\n",
       "      <td>1000</td>\n",
       "      <td>0.048906</td>\n",
       "      <td>0.999982</td>\n",
       "    </tr>\n",
       "    <tr>\n",
       "      <th>2474</th>\n",
       "      <td>0.200299</td>\n",
       "      <td>0.235477</td>\n",
       "      <td>1.600036</td>\n",
       "      <td>-0.188264</td>\n",
       "      <td>-0.051509</td>\n",
       "      <td>0.198847</td>\n",
       "      <td>-0.569634</td>\n",
       "      <td>0.304946</td>\n",
       "      <td>-0.476937</td>\n",
       "      <td>0.322772</td>\n",
       "      <td>...</td>\n",
       "      <td>-0.028625</td>\n",
       "      <td>0.320494</td>\n",
       "      <td>-0.011210</td>\n",
       "      <td>-0.218930</td>\n",
       "      <td>0.670572</td>\n",
       "      <td>ENSG00000101247</td>\n",
       "      <td>0.053844</td>\n",
       "      <td>1000</td>\n",
       "      <td>0.053088</td>\n",
       "      <td>0.999979</td>\n",
       "    </tr>\n",
       "    <tr>\n",
       "      <th>678</th>\n",
       "      <td>0.200357</td>\n",
       "      <td>0.237436</td>\n",
       "      <td>1.596816</td>\n",
       "      <td>-0.192642</td>\n",
       "      <td>-0.050883</td>\n",
       "      <td>0.197506</td>\n",
       "      <td>-0.568711</td>\n",
       "      <td>0.303768</td>\n",
       "      <td>-0.475735</td>\n",
       "      <td>0.325066</td>\n",
       "      <td>...</td>\n",
       "      <td>-0.030340</td>\n",
       "      <td>0.320415</td>\n",
       "      <td>-0.016702</td>\n",
       "      <td>-0.216297</td>\n",
       "      <td>0.668677</td>\n",
       "      <td>ENSG00000050405</td>\n",
       "      <td>0.055630</td>\n",
       "      <td>1000</td>\n",
       "      <td>0.054286</td>\n",
       "      <td>0.999978</td>\n",
       "    </tr>\n",
       "    <tr>\n",
       "      <th>2350</th>\n",
       "      <td>0.198795</td>\n",
       "      <td>0.235271</td>\n",
       "      <td>1.596561</td>\n",
       "      <td>-0.193703</td>\n",
       "      <td>-0.051904</td>\n",
       "      <td>0.195900</td>\n",
       "      <td>-0.566686</td>\n",
       "      <td>0.307224</td>\n",
       "      <td>-0.475620</td>\n",
       "      <td>0.325834</td>\n",
       "      <td>...</td>\n",
       "      <td>-0.028344</td>\n",
       "      <td>0.320365</td>\n",
       "      <td>-0.012189</td>\n",
       "      <td>-0.216241</td>\n",
       "      <td>0.670455</td>\n",
       "      <td>ENSG00000100605</td>\n",
       "      <td>0.057805</td>\n",
       "      <td>1000</td>\n",
       "      <td>0.054193</td>\n",
       "      <td>0.999978</td>\n",
       "    </tr>\n",
       "    <tr>\n",
       "      <th>43</th>\n",
       "      <td>0.202876</td>\n",
       "      <td>0.233448</td>\n",
       "      <td>1.596746</td>\n",
       "      <td>-0.191350</td>\n",
       "      <td>-0.049472</td>\n",
       "      <td>0.199725</td>\n",
       "      <td>-0.568592</td>\n",
       "      <td>0.309368</td>\n",
       "      <td>-0.476819</td>\n",
       "      <td>0.324873</td>\n",
       "      <td>...</td>\n",
       "      <td>-0.029661</td>\n",
       "      <td>0.319817</td>\n",
       "      <td>-0.013221</td>\n",
       "      <td>-0.214820</td>\n",
       "      <td>0.672493</td>\n",
       "      <td>ENSG00000003989</td>\n",
       "      <td>0.066547</td>\n",
       "      <td>1000</td>\n",
       "      <td>0.055858</td>\n",
       "      <td>0.999978</td>\n",
       "    </tr>\n",
       "    <tr>\n",
       "      <th>...</th>\n",
       "      <td>...</td>\n",
       "      <td>...</td>\n",
       "      <td>...</td>\n",
       "      <td>...</td>\n",
       "      <td>...</td>\n",
       "      <td>...</td>\n",
       "      <td>...</td>\n",
       "      <td>...</td>\n",
       "      <td>...</td>\n",
       "      <td>...</td>\n",
       "      <td>...</td>\n",
       "      <td>...</td>\n",
       "      <td>...</td>\n",
       "      <td>...</td>\n",
       "      <td>...</td>\n",
       "      <td>...</td>\n",
       "      <td>...</td>\n",
       "      <td>...</td>\n",
       "      <td>...</td>\n",
       "      <td>...</td>\n",
       "      <td>...</td>\n",
       "    </tr>\n",
       "    <tr>\n",
       "      <th>854</th>\n",
       "      <td>0.220757</td>\n",
       "      <td>0.207512</td>\n",
       "      <td>1.579537</td>\n",
       "      <td>-0.172665</td>\n",
       "      <td>-0.049512</td>\n",
       "      <td>0.235094</td>\n",
       "      <td>-0.547807</td>\n",
       "      <td>0.278143</td>\n",
       "      <td>-0.470990</td>\n",
       "      <td>0.369395</td>\n",
       "      <td>...</td>\n",
       "      <td>-0.025005</td>\n",
       "      <td>0.349862</td>\n",
       "      <td>-0.006593</td>\n",
       "      <td>-0.234118</td>\n",
       "      <td>0.651431</td>\n",
       "      <td>ENSG00000063177</td>\n",
       "      <td>0.491029</td>\n",
       "      <td>1000</td>\n",
       "      <td>0.503047</td>\n",
       "      <td>0.997949</td>\n",
       "    </tr>\n",
       "    <tr>\n",
       "      <th>301</th>\n",
       "      <td>0.173625</td>\n",
       "      <td>0.277522</td>\n",
       "      <td>1.540175</td>\n",
       "      <td>-0.216185</td>\n",
       "      <td>-0.042433</td>\n",
       "      <td>0.160354</td>\n",
       "      <td>-0.585827</td>\n",
       "      <td>0.296045</td>\n",
       "      <td>-0.520036</td>\n",
       "      <td>0.350995</td>\n",
       "      <td>...</td>\n",
       "      <td>-0.019702</td>\n",
       "      <td>0.328061</td>\n",
       "      <td>0.022668</td>\n",
       "      <td>-0.206764</td>\n",
       "      <td>0.681485</td>\n",
       "      <td>ENSG00000011465</td>\n",
       "      <td>0.513721</td>\n",
       "      <td>1000</td>\n",
       "      <td>0.512842</td>\n",
       "      <td>0.997881</td>\n",
       "    </tr>\n",
       "    <tr>\n",
       "      <th>1317</th>\n",
       "      <td>0.216331</td>\n",
       "      <td>0.204211</td>\n",
       "      <td>1.579759</td>\n",
       "      <td>-0.217839</td>\n",
       "      <td>-0.064443</td>\n",
       "      <td>0.147099</td>\n",
       "      <td>-0.586980</td>\n",
       "      <td>0.227979</td>\n",
       "      <td>-0.419052</td>\n",
       "      <td>0.349145</td>\n",
       "      <td>...</td>\n",
       "      <td>0.014080</td>\n",
       "      <td>0.310995</td>\n",
       "      <td>0.005629</td>\n",
       "      <td>-0.178147</td>\n",
       "      <td>0.634598</td>\n",
       "      <td>ENSG00000075624</td>\n",
       "      <td>0.533740</td>\n",
       "      <td>1000</td>\n",
       "      <td>0.541938</td>\n",
       "      <td>0.997617</td>\n",
       "    </tr>\n",
       "    <tr>\n",
       "      <th>231</th>\n",
       "      <td>0.175666</td>\n",
       "      <td>0.227847</td>\n",
       "      <td>1.534634</td>\n",
       "      <td>-0.221196</td>\n",
       "      <td>-0.011098</td>\n",
       "      <td>0.122011</td>\n",
       "      <td>-0.570722</td>\n",
       "      <td>0.311238</td>\n",
       "      <td>-0.546911</td>\n",
       "      <td>0.422250</td>\n",
       "      <td>...</td>\n",
       "      <td>-0.018537</td>\n",
       "      <td>0.386112</td>\n",
       "      <td>0.023177</td>\n",
       "      <td>-0.288150</td>\n",
       "      <td>0.737252</td>\n",
       "      <td>ENSG00000008988</td>\n",
       "      <td>0.822355</td>\n",
       "      <td>1000</td>\n",
       "      <td>0.818091</td>\n",
       "      <td>0.994573</td>\n",
       "    </tr>\n",
       "    <tr>\n",
       "      <th>2521</th>\n",
       "      <td>0.205459</td>\n",
       "      <td>0.155413</td>\n",
       "      <td>1.479687</td>\n",
       "      <td>-0.172011</td>\n",
       "      <td>-0.011859</td>\n",
       "      <td>0.211383</td>\n",
       "      <td>-0.628827</td>\n",
       "      <td>0.364387</td>\n",
       "      <td>-0.502525</td>\n",
       "      <td>0.474062</td>\n",
       "      <td>...</td>\n",
       "      <td>-0.050831</td>\n",
       "      <td>0.395943</td>\n",
       "      <td>-0.058468</td>\n",
       "      <td>-0.316496</td>\n",
       "      <td>0.736712</td>\n",
       "      <td>ENSG00000101440</td>\n",
       "      <td>1.261308</td>\n",
       "      <td>1000</td>\n",
       "      <td>1.244763</td>\n",
       "      <td>0.987816</td>\n",
       "    </tr>\n",
       "  </tbody>\n",
       "</table>\n",
       "<p>2800 rows × 261 columns</p>\n",
       "</div>"
      ],
      "text/plain": [
       "             0         1         2         3         4         5         6  \\\n",
       "1497  0.200524  0.236730  1.594782 -0.190982 -0.052489  0.200593 -0.568472   \n",
       "2474  0.200299  0.235477  1.600036 -0.188264 -0.051509  0.198847 -0.569634   \n",
       "678   0.200357  0.237436  1.596816 -0.192642 -0.050883  0.197506 -0.568711   \n",
       "2350  0.198795  0.235271  1.596561 -0.193703 -0.051904  0.195900 -0.566686   \n",
       "43    0.202876  0.233448  1.596746 -0.191350 -0.049472  0.199725 -0.568592   \n",
       "...        ...       ...       ...       ...       ...       ...       ...   \n",
       "854   0.220757  0.207512  1.579537 -0.172665 -0.049512  0.235094 -0.547807   \n",
       "301   0.173625  0.277522  1.540175 -0.216185 -0.042433  0.160354 -0.585827   \n",
       "1317  0.216331  0.204211  1.579759 -0.217839 -0.064443  0.147099 -0.586980   \n",
       "231   0.175666  0.227847  1.534634 -0.221196 -0.011098  0.122011 -0.570722   \n",
       "2521  0.205459  0.155413  1.479687 -0.172011 -0.011859  0.211383 -0.628827   \n",
       "\n",
       "             7         8         9  ...       251       252       253  \\\n",
       "1497  0.306424 -0.476052  0.325988  ... -0.027739  0.320051 -0.011586   \n",
       "2474  0.304946 -0.476937  0.322772  ... -0.028625  0.320494 -0.011210   \n",
       "678   0.303768 -0.475735  0.325066  ... -0.030340  0.320415 -0.016702   \n",
       "2350  0.307224 -0.475620  0.325834  ... -0.028344  0.320365 -0.012189   \n",
       "43    0.309368 -0.476819  0.324873  ... -0.029661  0.319817 -0.013221   \n",
       "...        ...       ...       ...  ...       ...       ...       ...   \n",
       "854   0.278143 -0.470990  0.369395  ... -0.025005  0.349862 -0.006593   \n",
       "301   0.296045 -0.520036  0.350995  ... -0.019702  0.328061  0.022668   \n",
       "1317  0.227979 -0.419052  0.349145  ...  0.014080  0.310995  0.005629   \n",
       "231   0.311238 -0.546911  0.422250  ... -0.018537  0.386112  0.023177   \n",
       "2521  0.364387 -0.502525  0.474062  ... -0.050831  0.395943 -0.058468   \n",
       "\n",
       "           254       255             gene  euclidean_distance     n  \\\n",
       "1497 -0.217037  0.672722  ENSG00000080546            0.053561  1000   \n",
       "2474 -0.218930  0.670572  ENSG00000101247            0.053844  1000   \n",
       "678  -0.216297  0.668677  ENSG00000050405            0.055630  1000   \n",
       "2350 -0.216241  0.670455  ENSG00000100605            0.057805  1000   \n",
       "43   -0.214820  0.672493  ENSG00000003989            0.066547  1000   \n",
       "...        ...       ...              ...                 ...   ...   \n",
       "854  -0.234118  0.651431  ENSG00000063177            0.491029  1000   \n",
       "301  -0.206764  0.681485  ENSG00000011465            0.513721  1000   \n",
       "1317 -0.178147  0.634598  ENSG00000075624            0.533740  1000   \n",
       "231  -0.288150  0.737252  ENSG00000008988            0.822355  1000   \n",
       "2521 -0.316496  0.736712  ENSG00000101440            1.261308  1000   \n",
       "\n",
       "      ccr4-not_dist  cnot1_cos_sim  \n",
       "1497       0.048906       0.999982  \n",
       "2474       0.053088       0.999979  \n",
       "678        0.054286       0.999978  \n",
       "2350       0.054193       0.999978  \n",
       "43         0.055858       0.999978  \n",
       "...             ...            ...  \n",
       "854        0.503047       0.997949  \n",
       "301        0.512842       0.997881  \n",
       "1317       0.541938       0.997617  \n",
       "231        0.818091       0.994573  \n",
       "2521       1.244763       0.987816  \n",
       "\n",
       "[2800 rows x 261 columns]"
      ]
     },
     "execution_count": 54,
     "metadata": {},
     "output_type": "execute_result"
    }
   ],
   "source": [
    "full_df.sort_values(by='cnot1_cos_sim', ascending=False)"
   ]
  },
  {
   "cell_type": "code",
   "execution_count": 17,
   "id": "08b4c0f3-68e1-4896-9a89-a3981ec495df",
   "metadata": {},
   "outputs": [
    {
     "data": {
      "text/html": [
       "<div>\n",
       "<style scoped>\n",
       "    .dataframe tbody tr th:only-of-type {\n",
       "        vertical-align: middle;\n",
       "    }\n",
       "\n",
       "    .dataframe tbody tr th {\n",
       "        vertical-align: top;\n",
       "    }\n",
       "\n",
       "    .dataframe thead th {\n",
       "        text-align: right;\n",
       "    }\n",
       "</style>\n",
       "<table border=\"1\" class=\"dataframe\">\n",
       "  <thead>\n",
       "    <tr style=\"text-align: right;\">\n",
       "      <th></th>\n",
       "      <th>gene</th>\n",
       "      <th>n</th>\n",
       "      <th>euclidean_distance_1000</th>\n",
       "    </tr>\n",
       "  </thead>\n",
       "  <tbody>\n",
       "    <tr>\n",
       "      <th>4024</th>\n",
       "      <td>ENSG00000125107</td>\n",
       "      <td>1000</td>\n",
       "      <td>0.000008</td>\n",
       "    </tr>\n",
       "    <tr>\n",
       "      <th>5461</th>\n",
       "      <td>ENSG00000138834</td>\n",
       "      <td>1000</td>\n",
       "      <td>0.034392</td>\n",
       "    </tr>\n",
       "    <tr>\n",
       "      <th>715</th>\n",
       "      <td>ENSG00000066027</td>\n",
       "      <td>1000</td>\n",
       "      <td>0.039080</td>\n",
       "    </tr>\n",
       "    <tr>\n",
       "      <th>7105</th>\n",
       "      <td>ENSG00000158062</td>\n",
       "      <td>1000</td>\n",
       "      <td>0.046941</td>\n",
       "    </tr>\n",
       "    <tr>\n",
       "      <th>8677</th>\n",
       "      <td>ENSG00000170265</td>\n",
       "      <td>1000</td>\n",
       "      <td>0.048952</td>\n",
       "    </tr>\n",
       "    <tr>\n",
       "      <th>6058</th>\n",
       "      <td>ENSG00000144747</td>\n",
       "      <td>1000</td>\n",
       "      <td>0.050513</td>\n",
       "    </tr>\n",
       "    <tr>\n",
       "      <th>11217</th>\n",
       "      <td>ENSG00000204574</td>\n",
       "      <td>1000</td>\n",
       "      <td>0.050677</td>\n",
       "    </tr>\n",
       "    <tr>\n",
       "      <th>3756</th>\n",
       "      <td>ENSG00000121413</td>\n",
       "      <td>1000</td>\n",
       "      <td>0.053478</td>\n",
       "    </tr>\n",
       "    <tr>\n",
       "      <th>10865</th>\n",
       "      <td>ENSG00000197782</td>\n",
       "      <td>1000</td>\n",
       "      <td>0.054636</td>\n",
       "    </tr>\n",
       "    <tr>\n",
       "      <th>5027</th>\n",
       "      <td>ENSG00000135766</td>\n",
       "      <td>1000</td>\n",
       "      <td>0.054673</td>\n",
       "    </tr>\n",
       "  </tbody>\n",
       "</table>\n",
       "</div>"
      ],
      "text/plain": [
       "                  gene     n  euclidean_distance_1000\n",
       "4024   ENSG00000125107  1000                 0.000008\n",
       "5461   ENSG00000138834  1000                 0.034392\n",
       "715    ENSG00000066027  1000                 0.039080\n",
       "7105   ENSG00000158062  1000                 0.046941\n",
       "8677   ENSG00000170265  1000                 0.048952\n",
       "6058   ENSG00000144747  1000                 0.050513\n",
       "11217  ENSG00000204574  1000                 0.050677\n",
       "3756   ENSG00000121413  1000                 0.053478\n",
       "10865  ENSG00000197782  1000                 0.054636\n",
       "5027   ENSG00000135766  1000                 0.054673"
      ]
     },
     "execution_count": 17,
     "metadata": {},
     "output_type": "execute_result"
    }
   ],
   "source": [
    "full_df.drop('euclidean_distance',inplace=True,axis=1)\n",
    "full_df.sort_values(by='euclidean_distance_1000',ascending=True).head(n=10)"
   ]
  },
  {
   "cell_type": "code",
   "execution_count": 11,
   "id": "7abebdd8-441d-4770-bcd6-419eeeb8700b",
   "metadata": {},
   "outputs": [],
   "source": [
    "cnot1_emb = pd.read_csv('/mnt/scratchc/ghlab/toby/in_silico_perturb_data/in_silico_pt_embs/dev_model/cnot1_oex_avg_emb.csv', index_col=0)\n",
    "avg_embs = pd.read_csv('/mnt/scratchc/ghlab/toby/in_silico_perturb_data/avg_embs_vs_cnot1/dev_model/proof_of_concept.csv', index_col=0)\n",
    "\n",
    "avg_embs['gene_type'] = ['CCR4-NOT+DDX6' for i in range(10)]+['Housekeeping Gene Control' for i in range(10)]\n",
    "\n",
    "housekeeping_only = avg_embs[avg_embs['gene_type']=='Housekeeping Gene Control'].iloc[:,:256]\n",
    "mean_housekeeping_only = housekeeping_only.mean()\n",
    "avg_cnot1_shift = cnot1_emb['0'] - mean_housekeeping_only['0']\n"
   ]
  },
  {
   "cell_type": "code",
   "execution_count": 34,
   "id": "3a55bcce-07d1-4761-8995-b9a0e7329010",
   "metadata": {},
   "outputs": [
    {
     "data": {
      "text/plain": [
       "0      0.010691\n",
       "1      0.952466\n",
       "2      1.406892\n",
       "3      0.056759\n",
       "4      0.110667\n",
       "         ...   \n",
       "251    0.684539\n",
       "252   -0.126622\n",
       "253    0.659567\n",
       "254   -0.605896\n",
       "255    1.694445\n",
       "Name: 0, Length: 256, dtype: float64"
      ]
     },
     "execution_count": 34,
     "metadata": {},
     "output_type": "execute_result"
    }
   ],
   "source": [
    "avg_cnot1_shift"
   ]
  },
  {
   "cell_type": "code",
   "execution_count": 89,
   "id": "8f098547-dc71-4356-bdba-8fb5d8ac46bc",
   "metadata": {},
   "outputs": [],
   "source": [
    "cos = torch.nn.CosineSimilarity(dim=0)\n",
    "def cos_shift_to_cnot1(row):\n",
    "    cos = torch.nn.CosineSimilarity(dim=1)\n",
    "    row_embs_only = row[:256]\n",
    "    perturb_v_end = torch.squeeze(cos(torch.Tensor(row_embs_only),torch.Tensor(cnot1_emb.values.T)))\n",
    "    #original_v_end = torch.squeeze(cos(torch.Tensor(row), torch.Tensor(cnot1_orig.values.T)))\n",
    "    #return (perturb_v_end - original_v_end).item()\n",
    "    return perturb_v_end.item()"
   ]
  },
  {
   "cell_type": "code",
   "execution_count": 90,
   "id": "be9c224f-9211-41e7-ad11-8c9d51d94e19",
   "metadata": {},
   "outputs": [],
   "source": [
    "def get_shift_to_avg_cnot1(row):\n",
    "    cos = torch.nn.CosineSimilarity(dim=0)\n",
    "    row_embs_only = row[:256]\n",
    "    row_shift = torch.Tensor(pd.Series(row_embs_only.values-mean_housekeeping_only['0']))\n",
    "    cos_distance = torch.squeeze(cos(row_shift,torch.Tensor(avg_cnot1_shift.T)))\n",
    "    return cos_distance.item()"
   ]
  },
  {
   "cell_type": "code",
   "execution_count": 91,
   "id": "410ecbb7-65bb-4e5a-992a-1699fe96e532",
   "metadata": {},
   "outputs": [
    {
     "name": "stderr",
     "output_type": "stream",
     "text": [
      "/tmp/ipykernel_3196519/3144157386.py:5: FutureWarning: Series.__getitem__ treating keys as positions is deprecated. In a future version, integer keys will always be treated as labels (consistent with DataFrame behavior). To access a value by position, use `ser.iloc[pos]`\n",
      "  perturb_v_end = torch.squeeze(cos(torch.Tensor(row_embs_only),torch.Tensor(cnot1_emb.values.T)))\n"
     ]
    }
   ],
   "source": [
    "avg_embs['shift']=avg_embs.apply(get_shift_to_avg_cnot1, axis=1)\n",
    "avg_embs['cos_sim'] = avg_embs.apply(cos_shift_to_cnot1, axis=1)"
   ]
  },
  {
   "cell_type": "code",
   "execution_count": 68,
   "id": "36ba884c-1f13-48c2-961e-b46f8f1eb49c",
   "metadata": {},
   "outputs": [
    {
     "data": {
      "text/plain": [
       "0     0.999983\n",
       "1     0.999994\n",
       "2     0.999987\n",
       "3     0.999993\n",
       "4     0.999971\n",
       "5     0.999980\n",
       "6     0.999994\n",
       "7     0.999988\n",
       "8     0.999991\n",
       "9     0.999992\n",
       "10    0.999593\n",
       "11    0.999370\n",
       "12    0.999865\n",
       "13    0.999989\n",
       "14    0.999858\n",
       "15    0.999964\n",
       "16    0.999967\n",
       "17    0.999764\n",
       "18    0.999939\n",
       "19    0.999951\n",
       "Name: shift, dtype: float64"
      ]
     },
     "execution_count": 68,
     "metadata": {},
     "output_type": "execute_result"
    }
   ],
   "source": [
    "avg_embs['shift']"
   ]
  },
  {
   "cell_type": "code",
   "execution_count": 92,
   "id": "934833c1-29c2-412c-a0c0-b27780c7c1d3",
   "metadata": {},
   "outputs": [
    {
     "name": "stderr",
     "output_type": "stream",
     "text": [
      "/Users/clark04/anaconda3/envs/pkgtorch/lib/python3.11/site-packages/seaborn/_oldcore.py:1498: FutureWarning: is_categorical_dtype is deprecated and will be removed in a future version. Use isinstance(dtype, CategoricalDtype) instead\n",
      "  if pd.api.types.is_categorical_dtype(vector):\n",
      "/Users/clark04/anaconda3/envs/pkgtorch/lib/python3.11/site-packages/seaborn/_oldcore.py:1498: FutureWarning: is_categorical_dtype is deprecated and will be removed in a future version. Use isinstance(dtype, CategoricalDtype) instead\n",
      "  if pd.api.types.is_categorical_dtype(vector):\n",
      "/Users/clark04/anaconda3/envs/pkgtorch/lib/python3.11/site-packages/seaborn/_oldcore.py:1498: FutureWarning: is_categorical_dtype is deprecated and will be removed in a future version. Use isinstance(dtype, CategoricalDtype) instead\n",
      "  if pd.api.types.is_categorical_dtype(vector):\n"
     ]
    },
    {
     "data": {
      "image/png": "[encoded data removed]",
      "text/plain": [
       "<Figure size 640x480 with 1 Axes>"
      ]
     },
     "metadata": {},
     "output_type": "display_data"
    },
    {
     "name": "stderr",
     "output_type": "stream",
     "text": [
      "/Users/clark04/anaconda3/envs/pkgtorch/lib/python3.11/site-packages/seaborn/_oldcore.py:1498: FutureWarning: is_categorical_dtype is deprecated and will be removed in a future version. Use isinstance(dtype, CategoricalDtype) instead\n",
      "  if pd.api.types.is_categorical_dtype(vector):\n",
      "/Users/clark04/anaconda3/envs/pkgtorch/lib/python3.11/site-packages/seaborn/_oldcore.py:1498: FutureWarning: is_categorical_dtype is deprecated and will be removed in a future version. Use isinstance(dtype, CategoricalDtype) instead\n",
      "  if pd.api.types.is_categorical_dtype(vector):\n",
      "/Users/clark04/anaconda3/envs/pkgtorch/lib/python3.11/site-packages/seaborn/_oldcore.py:1498: FutureWarning: is_categorical_dtype is deprecated and will be removed in a future version. Use isinstance(dtype, CategoricalDtype) instead\n",
      "  if pd.api.types.is_categorical_dtype(vector):\n"
     ]
    },
    {
     "data": {
      "text/plain": [
       "<Axes: xlabel='gene_type', ylabel='cos_sim'>"
      ]
     },
     "execution_count": 92,
     "metadata": {},
     "output_type": "execute_result"
    },
    {
     "data": {
      "image/png": "[encoded data removed]",
      "text/plain": [
       "<Figure size 640x480 with 1 Axes>"
      ]
     },
     "metadata": {},
     "output_type": "display_data"
    }
   ],
   "source": [
    "sns.boxplot(data=avg_embs, x='gene_type',y='shift', palette='colorblind')\n",
    "plt.show()\n",
    "sns.boxplot(data=avg_embs, x='gene_type',y='cos_sim', palette='colorblind')"
   ]
  },
  {
   "cell_type": "code",
   "execution_count": null,
   "id": "5dd0ff2e-03bc-4f5f-a09c-bdaa52163995",
   "metadata": {},
   "outputs": [],
   "source": []
  }
 ],
 "metadata": {
  "kernelspec": {
   "display_name": "Python 3 (ipykernel)",
   "language": "python",
   "name": "python3"
  },
  "language_info": {
   "codemirror_mode": {
    "name": "ipython",
    "version": 3
   },
   "file_extension": ".py",
   "mimetype": "text/x-python",
   "name": "python",
   "nbconvert_exporter": "python",
   "pygments_lexer": "ipython3",
   "version": "3.11.5"
  }
 },
 "nbformat": 4,
 "nbformat_minor": 5
}
