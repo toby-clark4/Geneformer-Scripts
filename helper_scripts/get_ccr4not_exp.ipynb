{
 "cells": [
  {
   "cell_type": "code",
   "execution_count": 12,
   "id": "602f6582-b7b1-4c66-95d7-e69b4cc0b49b",
   "metadata": {},
   "outputs": [],
   "source": [
    "from datasets import Dataset, load_from_disk\n",
    "import pandas as pd\n",
    "import matplotlib.pyplot as plt\n",
    "import seaborn as sns\n",
    "import numpy as np"
   ]
  },
  {
   "cell_type": "code",
   "execution_count": 1,
   "id": "d1b6eb69-1cb3-413b-ad2a-9cd835ef3ee7",
   "metadata": {},
   "outputs": [],
   "source": [
    "ccr4not_token_dict = {\"ENSG00000125107\":5588, \"ENSG00000111596\": 3901, \"ENSG00000088038\": 1762, \"ENSG00000080802\": 1508, \"ENSG00000113300\": 4156,\n",
    "                      \"ENSG00000198791\": 17238, \"ENSG00000155508\": 9825, \"ENSG00000144580\": 8543, \"ENSG00000182973\": 15001, \"ENSG00000158435\": 10162}\n",
    "token_list = list(ccr4not_token_dict.values())\n",
    "eif_list = [9994]#[10600, 9994]"
   ]
  },
  {
   "cell_type": "code",
   "execution_count": 9,
   "id": "42444230-24ac-4831-8dbc-5f28c705f8ba",
   "metadata": {},
   "outputs": [],
   "source": [
    "cell_dataset = load_from_disk(\"/mnt/scratchc/ghlab/toby/Geneformer/Genecorpus-30M/example_input_files/cell_classification/cell_type_annotation/cell_type_train_data.dataset\")"
   ]
  },
  {
   "cell_type": "code",
   "execution_count": 49,
   "id": "c87d0492-e05f-4ad5-9383-46b128af2072",
   "metadata": {},
   "outputs": [
    {
     "data": {
      "application/vnd.jupyter.widget-view+json": {
       "model_id": "dc40cf2a091544d7afb6baa2adb9902a",
       "version_major": 2,
       "version_minor": 0
      },
      "text/plain": [
       "Filter (num_proc=16):   0%|          | 0/249556 [00:00<?, ? examples/s]"
      ]
     },
     "metadata": {},
     "output_type": "display_data"
    },
    {
     "name": "stdout",
     "output_type": "stream",
     "text": [
      "1063\n",
      "249556\n",
      "0.004259564987417654\n"
     ]
    }
   ],
   "source": [
    "def if_has_tokens_to_perturb(example):\n",
    "    return (len(set(example[\"input_ids\"]).intersection(token_list))>=3)\n",
    "filtered_input_data = cell_dataset.filter(if_has_tokens_to_perturb, num_proc=16)\n",
    "print(len(filtered_input_data))\n",
    "print(len(cell_dataset))\n",
    "print(len(filtered_input_data)/len(cell_dataset))"
   ]
  },
  {
   "cell_type": "code",
   "execution_count": 8,
   "id": "69ee856c-4bbb-40f5-814c-55ef4270a5ee",
   "metadata": {},
   "outputs": [
    {
     "data": {
      "application/vnd.jupyter.widget-view+json": {
       "model_id": "7dd771fcac6248a98a5fd8fe72de8600",
       "version_major": 2,
       "version_minor": 0
      },
      "text/plain": [
       "Filter (num_proc=16):   0%|          | 0/579159 [00:00<?, ? examples/s]"
      ]
     },
     "metadata": {},
     "output_type": "display_data"
    },
    {
     "data": {
      "application/vnd.jupyter.widget-view+json": {
       "model_id": "b71c428bbc594f2da6737e45cd9b5d91",
       "version_major": 2,
       "version_minor": 0
      },
      "text/plain": [
       "Filter (num_proc=16):   0%|          | 0/579159 [00:00<?, ? examples/s]"
      ]
     },
     "metadata": {},
     "output_type": "display_data"
    },
    {
     "data": {
      "application/vnd.jupyter.widget-view+json": {
       "model_id": "8dc28dd5480c4261b3b2a0bca6c9c8b9",
       "version_major": 2,
       "version_minor": 0
      },
      "text/plain": [
       "Filter (num_proc=16):   0%|          | 0/579159 [00:00<?, ? examples/s]"
      ]
     },
     "metadata": {},
     "output_type": "display_data"
    },
    {
     "data": {
      "application/vnd.jupyter.widget-view+json": {
       "model_id": "37410c26061a4fd1b7d99405be0f5b57",
       "version_major": 2,
       "version_minor": 0
      },
      "text/plain": [
       "Filter (num_proc=16):   0%|          | 0/579159 [00:00<?, ? examples/s]"
      ]
     },
     "metadata": {},
     "output_type": "display_data"
    },
    {
     "data": {
      "application/vnd.jupyter.widget-view+json": {
       "model_id": "5a75160058364647a5c56a255ea11f11",
       "version_major": 2,
       "version_minor": 0
      },
      "text/plain": [
       "Filter (num_proc=16):   0%|          | 0/579159 [00:00<?, ? examples/s]"
      ]
     },
     "metadata": {},
     "output_type": "display_data"
    },
    {
     "data": {
      "application/vnd.jupyter.widget-view+json": {
       "model_id": "02cdb7c0a34b461594b56b0d74fc4ada",
       "version_major": 2,
       "version_minor": 0
      },
      "text/plain": [
       "Filter (num_proc=16):   0%|          | 0/579159 [00:00<?, ? examples/s]"
      ]
     },
     "metadata": {},
     "output_type": "display_data"
    },
    {
     "data": {
      "application/vnd.jupyter.widget-view+json": {
       "model_id": "1651cd042fcb44949fd5917a814993df",
       "version_major": 2,
       "version_minor": 0
      },
      "text/plain": [
       "Filter (num_proc=16):   0%|          | 0/579159 [00:00<?, ? examples/s]"
      ]
     },
     "metadata": {},
     "output_type": "display_data"
    },
    {
     "data": {
      "application/vnd.jupyter.widget-view+json": {
       "model_id": "0fee1bf00f344e32be2eab73c52be288",
       "version_major": 2,
       "version_minor": 0
      },
      "text/plain": [
       "Filter (num_proc=16):   0%|          | 0/579159 [00:00<?, ? examples/s]"
      ]
     },
     "metadata": {},
     "output_type": "display_data"
    },
    {
     "data": {
      "application/vnd.jupyter.widget-view+json": {
       "model_id": "605ff55d233c4af3865cfee0f108e00d",
       "version_major": 2,
       "version_minor": 0
      },
      "text/plain": [
       "Filter (num_proc=16):   0%|          | 0/579159 [00:00<?, ? examples/s]"
      ]
     },
     "metadata": {},
     "output_type": "display_data"
    },
    {
     "data": {
      "application/vnd.jupyter.widget-view+json": {
       "model_id": "5c38382d21e64717a4f88f63b9aa0f56",
       "version_major": 2,
       "version_minor": 0
      },
      "text/plain": [
       "Filter (num_proc=16):   0%|          | 0/579159 [00:00<?, ? examples/s]"
      ]
     },
     "metadata": {},
     "output_type": "display_data"
    },
    {
     "data": {
      "application/vnd.jupyter.widget-view+json": {
       "model_id": "dea92c411ed94816a4822fa1a40df965",
       "version_major": 2,
       "version_minor": 0
      },
      "text/plain": [
       "Filter (num_proc=16):   0%|          | 0/579159 [00:00<?, ? examples/s]"
      ]
     },
     "metadata": {},
     "output_type": "display_data"
    }
   ],
   "source": [
    "heart_dataset = load_from_disk(\"/mnt/scratchc/ghlab/toby/Geneformer/Genecorpus-30M/example_input_files/cell_classification/disease_classification/human_dcm_hcm_nf.dataset\")\n",
    "exp_list = []\n",
    "for n in range(11):\n",
    "    def if_has_tokens_to_perturb(example):\n",
    "        return (len(set(example[\"input_ids\"]).intersection(token_list))==n)\n",
    "    filtered_input_data = heart_dataset.filter(if_has_tokens_to_perturb, num_proc=16)\n",
    "    exp_list.append(len(filtered_input_data))\n"
   ]
  },
  {
   "cell_type": "code",
   "execution_count": 16,
   "id": "82591aa4-1b1e-49ee-a053-2f5a5460dbb4",
   "metadata": {},
   "outputs": [
    {
     "name": "stdout",
     "output_type": "stream",
     "text": [
      "[188806, 190940, 115971, 54906, 21090, 5968, 1315, 152, 9, 2, 0]\n"
     ]
    }
   ],
   "source": [
    "print(exp_list)\n",
    "n = np.arange(0,11)\n",
    "exp_df = pd.DataFrame({'n':n, 'comp_exp':exp_list})"
   ]
  },
  {
   "cell_type": "code",
   "execution_count": 18,
   "id": "75949cb6-0e2c-4361-a4f6-107ae77133ff",
   "metadata": {},
   "outputs": [
    {
     "name": "stderr",
     "output_type": "stream",
     "text": [
      "/Users/clark04/anaconda3/envs/pkgtorch/lib/python3.11/site-packages/seaborn/_oldcore.py:1498: FutureWarning: is_categorical_dtype is deprecated and will be removed in a future version. Use isinstance(dtype, CategoricalDtype) instead\n",
      "  if pd.api.types.is_categorical_dtype(vector):\n",
      "/Users/clark04/anaconda3/envs/pkgtorch/lib/python3.11/site-packages/seaborn/_oldcore.py:1498: FutureWarning: is_categorical_dtype is deprecated and will be removed in a future version. Use isinstance(dtype, CategoricalDtype) instead\n",
      "  if pd.api.types.is_categorical_dtype(vector):\n",
      "/Users/clark04/anaconda3/envs/pkgtorch/lib/python3.11/site-packages/seaborn/_oldcore.py:1498: FutureWarning: is_categorical_dtype is deprecated and will be removed in a future version. Use isinstance(dtype, CategoricalDtype) instead\n",
      "  if pd.api.types.is_categorical_dtype(vector):\n"
     ]
    },
    {
     "data": {
      "image/png": "[encoded data removed]",
      "text/plain": [
       "<Figure size 640x480 with 1 Axes>"
      ]
     },
     "metadata": {},
     "output_type": "display_data"
    }
   ],
   "source": [
    "ax = sns.barplot(data=exp_df, x='n',y='comp_exp', palette='colorblind')\n",
    "ax.set_xlabel('Number of CCR4-NOT Components Present in Rank Value Encoding')\n",
    "ax.set_ylabel('Number of Cells Containing Components')\n",
    "ax.set_title('Presence of CCR4-NOT Components in Cells in the Heart Dataset')\n",
    "plt.show()"
   ]
  },
  {
   "cell_type": "code",
   "execution_count": 58,
   "id": "128a1b84-19fb-41ed-a717-562f7280929d",
   "metadata": {},
   "outputs": [
    {
     "data": {
      "application/vnd.jupyter.widget-view+json": {
       "model_id": "42c2d6724b0143baa42805fa0c0e09ed",
       "version_major": 2,
       "version_minor": 0
      },
      "text/plain": [
       "Filter (num_proc=16):   0%|          | 0/249556 [00:00<?, ? examples/s]"
      ]
     },
     "metadata": {},
     "output_type": "display_data"
    },
    {
     "name": "stdout",
     "output_type": "stream",
     "text": [
      "80178\n",
      "249556\n",
      "0.3212825978938595\n"
     ]
    }
   ],
   "source": [
    "def if_has_eifs(example):\n",
    "    return (len(set(example[\"input_ids\"]).intersection(eif_list))>=1)\n",
    "filtered_input_data = cell_dataset.filter(if_has_eifs, num_proc=16)\n",
    "print(len(filtered_input_data))\n",
    "print(len(cell_dataset))\n",
    "print(len(filtered_input_data)/len(cell_dataset))"
   ]
  },
  {
   "cell_type": "code",
   "execution_count": 59,
   "id": "3ed98833-0158-4f30-859b-6d6c896d8391",
   "metadata": {},
   "outputs": [
    {
     "data": {
      "application/vnd.jupyter.widget-view+json": {
       "model_id": "bf702b674e8844be8746dc0d30cecf3f",
       "version_major": 2,
       "version_minor": 0
      },
      "text/plain": [
       "Filter (num_proc=16):   0%|          | 0/579159 [00:00<?, ? examples/s]"
      ]
     },
     "metadata": {},
     "output_type": "display_data"
    },
    {
     "name": "stdout",
     "output_type": "stream",
     "text": [
      "77767\n",
      "0.13427573429748998\n"
     ]
    }
   ],
   "source": [
    "filtered_input_data = heart_dataset.filter(if_has_eifs, num_proc=16)\n",
    "print(len(filtered_input_data))\n",
    "print(len(filtered_input_data)/len(heart_dataset))"
   ]
  },
  {
   "cell_type": "code",
   "execution_count": 71,
   "id": "556b6eae-dc2a-40dd-9ee1-ea41250df7f2",
   "metadata": {},
   "outputs": [
    {
     "data": {
      "application/vnd.jupyter.widget-view+json": {
       "model_id": "b9a850ca24f14e0bbf5ff2d3be5e20b0",
       "version_major": 2,
       "version_minor": 0
      },
      "text/plain": [
       "Filter (num_proc=16):   0%|          | 0/249556 [00:00<?, ? examples/s]"
      ]
     },
     "metadata": {},
     "output_type": "display_data"
    },
    {
     "data": {
      "application/vnd.jupyter.widget-view+json": {
       "model_id": "419a1f14b000468e99b0a2a2b6593bbe",
       "version_major": 2,
       "version_minor": 0
      },
      "text/plain": [
       "Filter (num_proc=16):   0%|          | 0/8660 [00:00<?, ? examples/s]"
      ]
     },
     "metadata": {},
     "output_type": "display_data"
    },
    {
     "name": "stdout",
     "output_type": "stream",
     "text": [
      "bone_marrow: 16.374133949191684\n"
     ]
    },
    {
     "data": {
      "application/vnd.jupyter.widget-view+json": {
       "model_id": "13ea15f9ec3744bf984abe77a0468e09",
       "version_major": 2,
       "version_minor": 0
      },
      "text/plain": [
       "Filter (num_proc=16):   0%|          | 0/249556 [00:00<?, ? examples/s]"
      ]
     },
     "metadata": {},
     "output_type": "display_data"
    },
    {
     "data": {
      "application/vnd.jupyter.widget-view+json": {
       "model_id": "d4b84d2632134bc0a852d376ee7da9c5",
       "version_major": 2,
       "version_minor": 0
      },
      "text/plain": [
       "Filter (num_proc=16):   0%|          | 0/13440 [00:00<?, ? examples/s]"
      ]
     },
     "metadata": {},
     "output_type": "display_data"
    },
    {
     "name": "stdout",
     "output_type": "stream",
     "text": [
      "brain: 41.58482142857143\n"
     ]
    },
    {
     "data": {
      "application/vnd.jupyter.widget-view+json": {
       "model_id": "1ab706efbdcd435da5180438cce387ca",
       "version_major": 2,
       "version_minor": 0
      },
      "text/plain": [
       "Filter (num_proc=16):   0%|          | 0/249556 [00:00<?, ? examples/s]"
      ]
     },
     "metadata": {},
     "output_type": "display_data"
    },
    {
     "data": {
      "application/vnd.jupyter.widget-view+json": {
       "model_id": "f272f3ea009f469392debd4738f8e358",
       "version_major": 2,
       "version_minor": 0
      },
      "text/plain": [
       "Filter (num_proc=16):   0%|          | 0/17110 [00:00<?, ? examples/s]"
      ]
     },
     "metadata": {},
     "output_type": "display_data"
    },
    {
     "name": "stdout",
     "output_type": "stream",
     "text": [
      "immune: 18.27001753360608\n"
     ]
    },
    {
     "data": {
      "application/vnd.jupyter.widget-view+json": {
       "model_id": "b6b6a667eb6047b3b5dce47f59705375",
       "version_major": 2,
       "version_minor": 0
      },
      "text/plain": [
       "Filter (num_proc=16):   0%|          | 0/249556 [00:00<?, ? examples/s]"
      ]
     },
     "metadata": {},
     "output_type": "display_data"
    },
    {
     "data": {
      "application/vnd.jupyter.widget-view+json": {
       "model_id": "8217c663d5e0419b91a8b1176dc33329",
       "version_major": 2,
       "version_minor": 0
      },
      "text/plain": [
       "Filter (num_proc=16):   0%|          | 0/45059 [00:00<?, ? examples/s]"
      ]
     },
     "metadata": {},
     "output_type": "display_data"
    },
    {
     "name": "stdout",
     "output_type": "stream",
     "text": [
      "kidney: 46.914046028540355\n"
     ]
    },
    {
     "data": {
      "application/vnd.jupyter.widget-view+json": {
       "model_id": "f2a6d7b74cb84731b37eb744700ecff3",
       "version_major": 2,
       "version_minor": 0
      },
      "text/plain": [
       "Filter (num_proc=16):   0%|          | 0/249556 [00:00<?, ? examples/s]"
      ]
     },
     "metadata": {},
     "output_type": "display_data"
    },
    {
     "data": {
      "application/vnd.jupyter.widget-view+json": {
       "model_id": "9bac43844fa2441190d2625ca80b267e",
       "version_major": 2,
       "version_minor": 0
      },
      "text/plain": [
       "Filter (num_proc=16):   0%|          | 0/50363 [00:00<?, ? examples/s]"
      ]
     },
     "metadata": {},
     "output_type": "display_data"
    },
    {
     "name": "stdout",
     "output_type": "stream",
     "text": [
      "large_intestine: 30.61572980164009\n"
     ]
    },
    {
     "data": {
      "application/vnd.jupyter.widget-view+json": {
       "model_id": "1e704a97b6384e238a6486add840b065",
       "version_major": 2,
       "version_minor": 0
      },
      "text/plain": [
       "Filter (num_proc=16):   0%|          | 0/249556 [00:00<?, ? examples/s]"
      ]
     },
     "metadata": {},
     "output_type": "display_data"
    },
    {
     "data": {
      "application/vnd.jupyter.widget-view+json": {
       "model_id": "e5da34115b854bcca0eae9b4ecac33bc",
       "version_major": 2,
       "version_minor": 0
      },
      "text/plain": [
       "Filter (num_proc=16):   0%|          | 0/28376 [00:00<?, ? examples/s]"
      ]
     },
     "metadata": {},
     "output_type": "display_data"
    },
    {
     "name": "stdout",
     "output_type": "stream",
     "text": [
      "liver: 25.1726811389907\n"
     ]
    },
    {
     "data": {
      "application/vnd.jupyter.widget-view+json": {
       "model_id": "cd2b9805ae31407399d77aa4aae60369",
       "version_major": 2,
       "version_minor": 0
      },
      "text/plain": [
       "Filter (num_proc=16):   0%|          | 0/249556 [00:00<?, ? examples/s]"
      ]
     },
     "metadata": {},
     "output_type": "display_data"
    },
    {
     "data": {
      "application/vnd.jupyter.widget-view+json": {
       "model_id": "b18d3ccbb6a24cd9a236dee3f2faf1ca",
       "version_major": 2,
       "version_minor": 0
      },
      "text/plain": [
       "Filter (num_proc=16):   0%|          | 0/33309 [00:00<?, ? examples/s]"
      ]
     },
     "metadata": {},
     "output_type": "display_data"
    },
    {
     "name": "stdout",
     "output_type": "stream",
     "text": [
      "lung: 27.932390645170972\n"
     ]
    },
    {
     "data": {
      "application/vnd.jupyter.widget-view+json": {
       "model_id": "1f6151fec967492d8bc4f4626877975c",
       "version_major": 2,
       "version_minor": 0
      },
      "text/plain": [
       "Filter (num_proc=16):   0%|          | 0/249556 [00:00<?, ? examples/s]"
      ]
     },
     "metadata": {},
     "output_type": "display_data"
    },
    {
     "data": {
      "application/vnd.jupyter.widget-view+json": {
       "model_id": "cadfd7f46802462dbf512a4a224fd30f",
       "version_major": 2,
       "version_minor": 0
      },
      "text/plain": [
       "Filter (num_proc=16):   0%|          | 0/28116 [00:00<?, ? examples/s]"
      ]
     },
     "metadata": {},
     "output_type": "display_data"
    },
    {
     "name": "stdout",
     "output_type": "stream",
     "text": [
      "pancreas: 33.48271446862996\n"
     ]
    },
    {
     "data": {
      "application/vnd.jupyter.widget-view+json": {
       "model_id": "03397508153d44f8bc2d54ef9c654333",
       "version_major": 2,
       "version_minor": 0
      },
      "text/plain": [
       "Filter (num_proc=16):   0%|          | 0/249556 [00:00<?, ? examples/s]"
      ]
     },
     "metadata": {},
     "output_type": "display_data"
    },
    {
     "data": {
      "application/vnd.jupyter.widget-view+json": {
       "model_id": "a1eb2ee854db4b6d8823364046f5b995",
       "version_major": 2,
       "version_minor": 0
      },
      "text/plain": [
       "Filter (num_proc=16):   0%|          | 0/9509 [00:00<?, ? examples/s]"
      ]
     },
     "metadata": {},
     "output_type": "display_data"
    },
    {
     "name": "stdout",
     "output_type": "stream",
     "text": [
      "placenta: 45.756651593227474\n"
     ]
    },
    {
     "data": {
      "application/vnd.jupyter.widget-view+json": {
       "model_id": "684f0dba5bcc4b6ea137ffea51830f5d",
       "version_major": 2,
       "version_minor": 0
      },
      "text/plain": [
       "Filter (num_proc=16):   0%|          | 0/249556 [00:00<?, ? examples/s]"
      ]
     },
     "metadata": {},
     "output_type": "display_data"
    },
    {
     "data": {
      "application/vnd.jupyter.widget-view+json": {
       "model_id": "9499f8c82e7d4e478f1ed33699bb9070",
       "version_major": 2,
       "version_minor": 0
      },
      "text/plain": [
       "Filter (num_proc=16):   0%|          | 0/15614 [00:00<?, ? examples/s]"
      ]
     },
     "metadata": {},
     "output_type": "display_data"
    },
    {
     "name": "stdout",
     "output_type": "stream",
     "text": [
      "spleen: 20.974766235429744\n"
     ]
    }
   ],
   "source": [
    "def is_organ(example):\n",
    "    return(example['organ_major'] == organ)\n",
    "for organ in organs:\n",
    "    organ_data=cell_dataset.filter(is_organ, num_proc=16)\n",
    "    eIF_data=organ_data.filter(if_has_eifs, num_proc=16)\n",
    "    print(f'{organ}: {len(eIF_data)/len(organ_data) * 100}')"
   ]
  },
  {
   "cell_type": "code",
   "execution_count": null,
   "id": "1fef4fdf-de67-40b9-9b84-af4e7d9fca0e",
   "metadata": {},
   "outputs": [],
   "source": [
    "counts_df = pd.DataFrame(columns=['organ','cell_type','ccr4_not_count'])\n",
    "for i in range(len(cell_dataset)):\n",
    "    cell = cell_dataset[i]\n",
    "    num_ccr4not = len(set(token_list)&set(cell['input_ids']))\n",
    "    counts_df.loc[-1]=[cell['organ_major'], cell['cell_type'], num_ccr4not]\n",
    "    counts_df.index = counts_df.index + 1  # shifting index\n",
    "    counts_df = counts_df.sort_index() \n",
    "#SLOW"
   ]
  },
  {
   "cell_type": "code",
   "execution_count": 70,
   "id": "8fbb4190-1566-4d21-b35e-dcbd7b0e495d",
   "metadata": {},
   "outputs": [
    {
     "name": "stdout",
     "output_type": "stream",
     "text": [
      "<class 'str'>\n"
     ]
    }
   ],
   "source": [
    "organs = list(counts_df['organ'].cat.categories)\n",
    "print(type(organs[0]))"
   ]
  },
  {
   "cell_type": "code",
   "execution_count": 67,
   "id": "ed2dbd6d-0a53-429b-b863-573a270097d7",
   "metadata": {},
   "outputs": [
    {
     "name": "stdout",
     "output_type": "stream",
     "text": [
      "ccr4_not_count\n",
      "0    0.754500\n",
      "1    0.208292\n",
      "2    0.032978\n",
      "3    0.003748\n",
      "4    0.000439\n",
      "5    0.000035\n",
      "6    0.000007\n",
      "Name: proportion, dtype: float64\n"
     ]
    }
   ],
   "source": [
    "print(counts_df['ccr4_not_count'].value_counts(normalize=True))"
   ]
  },
  {
   "cell_type": "code",
   "execution_count": 42,
   "id": "126b115d-8677-42b0-8a5d-55cfef1b1f24",
   "metadata": {},
   "outputs": [
    {
     "data": {
      "text/html": [
       "<div>\n",
       "<style scoped>\n",
       "    .dataframe tbody tr th:only-of-type {\n",
       "        vertical-align: middle;\n",
       "    }\n",
       "\n",
       "    .dataframe tbody tr th {\n",
       "        vertical-align: top;\n",
       "    }\n",
       "\n",
       "    .dataframe thead th {\n",
       "        text-align: right;\n",
       "    }\n",
       "</style>\n",
       "<table border=\"1\" class=\"dataframe\">\n",
       "  <thead>\n",
       "    <tr style=\"text-align: right;\">\n",
       "      <th></th>\n",
       "      <th>organ</th>\n",
       "      <th>cell_type</th>\n",
       "      <th>ccr4_not_count</th>\n",
       "    </tr>\n",
       "  </thead>\n",
       "  <tbody>\n",
       "    <tr>\n",
       "      <th>0</th>\n",
       "      <td>spleen</td>\n",
       "      <td>B cell (Plasmocyte)</td>\n",
       "      <td>1</td>\n",
       "    </tr>\n",
       "    <tr>\n",
       "      <th>1</th>\n",
       "      <td>spleen</td>\n",
       "      <td>B cell (Plasmocyte)</td>\n",
       "      <td>1</td>\n",
       "    </tr>\n",
       "    <tr>\n",
       "      <th>2</th>\n",
       "      <td>spleen</td>\n",
       "      <td>B cell (Plasmocyte)</td>\n",
       "      <td>1</td>\n",
       "    </tr>\n",
       "    <tr>\n",
       "      <th>3</th>\n",
       "      <td>spleen</td>\n",
       "      <td>B cell (Plasmocyte)</td>\n",
       "      <td>0</td>\n",
       "    </tr>\n",
       "    <tr>\n",
       "      <th>4</th>\n",
       "      <td>spleen</td>\n",
       "      <td>B cell (Plasmocyte)</td>\n",
       "      <td>1</td>\n",
       "    </tr>\n",
       "    <tr>\n",
       "      <th>5</th>\n",
       "      <td>spleen</td>\n",
       "      <td>B cell (Plasmocyte)</td>\n",
       "      <td>0</td>\n",
       "    </tr>\n",
       "    <tr>\n",
       "      <th>6</th>\n",
       "      <td>spleen</td>\n",
       "      <td>B cell (Plasmocyte)</td>\n",
       "      <td>0</td>\n",
       "    </tr>\n",
       "    <tr>\n",
       "      <th>7</th>\n",
       "      <td>spleen</td>\n",
       "      <td>B cell (Plasmocyte)</td>\n",
       "      <td>1</td>\n",
       "    </tr>\n",
       "    <tr>\n",
       "      <th>8</th>\n",
       "      <td>spleen</td>\n",
       "      <td>B cell (Plasmocyte)</td>\n",
       "      <td>0</td>\n",
       "    </tr>\n",
       "    <tr>\n",
       "      <th>9</th>\n",
       "      <td>spleen</td>\n",
       "      <td>B cell (Plasmocyte)</td>\n",
       "      <td>2</td>\n",
       "    </tr>\n",
       "  </tbody>\n",
       "</table>\n",
       "</div>"
      ],
      "text/plain": [
       "    organ            cell_type  ccr4_not_count\n",
       "0  spleen  B cell (Plasmocyte)               1\n",
       "1  spleen  B cell (Plasmocyte)               1\n",
       "2  spleen  B cell (Plasmocyte)               1\n",
       "3  spleen  B cell (Plasmocyte)               0\n",
       "4  spleen  B cell (Plasmocyte)               1\n",
       "5  spleen  B cell (Plasmocyte)               0\n",
       "6  spleen  B cell (Plasmocyte)               0\n",
       "7  spleen  B cell (Plasmocyte)               1\n",
       "8  spleen  B cell (Plasmocyte)               0\n",
       "9  spleen  B cell (Plasmocyte)               2"
      ]
     },
     "metadata": {},
     "output_type": "display_data"
    }
   ],
   "source": [
    "def get_ccr4_exp(cell):\n",
    "    num_ccr4not = len(set(token_list)&set(cell['input_ids']))\n",
    "    return num_ccr4not"
   ]
  },
  {
   "cell_type": "code",
   "execution_count": null,
   "id": "bcc124bb-c5aa-4e4e-994a-889f784e892a",
   "metadata": {},
   "outputs": [],
   "source": []
  }
 ],
 "metadata": {
  "kernelspec": {
   "display_name": "Python 3 (ipykernel)",
   "language": "python",
   "name": "python3"
  },
  "language_info": {
   "codemirror_mode": {
    "name": "ipython",
    "version": 3
   },
   "file_extension": ".py",
   "mimetype": "text/x-python",
   "name": "python",
   "nbconvert_exporter": "python",
   "pygments_lexer": "ipython3",
   "version": "3.11.5"
  }
 },
 "nbformat": 4,
 "nbformat_minor": 5
}
