{
 "cells": [
  {
   "cell_type": "code",
   "execution_count": 26,
   "id": "de4b53f8-1a07-4386-862d-e2d18f1bbee2",
   "metadata": {},
   "outputs": [],
   "source": [
    "from datasets import Dataset, load_from_disk\n",
    "import pandas as pd\n",
    "import numpy as np\n",
    "from collections import Counter"
   ]
  },
  {
   "cell_type": "code",
   "execution_count": 2,
   "id": "82569c6e-9982-472b-b7d6-46e632bcb35f",
   "metadata": {},
   "outputs": [],
   "source": [
    "dataset = load_from_disk('/mnt/scratchc/ghlab/Geneformer/Genecorpus-30M/example_input_files/cell_classification/cell_type_annotation/cell_type_train_data.dataset')"
   ]
  },
  {
   "cell_type": "code",
   "execution_count": 27,
   "id": "e8b5b617-35cf-4e35-b973-cfb7340fae96",
   "metadata": {},
   "outputs": [
    {
     "data": {
      "text/plain": [
       "Dataset({\n",
       "    features: ['cell_type', 'input_ids', 'length', 'organ_major'],\n",
       "    num_rows: 249556\n",
       "})"
      ]
     },
     "execution_count": 27,
     "metadata": {},
     "output_type": "execute_result"
    }
   ],
   "source": [
    "dataset"
   ]
  },
  {
   "cell_type": "code",
   "execution_count": 9,
   "id": "a10ce1cf-84fd-421d-85eb-f538a2463b7b",
   "metadata": {},
   "outputs": [
    {
     "data": {
      "text/plain": [
       "Counter({'large_intestine': 50363,\n",
       "         'kidney': 45059,\n",
       "         'lung': 33309,\n",
       "         'liver': 28376,\n",
       "         'pancreas': 28116,\n",
       "         'immune': 17110,\n",
       "         'spleen': 15614,\n",
       "         'brain': 13440,\n",
       "         'placenta': 9509,\n",
       "         'bone_marrow': 8660})"
      ]
     },
     "execution_count": 9,
     "metadata": {},
     "output_type": "execute_result"
    }
   ],
   "source": [
    "Counter(dataset['organ_major'])"
   ]
  },
  {
   "cell_type": "code",
   "execution_count": 10,
   "id": "541f35d0-b797-41f1-a82b-791546f8faa4",
   "metadata": {},
   "outputs": [
    {
     "data": {
      "text/plain": [
       "Counter({'B cell (Plasmocyte)': 20728,\n",
       "         'T cell': 16695,\n",
       "         'Enterocyte progenitor': 15441,\n",
       "         'Fetal epithelial progenitor': 14580,\n",
       "         'Fetal neuron': 12287,\n",
       "         'Fetal mesenchymal progenitor': 11905,\n",
       "         'Erythroid progenitor cell (RP high)': 10819,\n",
       "         'Hepatocyte/Endodermal cell': 9781,\n",
       "         'Fetal enterocyte ': 9613,\n",
       "         'Erythroid cell': 9089,\n",
       "         'Loop of Henle': 8439,\n",
       "         'Macrophage': 7854,\n",
       "         'Monocyte': 7541,\n",
       "         'Epithelial cell': 7458,\n",
       "         'AT2 cell': 7333,\n",
       "         'Neutrophil': 7276,\n",
       "         'Fibroblast': 6980,\n",
       "         'Dendritic cell': 5960,\n",
       "         'Pancreas exocrine cell': 5538,\n",
       "         'Endothelial cell (APC)': 5431,\n",
       "         'M2 Macrophage': 5373,\n",
       "         'Endothelial cell': 4738,\n",
       "         'Antigen presenting cell (RPS high)': 4658,\n",
       "         'Intercalated cell': 4414,\n",
       "         'Sinusoidal endothelial cell': 3844,\n",
       "         'B cell': 3783,\n",
       "         'Endothelial cell (endothelial to mesenchymal transition)': 3647,\n",
       "         'Fetal acinar cell': 3214,\n",
       "         'Ureteric bud cell': 2472,\n",
       "         'Enterocyte': 1994,\n",
       "         'Proximal tubule progenitor': 1846,\n",
       "         'Smooth muscle cell': 1794,\n",
       "         'Fetal stromal cell': 1061,\n",
       "         'Stromal cell': 1029,\n",
       "         'Mast cell': 968,\n",
       "         'Fetal endocrine cell': 834,\n",
       "         'Neutrophil (RPS high)': 604,\n",
       "         'Intermediated cell': 529,\n",
       "         'Proliferating T cell': 528,\n",
       "         'CB CD34+': 423,\n",
       "         'Basal cell': 236,\n",
       "         'Primordial germ cell': 230,\n",
       "         'Fetal fibroblast': 125,\n",
       "         'Fetal Neuron': 114,\n",
       "         'Stratified epithelial cell': 113,\n",
       "         'Fetal skeletal muscle cell': 57,\n",
       "         'Fetal chondrocyte': 49,\n",
       "         'Mesothelial cell': 30,\n",
       "         'Goblet cell': 19,\n",
       "         'Chondrocyte': 19,\n",
       "         'hESC': 18,\n",
       "         'Fasciculata cell': 13,\n",
       "         'Gastric endocrine cell': 7,\n",
       "         'Myeloid cell': 7,\n",
       "         'Epithelial cell (intermediated)': 7,\n",
       "         'Astrocyte': 4,\n",
       "         'Kidney intercalated cell': 3,\n",
       "         'Ventricle cardiomyocyte': 2,\n",
       "         'Immature sertoli cell (Pre-Sertoli cell)': 2})"
      ]
     },
     "execution_count": 10,
     "metadata": {},
     "output_type": "execute_result"
    }
   ],
   "source": [
    "Counter(dataset['cell_type'])"
   ]
  },
  {
   "cell_type": "code",
   "execution_count": 11,
   "id": "7841a8c1-02dc-4168-a608-4a08b6b316f7",
   "metadata": {},
   "outputs": [
    {
     "data": {
      "text/plain": [
       "Counter({'hcm': 230652, 'nf': 182317, 'dcm': 166190})"
      ]
     },
     "execution_count": 11,
     "metadata": {},
     "output_type": "execute_result"
    }
   ],
   "source": [
    "dataset2 = load_from_disk('/mnt/scratchc/ghlab/Geneformer/Genecorpus-30M/example_input_files/cell_classification/disease_classification/human_dcm_hcm_nf.dataset')\n",
    "Counter(dataset2['disease'])"
   ]
  },
  {
   "cell_type": "code",
   "execution_count": 12,
   "id": "8beb0200-9b8a-4fa2-b4a2-a60adaf30fd4",
   "metadata": {},
   "outputs": [
    {
     "data": {
      "text/plain": [
       "Counter({'Fibroblast1': 141725,\n",
       "         'Cardiomyocyte1': 136167,\n",
       "         'Endothelial1': 78375,\n",
       "         'Pericyte1': 67600,\n",
       "         'Macrophage': 54714,\n",
       "         'Endothelial2': 18394,\n",
       "         'VSMC': 18137,\n",
       "         'Lymphocyte': 16246,\n",
       "         'Endocardial': 6489,\n",
       "         'Cardiomyocyte2': 5445,\n",
       "         'Adipocyte': 5298,\n",
       "         'ActivatedFibroblast': 5210,\n",
       "         'LymphaticEndothelial': 5181,\n",
       "         'Endothelial3': 4538,\n",
       "         'MastCell': 4465,\n",
       "         'Neuronal': 4292,\n",
       "         'Cardiomyocyte3': 3350,\n",
       "         'Pericyte2': 1704,\n",
       "         'ProliferatingMacrophage': 1276,\n",
       "         'Fibroblast2': 284,\n",
       "         'Epicardial': 269})"
      ]
     },
     "execution_count": 12,
     "metadata": {},
     "output_type": "execute_result"
    }
   ],
   "source": [
    "Counter(dataset2['cell_type'])"
   ]
  },
  {
   "cell_type": "code",
   "execution_count": 16,
   "id": "2efec0d9-2d40-449b-abed-5a8206f22793",
   "metadata": {},
   "outputs": [
    {
     "data": {
      "application/vnd.jupyter.widget-view+json": {
       "model_id": "a9fe6b96e7bd4b55aa2f96539716de1a",
       "version_major": 2,
       "version_minor": 0
      },
      "text/plain": [
       "Filter (num_proc=16):   0%|          | 0/579159 [00:00<?, ? examples/s]"
      ]
     },
     "metadata": {},
     "output_type": "display_data"
    }
   ],
   "source": [
    "def filter_data_by_criteria(example):\n",
    "                return example['disease'] in 'nf'\n",
    "key = 'nf'\n",
    "data = dataset2.filter(filter_data_by_criteria, num_proc=16)"
   ]
  },
  {
   "cell_type": "code",
   "execution_count": 18,
   "id": "b847cef3-d1bb-4735-9d4e-2f9f605d6cf2",
   "metadata": {},
   "outputs": [
    {
     "data": {
      "application/vnd.jupyter.widget-view+json": {
       "model_id": "75ed5529e9f34f309e95e666b35cd088",
       "version_major": 2,
       "version_minor": 0
      },
      "text/plain": [
       "Filter (num_proc=16):   0%|          | 0/182317 [00:00<?, ? examples/s]"
      ]
     },
     "metadata": {},
     "output_type": "display_data"
    }
   ],
   "source": [
    "def filter_data_by_criteria(example):\n",
    "                return example['cell_type'] in 'Cardiomyocyte1'\n",
    "myocyte_only = data.filter(filter_data_by_criteria, num_proc=16)    \n"
   ]
  },
  {
   "cell_type": "code",
   "execution_count": 19,
   "id": "9df5c543-a462-499d-bc9e-5097b2ff687e",
   "metadata": {},
   "outputs": [
    {
     "data": {
      "text/plain": [
       "Counter({'Cardiomyocyte1': 58024})"
      ]
     },
     "execution_count": 19,
     "metadata": {},
     "output_type": "execute_result"
    }
   ],
   "source": [
    "Counter(myocyte_only['cell_type'])"
   ]
  },
  {
   "cell_type": "code",
   "execution_count": 21,
   "id": "139aa195-66ed-4b39-b3f7-ca2407e6e3ab",
   "metadata": {},
   "outputs": [
    {
     "data": {
      "text/plain": [
       "Counter({'nf': 58024})"
      ]
     },
     "execution_count": 21,
     "metadata": {},
     "output_type": "execute_result"
    }
   ],
   "source": [
    "Counter(myocyte_only['disease'])"
   ]
  },
  {
   "cell_type": "code",
   "execution_count": 22,
   "id": "61a5c0d4-1e44-4d3b-b9b8-0b228dc47f8d",
   "metadata": {},
   "outputs": [
    {
     "data": {
      "text/plain": [
       "Dataset({\n",
       "    features: ['input_ids', 'length', 'cell_type', 'individual', 'age', 'sex', 'disease', 'lvef'],\n",
       "    num_rows: 58024\n",
       "})"
      ]
     },
     "execution_count": 22,
     "metadata": {},
     "output_type": "execute_result"
    }
   ],
   "source": [
    "myocyte_only"
   ]
  },
  {
   "cell_type": "code",
   "execution_count": 25,
   "id": "53acfb29-e72a-4405-b13c-e7485812505b",
   "metadata": {},
   "outputs": [
    {
     "data": {
      "application/vnd.jupyter.widget-view+json": {
       "model_id": "f58402f6a5b046c7ae89d3c393db005d",
       "version_major": 2,
       "version_minor": 0
      },
      "text/plain": [
       "Saving the dataset (0/1 shards):   0%|          | 0/58024 [00:00<?, ? examples/s]"
      ]
     },
     "metadata": {},
     "output_type": "display_data"
    }
   ],
   "source": [
    "myocyte_only.save_to_disk('/mnt/scratchc/ghlab/human_nf_cardiomyocyte1.dataset')"
   ]
  },
  {
   "cell_type": "code",
   "execution_count": 28,
   "id": "a7ab89a6-6a8a-4942-bda5-1b56302056e4",
   "metadata": {},
   "outputs": [
    {
     "data": {
      "application/vnd.jupyter.widget-view+json": {
       "model_id": "4857beef27544e94a971c1f85f963fbd",
       "version_major": 2,
       "version_minor": 0
      },
      "text/plain": [
       "Filter (num_proc=16):   0%|          | 0/182317 [00:00<?, ? examples/s]"
      ]
     },
     "metadata": {},
     "output_type": "display_data"
    }
   ],
   "source": [
    "def filter_data_by_criteria(example):\n",
    "                return example['cell_type'] in 'Fibroblast1'\n",
    "fibroblast_only = data.filter(filter_data_by_criteria,num_proc=16)"
   ]
  },
  {
   "cell_type": "code",
   "execution_count": 29,
   "id": "d065b971-58da-43c4-aae2-5e6bd7cf6d4f",
   "metadata": {},
   "outputs": [
    {
     "data": {
      "text/plain": [
       "Dataset({\n",
       "    features: ['input_ids', 'length', 'cell_type', 'individual', 'age', 'sex', 'disease', 'lvef'],\n",
       "    num_rows: 37910\n",
       "})"
      ]
     },
     "execution_count": 29,
     "metadata": {},
     "output_type": "execute_result"
    }
   ],
   "source": [
    "fibroblast_only"
   ]
  },
  {
   "cell_type": "code",
   "execution_count": 30,
   "id": "37aa149c-605e-4e86-8c7b-a1ef7ae6ebb7",
   "metadata": {},
   "outputs": [
    {
     "data": {
      "application/vnd.jupyter.widget-view+json": {
       "model_id": "7a75f89581b946a39d662dc762633b66",
       "version_major": 2,
       "version_minor": 0
      },
      "text/plain": [
       "Saving the dataset (0/1 shards):   0%|          | 0/37910 [00:00<?, ? examples/s]"
      ]
     },
     "metadata": {},
     "output_type": "display_data"
    }
   ],
   "source": [
    "fibroblast_only.save_to_disk('/mnt/scratchc/ghlab/human_nf_fibroblast1.dataset')"
   ]
  },
  {
   "cell_type": "code",
   "execution_count": null,
   "id": "3a7447c5-3ebb-4d7c-9c92-5fa4534101c0",
   "metadata": {},
   "outputs": [],
   "source": []
  }
 ],
 "metadata": {
  "kernelspec": {
   "display_name": "Python 3 (ipykernel)",
   "language": "python",
   "name": "python3"
  },
  "language_info": {
   "codemirror_mode": {
    "name": "ipython",
    "version": 3
   },
   "file_extension": ".py",
   "mimetype": "text/x-python",
   "name": "python",
   "nbconvert_exporter": "python",
   "pygments_lexer": "ipython3",
   "version": "3.11.5"
  }
 },
 "nbformat": 4,
 "nbformat_minor": 5
}
