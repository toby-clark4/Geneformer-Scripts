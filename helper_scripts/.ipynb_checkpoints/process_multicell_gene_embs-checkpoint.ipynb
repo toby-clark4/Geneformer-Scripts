{
 "cells": [
  {
   "cell_type": "code",
   "execution_count": null,
   "id": "57353c84-97c9-4c9a-87ad-bd490321cbd3",
   "metadata": {},
   "outputs": [],
   "source": [
    "import numpy as np\n",
    "import pandas as pd"
   ]
  },
  {
   "cell_type": "code",
   "execution_count": null,
   "id": "e948ecc1-37c9-44e5-809c-ebab7f3d4239",
   "metadata": {},
   "outputs": [],
   "source": [
    "dist_list = []\n",
    "for i in range(50):\n",
    "    dists = pd.read_csv(f'/mnt/scratchc/ghlab//in_silico_perturb_data/gene_embs/kf0/multi_cell/in_silico_delete_cnot1_{i}_dict_1Kbatch_euclidean_dists.csv', index_col=0)\n",
    "    dist_list.append(dists)\n",
    "\n",
    "full_dists=pd.concat(dist_list, axis=0)\n",
    "combined_mean_dists = full_dists.groupby('token')['euclidean_distance'].mean().reset_index()\n",
    "ns = full_dists.groupby('token').count().reset_index()\n",
    "combined_mean_dists['n'] = ns['euclidean_distance']\n",
    "combined_mean_dists.to_csv('/mnt/scratchc/ghlab/in_silico_perturb_data/gene_embs/kf0/multi_cell/combined_dists.csv')"
   ]
  },
  {
   "cell_type": "code",
   "execution_count": null,
   "id": "0388dbc2-1689-4307-a70f-3c228567b15f",
   "metadata": {},
   "outputs": [],
   "source": []
  }
 ],
 "metadata": {
  "kernelspec": {
   "display_name": "Python 3 (ipykernel)",
   "language": "python",
   "name": "python3"
  },
  "language_info": {
   "codemirror_mode": {
    "name": "ipython",
    "version": 3
   },
   "file_extension": ".py",
   "mimetype": "text/x-python",
   "name": "python",
   "nbconvert_exporter": "python",
   "pygments_lexer": "ipython3",
   "version": "3.11.5"
  }
 },
 "nbformat": 4,
 "nbformat_minor": 5
}
