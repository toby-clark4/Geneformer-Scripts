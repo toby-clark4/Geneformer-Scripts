{
 "cells": [
  {
   "cell_type": "code",
   "execution_count": 2,
   "id": "4fb7fdbf-c33e-4e3d-9863-4642b02f91a7",
   "metadata": {},
   "outputs": [
    {
     "name": "stderr",
     "output_type": "stream",
     "text": [
      "/Users/clark04/anaconda3/envs/pkgtorch/lib/python3.11/site-packages/loompy/bus_file.py:67: NumbaDeprecationWarning: \u001b[1mThe 'nopython' keyword argument was not supplied to the 'numba.jit' decorator. The implicit default value for this argument is currently False, but it will be changed to True in Numba 0.59.0. See https://numba.readthedocs.io/en/stable/reference/deprecation.html#deprecation-of-object-mode-fall-back-behaviour-when-using-jit for details.\u001b[0m\n",
      "  @jit\n",
      "/Users/clark04/anaconda3/envs/pkgtorch/lib/python3.11/site-packages/loompy/bus_file.py:84: NumbaDeprecationWarning: \u001b[1mThe 'nopython' keyword argument was not supplied to the 'numba.jit' decorator. The implicit default value for this argument is currently False, but it will be changed to True in Numba 0.59.0. See https://numba.readthedocs.io/en/stable/reference/deprecation.html#deprecation-of-object-mode-fall-back-behaviour-when-using-jit for details.\u001b[0m\n",
      "  @jit\n",
      "/Users/clark04/anaconda3/envs/pkgtorch/lib/python3.11/site-packages/loompy/bus_file.py:101: NumbaDeprecationWarning: \u001b[1mThe 'nopython' keyword argument was not supplied to the 'numba.jit' decorator. The implicit default value for this argument is currently False, but it will be changed to True in Numba 0.59.0. See https://numba.readthedocs.io/en/stable/reference/deprecation.html#deprecation-of-object-mode-fall-back-behaviour-when-using-jit for details.\u001b[0m\n",
      "  @jit\n"
     ]
    }
   ],
   "source": [
    "import loompy\n",
    "import numpy as np\n",
    "import pandas as pd\n",
    "import bioservices\n",
    "import pickle\n",
    "from collections import Counter\n",
    "import anndata"
   ]
  },
  {
   "cell_type": "code",
   "execution_count": 6,
   "id": "91d99a44-3e2e-4852-80bf-85610f2a4628",
   "metadata": {},
   "outputs": [
    {
     "data": {
      "text/plain": [
       "X0          0\n",
       "gene_ids    0\n",
       "dtype: int64"
      ]
     },
     "execution_count": 6,
     "metadata": {},
     "output_type": "execute_result"
    }
   ],
   "source": [
    "genes_table = pd.read_csv('/mnt/scratchc/ghlab/dataset_info/genes_to_symbols.csv')\n",
    "genes_table.isna().sum()"
   ]
  },
  {
   "cell_type": "code",
   "execution_count": 17,
   "id": "69461a66-fff8-439a-817a-95bdb1900bc4",
   "metadata": {},
   "outputs": [],
   "source": [
    "symbol_id_dict = dict(zip(genes_table['X0'],genes_table['gene_ids']))"
   ]
  },
  {
   "cell_type": "code",
   "execution_count": 56,
   "id": "af8ee64e-1c83-43c3-9da7-967dfcd8e640",
   "metadata": {},
   "outputs": [
    {
     "data": {
      "text/plain": [
       "(27041, 21341)"
      ]
     },
     "metadata": {},
     "output_type": "display_data"
    },
    {
     "data": {
      "text/plain": [
       "Counter({'PSC1': 10755, 'Mesenchyme1': 10586})"
      ]
     },
     "metadata": {},
     "output_type": "display_data"
    },
    {
     "data": {
      "text/plain": [
       "array(['ENSG00000276256', 'ENSG00000273748', 'ENSG00000271254', ...,\n",
       "       'ENSG00000288049', 'ENSG00000198692', 'ENSG00000280969'],\n",
       "      dtype=object)"
      ]
     },
     "metadata": {},
     "output_type": "display_data"
    }
   ],
   "source": [
    "# Specify the path to your Loom file\n",
    "loom_file_path = \"/mnt/scratchc/ghlab/in_silico_perturb_data/Mesenchyme1_PSC1_processed_cell_types.loom\"\n",
    "new_file_path = \"/mnt/scratchc/ghlab/in_silico_perturb_data/Mesenchyme1_PSC1_ready.loom\"\n",
    "# Load the Loom file\n",
    "with loompy.new(new_file_path) as ds_out:\n",
    "    with loompy.connect(loom_file_path,'r+') as ds:\n",
    "        # Access data matrix (expression matrix)\n",
    "        expression_matrix = ds[:, :]\n",
    "\n",
    "        # Access row (gene) and column (cell) attributes\n",
    "        row_attrs = pd.DataFrame(ds.ra)\n",
    "        col_attrs = pd.DataFrame(ds.ca)\n",
    "        #ds.ca = {attr : [\"PSC1\" if cluster == 2 else \"Mesenchyme1\" for cluster in ds.ca[\"seurat_clusters\"]] if attr == \"seurat_clusters\" else ds.ca[attr] for attr in col_attrs.iloc[:,0]}\n",
    "        ds.ca = {'n_counts' if attr == \"nCount_RNA\" else attr : ds.ca[attr] for attr in col_attrs.iloc[:,0]}\n",
    "        display(ds.shape)\n",
    "        #ds.ra = {'ensembl_id':np.array(gene_ids)}\n",
    "        ids_present = ds.ra['ensembl_id']\n",
    "        display(Counter(ds.ca[\"seurat_clusters\"]))\n",
    "        display(ds.ra['ensembl_id'])\n",
    "\n",
    "\n",
    "        ds_out.add_columns(ds.layers, col_attrs=ds.ca, row_attrs=ds.ra)\n",
    "            #genes = ds.ra['Gene']\n",
    "    #cell_types = [\"PSC1\" if cluster == 3 else \"Mesenchyme1\" for cluster in ds.ca[\"seurat_clusters\"]]\n",
    "    \n",
    "    #ds.write_loom(\"/Users/clark04/Mesenchyme1_PSC1_ensgid.loom\")"
   ]
  },
  {
   "cell_type": "code",
   "execution_count": 35,
   "id": "6fea89d5-dd82-44e2-abb1-6f3f02477338",
   "metadata": {},
   "outputs": [
    {
     "data": {
      "text/plain": [
       "array(['ENSG00000276256', 'ENSG00000273748', 'ENSG00000271254', ...,\n",
       "       'ENSG00000288049', 'ENSG00000198692', 'ENSG00000280969'],\n",
       "      dtype=object)"
      ]
     },
     "execution_count": 35,
     "metadata": {},
     "output_type": "execute_result"
    }
   ],
   "source": [
    "ids_present"
   ]
  },
  {
   "cell_type": "code",
   "execution_count": 48,
   "id": "8e27ae9a-8fa5-4029-96af-afb7115c36f6",
   "metadata": {},
   "outputs": [
    {
     "data": {
      "text/plain": [
       "Counter({'PSC1': 10755, 'Mesenchyme1': 10586})"
      ]
     },
     "execution_count": 48,
     "metadata": {},
     "output_type": "execute_result"
    }
   ],
   "source": [
    "Counter(a['seurat_clusters'])"
   ]
  },
  {
   "cell_type": "code",
   "execution_count": 43,
   "id": "c870d609-92d9-447b-80bb-b0400542b2cb",
   "metadata": {},
   "outputs": [
    {
     "data": {
      "text/plain": [
       "0                 CellID\n",
       "1        SCT_snn_res.0.1\n",
       "2                  cells\n",
       "3       log10GenesPerUMI\n",
       "4              mitoRatio\n",
       "5             nCount_RNA\n",
       "6             nCount_SCT\n",
       "7       nCount_ambiguous\n",
       "8         nCount_spliced\n",
       "9       nCount_unspliced\n",
       "10          nFeature_RNA\n",
       "11          nFeature_SCT\n",
       "12    nFeature_ambiguous\n",
       "13      nFeature_spliced\n",
       "14    nFeature_unspliced\n",
       "15                 nGene\n",
       "16                  nUMI\n",
       "17                sample\n",
       "18            seq_folder\n",
       "19       seurat_clusters\n",
       "Name: 0, dtype: object"
      ]
     },
     "execution_count": 43,
     "metadata": {},
     "output_type": "execute_result"
    }
   ],
   "source": [
    "col_attrs.iloc[:,0]"
   ]
  },
  {
   "cell_type": "code",
   "execution_count": 7,
   "id": "d657bf89-696b-4701-9f6f-814256ff99cd",
   "metadata": {},
   "outputs": [],
   "source": [
    "pd.Series(genes).to_csv('/mnt/scratchc/ghlab/dataset_info/symbol_list.csv')"
   ]
  },
  {
   "cell_type": "code",
   "execution_count": 7,
   "id": "3ac226e6-28b3-4532-942b-246022577200",
   "metadata": {},
   "outputs": [],
   "source": [
    "fail_list = []\n",
    "ensembl_id = []\n",
    "for gene in genes:\n",
    "    try:\n",
    "        ensembl_id.append(objects[0][gene])\n",
    "    except KeyError:\n",
    "        fail_list.append(gene)"
   ]
  },
  {
   "cell_type": "code",
   "execution_count": null,
   "id": "c8058e29-be43-40f0-aebf-1fdbb1e08333",
   "metadata": {},
   "outputs": [],
   "source": [
    "correction_dict = {\"YARS\":\"ENSG00000134684\",\n",
    "                   \"ATP5MD\":\"ENSG00000173915\",\n",
    "                   \"C1orf195\":'ENSG00000204464',\n",
    "                   \"UBXN10-AS1\":'ENSG00000187980'}"
   ]
  },
  {
   "cell_type": "code",
   "execution_count": 18,
   "id": "0b8c35ea-6dcc-4ab8-8cab-32532fc81c33",
   "metadata": {},
   "outputs": [],
   "source": [
    "gene_ids = [symbol_id_dict[gene] for gene in genes]"
   ]
  },
  {
   "cell_type": "code",
   "execution_count": 20,
   "id": "8a9f801d-c1c8-476a-9ef4-58fc08c19f46",
   "metadata": {},
   "outputs": [
    {
     "data": {
      "text/plain": [
       "27041"
      ]
     },
     "execution_count": 20,
     "metadata": {},
     "output_type": "execute_result"
    }
   ],
   "source": [
    "len(gene_ids)"
   ]
  }
 ],
 "metadata": {
  "kernelspec": {
   "display_name": "Python 3 (ipykernel)",
   "language": "python",
   "name": "python3"
  },
  "language_info": {
   "codemirror_mode": {
    "name": "ipython",
    "version": 3
   },
   "file_extension": ".py",
   "mimetype": "text/x-python",
   "name": "python",
   "nbconvert_exporter": "python",
   "pygments_lexer": "ipython3",
   "version": "3.11.5"
  }
 },
 "nbformat": 4,
 "nbformat_minor": 5
}
