{
 "cells": [
  {
   "cell_type": "code",
   "execution_count": 2,
   "id": "e10ac0c9-40ce-41fb-b6fa-3d62b76f2e57",
   "metadata": {},
   "outputs": [],
   "source": [
    "from geneformer import InSilicoPerturberEmbsEuc\n",
    "import warnings\n",
    "warnings.simplefilter(action='ignore', category=FutureWarning)"
   ]
  },
  {
   "cell_type": "code",
   "execution_count": 3,
   "id": "4bd67c31-772e-47cb-9bfb-1fff72b58bb5",
   "metadata": {},
   "outputs": [
    {
     "name": "stdout",
     "output_type": "stream",
     "text": [
      "193\n"
     ]
    },
    {
     "data": {
      "text/plain": [
       "'\\n#this gets the gene of the token of interest\\nimport pickle\\nobjects = []\\nwith (open(\"/mnt/scratchc/ghlab/toby/Geneformer/geneformer/token_dictionary.pkl\", \"rb\")) as openfile:\\n    while True:\\n        try:\\n            objects.append(pickle.load(openfile))\\n        except EOFError:\\n            break\\nprint(get_key_by_value(objects[0],17173))\\n'"
      ]
     },
     "execution_count": 3,
     "metadata": {},
     "output_type": "execute_result"
    }
   ],
   "source": [
    "def get_key_by_value(dictionary, value):\n",
    "    return next((key for key, val in dictionary.items() if val == value)), None\n",
    "\n",
    "#this gets the token id of the gene of interest\n",
    "\n",
    "import pickle\n",
    "objects = []\n",
    "with (open(\"/mnt/scratchc/ghlab/toby/Geneformer/geneformer/token_dictionary.pkl\", \"rb\")) as openfile:\n",
    "    while True:\n",
    "        try:\n",
    "            objects.append(pickle.load(openfile))\n",
    "        except EOFError:\n",
    "            break\n",
    "print(objects[0]['ENSG00000007866'])\n",
    "\n",
    "'''\n",
    "#this gets the gene of the token of interest\n",
    "import pickle\n",
    "objects = []\n",
    "with (open(\"/mnt/scratchc/ghlab/toby/Geneformer/geneformer/token_dictionary.pkl\", \"rb\")) as openfile:\n",
    "    while True:\n",
    "        try:\n",
    "            objects.append(pickle.load(openfile))\n",
    "        except EOFError:\n",
    "            break\n",
    "print(get_key_by_value(objects[0],17173))\n",
    "'''"
   ]
  },
  {
   "cell_type": "code",
   "execution_count": 11,
   "id": "e08677db-ad20-4598-ba20-7ce379785ac5",
   "metadata": {},
   "outputs": [
    {
     "data": {
      "text/plain": [
       "0"
      ]
     },
     "execution_count": 11,
     "metadata": {},
     "output_type": "execute_result"
    }
   ],
   "source": [
    "import gc\n",
    "import torch\n",
    "torch.cuda.empty_cache()\n",
    "gc.collect()"
   ]
  },
  {
   "cell_type": "code",
   "execution_count": 12,
   "id": "67b44366-f255-4415-a865-6a27a8ffcce7",
   "metadata": {
    "tags": []
   },
   "outputs": [],
   "source": [
    "# in silico perturbation in deletion mode to determine genes whose \n",
    "# deletion in the dilated cardiomyopathy (dcm) state significantly shifts\n",
    "# the embedding towards non-failing (nf) state\n",
    "isp = InSilicoPerturberEmbsEuc(perturb_type=\"overexpress\",\n",
    "                    perturb_rank_shift=None,\n",
    "                    genes_to_perturb=[#\"ENSG00000198947\",#dmd\n",
    "                                    #\"ENSG00000198523\",#phospholamban (pln)\n",
    "                                    #\"ENSG00000155657\",#ttn\n",
    "                                    #\"ENSG00000197905\",#tead4\n",
    "                                    #'ENSG00000068305'],#mef2a\n",
    "                                    'ENSG00000125107'],#cnot1\n",
    "                                    #\"ENSG00000111596\",#cnot2\n",
    "                                    #\"ENSG00000088038\",#cnot3\n",
    "                                    #\"ENSG00000080802\",#cnot4\n",
    "                                    #\"ENSG00000113300\",#cnot6\n",
    "                                    #\"ENSG00000198791\",#cnot7\n",
    "                                    #\"ENSG00000155508\",#cnot8\n",
    "                                    #\"ENSG00000144580\",#cnot9\n",
    "                                    #\"ENSG00000182973\",#cnot10\n",
    "                                    #\"ENSG00000158435\"],#cnot11\n",
    "                                    #'ENSG00000198626'],#ryr2\n",
    "                                    #\"ENSG00000161960\",#eif4a1\n",
    "                                    #\"ENSG00000156976\",#eif4a2\n",
    "                                    #\"ENSG00000075624\"],#actb\n",
    "\n",
    "                    combos=0,\n",
    "                    anchor_gene=None,\n",
    "                    model_type=\"CellClassifier\",\n",
    "                    num_classes=2,\n",
    "                    emb_mode=\"cell\",\n",
    "                    cell_emb_style=\"mean_pool\",\n",
    "                    filter_data=None,\n",
    "                    cell_states_to_model= None,\n",
    "                    filter_state=None,\n",
    "                    emb_label=[\"disease\",\"cell_type\"],\n",
    "                    max_ncells=1000,\n",
    "                    emb_layer=0,\n",
    "                    forward_batch_size=50,\n",
    "                    nproc=16,\n",
    "                    min_genes=1)"
   ]
  },
  {
   "cell_type": "code",
   "execution_count": 13,
   "id": "0525a663-871a-4ce0-a135-cc203817ffa9",
   "metadata": {},
   "outputs": [
    {
     "data": {
      "application/vnd.jupyter.widget-view+json": {
       "model_id": "561f148dfc9f41ffb698650be497538e",
       "version_major": 2,
       "version_minor": 0
      },
      "text/plain": [
       "Map (num_proc=16):   0%|          | 0/1000 [00:00<?, ? examples/s]"
      ]
     },
     "metadata": {},
     "output_type": "display_data"
    },
    {
     "data": {
      "application/vnd.jupyter.widget-view+json": {
       "model_id": "83f465031ec940fa8a8b1cb0fb4605cc",
       "version_major": 2,
       "version_minor": 0
      },
      "text/plain": [
       "Map (num_proc=16):   0%|          | 0/1000 [00:00<?, ? examples/s]"
      ]
     },
     "metadata": {},
     "output_type": "display_data"
    },
    {
     "name": "stdout",
     "output_type": "stream",
     "text": [
      "0\n"
     ]
    },
    {
     "data": {
      "application/vnd.jupyter.widget-view+json": {
       "model_id": "f1dd13d6c6864a1eb15cfd233abcc0be",
       "version_major": 2,
       "version_minor": 0
      },
      "text/plain": [
       "Map (num_proc=16):   0%|          | 0/50 [00:00<?, ? examples/s]"
      ]
     },
     "metadata": {},
     "output_type": "display_data"
    },
    {
     "name": "stderr",
     "output_type": "stream",
     "text": [
      "/mnt/scratchc/ghlab/toby/Geneformer/geneformer/in_silico_perturber_for_cell_embs_euc.py:476: UserWarning: To copy construct from a tensor, it is recommended to use sourceTensor.clone().detach() or sourceTensor.clone().detach().requires_grad_(True), rather than torch.tensor(sourceTensor).\n",
      "  original_minibatch_lengths = torch.tensor(original_minibatch[\"length\"], device=\"cuda\")\n"
     ]
    },
    {
     "name": "stdout",
     "output_type": "stream",
     "text": [
      "50\n"
     ]
    },
    {
     "data": {
      "application/vnd.jupyter.widget-view+json": {
       "model_id": "7bae38b6b95c4bba8d95cf158b9dd1e4",
       "version_major": 2,
       "version_minor": 0
      },
      "text/plain": [
       "Map (num_proc=16):   0%|          | 0/50 [00:00<?, ? examples/s]"
      ]
     },
     "metadata": {},
     "output_type": "display_data"
    },
    {
     "name": "stderr",
     "output_type": "stream",
     "text": [
      "/mnt/scratchc/ghlab/toby/Geneformer/geneformer/in_silico_perturber_for_cell_embs_euc.py:476: UserWarning: To copy construct from a tensor, it is recommended to use sourceTensor.clone().detach() or sourceTensor.clone().detach().requires_grad_(True), rather than torch.tensor(sourceTensor).\n",
      "  original_minibatch_lengths = torch.tensor(original_minibatch[\"length\"], device=\"cuda\")\n"
     ]
    },
    {
     "name": "stdout",
     "output_type": "stream",
     "text": [
      "100\n"
     ]
    },
    {
     "data": {
      "application/vnd.jupyter.widget-view+json": {
       "model_id": "e929c8c58db34b52a3180b742096b344",
       "version_major": 2,
       "version_minor": 0
      },
      "text/plain": [
       "Map (num_proc=16):   0%|          | 0/50 [00:00<?, ? examples/s]"
      ]
     },
     "metadata": {},
     "output_type": "display_data"
    },
    {
     "name": "stderr",
     "output_type": "stream",
     "text": [
      "/mnt/scratchc/ghlab/toby/Geneformer/geneformer/in_silico_perturber_for_cell_embs_euc.py:476: UserWarning: To copy construct from a tensor, it is recommended to use sourceTensor.clone().detach() or sourceTensor.clone().detach().requires_grad_(True), rather than torch.tensor(sourceTensor).\n",
      "  original_minibatch_lengths = torch.tensor(original_minibatch[\"length\"], device=\"cuda\")\n"
     ]
    },
    {
     "name": "stdout",
     "output_type": "stream",
     "text": [
      "150\n"
     ]
    },
    {
     "data": {
      "application/vnd.jupyter.widget-view+json": {
       "model_id": "80f5ea18cbf649dda56a67da240ca42d",
       "version_major": 2,
       "version_minor": 0
      },
      "text/plain": [
       "Map (num_proc=16):   0%|          | 0/50 [00:00<?, ? examples/s]"
      ]
     },
     "metadata": {},
     "output_type": "display_data"
    },
    {
     "name": "stderr",
     "output_type": "stream",
     "text": [
      "/mnt/scratchc/ghlab/toby/Geneformer/geneformer/in_silico_perturber_for_cell_embs_euc.py:476: UserWarning: To copy construct from a tensor, it is recommended to use sourceTensor.clone().detach() or sourceTensor.clone().detach().requires_grad_(True), rather than torch.tensor(sourceTensor).\n",
      "  original_minibatch_lengths = torch.tensor(original_minibatch[\"length\"], device=\"cuda\")\n"
     ]
    },
    {
     "name": "stdout",
     "output_type": "stream",
     "text": [
      "200\n"
     ]
    },
    {
     "data": {
      "application/vnd.jupyter.widget-view+json": {
       "model_id": "559014196fd449aa858950b7082adba9",
       "version_major": 2,
       "version_minor": 0
      },
      "text/plain": [
       "Map (num_proc=16):   0%|          | 0/50 [00:00<?, ? examples/s]"
      ]
     },
     "metadata": {},
     "output_type": "display_data"
    },
    {
     "name": "stderr",
     "output_type": "stream",
     "text": [
      "/mnt/scratchc/ghlab/toby/Geneformer/geneformer/in_silico_perturber_for_cell_embs_euc.py:476: UserWarning: To copy construct from a tensor, it is recommended to use sourceTensor.clone().detach() or sourceTensor.clone().detach().requires_grad_(True), rather than torch.tensor(sourceTensor).\n",
      "  original_minibatch_lengths = torch.tensor(original_minibatch[\"length\"], device=\"cuda\")\n"
     ]
    },
    {
     "name": "stdout",
     "output_type": "stream",
     "text": [
      "250\n"
     ]
    },
    {
     "data": {
      "application/vnd.jupyter.widget-view+json": {
       "model_id": "bc80ff4193a64ae8a621afffb564d98d",
       "version_major": 2,
       "version_minor": 0
      },
      "text/plain": [
       "Map (num_proc=16):   0%|          | 0/50 [00:00<?, ? examples/s]"
      ]
     },
     "metadata": {},
     "output_type": "display_data"
    },
    {
     "name": "stderr",
     "output_type": "stream",
     "text": [
      "/mnt/scratchc/ghlab/toby/Geneformer/geneformer/in_silico_perturber_for_cell_embs_euc.py:476: UserWarning: To copy construct from a tensor, it is recommended to use sourceTensor.clone().detach() or sourceTensor.clone().detach().requires_grad_(True), rather than torch.tensor(sourceTensor).\n",
      "  original_minibatch_lengths = torch.tensor(original_minibatch[\"length\"], device=\"cuda\")\n"
     ]
    },
    {
     "name": "stdout",
     "output_type": "stream",
     "text": [
      "300\n"
     ]
    },
    {
     "data": {
      "application/vnd.jupyter.widget-view+json": {
       "model_id": "95ba32a4b10349a6a1bd058a5e35b29c",
       "version_major": 2,
       "version_minor": 0
      },
      "text/plain": [
       "Map (num_proc=16):   0%|          | 0/50 [00:00<?, ? examples/s]"
      ]
     },
     "metadata": {},
     "output_type": "display_data"
    },
    {
     "name": "stderr",
     "output_type": "stream",
     "text": [
      "/mnt/scratchc/ghlab/toby/Geneformer/geneformer/in_silico_perturber_for_cell_embs_euc.py:476: UserWarning: To copy construct from a tensor, it is recommended to use sourceTensor.clone().detach() or sourceTensor.clone().detach().requires_grad_(True), rather than torch.tensor(sourceTensor).\n",
      "  original_minibatch_lengths = torch.tensor(original_minibatch[\"length\"], device=\"cuda\")\n"
     ]
    },
    {
     "name": "stdout",
     "output_type": "stream",
     "text": [
      "350\n"
     ]
    },
    {
     "data": {
      "application/vnd.jupyter.widget-view+json": {
       "model_id": "ad7909d9c6e84e72a1123296e1358fae",
       "version_major": 2,
       "version_minor": 0
      },
      "text/plain": [
       "Map (num_proc=16):   0%|          | 0/50 [00:00<?, ? examples/s]"
      ]
     },
     "metadata": {},
     "output_type": "display_data"
    },
    {
     "name": "stderr",
     "output_type": "stream",
     "text": [
      "/mnt/scratchc/ghlab/toby/Geneformer/geneformer/in_silico_perturber_for_cell_embs_euc.py:476: UserWarning: To copy construct from a tensor, it is recommended to use sourceTensor.clone().detach() or sourceTensor.clone().detach().requires_grad_(True), rather than torch.tensor(sourceTensor).\n",
      "  original_minibatch_lengths = torch.tensor(original_minibatch[\"length\"], device=\"cuda\")\n"
     ]
    },
    {
     "name": "stdout",
     "output_type": "stream",
     "text": [
      "400\n"
     ]
    },
    {
     "data": {
      "application/vnd.jupyter.widget-view+json": {
       "model_id": "11c938c6494b42c7881dece819c0cf02",
       "version_major": 2,
       "version_minor": 0
      },
      "text/plain": [
       "Map (num_proc=16):   0%|          | 0/50 [00:00<?, ? examples/s]"
      ]
     },
     "metadata": {},
     "output_type": "display_data"
    },
    {
     "name": "stderr",
     "output_type": "stream",
     "text": [
      "/mnt/scratchc/ghlab/toby/Geneformer/geneformer/in_silico_perturber_for_cell_embs_euc.py:476: UserWarning: To copy construct from a tensor, it is recommended to use sourceTensor.clone().detach() or sourceTensor.clone().detach().requires_grad_(True), rather than torch.tensor(sourceTensor).\n",
      "  original_minibatch_lengths = torch.tensor(original_minibatch[\"length\"], device=\"cuda\")\n"
     ]
    },
    {
     "name": "stdout",
     "output_type": "stream",
     "text": [
      "450\n"
     ]
    },
    {
     "data": {
      "application/vnd.jupyter.widget-view+json": {
       "model_id": "558319a3dd3f4ac4a3544d46a1318081",
       "version_major": 2,
       "version_minor": 0
      },
      "text/plain": [
       "Map (num_proc=16):   0%|          | 0/50 [00:00<?, ? examples/s]"
      ]
     },
     "metadata": {},
     "output_type": "display_data"
    },
    {
     "name": "stderr",
     "output_type": "stream",
     "text": [
      "/mnt/scratchc/ghlab/toby/Geneformer/geneformer/in_silico_perturber_for_cell_embs_euc.py:476: UserWarning: To copy construct from a tensor, it is recommended to use sourceTensor.clone().detach() or sourceTensor.clone().detach().requires_grad_(True), rather than torch.tensor(sourceTensor).\n",
      "  original_minibatch_lengths = torch.tensor(original_minibatch[\"length\"], device=\"cuda\")\n"
     ]
    },
    {
     "name": "stdout",
     "output_type": "stream",
     "text": [
      "500\n"
     ]
    },
    {
     "data": {
      "application/vnd.jupyter.widget-view+json": {
       "model_id": "d8baa2399fd2448898ec0fdaf6b161ee",
       "version_major": 2,
       "version_minor": 0
      },
      "text/plain": [
       "Map (num_proc=16):   0%|          | 0/50 [00:00<?, ? examples/s]"
      ]
     },
     "metadata": {},
     "output_type": "display_data"
    },
    {
     "name": "stderr",
     "output_type": "stream",
     "text": [
      "/mnt/scratchc/ghlab/toby/Geneformer/geneformer/in_silico_perturber_for_cell_embs_euc.py:476: UserWarning: To copy construct from a tensor, it is recommended to use sourceTensor.clone().detach() or sourceTensor.clone().detach().requires_grad_(True), rather than torch.tensor(sourceTensor).\n",
      "  original_minibatch_lengths = torch.tensor(original_minibatch[\"length\"], device=\"cuda\")\n"
     ]
    },
    {
     "name": "stdout",
     "output_type": "stream",
     "text": [
      "550\n"
     ]
    },
    {
     "data": {
      "application/vnd.jupyter.widget-view+json": {
       "model_id": "06c423597fe0463bbbf495eaf77994e7",
       "version_major": 2,
       "version_minor": 0
      },
      "text/plain": [
       "Map (num_proc=16):   0%|          | 0/50 [00:00<?, ? examples/s]"
      ]
     },
     "metadata": {},
     "output_type": "display_data"
    },
    {
     "name": "stderr",
     "output_type": "stream",
     "text": [
      "/mnt/scratchc/ghlab/toby/Geneformer/geneformer/in_silico_perturber_for_cell_embs_euc.py:476: UserWarning: To copy construct from a tensor, it is recommended to use sourceTensor.clone().detach() or sourceTensor.clone().detach().requires_grad_(True), rather than torch.tensor(sourceTensor).\n",
      "  original_minibatch_lengths = torch.tensor(original_minibatch[\"length\"], device=\"cuda\")\n"
     ]
    },
    {
     "name": "stdout",
     "output_type": "stream",
     "text": [
      "600\n"
     ]
    },
    {
     "data": {
      "application/vnd.jupyter.widget-view+json": {
       "model_id": "70486f4ed30e43fc97d17eb7b21a88c6",
       "version_major": 2,
       "version_minor": 0
      },
      "text/plain": [
       "Map (num_proc=16):   0%|          | 0/50 [00:00<?, ? examples/s]"
      ]
     },
     "metadata": {},
     "output_type": "display_data"
    },
    {
     "name": "stderr",
     "output_type": "stream",
     "text": [
      "/mnt/scratchc/ghlab/toby/Geneformer/geneformer/in_silico_perturber_for_cell_embs_euc.py:476: UserWarning: To copy construct from a tensor, it is recommended to use sourceTensor.clone().detach() or sourceTensor.clone().detach().requires_grad_(True), rather than torch.tensor(sourceTensor).\n",
      "  original_minibatch_lengths = torch.tensor(original_minibatch[\"length\"], device=\"cuda\")\n"
     ]
    },
    {
     "name": "stdout",
     "output_type": "stream",
     "text": [
      "650\n"
     ]
    },
    {
     "data": {
      "application/vnd.jupyter.widget-view+json": {
       "model_id": "86169e4ae1d148c3bf00d72cf7a28586",
       "version_major": 2,
       "version_minor": 0
      },
      "text/plain": [
       "Map (num_proc=16):   0%|          | 0/50 [00:00<?, ? examples/s]"
      ]
     },
     "metadata": {},
     "output_type": "display_data"
    },
    {
     "name": "stderr",
     "output_type": "stream",
     "text": [
      "/mnt/scratchc/ghlab/toby/Geneformer/geneformer/in_silico_perturber_for_cell_embs_euc.py:476: UserWarning: To copy construct from a tensor, it is recommended to use sourceTensor.clone().detach() or sourceTensor.clone().detach().requires_grad_(True), rather than torch.tensor(sourceTensor).\n",
      "  original_minibatch_lengths = torch.tensor(original_minibatch[\"length\"], device=\"cuda\")\n"
     ]
    },
    {
     "name": "stdout",
     "output_type": "stream",
     "text": [
      "700\n"
     ]
    },
    {
     "data": {
      "application/vnd.jupyter.widget-view+json": {
       "model_id": "c5b44a5c734d4d2896ab3b990732fa82",
       "version_major": 2,
       "version_minor": 0
      },
      "text/plain": [
       "Map (num_proc=16):   0%|          | 0/50 [00:00<?, ? examples/s]"
      ]
     },
     "metadata": {},
     "output_type": "display_data"
    },
    {
     "name": "stderr",
     "output_type": "stream",
     "text": [
      "/mnt/scratchc/ghlab/toby/Geneformer/geneformer/in_silico_perturber_for_cell_embs_euc.py:476: UserWarning: To copy construct from a tensor, it is recommended to use sourceTensor.clone().detach() or sourceTensor.clone().detach().requires_grad_(True), rather than torch.tensor(sourceTensor).\n",
      "  original_minibatch_lengths = torch.tensor(original_minibatch[\"length\"], device=\"cuda\")\n"
     ]
    },
    {
     "name": "stdout",
     "output_type": "stream",
     "text": [
      "750\n"
     ]
    },
    {
     "data": {
      "application/vnd.jupyter.widget-view+json": {
       "model_id": "a0d3a99db98747a79d327f8c8dbba693",
       "version_major": 2,
       "version_minor": 0
      },
      "text/plain": [
       "Map (num_proc=16):   0%|          | 0/50 [00:00<?, ? examples/s]"
      ]
     },
     "metadata": {},
     "output_type": "display_data"
    },
    {
     "name": "stderr",
     "output_type": "stream",
     "text": [
      "/mnt/scratchc/ghlab/toby/Geneformer/geneformer/in_silico_perturber_for_cell_embs_euc.py:476: UserWarning: To copy construct from a tensor, it is recommended to use sourceTensor.clone().detach() or sourceTensor.clone().detach().requires_grad_(True), rather than torch.tensor(sourceTensor).\n",
      "  original_minibatch_lengths = torch.tensor(original_minibatch[\"length\"], device=\"cuda\")\n"
     ]
    },
    {
     "name": "stdout",
     "output_type": "stream",
     "text": [
      "800\n"
     ]
    },
    {
     "data": {
      "application/vnd.jupyter.widget-view+json": {
       "model_id": "efa20b671f474061bee57cb01b3fed0c",
       "version_major": 2,
       "version_minor": 0
      },
      "text/plain": [
       "Map (num_proc=16):   0%|          | 0/50 [00:00<?, ? examples/s]"
      ]
     },
     "metadata": {},
     "output_type": "display_data"
    },
    {
     "name": "stderr",
     "output_type": "stream",
     "text": [
      "/mnt/scratchc/ghlab/toby/Geneformer/geneformer/in_silico_perturber_for_cell_embs_euc.py:476: UserWarning: To copy construct from a tensor, it is recommended to use sourceTensor.clone().detach() or sourceTensor.clone().detach().requires_grad_(True), rather than torch.tensor(sourceTensor).\n",
      "  original_minibatch_lengths = torch.tensor(original_minibatch[\"length\"], device=\"cuda\")\n"
     ]
    },
    {
     "name": "stdout",
     "output_type": "stream",
     "text": [
      "850\n"
     ]
    },
    {
     "data": {
      "application/vnd.jupyter.widget-view+json": {
       "model_id": "12c4414322af4323b387578dd5c9c2df",
       "version_major": 2,
       "version_minor": 0
      },
      "text/plain": [
       "Map (num_proc=16):   0%|          | 0/50 [00:00<?, ? examples/s]"
      ]
     },
     "metadata": {},
     "output_type": "display_data"
    },
    {
     "name": "stderr",
     "output_type": "stream",
     "text": [
      "/mnt/scratchc/ghlab/toby/Geneformer/geneformer/in_silico_perturber_for_cell_embs_euc.py:476: UserWarning: To copy construct from a tensor, it is recommended to use sourceTensor.clone().detach() or sourceTensor.clone().detach().requires_grad_(True), rather than torch.tensor(sourceTensor).\n",
      "  original_minibatch_lengths = torch.tensor(original_minibatch[\"length\"], device=\"cuda\")\n"
     ]
    },
    {
     "name": "stdout",
     "output_type": "stream",
     "text": [
      "900\n"
     ]
    },
    {
     "data": {
      "application/vnd.jupyter.widget-view+json": {
       "model_id": "32dc7a6b7923441e9aff8c32d587370a",
       "version_major": 2,
       "version_minor": 0
      },
      "text/plain": [
       "Map (num_proc=16):   0%|          | 0/50 [00:00<?, ? examples/s]"
      ]
     },
     "metadata": {},
     "output_type": "display_data"
    },
    {
     "data": {
      "application/vnd.jupyter.widget-view+json": {
       "model_id": "fa636a5b6da24331bfb9304611010c35",
       "version_major": 2,
       "version_minor": 0
      },
      "text/plain": [
       "Map (num_proc=16):   0%|          | 0/50 [00:00<?, ? examples/s]"
      ]
     },
     "metadata": {},
     "output_type": "display_data"
    },
    {
     "name": "stdout",
     "output_type": "stream",
     "text": [
      "950\n"
     ]
    },
    {
     "data": {
      "application/vnd.jupyter.widget-view+json": {
       "model_id": "cba8b90129de4bc7ad4cbd8e0685f5d0",
       "version_major": 2,
       "version_minor": 0
      },
      "text/plain": [
       "Map (num_proc=16):   0%|          | 0/50 [00:00<?, ? examples/s]"
      ]
     },
     "metadata": {},
     "output_type": "display_data"
    },
    {
     "data": {
      "application/vnd.jupyter.widget-view+json": {
       "model_id": "c728041958df440295482a4416b3c69c",
       "version_major": 2,
       "version_minor": 0
      },
      "text/plain": [
       "Map (num_proc=16):   0%|          | 0/50 [00:00<?, ? examples/s]"
      ]
     },
     "metadata": {},
     "output_type": "display_data"
    }
   ],
   "source": [
    "# outputs intermediate files from in silico perturbation\n",
    "isp.perturb_data(\"/mnt/scratchc/ghlab/toby/models/240301_geneformer_CellClassifier_PSC1_L2048_B4_LR5e-05_LSlinear_WU500_E2_Oadamw_F4\",\n",
    "                 \"/mnt/scratchc/ghlab/toby/Mesenchyme1_PSC1.dataset\",\n",
    "                 \"/mnt/scratchc/ghlab/toby/in_silico_perturb_data/in_silico_pt_embs/dev_model/\",\n",
    "                 \"cnot1\")\n"
   ]
  },
  {
   "cell_type": "code",
   "execution_count": null,
   "id": "7d808f75-7bfe-49ff-94b6-27b814fe8a49",
   "metadata": {},
   "outputs": [],
   "source": [
    "'''{'state_key':'cell_type',\n",
    "    'start_state':'PSC1',\n",
    "    'goal_state':'Mesenchyme1',\n",
    "    'alt_states':None},'''"
   ]
  }
 ],
 "metadata": {
  "kernelspec": {
   "display_name": "Python 3 (ipykernel)",
   "language": "python",
   "name": "python3"
  },
  "language_info": {
   "codemirror_mode": {
    "name": "ipython",
    "version": 3
   },
   "file_extension": ".py",
   "mimetype": "text/x-python",
   "name": "python",
   "nbconvert_exporter": "python",
   "pygments_lexer": "ipython3",
   "version": "3.11.5"
  }
 },
 "nbformat": 4,
 "nbformat_minor": 5
}
