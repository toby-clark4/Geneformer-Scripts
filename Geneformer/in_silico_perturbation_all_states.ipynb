{
 "cells": [
  {
   "cell_type": "code",
   "execution_count": 1,
   "id": "e10ac0c9-40ce-41fb-b6fa-3d62b76f2e57",
   "metadata": {},
   "outputs": [],
   "source": [
    "from geneformer import InSilicoPerturberAll\n",
    "from geneformer import InSilicoPerturberStats\n",
    "import warnings\n",
    "warnings.simplefilter(action='ignore', category=FutureWarning)"
   ]
  },
  {
   "cell_type": "code",
   "execution_count": 2,
   "id": "4bd67c31-772e-47cb-9bfb-1fff72b58bb5",
   "metadata": {},
   "outputs": [
    {
     "data": {
      "text/plain": [
       "'\\nimport pickle\\nobjects = []\\nwith (open(\"/mnt/scratchc/ghlab/toby/in_silico_pt/in_silico_delete_tead4_del_dict_1Kbatch_raw.pickle\", \"rb\")) as openfile:\\n    while True:\\n        try:\\n            objects.append(pickle.load(openfile))\\n        except EOFError:\\n            break\\nprint(len(objects[0][((16960,), \\'cell_emb\\')]))\\n'"
      ]
     },
     "execution_count": 2,
     "metadata": {},
     "output_type": "execute_result"
    }
   ],
   "source": [
    "'''\n",
    "import pickle\n",
    "objects = []\n",
    "with (open(\"/mnt/scratchc/ghlab/toby/in_silico_pt/in_silico_delete_tead4_del_dict_1Kbatch_raw.pickle\", \"rb\")) as openfile:\n",
    "    while True:\n",
    "        try:\n",
    "            objects.append(pickle.load(openfile))\n",
    "        except EOFError:\n",
    "            break\n",
    "print(len(objects[0][((16960,), 'cell_emb')]))\n",
    "'''"
   ]
  },
  {
   "cell_type": "code",
   "execution_count": 3,
   "id": "e08677db-ad20-4598-ba20-7ce379785ac5",
   "metadata": {},
   "outputs": [
    {
     "data": {
      "text/plain": [
       "'\\nimport gc\\nimport torch\\ntorch.cuda.empty_cache()\\ngc.collect()\\n'"
      ]
     },
     "execution_count": 3,
     "metadata": {},
     "output_type": "execute_result"
    }
   ],
   "source": [
    "'''\n",
    "import gc\n",
    "import torch\n",
    "torch.cuda.empty_cache()\n",
    "gc.collect()\n",
    "'''"
   ]
  },
  {
   "cell_type": "code",
   "execution_count": 4,
   "id": "67b44366-f255-4415-a865-6a27a8ffcce7",
   "metadata": {
    "tags": []
   },
   "outputs": [],
   "source": [
    "# in silico perturbation in deletion mode to determine genes whose \n",
    "# deletion in the dilated cardiomyopathy (dcm) state significantly shifts\n",
    "# the embedding towards non-failing (nf) state\n",
    "isp = InSilicoPerturberAll(perturb_type=\"overexpress\",\n",
    "                        perturb_rank_shift=None,\n",
    "                        genes_to_perturb=[\"ENSG00000198947\"],\n",
    "                                          #\"ENSG00000080802\"],\n",
    "                                          #\"ENSG00000113300\",\n",
    "                                         # \"ENSG00000198791\",\n",
    "                                          #\"ENSG00000155508\"],\n",
    "                        combos=0,\n",
    "                        anchor_gene=None,\n",
    "                        model_type=\"CellClassifier\",\n",
    "                        num_classes=3,\n",
    "                        emb_mode=\"cell\",\n",
    "                        cell_emb_style=\"mean_pool\",\n",
    "                        filter_data={\"cell_type\":[\"Cardiomyocyte1\",\"Cardiomyocyte2\",\"Cardiomyocyte3\"]},\n",
    "                        cell_states_to_model={'state_key': 'disease', \n",
    "                                              'start_state': 'dcm', \n",
    "                                              'goal_state': 'nf', \n",
    "                                              'alt_states': ['hcm']},\n",
    "                        emb_label=[\"disease\",\"cell_type\"]\n",
    "                        max_ncells=60,\n",
    "                        emb_layer=0,\n",
    "                        forward_batch_size=200,\n",
    "                        nproc=16)"
   ]
  },
  {
   "cell_type": "code",
   "execution_count": 5,
   "id": "0525a663-871a-4ce0-a135-cc203817ffa9",
   "metadata": {},
   "outputs": [
    {
     "name": "stdout",
     "output_type": "stream",
     "text": [
      "torch.Size([60, 2047, 256])\n",
      "defaultdict(<class 'list'>, {((17331,), 'cell_emb'): [(-0.0024306774139404297, 0.0019067823886871338, 0.01054796576499939), (-0.0008729100227355957, 0.00029590725898742676, -0.00403633713722229), (-0.010149359703063965, -0.06583341211080551, 0.0905199944972992), (-0.038540422916412354, -0.11256344616413116, 0.11676859855651855), (0.011565923690795898, 0.0024982839822769165, -0.044402122497558594), (0.035932838916778564, 0.005635976791381836, -0.06049025058746338), (0.00035750865936279297, -2.092123031616211e-05, -0.0011528730392456055), (0.0003414750099182129, 0.000946536660194397, -0.0017580091953277588), (0.003472745418548584, -0.020765140652656555, 0.016480743885040283), (-0.000939786434173584, 0.005360513925552368, -0.005905032157897949), (-0.004931807518005371, 0.03769945353269577, -0.01236771047115326), (-0.005189836025238037, -0.002417534589767456, -0.018852874636650085), (-0.00048089027404785156, -0.009114515036344528, -0.0043883174657821655), (0.00038307905197143555, -0.0009354948997497559, -0.01219072937965393), (0.013862252235412598, -0.011093579232692719, -0.0851205587387085), (4.267692565917969e-05, -0.000994950532913208, 0.005388528108596802), (-0.0036625266075134277, 0.00012299418449401855, 0.02162441611289978), (0.004985153675079346, 0.014759376645088196, -0.05099877715110779), (-0.0272294282913208, -0.014182284474372864, 0.031038284301757812), (0.002044975757598877, 0.0022624731063842773, -0.0019575953483581543), (-0.001598060131072998, 0.003762476146221161, -0.006156474351882935), (-0.0266229510307312, 0.0006792843341827393, 0.06905072927474976), (0.025353193283081055, -0.003741726279258728, -0.039617449045181274), (-0.0004475116729736328, 0.00016967952251434326, -0.030649513006210327), (0.08476376533508301, 0.03978912532329559, -0.04252821207046509), (-0.002258777618408203, 0.0018512904644012451, -0.010432124137878418), (0.0022001266479492188, -0.004893016070127487, 0.013728678226470947), (-0.0016862750053405762, 0.003476157784461975, -0.010213315486907959), (-0.0011312365531921387, 0.00019609928131103516, -0.0062485188245773315), (0.009799301624298096, -0.017761632800102234, -0.024996578693389893), (-0.003644406795501709, 0.006464272737503052, -0.00825442373752594), (-0.0020204782485961914, 0.0022203922271728516, -0.004937604069709778), (-0.000965118408203125, -0.0015036314725875854, -0.006714373826980591), (-0.03785783052444458, -0.05353516340255737, 0.04435068368911743), (-0.011083543300628662, -0.0058647096157073975, -0.0356612354516983), (-0.0002753734588623047, 0.007597878575325012, -0.01647809147834778), (0.004467189311981201, -0.019572880119085312, 0.019565314054489136), (-0.0018952488899230957, 0.018947124481201172, -0.02512405812740326), (0.004356682300567627, -0.023718610405921936, 0.04128307104110718), (0.001996755599975586, 0.0016496628522872925, 0.005360037088394165), (0.0006563067436218262, 0.0005880445241928101, 0.00028416141867637634), (0.002284407615661621, 0.01072034239768982, 0.006321847438812256), (0.0028312206268310547, 0.006535336375236511, -0.017554432153701782), (0.0004912614822387695, -0.02359992265701294, -0.02408820390701294), (0.002241373062133789, -0.007854431867599487, 0.007750287652015686), (0.021174073219299316, 0.04612012207508087, -0.06694352626800537), (0.005889296531677246, 0.003509432077407837, -0.02281421422958374), (0.15947598218917847, -0.06918641924858093, 0.003324538469314575), (-0.00804060697555542, 0.01147681474685669, -0.03027278184890747), (0.0013335943222045898, 0.015809521079063416, -0.012167692184448242), (0.05303102731704712, -0.08696514368057251, 0.0342651903629303), (0.0007246732711791992, -0.0014435052871704102, 0.0034994184970855713), (0.12719279527664185, 0.046638309955596924, -0.06732380390167236), (-0.0026041269302368164, -0.011732310056686401, 0.012893140316009521), (0.0014547109603881836, 0.00913006067276001, 0.002473771572113037), (-0.014882802963256836, -0.031771838665008545, 0.05287432670593262), (-0.04671013355255127, 0.00572068989276886, 0.09336787462234497), (0.007111012935638428, -0.010361462831497192, -0.056321561336517334), (-0.0003756284713745117, 0.0034499913454055786, -0.0027220547199249268), (-0.004177093505859375, 0.004587128758430481, -0.013271316885948181)]})\n"
     ]
    }
   ],
   "source": [
    "# outputs intermediate files from in silico perturbation\n",
    "isp.perturb_data(\"/mnt/scratchc/ghlab/toby/Geneformer/fine_tuned_models/geneformer-6L-30M_CellClassifier_cardiomyopathies_220224\",\n",
    "                 \"/mnt/scratchc/ghlab/toby/Geneformer/Genecorpus-30M/example_input_files/cell_classification/disease_classification/human_dcm_hcm_nf.dataset\",\n",
    "                 \"/mnt/scratchc/ghlab/toby/in_silico_perturb_data/in_silico_pt/dmd/\",\n",
    "                 \"dmd\")"
   ]
  },
  {
   "cell_type": "code",
   "execution_count": 6,
   "id": "f8aadabb-516a-4dc0-b307-6de880e64e26",
   "metadata": {},
   "outputs": [],
   "source": [
    "ispstats = InSilicoPerturberStats(mode=\"goal_state_shift\",\n",
    "                                  genes_perturbed=[\"ENSG00000198947\"],\n",
    "                                  combos=0,\n",
    "                                  anchor_gene=None,\n",
    "                                  #cell_states_to_model={\"disease\":([\"dcm\"],[\"nf\"],[\"hcm\"])})\n",
    "                                  cell_states_to_model={'state_key':'disease','start_state':'dcm','goal_state':'nf','alt_states':['hcm']})"
   ]
  },
  {
   "cell_type": "code",
   "execution_count": 7,
   "id": "ffecfae6-e737-43e3-99e9-fa37ff46610b",
   "metadata": {},
   "outputs": [
    {
     "data": {
      "application/vnd.jupyter.widget-view+json": {
       "model_id": "bd99dae058cc47a59e573345c5138331",
       "version_major": 2,
       "version_minor": 0
      },
      "text/plain": [
       "  0%|          | 0/1 [00:00<?, ?it/s]"
      ]
     },
     "metadata": {},
     "output_type": "display_data"
    }
   ],
   "source": [
    "# extracts data from intermediate files and processes stats to output in final .csv\n",
    "ispstats.get_stats(\"/mnt/scratchc/ghlab/toby/in_silico_perturb_data/in_silico_pt/dmd/ctrl/\",\n",
    "                   None,\n",
    "                   \"/mnt/scratchc/ghlab/toby/in_silico_perturb_data/in_silico_pt/isp_results/\",\n",
    "                   \"dmd_ctrl\")"
   ]
  },
  {
   "cell_type": "code",
   "execution_count": null,
   "id": "0c5fd0e1-b9ea-4d68-8f51-3f73fd809282",
   "metadata": {},
   "outputs": [],
   "source": []
  }
 ],
 "metadata": {
  "kernelspec": {
   "display_name": "Python 3 (ipykernel)",
   "language": "python",
   "name": "python3"
  },
  "language_info": {
   "codemirror_mode": {
    "name": "ipython",
    "version": 3
   },
   "file_extension": ".py",
   "mimetype": "text/x-python",
   "name": "python",
   "nbconvert_exporter": "python",
   "pygments_lexer": "ipython3",
   "version": "3.11.5"
  }
 },
 "nbformat": 4,
 "nbformat_minor": 5
}
