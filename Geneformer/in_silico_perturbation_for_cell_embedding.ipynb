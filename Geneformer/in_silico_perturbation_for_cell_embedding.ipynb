{
 "cells": [
  {
   "cell_type": "code",
   "execution_count": 1,
   "id": "e10ac0c9-40ce-41fb-b6fa-3d62b76f2e57",
   "metadata": {},
   "outputs": [],
   "source": [
    "from geneformer import InSilicoPerturberEmbsEuc\n",
    "import warnings\n",
    "warnings.simplefilter(action='ignore', category=FutureWarning)"
   ]
  },
  {
   "cell_type": "code",
   "execution_count": 2,
   "id": "4bd67c31-772e-47cb-9bfb-1fff72b58bb5",
   "metadata": {},
   "outputs": [
    {
     "name": "stdout",
     "output_type": "stream",
     "text": [
      "193\n"
     ]
    },
    {
     "data": {
      "text/plain": [
       "'\\n#this gets the gene of the token of interest\\nimport pickle\\nobjects = []\\nwith (open(\"/mnt/scratchc/ghlab/toby/Geneformer/geneformer/token_dictionary.pkl\", \"rb\")) as openfile:\\n    while True:\\n        try:\\n            objects.append(pickle.load(openfile))\\n        except EOFError:\\n            break\\nprint(get_key_by_value(objects[0],17173))\\n'"
      ]
     },
     "execution_count": 2,
     "metadata": {},
     "output_type": "execute_result"
    }
   ],
   "source": [
    "def get_key_by_value(dictionary, value):\n",
    "    return next((key for key, val in dictionary.items() if val == value)), None\n",
    "\n",
    "#this gets the token id of the gene of interest\n",
    "\n",
    "import pickle\n",
    "objects = []\n",
    "with (open(\"/mnt/scratchc/ghlab/toby/Geneformer/geneformer/token_dictionary.pkl\", \"rb\")) as openfile:\n",
    "    while True:\n",
    "        try:\n",
    "            objects.append(pickle.load(openfile))\n",
    "        except EOFError:\n",
    "            break\n",
    "print(objects[0]['ENSG00000007866'])\n",
    "\n",
    "'''\n",
    "#this gets the gene of the token of interest\n",
    "import pickle\n",
    "objects = []\n",
    "with (open(\"/mnt/scratchc/ghlab/toby/Geneformer/geneformer/token_dictionary.pkl\", \"rb\")) as openfile:\n",
    "    while True:\n",
    "        try:\n",
    "            objects.append(pickle.load(openfile))\n",
    "        except EOFError:\n",
    "            break\n",
    "print(get_key_by_value(objects[0],17173))\n",
    "'''"
   ]
  },
  {
   "cell_type": "code",
   "execution_count": 3,
   "id": "e08677db-ad20-4598-ba20-7ce379785ac5",
   "metadata": {},
   "outputs": [
    {
     "data": {
      "text/plain": [
       "46"
      ]
     },
     "execution_count": 3,
     "metadata": {},
     "output_type": "execute_result"
    }
   ],
   "source": [
    "import gc\n",
    "import torch\n",
    "torch.cuda.empty_cache()\n",
    "gc.collect()"
   ]
  },
  {
   "cell_type": "code",
   "execution_count": 10,
   "id": "086d0c39-057c-49ac-a691-31cddca8304e",
   "metadata": {},
   "outputs": [],
   "source": [
    "tf_list = ['ENSG00000183072',\n",
    "           'ENSG00000106459',\n",
    "           'ENSG00000113196',\n",
    "           'ENSG00000112658',\n",
    "           'ENSG00000135111',\n",
    "           'ENSG00000089225',\n",
    "           'ENSG00000164532',\n",
    "           'ENSG00000136574',\n",
    "           'ENSG00000130700',\n",
    "           'ENSG00000141448',\n",
    "           'ENSG00000068305',\n",
    "           'ENSG00000064489']\n",
    "\n",
    "control_list = [#\"ENSG00000075624\",\n",
    "               #\"ENSG00000111640\",\n",
    "                #\"ENSG0000016671\",\n",
    "                \"ENSG00000165704\",\n",
    "                \"ENSG00000087245\",\n",
    "                \"ENSG00000089157\",\n",
    "                \"ENSG00000136560\",\n",
    "                \"ENSG00000150991\",\n",
    "                \"ENSG00000078808\",\n",
    "                \"ENSG00000102144\"]\n",
    "\n",
    "ccr4not_list = [#\"ENSG00000113300\",#cnot6\n",
    "                #\"ENSG00000198791\",#cnot7\n",
    "                #\"ENSG00000155508\",#cnot8\n",
    "                #\"ENSG00000144580\",#cnot9\n",
    "                #\"ENSG00000182973\",#cnot10\n",
    "                \"ENSG00000158435\"]#cnot11\n",
    "\n"
   ]
  },
  {
   "cell_type": "code",
   "execution_count": 7,
   "id": "cb42a2e2-a10c-4003-aab6-3220c488602c",
   "metadata": {
    "tags": []
   },
   "outputs": [
    {
     "data": {
      "application/vnd.jupyter.widget-view+json": {
       "model_id": "8eaebb45f2c647e0a46e14f3d2a3a1e5",
       "version_major": 2,
       "version_minor": 0
      },
      "text/plain": [
       "Map (num_proc=32):   0%|          | 0/1000 [00:00<?, ? examples/s]"
      ]
     },
     "metadata": {},
     "output_type": "display_data"
    },
    {
     "data": {
      "application/vnd.jupyter.widget-view+json": {
       "model_id": "4c762c84d4a84f93a5a969669ec5bbc1",
       "version_major": 2,
       "version_minor": 0
      },
      "text/plain": [
       "Map (num_proc=32):   0%|          | 0/1000 [00:00<?, ? examples/s]"
      ]
     },
     "metadata": {},
     "output_type": "display_data"
    },
    {
     "name": "stdout",
     "output_type": "stream",
     "text": [
      "0\n"
     ]
    },
    {
     "data": {
      "application/vnd.jupyter.widget-view+json": {
       "model_id": "e03ceef1e55743b68ecdba53ebadcf6c",
       "version_major": 2,
       "version_minor": 0
      },
      "text/plain": [
       "Map (num_proc=32):   0%|          | 0/50 [00:00<?, ? examples/s]"
      ]
     },
     "metadata": {},
     "output_type": "display_data"
    },
    {
     "name": "stderr",
     "output_type": "stream",
     "text": [
      "/mnt/scratchc/ghlab/toby/Geneformer/geneformer/in_silico_perturber_for_cell_embs_euc.py:474: UserWarning: To copy construct from a tensor, it is recommended to use sourceTensor.clone().detach() or sourceTensor.clone().detach().requires_grad_(True), rather than torch.tensor(sourceTensor).\n",
      "  original_minibatch_lengths = torch.tensor(original_minibatch[\"length\"], device=\"cuda\")\n"
     ]
    },
    {
     "name": "stdout",
     "output_type": "stream",
     "text": [
      "50\n"
     ]
    },
    {
     "data": {
      "application/vnd.jupyter.widget-view+json": {
       "model_id": "8fb7803eeed34ffc887b668ef7564df6",
       "version_major": 2,
       "version_minor": 0
      },
      "text/plain": [
       "Map (num_proc=32):   0%|          | 0/50 [00:00<?, ? examples/s]"
      ]
     },
     "metadata": {},
     "output_type": "display_data"
    },
    {
     "name": "stderr",
     "output_type": "stream",
     "text": [
      "/mnt/scratchc/ghlab/toby/Geneformer/geneformer/in_silico_perturber_for_cell_embs_euc.py:474: UserWarning: To copy construct from a tensor, it is recommended to use sourceTensor.clone().detach() or sourceTensor.clone().detach().requires_grad_(True), rather than torch.tensor(sourceTensor).\n",
      "  original_minibatch_lengths = torch.tensor(original_minibatch[\"length\"], device=\"cuda\")\n"
     ]
    },
    {
     "name": "stdout",
     "output_type": "stream",
     "text": [
      "100\n"
     ]
    },
    {
     "data": {
      "application/vnd.jupyter.widget-view+json": {
       "model_id": "848defe3bfa04cc7a419578a9570eda5",
       "version_major": 2,
       "version_minor": 0
      },
      "text/plain": [
       "Map (num_proc=32):   0%|          | 0/50 [00:00<?, ? examples/s]"
      ]
     },
     "metadata": {},
     "output_type": "display_data"
    },
    {
     "name": "stderr",
     "output_type": "stream",
     "text": [
      "/mnt/scratchc/ghlab/toby/Geneformer/geneformer/in_silico_perturber_for_cell_embs_euc.py:474: UserWarning: To copy construct from a tensor, it is recommended to use sourceTensor.clone().detach() or sourceTensor.clone().detach().requires_grad_(True), rather than torch.tensor(sourceTensor).\n",
      "  original_minibatch_lengths = torch.tensor(original_minibatch[\"length\"], device=\"cuda\")\n"
     ]
    },
    {
     "name": "stdout",
     "output_type": "stream",
     "text": [
      "150\n"
     ]
    },
    {
     "data": {
      "application/vnd.jupyter.widget-view+json": {
       "model_id": "5f9e4c0bf0174f458ea934e41a7e1d65",
       "version_major": 2,
       "version_minor": 0
      },
      "text/plain": [
       "Map (num_proc=32):   0%|          | 0/50 [00:00<?, ? examples/s]"
      ]
     },
     "metadata": {},
     "output_type": "display_data"
    },
    {
     "name": "stderr",
     "output_type": "stream",
     "text": [
      "/mnt/scratchc/ghlab/toby/Geneformer/geneformer/in_silico_perturber_for_cell_embs_euc.py:474: UserWarning: To copy construct from a tensor, it is recommended to use sourceTensor.clone().detach() or sourceTensor.clone().detach().requires_grad_(True), rather than torch.tensor(sourceTensor).\n",
      "  original_minibatch_lengths = torch.tensor(original_minibatch[\"length\"], device=\"cuda\")\n"
     ]
    },
    {
     "name": "stdout",
     "output_type": "stream",
     "text": [
      "200\n"
     ]
    },
    {
     "data": {
      "application/vnd.jupyter.widget-view+json": {
       "model_id": "2ca5e53dad4a4e44b8dc88fba6cee5c0",
       "version_major": 2,
       "version_minor": 0
      },
      "text/plain": [
       "Map (num_proc=32):   0%|          | 0/50 [00:00<?, ? examples/s]"
      ]
     },
     "metadata": {},
     "output_type": "display_data"
    },
    {
     "name": "stderr",
     "output_type": "stream",
     "text": [
      "/mnt/scratchc/ghlab/toby/Geneformer/geneformer/in_silico_perturber_for_cell_embs_euc.py:474: UserWarning: To copy construct from a tensor, it is recommended to use sourceTensor.clone().detach() or sourceTensor.clone().detach().requires_grad_(True), rather than torch.tensor(sourceTensor).\n",
      "  original_minibatch_lengths = torch.tensor(original_minibatch[\"length\"], device=\"cuda\")\n"
     ]
    },
    {
     "name": "stdout",
     "output_type": "stream",
     "text": [
      "250\n"
     ]
    },
    {
     "data": {
      "application/vnd.jupyter.widget-view+json": {
       "model_id": "aadc3f5dad6f43e1b90fcacf96d149b1",
       "version_major": 2,
       "version_minor": 0
      },
      "text/plain": [
       "Map (num_proc=32):   0%|          | 0/50 [00:00<?, ? examples/s]"
      ]
     },
     "metadata": {},
     "output_type": "display_data"
    },
    {
     "name": "stderr",
     "output_type": "stream",
     "text": [
      "/mnt/scratchc/ghlab/toby/Geneformer/geneformer/in_silico_perturber_for_cell_embs_euc.py:474: UserWarning: To copy construct from a tensor, it is recommended to use sourceTensor.clone().detach() or sourceTensor.clone().detach().requires_grad_(True), rather than torch.tensor(sourceTensor).\n",
      "  original_minibatch_lengths = torch.tensor(original_minibatch[\"length\"], device=\"cuda\")\n"
     ]
    },
    {
     "name": "stdout",
     "output_type": "stream",
     "text": [
      "300\n"
     ]
    },
    {
     "data": {
      "application/vnd.jupyter.widget-view+json": {
       "model_id": "c74e0d82f0aa4958a04d11c225066ea4",
       "version_major": 2,
       "version_minor": 0
      },
      "text/plain": [
       "Map (num_proc=32):   0%|          | 0/50 [00:00<?, ? examples/s]"
      ]
     },
     "metadata": {},
     "output_type": "display_data"
    },
    {
     "name": "stderr",
     "output_type": "stream",
     "text": [
      "/mnt/scratchc/ghlab/toby/Geneformer/geneformer/in_silico_perturber_for_cell_embs_euc.py:474: UserWarning: To copy construct from a tensor, it is recommended to use sourceTensor.clone().detach() or sourceTensor.clone().detach().requires_grad_(True), rather than torch.tensor(sourceTensor).\n",
      "  original_minibatch_lengths = torch.tensor(original_minibatch[\"length\"], device=\"cuda\")\n"
     ]
    },
    {
     "name": "stdout",
     "output_type": "stream",
     "text": [
      "350\n"
     ]
    },
    {
     "data": {
      "application/vnd.jupyter.widget-view+json": {
       "model_id": "8fd937db5f6745c7bca0747ffadec5a3",
       "version_major": 2,
       "version_minor": 0
      },
      "text/plain": [
       "Map (num_proc=32):   0%|          | 0/50 [00:00<?, ? examples/s]"
      ]
     },
     "metadata": {},
     "output_type": "display_data"
    },
    {
     "name": "stderr",
     "output_type": "stream",
     "text": [
      "/mnt/scratchc/ghlab/toby/Geneformer/geneformer/in_silico_perturber_for_cell_embs_euc.py:474: UserWarning: To copy construct from a tensor, it is recommended to use sourceTensor.clone().detach() or sourceTensor.clone().detach().requires_grad_(True), rather than torch.tensor(sourceTensor).\n",
      "  original_minibatch_lengths = torch.tensor(original_minibatch[\"length\"], device=\"cuda\")\n"
     ]
    },
    {
     "name": "stdout",
     "output_type": "stream",
     "text": [
      "400\n"
     ]
    },
    {
     "data": {
      "application/vnd.jupyter.widget-view+json": {
       "model_id": "fcaebf89c2774f589cbf667bf794eca4",
       "version_major": 2,
       "version_minor": 0
      },
      "text/plain": [
       "Map (num_proc=32):   0%|          | 0/50 [00:00<?, ? examples/s]"
      ]
     },
     "metadata": {},
     "output_type": "display_data"
    },
    {
     "name": "stderr",
     "output_type": "stream",
     "text": [
      "/mnt/scratchc/ghlab/toby/Geneformer/geneformer/in_silico_perturber_for_cell_embs_euc.py:474: UserWarning: To copy construct from a tensor, it is recommended to use sourceTensor.clone().detach() or sourceTensor.clone().detach().requires_grad_(True), rather than torch.tensor(sourceTensor).\n",
      "  original_minibatch_lengths = torch.tensor(original_minibatch[\"length\"], device=\"cuda\")\n"
     ]
    },
    {
     "name": "stdout",
     "output_type": "stream",
     "text": [
      "450\n"
     ]
    },
    {
     "data": {
      "application/vnd.jupyter.widget-view+json": {
       "model_id": "06caaf7f1cb04aab9d960832fb8affd9",
       "version_major": 2,
       "version_minor": 0
      },
      "text/plain": [
       "Map (num_proc=32):   0%|          | 0/50 [00:00<?, ? examples/s]"
      ]
     },
     "metadata": {},
     "output_type": "display_data"
    },
    {
     "name": "stderr",
     "output_type": "stream",
     "text": [
      "/mnt/scratchc/ghlab/toby/Geneformer/geneformer/in_silico_perturber_for_cell_embs_euc.py:474: UserWarning: To copy construct from a tensor, it is recommended to use sourceTensor.clone().detach() or sourceTensor.clone().detach().requires_grad_(True), rather than torch.tensor(sourceTensor).\n",
      "  original_minibatch_lengths = torch.tensor(original_minibatch[\"length\"], device=\"cuda\")\n"
     ]
    },
    {
     "name": "stdout",
     "output_type": "stream",
     "text": [
      "500\n"
     ]
    },
    {
     "data": {
      "application/vnd.jupyter.widget-view+json": {
       "model_id": "dfa8225e35684e4a98727cda8c75dba7",
       "version_major": 2,
       "version_minor": 0
      },
      "text/plain": [
       "Map (num_proc=32):   0%|          | 0/50 [00:00<?, ? examples/s]"
      ]
     },
     "metadata": {},
     "output_type": "display_data"
    },
    {
     "name": "stderr",
     "output_type": "stream",
     "text": [
      "/mnt/scratchc/ghlab/toby/Geneformer/geneformer/in_silico_perturber_for_cell_embs_euc.py:474: UserWarning: To copy construct from a tensor, it is recommended to use sourceTensor.clone().detach() or sourceTensor.clone().detach().requires_grad_(True), rather than torch.tensor(sourceTensor).\n",
      "  original_minibatch_lengths = torch.tensor(original_minibatch[\"length\"], device=\"cuda\")\n"
     ]
    },
    {
     "name": "stdout",
     "output_type": "stream",
     "text": [
      "550\n"
     ]
    },
    {
     "data": {
      "application/vnd.jupyter.widget-view+json": {
       "model_id": "5f307954fbc14ed0aa1e82fec723c8c5",
       "version_major": 2,
       "version_minor": 0
      },
      "text/plain": [
       "Map (num_proc=32):   0%|          | 0/50 [00:00<?, ? examples/s]"
      ]
     },
     "metadata": {},
     "output_type": "display_data"
    },
    {
     "name": "stderr",
     "output_type": "stream",
     "text": [
      "/mnt/scratchc/ghlab/toby/Geneformer/geneformer/in_silico_perturber_for_cell_embs_euc.py:474: UserWarning: To copy construct from a tensor, it is recommended to use sourceTensor.clone().detach() or sourceTensor.clone().detach().requires_grad_(True), rather than torch.tensor(sourceTensor).\n",
      "  original_minibatch_lengths = torch.tensor(original_minibatch[\"length\"], device=\"cuda\")\n"
     ]
    },
    {
     "name": "stdout",
     "output_type": "stream",
     "text": [
      "600\n"
     ]
    },
    {
     "data": {
      "application/vnd.jupyter.widget-view+json": {
       "model_id": "390c3b2ea34b4c4fb2c8a2eb2f3aeb7a",
       "version_major": 2,
       "version_minor": 0
      },
      "text/plain": [
       "Map (num_proc=32):   0%|          | 0/50 [00:00<?, ? examples/s]"
      ]
     },
     "metadata": {},
     "output_type": "display_data"
    },
    {
     "name": "stderr",
     "output_type": "stream",
     "text": [
      "/mnt/scratchc/ghlab/toby/Geneformer/geneformer/in_silico_perturber_for_cell_embs_euc.py:474: UserWarning: To copy construct from a tensor, it is recommended to use sourceTensor.clone().detach() or sourceTensor.clone().detach().requires_grad_(True), rather than torch.tensor(sourceTensor).\n",
      "  original_minibatch_lengths = torch.tensor(original_minibatch[\"length\"], device=\"cuda\")\n"
     ]
    },
    {
     "name": "stdout",
     "output_type": "stream",
     "text": [
      "650\n"
     ]
    },
    {
     "data": {
      "application/vnd.jupyter.widget-view+json": {
       "model_id": "e8c8e422d5e54a769884b0cf19ecb19e",
       "version_major": 2,
       "version_minor": 0
      },
      "text/plain": [
       "Map (num_proc=32):   0%|          | 0/50 [00:00<?, ? examples/s]"
      ]
     },
     "metadata": {},
     "output_type": "display_data"
    },
    {
     "name": "stderr",
     "output_type": "stream",
     "text": [
      "/mnt/scratchc/ghlab/toby/Geneformer/geneformer/in_silico_perturber_for_cell_embs_euc.py:474: UserWarning: To copy construct from a tensor, it is recommended to use sourceTensor.clone().detach() or sourceTensor.clone().detach().requires_grad_(True), rather than torch.tensor(sourceTensor).\n",
      "  original_minibatch_lengths = torch.tensor(original_minibatch[\"length\"], device=\"cuda\")\n"
     ]
    },
    {
     "name": "stdout",
     "output_type": "stream",
     "text": [
      "700\n"
     ]
    },
    {
     "data": {
      "application/vnd.jupyter.widget-view+json": {
       "model_id": "a3835e34b23548039a2ba36a45c0f9d2",
       "version_major": 2,
       "version_minor": 0
      },
      "text/plain": [
       "Map (num_proc=32):   0%|          | 0/50 [00:00<?, ? examples/s]"
      ]
     },
     "metadata": {},
     "output_type": "display_data"
    },
    {
     "name": "stderr",
     "output_type": "stream",
     "text": [
      "/mnt/scratchc/ghlab/toby/Geneformer/geneformer/in_silico_perturber_for_cell_embs_euc.py:474: UserWarning: To copy construct from a tensor, it is recommended to use sourceTensor.clone().detach() or sourceTensor.clone().detach().requires_grad_(True), rather than torch.tensor(sourceTensor).\n",
      "  original_minibatch_lengths = torch.tensor(original_minibatch[\"length\"], device=\"cuda\")\n"
     ]
    },
    {
     "name": "stdout",
     "output_type": "stream",
     "text": [
      "750\n"
     ]
    },
    {
     "data": {
      "application/vnd.jupyter.widget-view+json": {
       "model_id": "9eb53b628d2d4417b2d4e6a8c1e3cd45",
       "version_major": 2,
       "version_minor": 0
      },
      "text/plain": [
       "Map (num_proc=32):   0%|          | 0/50 [00:00<?, ? examples/s]"
      ]
     },
     "metadata": {},
     "output_type": "display_data"
    },
    {
     "name": "stderr",
     "output_type": "stream",
     "text": [
      "/mnt/scratchc/ghlab/toby/Geneformer/geneformer/in_silico_perturber_for_cell_embs_euc.py:474: UserWarning: To copy construct from a tensor, it is recommended to use sourceTensor.clone().detach() or sourceTensor.clone().detach().requires_grad_(True), rather than torch.tensor(sourceTensor).\n",
      "  original_minibatch_lengths = torch.tensor(original_minibatch[\"length\"], device=\"cuda\")\n"
     ]
    },
    {
     "name": "stdout",
     "output_type": "stream",
     "text": [
      "800\n"
     ]
    },
    {
     "data": {
      "application/vnd.jupyter.widget-view+json": {
       "model_id": "e7920078ab3a468ba476d7c9671cead6",
       "version_major": 2,
       "version_minor": 0
      },
      "text/plain": [
       "Map (num_proc=32):   0%|          | 0/50 [00:00<?, ? examples/s]"
      ]
     },
     "metadata": {},
     "output_type": "display_data"
    },
    {
     "name": "stderr",
     "output_type": "stream",
     "text": [
      "/mnt/scratchc/ghlab/toby/Geneformer/geneformer/in_silico_perturber_for_cell_embs_euc.py:474: UserWarning: To copy construct from a tensor, it is recommended to use sourceTensor.clone().detach() or sourceTensor.clone().detach().requires_grad_(True), rather than torch.tensor(sourceTensor).\n",
      "  original_minibatch_lengths = torch.tensor(original_minibatch[\"length\"], device=\"cuda\")\n"
     ]
    },
    {
     "name": "stdout",
     "output_type": "stream",
     "text": [
      "850\n"
     ]
    },
    {
     "data": {
      "application/vnd.jupyter.widget-view+json": {
       "model_id": "190eeedfc7d443d98be2998bab7a4f3c",
       "version_major": 2,
       "version_minor": 0
      },
      "text/plain": [
       "Map (num_proc=32):   0%|          | 0/50 [00:00<?, ? examples/s]"
      ]
     },
     "metadata": {},
     "output_type": "display_data"
    },
    {
     "name": "stderr",
     "output_type": "stream",
     "text": [
      "/mnt/scratchc/ghlab/toby/Geneformer/geneformer/in_silico_perturber_for_cell_embs_euc.py:474: UserWarning: To copy construct from a tensor, it is recommended to use sourceTensor.clone().detach() or sourceTensor.clone().detach().requires_grad_(True), rather than torch.tensor(sourceTensor).\n",
      "  original_minibatch_lengths = torch.tensor(original_minibatch[\"length\"], device=\"cuda\")\n"
     ]
    },
    {
     "name": "stdout",
     "output_type": "stream",
     "text": [
      "900\n"
     ]
    },
    {
     "data": {
      "application/vnd.jupyter.widget-view+json": {
       "model_id": "782294635d124cc286681f73cc2ab580",
       "version_major": 2,
       "version_minor": 0
      },
      "text/plain": [
       "Map (num_proc=32):   0%|          | 0/50 [00:00<?, ? examples/s]"
      ]
     },
     "metadata": {},
     "output_type": "display_data"
    },
    {
     "data": {
      "application/vnd.jupyter.widget-view+json": {
       "model_id": "0d29ab90d34c40c7bb1b1e84bb7f1dba",
       "version_major": 2,
       "version_minor": 0
      },
      "text/plain": [
       "Map (num_proc=32):   0%|          | 0/50 [00:00<?, ? examples/s]"
      ]
     },
     "metadata": {},
     "output_type": "display_data"
    },
    {
     "name": "stdout",
     "output_type": "stream",
     "text": [
      "950\n"
     ]
    },
    {
     "data": {
      "application/vnd.jupyter.widget-view+json": {
       "model_id": "757d79a7f1af44c2ad0b74f8c99b2a66",
       "version_major": 2,
       "version_minor": 0
      },
      "text/plain": [
       "Map (num_proc=32):   0%|          | 0/50 [00:00<?, ? examples/s]"
      ]
     },
     "metadata": {},
     "output_type": "display_data"
    },
    {
     "data": {
      "application/vnd.jupyter.widget-view+json": {
       "model_id": "c9aa240a78f04324b92b480a574ee070",
       "version_major": 2,
       "version_minor": 0
      },
      "text/plain": [
       "Map (num_proc=32):   0%|          | 0/50 [00:00<?, ? examples/s]"
      ]
     },
     "metadata": {},
     "output_type": "display_data"
    },
    {
     "data": {
      "text/plain": [
       "0"
      ]
     },
     "execution_count": 7,
     "metadata": {},
     "output_type": "execute_result"
    }
   ],
   "source": [
    "# in silico perturbation in deletion mode to determine genes whose \n",
    "# deletion in the dilated cardiomyopathy (dcm) state significantly shifts\n",
    "# the embedding towards non-failing (nf) state\n",
    "\n",
    "isp = InSilicoPerturberEmbsEuc(perturb_type=\"overexpress\",\n",
    "                    perturb_rank_shift=None,\n",
    "                    genes_to_perturb=[#\"ENSG00000198947\",#dmd\n",
    "                                    #\"ENSG00000198523\",#phospholamban (pln)\n",
    "                                    #\"ENSG00000155657\",#ttn\n",
    "                                    #\"ENSG00000197905\",#tead4\n",
    "                                    #'ENSG00000068305'],\n",
    "                                    #'ENSG00000125107'],#cnot1\n",
    "                                    #\"ENSG00000111596\",#cnot2\n",
    "                                    #\"ENSG00000088038\",#cnot3\n",
    "                                    \"ENSG00000080802\"],#cnot4\n",
    "                                    #\"ENSG00000113300\",#cnot6\n",
    "                                    #\"ENSG00000198791\",#cnot7\n",
    "                                    #\"ENSG00000155508\",#cnot8\n",
    "                                    #\"ENSG00000144580\",#cnot9\n",
    "                                    #\"ENSG00000182973\",#cnot10\n",
    "                                    #\"ENSG00000158435\"],#cnot11\n",
    "                                    #'ENSG00000198626'],#ryr2\n",
    "                                    #\"ENSG00000161960\",#eif4a1\n",
    "                                    #\"ENSG00000156976\",#eif4a2\n",
    "                                    #\"ENSG00000075624\"],#actb\n",
    "\n",
    "                    combos=0,\n",
    "                    anchor_gene=None,\n",
    "                    model_type=\"CellClassifier\",\n",
    "                    num_classes=2,\n",
    "                    emb_mode=\"cell\",\n",
    "                    cell_emb_style=\"mean_pool\",\n",
    "                    filter_data=None,\n",
    "                    cell_states_to_model={'state_key': 'cell_type', \n",
    "                                          'start_state': 'Mesenchyme1', \n",
    "                                          'goal_state': 'PSC1', \n",
    "                                          'alt_states': ['PSC1']},\n",
    "                    filter_state=None,\n",
    "                    emb_label=[\"cell_type\"],\n",
    "                    max_ncells=1000,\n",
    "                    emb_layer=0,\n",
    "                    forward_batch_size=50,\n",
    "                    nproc=32,\n",
    "                    min_genes=1)\n",
    "isp.perturb_data(\"/mnt/scratchc/ghlab/toby/models/240301_geneformer_CellClassifier_PSC1_L2048_B4_LR5e-05_LSlinear_WU500_E2_Oadamw_F4\",\n",
    "                 \"/mnt/scratchc/ghlab/toby/Mesenchyme1_PSC1.dataset\",\n",
    "                 \"/mnt/scratchc/ghlab/toby/in_silico_perturb_data/in_silico_pt_embs/dev_model/\",\n",
    "                 'cnot4')\n",
    "torch.cuda.empty_cache()\n",
    "gc.collect()"
   ]
  },
  {
   "cell_type": "code",
   "execution_count": null,
   "id": "0525a663-871a-4ce0-a135-cc203817ffa9",
   "metadata": {},
   "outputs": [],
   "source": [
    "'''\n",
    "# outputs intermediate files from in silico perturbation\n",
    "isp.perturb_data(\"/mnt/scratchc/ghlab/toby/toby/Geneformer/fine_tuned_models/geneformer-6L-30M_CellClassifier_cardiomyopathies_220224\",\n",
    "                 \"/mnt/scratchc/ghlab/toby/Mesenchyme1_PSC1.dataset\",\n",
    "                 \"/mnt/scratchc/ghlab/toby/in_silico_perturb_data/in_silico_pt_embs/heart_proof_of_concept/\",\n",
    "                 gene)\n",
    "                 '''"
   ]
  },
  {
   "cell_type": "code",
   "execution_count": null,
   "id": "7d808f75-7bfe-49ff-94b6-27b814fe8a49",
   "metadata": {},
   "outputs": [],
   "source": []
  }
 ],
 "metadata": {
  "kernelspec": {
   "display_name": "Python 3 (ipykernel)",
   "language": "python",
   "name": "python3"
  },
  "language_info": {
   "codemirror_mode": {
    "name": "ipython",
    "version": 3
   },
   "file_extension": ".py",
   "mimetype": "text/x-python",
   "name": "python",
   "nbconvert_exporter": "python",
   "pygments_lexer": "ipython3",
   "version": "3.11.5"
  }
 },
 "nbformat": 4,
 "nbformat_minor": 5
}
