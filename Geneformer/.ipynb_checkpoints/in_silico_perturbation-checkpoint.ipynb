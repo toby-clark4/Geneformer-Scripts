{
 "cells": [
  {
   "cell_type": "code",
   "execution_count": null,
   "id": "e10ac0c9-40ce-41fb-b6fa-3d62b76f2e57",
   "metadata": {},
   "outputs": [],
   "source": [
    "from geneformer import InSilicoPerturber\n",
    "from geneformer import InSilicoPerturberStats\n",
    "import warnings\n",
    "warnings.simplefilter(action='ignore', category=FutureWarning)"
   ]
  },
  {
   "cell_type": "code",
   "execution_count": null,
   "id": "4bd67c31-772e-47cb-9bfb-1fff72b58bb5",
   "metadata": {},
   "outputs": [],
   "source": [
    "'''\n",
    "import pickle\n",
    "objects = []\n",
    "with (open(\"/mnt/scratchc/ghlab//in_silico_pt/in_silico_delete_tead4_del_dict_1Kbatch_raw.pickle\", \"rb\")) as openfile:\n",
    "    while True:\n",
    "        try:\n",
    "            objects.append(pickle.load(openfile))\n",
    "        except EOFError:\n",
    "            break\n",
    "print(len(objects[0][((16960,), 'cell_emb')]))\n",
    "'''"
   ]
  },
  {
   "cell_type": "code",
   "execution_count": null,
   "id": "67b44366-f255-4415-a865-6a27a8ffcce7",
   "metadata": {
    "tags": []
   },
   "outputs": [],
   "source": [
    "# in silico perturbation in deletion mode to determine genes whose \n",
    "# deletion in the dilated cardiomyopathy (dcm) state significantly shifts\n",
    "# the embedding towards non-failing (nf) state\n",
    "isp = InSilicoPerturber(perturb_type=\"overexpress\",\n",
    "                        perturb_rank_shift=None,\n",
    "                        genes_to_perturb=\"all\",#[\"ENSG00000198947\"],\n",
    "                                          #\"ENSG00000080802\"],\n",
    "                                          #\"ENSG00000113300\",\n",
    "                                         # \"ENSG00000198791\",\n",
    "                                          #\"ENSG00000155508\"],\n",
    "                        combos=0,\n",
    "                        anchor_gene=None,\n",
    "                        model_type=\"CellClassifier\",\n",
    "                        num_classes=3,\n",
    "                        emb_mode=\"cell\",\n",
    "                        cell_emb_style=\"mean_pool\",\n",
    "                        filter_data={\"cell_type\":[\"Cardiomyocyte1\",\"Cardiomyocyte2\",\"Cardiomyocyte3\"]},\n",
    "                        cell_states_to_model={'state_key': 'disease', \n",
    "                                              'start_state': 'dcm', \n",
    "                                              'goal_state': 'nf', \n",
    "                                              'alt_states': ['hcm']},\n",
    "                        max_ncells=60,\n",
    "                        emb_layer=0,\n",
    "                        forward_batch_size=200,\n",
    "                        nproc=16)"
   ]
  },
  {
   "cell_type": "code",
   "execution_count": null,
   "id": "0525a663-871a-4ce0-a135-cc203817ffa9",
   "metadata": {},
   "outputs": [],
   "source": [
    "# outputs intermediate files from in silico perturbation\n",
    "isp.perturb_data(\"/mnt/scratchc/ghlab/Geneformer/fine_tuned_models/geneformer-6L-30M_CellClassifier_cardiomyopathies_220224\",\n",
    "                 \"/mnt/scratchc/ghlab/Geneformer/Genecorpus-30M/example_input_files/cell_classification/disease_classification/human_dcm_hcm_nf.dataset\",\n",
    "                 \"/mnt/scratchc/ghlab/in_silico_perturb_data/in_silico_pt/dmd/\",\n",
    "                 \"dmd\")"
   ]
  },
  {
   "cell_type": "code",
   "execution_count": null,
   "id": "f8aadabb-516a-4dc0-b307-6de880e64e26",
   "metadata": {},
   "outputs": [],
   "source": [
    "ispstats = InSilicoPerturberStats(mode=\"goal_state_shift\",\n",
    "                                  genes_perturbed=\"all\",\n",
    "                                  combos=0,\n",
    "                                  anchor_gene=None,\n",
    "                                  #cell_states_to_model={\"disease\":([\"dcm\"],[\"nf\"],[\"hcm\"])})\n",
    "                                  cell_states_to_model={'state_key':'disease','start_state':'dcm','goal_state':'nf','alt_states':['hcm']})"
   ]
  },
  {
   "cell_type": "code",
   "execution_count": null,
   "id": "ffecfae6-e737-43e3-99e9-fa37ff46610b",
   "metadata": {},
   "outputs": [],
   "source": [
    "# extracts data from intermediate files and processes stats to output in final .csv\n",
    "ispstats.get_stats(\"/mnt/scratchc/ghlab/in_silico_perturb_data/in_silico_pt/dmd/ctrl/\",\n",
    "                   None,\n",
    "                   \"/mnt/scratchc/ghlab/in_silico_perturb_data/in_silico_pt/isp_results/\",\n",
    "                   \"dmd_ctrl\")"
   ]
  },
  {
   "cell_type": "code",
   "execution_count": null,
   "id": "0c5fd0e1-b9ea-4d68-8f51-3f73fd809282",
   "metadata": {},
   "outputs": [],
   "source": []
  }
 ],
 "metadata": {
  "kernelspec": {
   "display_name": "Python 3 (ipykernel)",
   "language": "python",
   "name": "python3"
  },
  "language_info": {
   "codemirror_mode": {
    "name": "ipython",
    "version": 3
   },
   "file_extension": ".py",
   "mimetype": "text/x-python",
   "name": "python",
   "nbconvert_exporter": "python",
   "pygments_lexer": "ipython3",
   "version": "3.11.5"
  }
 },
 "nbformat": 4,
 "nbformat_minor": 5
}
