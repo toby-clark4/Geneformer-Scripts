{
 "cells": [
  {
   "cell_type": "code",
   "execution_count": null,
   "id": "e10ac0c9-40ce-41fb-b6fa-3d62b76f2e57",
   "metadata": {},
   "outputs": [],
   "source": [
    "from geneformer import InSilicoPerturberEmbsScreen\n",
    "import pandas as pd\n",
    "import warnings\n",
    "warnings.simplefilter(action='ignore', category=FutureWarning)"
   ]
  },
  {
   "cell_type": "code",
   "execution_count": null,
   "id": "4bd67c31-772e-47cb-9bfb-1fff72b58bb5",
   "metadata": {},
   "outputs": [],
   "source": [
    "def get_key_by_value(dictionary, value):\n",
    "    return next((key for key, val in dictionary.items() if val == value)), None\n",
    "\n",
    "#this gets the token id of the gene of interest\n",
    "'''\n",
    "import pickle\n",
    "objects = []\n",
    "with (open(\"/mnt/scratchc/ghlab/Geneformer/geneformer/token_dictionary.pkl\", \"rb\")) as openfile:\n",
    "    while True:\n",
    "        try:\n",
    "            objects.append(pickle.load(openfile))\n",
    "        except EOFError:\n",
    "            break\n",
    "print(objects[0]['ENSG00000156976'])\n",
    "'''\n",
    "\n",
    "#this gets the gene of the token of interest\n",
    "import pickle\n",
    "objects = []\n",
    "with (open(\"/mnt/scratchc/ghlab/Geneformer/geneformer/token_dictionary.pkl\", \"rb\")) as openfile:\n",
    "    while True:\n",
    "        try:\n",
    "            objects.append(pickle.load(openfile))\n",
    "        except EOFError:\n",
    "            break\n",
    "#print(get_key_by_value(objects[0],17173))\n",
    "ensg_list = list(objects[0].keys())\n",
    "ensg_list.pop(0)\n",
    "ensg_list.pop(0)\n",
    "len(ensg_list)"
   ]
  },
  {
   "cell_type": "code",
   "execution_count": null,
   "id": "e08677db-ad20-4598-ba20-7ce379785ac5",
   "metadata": {},
   "outputs": [],
   "source": [
    "import gc\n",
    "import torch\n",
    "torch.cuda.empty_cache()\n",
    "gc.collect()"
   ]
  },
  {
   "cell_type": "code",
   "execution_count": null,
   "id": "67b44366-f255-4415-a865-6a27a8ffcce7",
   "metadata": {
    "tags": []
   },
   "outputs": [],
   "source": [
    "cnot1_emb = pd.read_csv('/mnt/scratchc/ghlab/in_silico_perturb_data/in_silico_pt_embs/dev_model/cnot1_oex_avg_emb.csv', index_col=0)\n",
    "# in silico perturbation in deletion mode to determine genes whose \n",
    "# deletion in the dilated cardiomyopathy (dcm) state significantly shifts\n",
    "# the embedding towards non-failing (nf) state\n",
    "isp = InSilicoPerturberEmbsScreen(perturb_type=\"overexpress\",\n",
    "                        perturb_rank_shift=None,\n",
    "                        genes_to_perturb=['ENSG00000125107'],\n",
    "                        combos=0,\n",
    "                        anchor_gene=None,\n",
    "                        model_type=\"CellClassifier\",\n",
    "                        num_classes=2,\n",
    "                        emb_mode=\"cell\",\n",
    "                        cell_emb_style=\"mean_pool\",\n",
    "                        filter_data=None,\n",
    "                        cell_states_to_model={'state_key': 'cell_type', \n",
    "                                              'start_state': 'PSC1', \n",
    "                                              'goal_state': 'Mesenchyme1', \n",
    "                                              'alt_states': ['Mesenchyme1']},\n",
    "                        filter_state=['Mesenchyme1'],\n",
    "                        emb_label=[\"cell_type\"],\n",
    "                        max_ncells=1000,\n",
    "                        emb_layer=0,\n",
    "                        forward_batch_size=50,\n",
    "                        nproc=32,\n",
    "                        ref_emb=cnot1_emb,\n",
    "                        min_genes=1,\n",
    "                        ensg_list=ensg_list,\n",
    "                        gene_indices=[7900,8000])\n",
    "                        #sample_cells=100000)"
   ]
  },
  {
   "cell_type": "code",
   "execution_count": null,
   "id": "7d808f75-7bfe-49ff-94b6-27b814fe8a49",
   "metadata": {},
   "outputs": [],
   "source": [
    "\n",
    "isp.perturb_data(\"/mnt/scratchc/ghlab/models/240301_geneformer_CellClassifier_PSC1_L2048_B4_LR5e-05_LSlinear_WU500_E2_Oadamw_F4\",\n",
    "                 \"/mnt/scratchc/ghlab/Mesenchyme1_PSC1.dataset\",\n",
    "                 \"/mnt/scratchc/ghlab/in_silico_perturb_data/avg_embs_vs_cnot1/dev_model/\",\n",
    "                 \"cnot1\")\n"
   ]
  },
  {
   "cell_type": "code",
   "execution_count": null,
   "id": "457a8fb6-5429-4264-ab52-0c1ca3359a56",
   "metadata": {},
   "outputs": [],
   "source": []
  }
 ],
 "metadata": {
  "kernelspec": {
   "display_name": "Python 3 (ipykernel)",
   "language": "python",
   "name": "python3"
  },
  "language_info": {
   "codemirror_mode": {
    "name": "ipython",
    "version": 3
   },
   "file_extension": ".py",
   "mimetype": "text/x-python",
   "name": "python",
   "nbconvert_exporter": "python",
   "pygments_lexer": "ipython3",
   "version": "3.11.5"
  }
 },
 "nbformat": 4,
 "nbformat_minor": 5
}
