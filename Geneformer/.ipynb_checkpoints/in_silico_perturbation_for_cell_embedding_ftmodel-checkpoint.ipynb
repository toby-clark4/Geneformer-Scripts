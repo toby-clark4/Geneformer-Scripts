{
 "cells": [
  {
   "cell_type": "code",
   "execution_count": null,
   "id": "e10ac0c9-40ce-41fb-b6fa-3d62b76f2e57",
   "metadata": {},
   "outputs": [],
   "source": [
    "from geneformer import InSilicoPerturberEmbsEuc\n",
    "import warnings\n",
    "warnings.simplefilter(action='ignore', category=FutureWarning)"
   ]
  },
  {
   "cell_type": "code",
   "execution_count": null,
   "id": "4bd67c31-772e-47cb-9bfb-1fff72b58bb5",
   "metadata": {},
   "outputs": [],
   "source": [
    "def get_key_by_value(dictionary, value):\n",
    "    return next((key for key, val in dictionary.items() if val == value)), None\n",
    "\n",
    "#this gets the token id of the gene of interest\n",
    "\n",
    "import pickle\n",
    "objects = []\n",
    "with (open(\"/mnt/scratchc/ghlab/Geneformer/geneformer/token_dictionary.pkl\", \"rb\")) as openfile:\n",
    "    while True:\n",
    "        try:\n",
    "            objects.append(pickle.load(openfile))\n",
    "        except EOFError:\n",
    "            break\n",
    "print(objects[0]['ENSG00000007866'])\n",
    "\n",
    "'''\n",
    "#this gets the gene of the token of interest\n",
    "import pickle\n",
    "objects = []\n",
    "with (open(\"/mnt/scratchc/ghlab/Geneformer/geneformer/token_dictionary.pkl\", \"rb\")) as openfile:\n",
    "    while True:\n",
    "        try:\n",
    "            objects.append(pickle.load(openfile))\n",
    "        except EOFError:\n",
    "            break\n",
    "print(get_key_by_value(objects[0],17173))\n",
    "'''"
   ]
  },
  {
   "cell_type": "code",
   "execution_count": null,
   "id": "e08677db-ad20-4598-ba20-7ce379785ac5",
   "metadata": {},
   "outputs": [],
   "source": [
    "import gc\n",
    "import torch\n",
    "torch.cuda.empty_cache()\n",
    "gc.collect()"
   ]
  },
  {
   "cell_type": "code",
   "execution_count": null,
   "id": "67b44366-f255-4415-a865-6a27a8ffcce7",
   "metadata": {
    "tags": []
   },
   "outputs": [],
   "source": [
    "# in silico perturbation in deletion mode to determine genes whose \n",
    "# deletion in the dilated cardiomyopathy (dcm) state significantly shifts\n",
    "# the embedding towards non-failing (nf) state\n",
    "isp = InSilicoPerturberEmbsEuc(perturb_type=\"overexpress\",\n",
    "                    perturb_rank_shift=None,\n",
    "                    genes_to_perturb=[#\"ENSG00000198947\",#dmd\n",
    "                                    #\"ENSG00000198523\",#phospholamban (pln)\n",
    "                                    #\"ENSG00000155657\",#ttn\n",
    "                                    #\"ENSG00000197905\",#tead4\n",
    "                                    #'ENSG00000068305'],#mef2a\n",
    "                                    'ENSG00000125107'],#cnot1\n",
    "                                    #\"ENSG00000111596\",#cnot2\n",
    "                                    #\"ENSG00000088038\",#cnot3\n",
    "                                    #\"ENSG00000080802\",#cnot4\n",
    "                                    #\"ENSG00000113300\",#cnot6\n",
    "                                    #\"ENSG00000198791\",#cnot7\n",
    "                                    #\"ENSG00000155508\",#cnot8\n",
    "                                    #\"ENSG00000144580\",#cnot9\n",
    "                                    #\"ENSG00000182973\",#cnot10\n",
    "                                    #\"ENSG00000158435\"],#cnot11\n",
    "                                    #'ENSG00000198626'],#ryr2\n",
    "                                    #\"ENSG00000161960\",#eif4a1\n",
    "                                    #\"ENSG00000156976\",#eif4a2\n",
    "                                    #\"ENSG00000075624\"],#actb\n",
    "\n",
    "                    combos=0,\n",
    "                    anchor_gene=None,\n",
    "                    model_type=\"CellClassifier\",\n",
    "                    num_classes=2,\n",
    "                    emb_mode=\"cell\",\n",
    "                    cell_emb_style=\"mean_pool\",\n",
    "                    filter_data=None,\n",
    "                    cell_states_to_model= None,\n",
    "                    filter_state=None,\n",
    "                    emb_label=[\"disease\",\"cell_type\"],\n",
    "                    max_ncells=1000,\n",
    "                    emb_layer=0,\n",
    "                    forward_batch_size=50,\n",
    "                    nproc=16,\n",
    "                    min_genes=1)"
   ]
  },
  {
   "cell_type": "code",
   "execution_count": null,
   "id": "0525a663-871a-4ce0-a135-cc203817ffa9",
   "metadata": {},
   "outputs": [],
   "source": [
    "# outputs intermediate files from in silico perturbation\n",
    "isp.perturb_data(\"/mnt/scratchc/ghlab/models/240301_geneformer_CellClassifier_PSC1_L2048_B4_LR5e-05_LSlinear_WU500_E2_Oadamw_F4\",\n",
    "                 \"/mnt/scratchc/ghlab/Mesenchyme1_PSC1.dataset\",\n",
    "                 \"/mnt/scratchc/ghlab/in_silico_perturb_data/in_silico_pt_embs/dev_model/\",\n",
    "                 \"cnot1\")\n"
   ]
  },
  {
   "cell_type": "code",
   "execution_count": null,
   "id": "7d808f75-7bfe-49ff-94b6-27b814fe8a49",
   "metadata": {},
   "outputs": [],
   "source": [
    "'''{'state_key':'cell_type',\n",
    "    'start_state':'PSC1',\n",
    "    'goal_state':'Mesenchyme1',\n",
    "    'alt_states':None},'''"
   ]
  }
 ],
 "metadata": {
  "kernelspec": {
   "display_name": "Python 3 (ipykernel)",
   "language": "python",
   "name": "python3"
  },
  "language_info": {
   "codemirror_mode": {
    "name": "ipython",
    "version": 3
   },
   "file_extension": ".py",
   "mimetype": "text/x-python",
   "name": "python",
   "nbconvert_exporter": "python",
   "pygments_lexer": "ipython3",
   "version": "3.11.5"
  }
 },
 "nbformat": 4,
 "nbformat_minor": 5
}
