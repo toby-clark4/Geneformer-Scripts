{
 "cells": [
  {
   "cell_type": "code",
   "execution_count": 1,
   "id": "e10ac0c9-40ce-41fb-b6fa-3d62b76f2e57",
   "metadata": {},
   "outputs": [],
   "source": [
    "from geneformer import InSilicoPerturberGeneEmbs\n",
    "import warnings\n",
    "warnings.simplefilter(action='ignore', category=FutureWarning)\n",
    "import torch\n",
    "import gc"
   ]
  },
  {
   "cell_type": "code",
   "execution_count": 2,
   "id": "4bd67c31-772e-47cb-9bfb-1fff72b58bb5",
   "metadata": {},
   "outputs": [
    {
     "name": "stdout",
     "output_type": "stream",
     "text": [
      "24368\n"
     ]
    },
    {
     "data": {
      "text/plain": [
       "'\\n#this gets the gene of the token of interest\\nimport pickle\\nobjects = []\\nwith (open(\"/mnt/scratchc/ghlab/toby/Geneformer/geneformer/token_dictionary.pkl\", \"rb\")) as openfile:\\n    while True:\\n        try:\\n            objects.append(pickle.load(openfile))\\n        except EOFError:\\n            break\\nprint(get_key_by_value(objects[0],17173))\\n'"
      ]
     },
     "execution_count": 2,
     "metadata": {},
     "output_type": "execute_result"
    }
   ],
   "source": [
    "def get_key_by_value(dictionary, value):\n",
    "    return next((key for key, val in dictionary.items() if val == value)), None\n",
    "\n",
    "#this gets the token id of the gene of interest\n",
    "\n",
    "import pickle\n",
    "objects = []\n",
    "with (open(\"/mnt/scratchc/ghlab/toby/Geneformer/geneformer/token_dictionary.pkl\", \"rb\")) as openfile:\n",
    "    while True:\n",
    "        try:\n",
    "            objects.append(pickle.load(openfile))\n",
    "        except EOFError:\n",
    "            break\n",
    "print(objects[0]['ENSG00000276256'])\n",
    "\n",
    "'''\n",
    "#this gets the gene of the token of interest\n",
    "import pickle\n",
    "objects = []\n",
    "with (open(\"/mnt/scratchc/ghlab/toby/Geneformer/geneformer/token_dictionary.pkl\", \"rb\")) as openfile:\n",
    "    while True:\n",
    "        try:\n",
    "            objects.append(pickle.load(openfile))\n",
    "        except EOFError:\n",
    "            break\n",
    "print(get_key_by_value(objects[0],17173))\n",
    "'''"
   ]
  },
  {
   "cell_type": "code",
   "execution_count": null,
   "id": "67b44366-f255-4415-a865-6a27a8ffcce7",
   "metadata": {
    "tags": []
   },
   "outputs": [],
   "source": [
    "# in silico perturbation in deletion mode to determine genes whose \n",
    "# deletion in the dilated cardiomyopathy (dcm) state significantly shifts\n",
    "# the embedding towards non-failing (nf) state\n",
    "for i in range(100):\n",
    "    isp = InSilicoPerturberGeneEmbs(perturb_type=\"overexpress\",\n",
    "                        perturb_rank_shift=None,\n",
    "                        genes_to_perturb=[#\"ENSG00000198947\",#dmd\n",
    "                                        #\"ENSG00000198523\",#phospholamban (pln)\n",
    "                                        #\"ENSG00000155657\",#ttn\n",
    "                                        #\"ENSG00000197905\",#tead4\n",
    "                                        \"ENSG00000125107\"],#cnot1\n",
    "                                        #\"ENSG00000111596\",#cnot2\n",
    "                                        #\"ENSG00000088038\",#cnot3\n",
    "                                        #\"ENSG00000080802\",#cnot4\n",
    "                                        #\"ENSG00000113300\",#cnot6\n",
    "                                        #\"ENSG00000198791\"],#cnot7\n",
    "                                        #\"ENSG00000155508\",#cnot8\n",
    "                                        #\"ENSG00000144580\",#cnot9\n",
    "                                        #\"ENSG00000182973\",#cnot10\n",
    "                                        #\"ENSG00000158435\"],#cnot11\n",
    "                                        #'ENSG00000198626'],#ryr2\n",
    "                                        #\"ENSG00000161960\",#eif4a1\n",
    "                                        #\"ENSG00000156976\",#eif4a2\n",
    "                                        #\"ENSG00000075624\"],#actb\n",
    "\n",
    "                        combos=0,\n",
    "                        anchor_gene=None,\n",
    "                        model_type=\"CellClassifier\",\n",
    "                        num_classes=2,\n",
    "                        emb_mode=\"cell\",\n",
    "                        cell_emb_style=\"mean_pool\",\n",
    "                        filter_data=None, #{\"cell_type\":[\"Cardiomyocyte1\",\"Cardiomyocyte2\",\"Cardiomyocyte3\"]},\n",
    "                        cell_states_to_model={'state_key': 'cell_type', \n",
    "                                              'start_state': 'PSC1', \n",
    "                                              'goal_state': 'Mesenchyme1', \n",
    "                                              'alt_states': ['Mesenchyme1']},\n",
    "                        filter_state=['PSC1'],\n",
    "                        emb_label=[\"cell_type\"],\n",
    "                        max_ncells=1,\n",
    "                        emb_layer=0,\n",
    "                        forward_batch_size=100,\n",
    "                        nproc=16,\n",
    "                        sample_cells=None,\n",
    "                        min_genes=None,\n",
    "                        seed=i)\n",
    "    isp.perturb_data(\"/mnt/scratchc/ghlab/toby/models/240301_geneformer_CellClassifier_PSC1_L2048_B4_LR5e-05_LSlinear_WU500_E2_Oadamw_F4\",\n",
    "                 \"/mnt/scratchc/ghlab/toby/Mesenchyme1_PSC1.dataset\",\n",
    "                 \"/mnt/scratchc/ghlab/toby/in_silico_perturb_data/gene_embs/dev_model/F4/PSC1/oex_100/\",\n",
    "                 f\"ccr4not_oex_{i}\")\n",
    "'''{'state_key': 'disease', \n",
    "  'start_state': 'hcm', \n",
    "  'goal_state': 'nf', \n",
    "  'alt_states': ['dcm']},'''"
   ]
  },
  {
   "cell_type": "code",
   "execution_count": 3,
   "id": "0a3e0f96-2c74-4d83-8fa1-23d3a95dfa3c",
   "metadata": {
    "tags": []
   },
   "outputs": [
    {
     "name": "stderr",
     "output_type": "stream",
     "text": [
      "num_proc must be <= 1. Reducing num_proc to 1 for dataset of size 1.\n",
      "num_proc must be <= 1. Reducing num_proc to 1 for dataset of size 1.\n",
      "/mnt/scratchc/ghlab/toby/Geneformer/geneformer/in_silico_perturber_gene_embs.py:480: UserWarning: To copy construct from a tensor, it is recommended to use sourceTensor.clone().detach() or sourceTensor.clone().detach().requires_grad_(True), rather than torch.tensor(sourceTensor).\n",
      "  original_minibatch_lengths = torch.tensor(original_minibatch[\"length\"], device=\"cuda\")\n",
      "/mnt/scratchc/ghlab/toby/Geneformer/geneformer/in_silico_perturber_gene_embs.py:481: UserWarning: To copy construct from a tensor, it is recommended to use sourceTensor.clone().detach() or sourceTensor.clone().detach().requires_grad_(True), rather than torch.tensor(sourceTensor).\n",
      "  minibatch_lengths = torch.tensor(perturbation_minibatch[\"length\"], device=\"cuda\")\n",
      "num_proc must be <= 1. Reducing num_proc to 1 for dataset of size 1.\n",
      "num_proc must be <= 1. Reducing num_proc to 1 for dataset of size 1.\n",
      "/mnt/scratchc/ghlab/toby/Geneformer/geneformer/in_silico_perturber_gene_embs.py:480: UserWarning: To copy construct from a tensor, it is recommended to use sourceTensor.clone().detach() or sourceTensor.clone().detach().requires_grad_(True), rather than torch.tensor(sourceTensor).\n",
      "  original_minibatch_lengths = torch.tensor(original_minibatch[\"length\"], device=\"cuda\")\n",
      "/mnt/scratchc/ghlab/toby/Geneformer/geneformer/in_silico_perturber_gene_embs.py:481: UserWarning: To copy construct from a tensor, it is recommended to use sourceTensor.clone().detach() or sourceTensor.clone().detach().requires_grad_(True), rather than torch.tensor(sourceTensor).\n",
      "  minibatch_lengths = torch.tensor(perturbation_minibatch[\"length\"], device=\"cuda\")\n"
     ]
    },
    {
     "ename": "RuntimeError",
     "evalue": "The size of tensor a (1338) must match the size of tensor b (1347) at non-singleton dimension 1",
     "output_type": "error",
     "traceback": [
      "\u001b[0;31m---------------------------------------------------------------------------\u001b[0m",
      "\u001b[0;31mRuntimeError\u001b[0m                              Traceback (most recent call last)",
      "Cell \u001b[0;32mIn[3], line 43\u001b[0m\n\u001b[1;32m      4\u001b[0m \u001b[38;5;28;01mfor\u001b[39;00m i \u001b[38;5;129;01min\u001b[39;00m \u001b[38;5;28mrange\u001b[39m(\u001b[38;5;241m28\u001b[39m,\u001b[38;5;241m50\u001b[39m):\n\u001b[1;32m      5\u001b[0m     isp \u001b[38;5;241m=\u001b[39m InSilicoPerturberGeneEmbs(perturb_type\u001b[38;5;241m=\u001b[39m\u001b[38;5;124m\"\u001b[39m\u001b[38;5;124moverexpress\u001b[39m\u001b[38;5;124m\"\u001b[39m,\n\u001b[1;32m      6\u001b[0m                         perturb_rank_shift\u001b[38;5;241m=\u001b[39m\u001b[38;5;28;01mNone\u001b[39;00m,\n\u001b[1;32m      7\u001b[0m                         genes_to_perturb\u001b[38;5;241m=\u001b[39m[\u001b[38;5;66;03m#\"ENSG00000198947\",#dmd\u001b[39;00m\n\u001b[0;32m   (...)\u001b[0m\n\u001b[1;32m     41\u001b[0m                         min_genes\u001b[38;5;241m=\u001b[39m\u001b[38;5;28;01mNone\u001b[39;00m,\n\u001b[1;32m     42\u001b[0m                         seed\u001b[38;5;241m=\u001b[39mi)\n\u001b[0;32m---> 43\u001b[0m     isp\u001b[38;5;241m.\u001b[39mperturb_data(\u001b[38;5;124m\"\u001b[39m\u001b[38;5;124m/mnt/scratchc/ghlab/toby/Geneformer/fine_tuned_models/240128_geneformer_GeneClassifier_codon_opt_L2048_B2_LR5e-05_LSlinear_WU500_E1_Oadamw_n10000_F4/ksplit0/models\u001b[39m\u001b[38;5;124m\"\u001b[39m,\n\u001b[1;32m     44\u001b[0m                  \u001b[38;5;124m\"\u001b[39m\u001b[38;5;124m/mnt/scratchc/ghlab/toby/Geneformer/Genecorpus-30M/genecorpus_30M_2048.dataset\u001b[39m\u001b[38;5;124m\"\u001b[39m,\n\u001b[1;32m     45\u001b[0m                  \u001b[38;5;124m\"\u001b[39m\u001b[38;5;124m/mnt/scratchc/ghlab/toby/in_silico_perturb_data/gene_embs/kf0/multi_cell/\u001b[39m\u001b[38;5;124m\"\u001b[39m,\n\u001b[1;32m     46\u001b[0m                  \u001b[38;5;124mf\u001b[39m\u001b[38;5;124m\"\u001b[39m\u001b[38;5;124mccr4not_oex_\u001b[39m\u001b[38;5;132;01m{\u001b[39;00mi\u001b[38;5;132;01m}\u001b[39;00m\u001b[38;5;124m\"\u001b[39m)\n\u001b[1;32m     47\u001b[0m     torch\u001b[38;5;241m.\u001b[39mcuda\u001b[38;5;241m.\u001b[39mempty_cache()\n\u001b[1;32m     48\u001b[0m     gc\u001b[38;5;241m.\u001b[39mcollect()\n",
      "File \u001b[0;32m/mnt/scratchc/ghlab/toby/Geneformer/geneformer/in_silico_perturber_gene_embs.py:1055\u001b[0m, in \u001b[0;36mInSilicoPerturberGeneEmbs.perturb_data\u001b[0;34m(self, model_directory, input_data_file, output_directory, output_prefix)\u001b[0m\n\u001b[1;32m   1053\u001b[0m \u001b[38;5;28;01mif\u001b[39;00m \u001b[38;5;28mself\u001b[39m\u001b[38;5;241m.\u001b[39mfilter_state \u001b[38;5;129;01mis\u001b[39;00m \u001b[38;5;129;01mnot\u001b[39;00m \u001b[38;5;28;01mNone\u001b[39;00m:\n\u001b[1;32m   1054\u001b[0m     filtered_input_data \u001b[38;5;241m=\u001b[39m filtered_input_data\u001b[38;5;241m.\u001b[39mfilter(filter_for_origin, num_proc\u001b[38;5;241m=\u001b[39m\u001b[38;5;28mself\u001b[39m\u001b[38;5;241m.\u001b[39mnproc)\n\u001b[0;32m-> 1055\u001b[0m \u001b[38;5;28mself\u001b[39m\u001b[38;5;241m.\u001b[39min_silico_perturb(model,\n\u001b[1;32m   1056\u001b[0m                       filtered_input_data,                          \n\u001b[1;32m   1057\u001b[0m                       layer_to_quant,\n\u001b[1;32m   1058\u001b[0m                       state_embs_dict,\n\u001b[1;32m   1059\u001b[0m                       output_directory,\n\u001b[1;32m   1060\u001b[0m                       output_prefix,\n\u001b[1;32m   1061\u001b[0m                       downsampled_data)\n",
      "File \u001b[0;32m/mnt/scratchc/ghlab/toby/Geneformer/geneformer/in_silico_perturber_gene_embs.py:1140\u001b[0m, in \u001b[0;36mInSilicoPerturberGeneEmbs.in_silico_perturb\u001b[0;34m(self, model, filtered_input_data, layer_to_quant, state_embs_dict, output_directory, output_prefix, downsampled_data)\u001b[0m\n\u001b[1;32m   1137\u001b[0m perturbation_batch \u001b[38;5;241m=\u001b[39m filtered_input_data\u001b[38;5;241m.\u001b[39mmap(make_group_perturbation_batch, num_proc\u001b[38;5;241m=\u001b[39m\u001b[38;5;28mself\u001b[39m\u001b[38;5;241m.\u001b[39mnproc)\n\u001b[1;32m   1138\u001b[0m indices_to_perturb \u001b[38;5;241m=\u001b[39m perturbation_batch[\u001b[38;5;124m\"\u001b[39m\u001b[38;5;124mperturb_index\u001b[39m\u001b[38;5;124m\"\u001b[39m]\n\u001b[0;32m-> 1140\u001b[0m cos_sims_data \u001b[38;5;241m=\u001b[39m quant_cos_sims(model, \n\u001b[1;32m   1141\u001b[0m                                \u001b[38;5;28mself\u001b[39m\u001b[38;5;241m.\u001b[39mperturb_type,\n\u001b[1;32m   1142\u001b[0m                                perturbation_batch, \n\u001b[1;32m   1143\u001b[0m                                \u001b[38;5;28mself\u001b[39m\u001b[38;5;241m.\u001b[39mforward_batch_size, \n\u001b[1;32m   1144\u001b[0m                                layer_to_quant, \n\u001b[1;32m   1145\u001b[0m                                filtered_input_data,\n\u001b[1;32m   1146\u001b[0m                                \u001b[38;5;28mself\u001b[39m\u001b[38;5;241m.\u001b[39mtokens_to_perturb,\n\u001b[1;32m   1147\u001b[0m                                indices_to_perturb,\n\u001b[1;32m   1148\u001b[0m                                \u001b[38;5;28mself\u001b[39m\u001b[38;5;241m.\u001b[39mperturb_group,\n\u001b[1;32m   1149\u001b[0m                                \u001b[38;5;28mself\u001b[39m\u001b[38;5;241m.\u001b[39mcell_states_to_model,\n\u001b[1;32m   1150\u001b[0m                                state_embs_dict,\n\u001b[1;32m   1151\u001b[0m                                \u001b[38;5;28mself\u001b[39m\u001b[38;5;241m.\u001b[39mpad_token_id,\n\u001b[1;32m   1152\u001b[0m                                model_input_size,\n\u001b[1;32m   1153\u001b[0m                                \u001b[38;5;28mself\u001b[39m\u001b[38;5;241m.\u001b[39mnproc,\n\u001b[1;32m   1154\u001b[0m                                output_directory,\n\u001b[1;32m   1155\u001b[0m                                output_path_prefix,\n\u001b[1;32m   1156\u001b[0m                                filtered_input_data,\n\u001b[1;32m   1157\u001b[0m                                \u001b[38;5;28mself\u001b[39m\u001b[38;5;241m.\u001b[39memb_label,\n\u001b[1;32m   1158\u001b[0m                                \u001b[38;5;28mself\u001b[39m\u001b[38;5;241m.\u001b[39mmax_ncells\n\u001b[1;32m   1159\u001b[0m                               )\n\u001b[1;32m   1161\u001b[0m perturbed_genes \u001b[38;5;241m=\u001b[39m \u001b[38;5;28mtuple\u001b[39m(\u001b[38;5;28mself\u001b[39m\u001b[38;5;241m.\u001b[39mtokens_to_perturb)\n\u001b[1;32m   1162\u001b[0m original_lengths \u001b[38;5;241m=\u001b[39m filtered_input_data[\u001b[38;5;124m\"\u001b[39m\u001b[38;5;124mlength\u001b[39m\u001b[38;5;124m\"\u001b[39m]\n",
      "File \u001b[0;32m/mnt/scratchc/ghlab/toby/Geneformer/geneformer/in_silico_perturber_gene_embs.py:518\u001b[0m, in \u001b[0;36mquant_cos_sims\u001b[0;34m(model, perturb_type, perturbation_batch, forward_batch_size, layer_to_quant, original_emb, tokens_to_perturb, indices_to_perturb, perturb_group, cell_states_to_model, state_embs_dict, pad_token_id, model_input_size, nproc, output_directory, output_prefix, downsampled_data, emb_label, max_ncells)\u001b[0m\n\u001b[1;32m    515\u001b[0m original_emb_df \u001b[38;5;241m=\u001b[39m pd\u001b[38;5;241m.\u001b[39mDataFrame(torch\u001b[38;5;241m.\u001b[39msqueeze(original_emb)\u001b[38;5;241m.\u001b[39mcpu()\u001b[38;5;241m.\u001b[39mnumpy())\n\u001b[1;32m    516\u001b[0m original_emb_df\u001b[38;5;241m.\u001b[39mto_csv(original_output_path)\n\u001b[0;32m--> 518\u001b[0m euclidean_perturb_vs_original \u001b[38;5;241m=\u001b[39m torch\u001b[38;5;241m.\u001b[39msqueeze((original_emb \u001b[38;5;241m-\u001b[39m perturb_emb))\u001b[38;5;241m.\u001b[39mpow(\u001b[38;5;241m2\u001b[39m)\u001b[38;5;241m.\u001b[39msum(\u001b[38;5;241m1\u001b[39m)\u001b[38;5;241m.\u001b[39msqrt()\n\u001b[1;32m    519\u001b[0m euclideans_df \u001b[38;5;241m=\u001b[39m pd\u001b[38;5;241m.\u001b[39mDataFrame(torch\u001b[38;5;241m.\u001b[39msqueeze(euclidean_perturb_vs_original)\u001b[38;5;241m.\u001b[39mcpu()\u001b[38;5;241m.\u001b[39mnumpy())\n\u001b[1;32m    520\u001b[0m \u001b[38;5;28;01mtry\u001b[39;00m:\n",
      "\u001b[0;31mRuntimeError\u001b[0m: The size of tensor a (1338) must match the size of tensor b (1347) at non-singleton dimension 1"
     ]
    }
   ],
   "source": [
    "# in silico perturbation in deletion mode to determine genes whose \n",
    "# deletion in the dilated cardiomyopathy (dcm) state significantly shifts\n",
    "# the embedding towards non-failing (nf) state\n",
    "for i in range(28,50):\n",
    "    isp = InSilicoPerturberGeneEmbs(perturb_type=\"overexpress\",\n",
    "                        perturb_rank_shift=None,\n",
    "                        genes_to_perturb=[#\"ENSG00000198947\",#dmd\n",
    "                                        #\"ENSG00000198523\",#phospholamban (pln)\n",
    "                                        #\"ENSG00000155657\",#ttn\n",
    "                                        #\"ENSG00000197905\",#tead4\n",
    "                                        \"ENSG00000125107\",#cnot1\n",
    "                                        \"ENSG00000111596\",#cnot2\n",
    "                                        \"ENSG00000088038\",#cnot3\n",
    "                                        \"ENSG00000080802\",#cnot4\n",
    "                                        \"ENSG00000113300\",#cnot6\n",
    "                                        \"ENSG00000198791\",#cnot7\n",
    "                                        \"ENSG00000155508\",#cnot8\n",
    "                                        \"ENSG00000144580\",#cnot9\n",
    "                                        \"ENSG00000182973\",#cnot10\n",
    "                                        \"ENSG00000158435\"],#cnot11\n",
    "                                        #'ENSG00000198626'],#ryr2\n",
    "                                        #\"ENSG00000161960\",#eif4a1\n",
    "                                        #\"ENSG00000156976\",#eif4a2\n",
    "                                        #\"ENSG00000075624\"],#actb\n",
    "\n",
    "                        combos=0,\n",
    "                        anchor_gene=None,\n",
    "                        model_type=\"GeneClassifier\",\n",
    "                        num_classes=2,\n",
    "                        emb_mode=\"cell\",\n",
    "                        cell_emb_style=\"mean_pool\",\n",
    "                        filter_data=None, #{\"cell_type\":[\"Cardiomyocyte1\",\"Cardiomyocyte2\",\"Cardiomyocyte3\"]},\n",
    "                        cell_states_to_model=None,\n",
    "                        filter_state=None,\n",
    "                        emb_label=[\"cell_type\"],\n",
    "                        max_ncells=1,\n",
    "                        emb_layer=0,\n",
    "                        forward_batch_size=100,\n",
    "                        nproc=16,\n",
    "                        sample_cells=None,\n",
    "                        min_genes=None,\n",
    "                        seed=i)\n",
    "    isp.perturb_data(\"/mnt/scratchc/ghlab/toby/Geneformer/fine_tuned_models/240128_geneformer_GeneClassifier_codon_opt_L2048_B2_LR5e-05_LSlinear_WU500_E1_Oadamw_n10000_F4/ksplit0/models\",\n",
    "                 \"/mnt/scratchc/ghlab/toby/Geneformer/Genecorpus-30M/genecorpus_30M_2048.dataset\",\n",
    "                 \"/mnt/scratchc/ghlab/toby/in_silico_perturb_data/gene_embs/kf0/multi_cell/\",\n",
    "                 f\"ccr4not_oex_{i}\")\n",
    "    torch.cuda.empty_cache()\n",
    "    gc.collect()\n",
    "'''{'state_key': 'disease', \n",
    "  'start_state': 'hcm', \n",
    "  'goal_state': 'nf', \n",
    "  'alt_states': ['dcm']},'''"
   ]
  },
  {
   "cell_type": "code",
   "execution_count": null,
   "id": "0525a663-871a-4ce0-a135-cc203817ffa9",
   "metadata": {},
   "outputs": [],
   "source": [
    "# outputs intermediate files from in silico perturbation\n",
    "'''\n",
    "isp.perturb_data(\"/mnt/scratchc/ghlab/toby/Geneformer/fine_tuned_models/240131_geneformer_GeneClassifier_codon_opt_L2048_B2_LR5e-05_LSlinear_WU500_E1_Oadamw_n10000_F4/ksplit0/models/\",\n",
    "                 \"/mnt/scratchc/ghlab/toby/Geneformer/Genecorpus-30M/genecorpus_30M_2048.dataset\",\n",
    "                 \"/mnt/scratchc/ghlab/toby/in_silico_perturb_data/gene_embs/kf0/multi_gene/\",\n",
    "                 \"cnot1_50\")\n",
    "'''\n"
   ]
  },
  {
   "cell_type": "code",
   "execution_count": null,
   "id": "7d808f75-7bfe-49ff-94b6-27b814fe8a49",
   "metadata": {},
   "outputs": [],
   "source": []
  }
 ],
 "metadata": {
  "kernelspec": {
   "display_name": "Python 3 (ipykernel)",
   "language": "python",
   "name": "python3"
  },
  "language_info": {
   "codemirror_mode": {
    "name": "ipython",
    "version": 3
   },
   "file_extension": ".py",
   "mimetype": "text/x-python",
   "name": "python",
   "nbconvert_exporter": "python",
   "pygments_lexer": "ipython3",
   "version": "3.11.5"
  }
 },
 "nbformat": 4,
 "nbformat_minor": 5
}
